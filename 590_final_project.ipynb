{
  "nbformat": 4,
  "nbformat_minor": 0,
  "metadata": {
    "colab": {
      "provenance": []
    },
    "kernelspec": {
      "name": "python3",
      "display_name": "Python 3"
    },
    "language_info": {
      "name": "python"
    }
  },
  "cells": [
    {
      "cell_type": "markdown",
      "source": [
        "##Tensorflow Conversion"
      ],
      "metadata": {
        "id": "Ze06C7AuW4t7"
      }
    },
    {
      "cell_type": "code",
      "source": [
        "PROJ_DIR = '/content/drive/Othercomputers/My-MacBook-Air/SA2C_Code/Kaggle'\n",
        "# change current directory after mounting\n",
        "%cd $PROJ_DIR\n",
        "! ls"
      ],
      "metadata": {
        "colab": {
          "base_uri": "https://localhost:8080/"
        },
        "id": "IYR1ZQN6MBLx",
        "outputId": "a242f4f7-4eea-4604-e1cb-321228aef9d8"
      },
      "execution_count": 14,
      "outputs": [
        {
          "output_type": "stream",
          "name": "stdout",
          "text": [
            "/content/drive/Othercomputers/My-MacBook-Air/SA2C_Code/Kaggle\n",
            "data\t\t     preprocess_kaggle.py  SA2C_new.py\t     split_data.py\n",
            "DQN_NS.py\t     __pycache__\t   SA2C.py\t     test.py\n",
            "NextItNetModules.py  replay_buffer.py\t   SASRecModules.py  utility.py\n",
            "pop.py\t\t     report.txt\t\t   SNQN.py\n"
          ]
        }
      ]
    },
    {
      "cell_type": "code",
      "source": [
        "!tf_upgrade_v2 \\\n",
        "  --infile '/content/drive/Othercomputers/My-MacBook-Air/SA2C_Code/Kaggle/SA2C.py' \\\n",
        "  --outfile '/content/drive/Othercomputers/My-MacBook-Air/SA2C_Code/Kaggle/SA2C_new.py' \\\n",
        "  --reportfile report.txt"
      ],
      "metadata": {
        "colab": {
          "base_uri": "https://localhost:8080/"
        },
        "id": "JNjfQYJLMb-k",
        "outputId": "917b5cdc-1cf5-42e8-c9fb-a4088f600867"
      },
      "execution_count": 15,
      "outputs": [
        {
          "output_type": "stream",
          "name": "stdout",
          "text": [
            "INFO line 73:27: Renamed 'tf.placeholder' to 'tf.compat.v1.placeholder'\n",
            "INFO line 76:13: Renamed 'tf.variable_scope' to 'tf.compat.v1.variable_scope'\n",
            "INFO line 78:26: Renamed 'tf.placeholder' to 'tf.compat.v1.placeholder'\n",
            "INFO line 79:29: Renamed 'tf.placeholder' to 'tf.compat.v1.placeholder'\n",
            "INFO line 83:29: Added keywords to args of function 'tf.nn.embedding_lookup'\n",
            "WARNING line 83:29: tf.nn.embedding_lookup requires manual check. `partition_strategy` has been removed from tf.nn.embedding_lookup.  The 'div' strategy will be used by default.\n",
            "INFO line 86:46: Renamed 'tf.nn.dynamic_rnn' to 'tf.compat.v1.nn.dynamic_rnn'\n",
            "INFO line 87:20: Renamed 'tf.contrib.rnn.GRUCell' to 'tf.compat.v1.nn.rnn_cell.GRUCell'\n",
            "INFO line 94:38: Changed tf.to_float call to tf.cast(..., dtype=tf.float32).\n",
            "INFO line 104:25: `name` passed to `name_scope`. Because you may be re-entering an existing scope, it is not safe to convert automatically,  the v2 name_scope does not support re-entering scopes by name.\n",
            "\n",
            "INFO line 104:25: Renamed 'tf.name_scope' to 'tf.compat.v1.name_scope'\n",
            "INFO line 107:40: Renamed 'tf.truncated_normal' to 'tf.random.truncated_normal'\n",
            "INFO line 110:31: Added keywords to args of function 'tf.nn.conv2d'\n",
            "INFO line 110:31: Renamed keyword argument for tf.nn.conv2d from filter to filters\n",
            "INFO line 121:33: Added keywords to args of function 'tf.nn.max_pool'\n",
            "INFO line 121:33: Renamed keyword argument for tf.nn.max_pool from value to input\n",
            "INFO line 121:33: Renamed 'tf.nn.max_pool' to 'tf.nn.max_pool2d'\n",
            "INFO line 134:21: `name` passed to `name_scope`. Because you may be re-entering an existing scope, it is not safe to convert automatically,  the v2 name_scope does not support re-entering scopes by name.\n",
            "\n",
            "INFO line 134:21: Renamed 'tf.name_scope' to 'tf.compat.v1.name_scope'\n",
            "INFO line 136:36: Renamed 'tf.truncated_normal' to 'tf.random.truncated_normal'\n",
            "INFO line 138:27: Added keywords to args of function 'tf.nn.conv2d'\n",
            "INFO line 138:27: Renamed keyword argument for tf.nn.conv2d from filter to filters\n",
            "INFO line 149:21: `name` passed to `name_scope`. Because you may be re-entering an existing scope, it is not safe to convert automatically,  the v2 name_scope does not support re-entering scopes by name.\n",
            "\n",
            "INFO line 149:21: Renamed 'tf.name_scope' to 'tf.compat.v1.name_scope'\n",
            "INFO line 150:41: Renamed 'tf.layers.dropout' to 'tf.compat.v1.layers.dropout'\n",
            "INFO line 152:67: Added keywords to args of function 'tf.convert_to_tensor'\n",
            "INFO line 155:38: Changed tf.to_float call to tf.cast(..., dtype=tf.float32).\n",
            "INFO line 164:36: Added keywords to args of function 'tf.nn.embedding_lookup'\n",
            "WARNING line 164:36: tf.nn.embedding_lookup requires manual check. `partition_strategy` has been removed from tf.nn.embedding_lookup.  The 'div' strategy will be used by default.\n",
            "INFO line 179:26: Added keywords to args of function 'tf.nn.embedding_lookup'\n",
            "WARNING line 179:26: tf.nn.embedding_lookup requires manual check. `partition_strategy` has been removed from tf.nn.embedding_lookup.  The 'div' strategy will be used by default.\n",
            "INFO line 180:81: Added keywords to args of function 'tf.shape'\n",
            "INFO line 181:58: Added keywords to args of function 'tf.shape'\n",
            "INFO line 184:38: Changed tf.to_float call to tf.cast(..., dtype=tf.float32).\n",
            "INFO line 186:27: Renamed 'tf.layers.dropout' to 'tf.compat.v1.layers.dropout'\n",
            "INFO line 188:54: Added keywords to args of function 'tf.convert_to_tensor'\n",
            "INFO line 194:25: Renamed 'tf.variable_scope' to 'tf.compat.v1.variable_scope'\n",
            "ERROR line 214:27: Using member tf.contrib.layers.fully_connected in deprecated module tf.contrib. tf.contrib.layers.fully_connected cannot be converted automatically. tf.contrib will not be distributed with TensorFlow 2.0, please consider an alternative in non-contrib TensorFlow, a community-maintained repository such as tensorflow/addons, or fork the required code.\n",
            "ERROR line 217:26: Using member tf.contrib.layers.fully_connected in deprecated module tf.contrib. tf.contrib.layers.fully_connected cannot be converted automatically. tf.contrib will not be distributed with TensorFlow 2.0, please consider an alternative in non-contrib TensorFlow, a community-maintained repository such as tensorflow/addons, or fork the required code.\n",
            "INFO line 221:27: Renamed 'tf.placeholder' to 'tf.compat.v1.placeholder'\n",
            "INFO line 223:34: Renamed 'tf.placeholder' to 'tf.compat.v1.placeholder'\n",
            "INFO line 225:29: Renamed 'tf.placeholder' to 'tf.compat.v1.placeholder'\n",
            "INFO line 226:37: Renamed 'tf.placeholder' to 'tf.compat.v1.placeholder'\n",
            "INFO line 228:26: Renamed 'tf.placeholder' to 'tf.compat.v1.placeholder'\n",
            "INFO line 229:28: Renamed 'tf.placeholder' to 'tf.compat.v1.placeholder'\n",
            "INFO line 231:36: Renamed 'tf.placeholder' to 'tf.compat.v1.placeholder'\n",
            "INFO line 232:44: Renamed 'tf.placeholder' to 'tf.compat.v1.placeholder'\n",
            "INFO line 238:33: Renamed 'tf.placeholder' to 'tf.compat.v1.placeholder'\n",
            "INFO line 273:25: Added keywords to args of function 'tf.reduce_mean'\n",
            "INFO line 274:24: Renamed 'tf.train.AdamOptimizer' to 'tf.compat.v1.train.AdamOptimizer'\n",
            "INFO line 276:25: Added keywords to args of function 'tf.reduce_mean'\n",
            "INFO line 277:24: Renamed 'tf.train.AdamOptimizer' to 'tf.compat.v1.train.AdamOptimizer'\n",
            "INFO line 283:17: Renamed 'tf.variable_scope' to 'tf.compat.v1.variable_scope'\n",
            "INFO line 284:47: Renamed 'tf.random_normal' to 'tf.random.normal'\n",
            "INFO line 286:45: Renamed 'tf.random_normal' to 'tf.random.normal'\n",
            "INFO line 384:4: Renamed 'tf.reset_default_graph' to 'tf.compat.v1.reset_default_graph'\n",
            "INFO line 400:9: Renamed 'tf.Session' to 'tf.compat.v1.Session'\n",
            "INFO line 402:17: Renamed 'tf.global_variables_initializer' to 'tf.compat.v1.global_variables_initializer'\n",
            "TensorFlow 2.0 Upgrade Script\n",
            "-----------------------------\n",
            "Converted 1 files\n",
            "Detected 5 issues that require attention\n",
            "--------------------------------------------------------------------------------\n",
            "--------------------------------------------------------------------------------\n",
            "File: /content/drive/Othercomputers/My-MacBook-Air/SA2C_Code/Kaggle/SA2C.py\n",
            "--------------------------------------------------------------------------------\n",
            "/content/drive/Othercomputers/My-MacBook-Air/SA2C_Code/Kaggle/SA2C.py:83:29: WARNING: tf.nn.embedding_lookup requires manual check. `partition_strategy` has been removed from tf.nn.embedding_lookup.  The 'div' strategy will be used by default.\n",
            "/content/drive/Othercomputers/My-MacBook-Air/SA2C_Code/Kaggle/SA2C.py:164:36: WARNING: tf.nn.embedding_lookup requires manual check. `partition_strategy` has been removed from tf.nn.embedding_lookup.  The 'div' strategy will be used by default.\n",
            "/content/drive/Othercomputers/My-MacBook-Air/SA2C_Code/Kaggle/SA2C.py:179:26: WARNING: tf.nn.embedding_lookup requires manual check. `partition_strategy` has been removed from tf.nn.embedding_lookup.  The 'div' strategy will be used by default.\n",
            "/content/drive/Othercomputers/My-MacBook-Air/SA2C_Code/Kaggle/SA2C.py:214:27: ERROR: Using member tf.contrib.layers.fully_connected in deprecated module tf.contrib. tf.contrib.layers.fully_connected cannot be converted automatically. tf.contrib will not be distributed with TensorFlow 2.0, please consider an alternative in non-contrib TensorFlow, a community-maintained repository such as tensorflow/addons, or fork the required code.\n",
            "/content/drive/Othercomputers/My-MacBook-Air/SA2C_Code/Kaggle/SA2C.py:217:26: ERROR: Using member tf.contrib.layers.fully_connected in deprecated module tf.contrib. tf.contrib.layers.fully_connected cannot be converted automatically. tf.contrib will not be distributed with TensorFlow 2.0, please consider an alternative in non-contrib TensorFlow, a community-maintained repository such as tensorflow/addons, or fork the required code.\n",
            "\n",
            "\n",
            "Make sure to read the detailed log 'report.txt'\n",
            "\n"
          ]
        }
      ]
    },
    {
      "cell_type": "code",
      "source": [
        "!tf_upgrade_v2 \\\n",
        "  --infile '/content/drive/Othercomputers/My-MacBook-Air/590-Final-Project/split_data.py' \\\n",
        "  --outfile '/content/drive/Othercomputers/My-MacBook-Air/590-Final-Project/split_data_new.py' \\\n",
        "  --reportfile report.txt"
      ],
      "metadata": {
        "colab": {
          "base_uri": "https://localhost:8080/"
        },
        "id": "yVoNe1Jbb-Wh",
        "outputId": "fcdfc390-d1ad-439a-f1db-e1a8fa25ec9a"
      },
      "execution_count": 33,
      "outputs": [
        {
          "output_type": "stream",
          "name": "stdout",
          "text": [
            "TensorFlow 2.0 Upgrade Script\n",
            "-----------------------------\n",
            "Converted 1 files\n",
            "Detected 0 issues that require attention\n",
            "--------------------------------------------------------------------------------\n",
            "\n",
            "\n",
            "Make sure to read the detailed log 'report.txt'\n",
            "\n"
          ]
        }
      ]
    },
    {
      "cell_type": "code",
      "source": [
        "!tf_upgrade_v2 \\\n",
        "  --infile '/content/drive/Othercomputers/My-MacBook-Air/590-Final-Project/Scripts/replay_buffer.py' \\\n",
        "  --outfile '/content/drive/Othercomputers/My-MacBook-Air/590-Final-Project/Scripts/replay_buffer_new.py' \\\n",
        "  --reportfile report.txt"
      ],
      "metadata": {
        "colab": {
          "base_uri": "https://localhost:8080/"
        },
        "id": "k51GYCkvofrj",
        "outputId": "334e233c-c298-4c8e-f94e-6d521b23a067"
      },
      "execution_count": 64,
      "outputs": [
        {
          "output_type": "stream",
          "name": "stdout",
          "text": [
            "INFO line 6:8: Renamed 'tf.app.flags' to 'tf.compat.v1.app.flags'\n",
            "TensorFlow 2.0 Upgrade Script\n",
            "-----------------------------\n",
            "Converted 1 files\n",
            "Detected 0 issues that require attention\n",
            "--------------------------------------------------------------------------------\n",
            "\n",
            "\n",
            "Make sure to read the detailed log 'report.txt'\n",
            "\n"
          ]
        }
      ]
    },
    {
      "cell_type": "code",
      "source": [
        "cd '/content/drive/Othercomputers/My-MacBook-Air/SA2C_Code/Kaggle'"
      ],
      "metadata": {
        "colab": {
          "base_uri": "https://localhost:8080/"
        },
        "id": "DT904thkM9CK",
        "outputId": "58712351-01a8-49d1-85fc-f4cd34c33af7"
      },
      "execution_count": 16,
      "outputs": [
        {
          "output_type": "stream",
          "name": "stdout",
          "text": [
            "/content/drive/Othercomputers/My-MacBook-Air/SA2C_Code/Kaggle\n"
          ]
        }
      ]
    },
    {
      "cell_type": "code",
      "source": [
        "! pip install pandas trfl"
      ],
      "metadata": {
        "colab": {
          "base_uri": "https://localhost:8080/"
        },
        "id": "KaxPf2NIMz-b",
        "outputId": "e4d2695d-629c-4d01-8af2-0109e95154f0"
      },
      "execution_count": 7,
      "outputs": [
        {
          "output_type": "stream",
          "name": "stdout",
          "text": [
            "Looking in indexes: https://pypi.org/simple, https://us-python.pkg.dev/colab-wheels/public/simple/\n",
            "Requirement already satisfied: pandas in /usr/local/lib/python3.8/dist-packages (1.3.5)\n",
            "Requirement already satisfied: trfl in /usr/local/lib/python3.8/dist-packages (1.2.0)\n",
            "Requirement already satisfied: pytz>=2017.3 in /usr/local/lib/python3.8/dist-packages (from pandas) (2022.6)\n",
            "Requirement already satisfied: numpy>=1.17.3 in /usr/local/lib/python3.8/dist-packages (from pandas) (1.21.6)\n",
            "Requirement already satisfied: python-dateutil>=2.7.3 in /usr/local/lib/python3.8/dist-packages (from pandas) (2.8.2)\n",
            "Requirement already satisfied: six>=1.5 in /usr/local/lib/python3.8/dist-packages (from python-dateutil>=2.7.3->pandas) (1.15.0)\n",
            "Requirement already satisfied: wrapt in /usr/local/lib/python3.8/dist-packages (from trfl) (1.14.1)\n",
            "Requirement already satisfied: dm-tree in /usr/local/lib/python3.8/dist-packages (from trfl) (0.1.7)\n",
            "Requirement already satisfied: absl-py in /usr/local/lib/python3.8/dist-packages (from trfl) (1.3.0)\n"
          ]
        }
      ]
    },
    {
      "cell_type": "code",
      "source": [
        "! python SA2C_new.py --model=GRU --epoch=1"
      ],
      "metadata": {
        "colab": {
          "base_uri": "https://localhost:8080/"
        },
        "id": "vF4VNhNZM35Q",
        "outputId": "94dabe87-6564-432c-ac25-733051b129b7"
      },
      "execution_count": 23,
      "outputs": [
        {
          "output_type": "stream",
          "name": "stdout",
          "text": [
            "SA2C_new.py:88: UserWarning: `tf.nn.rnn_cell.GRUCell` is deprecated and will be removed in a future version. This class is equivalent as `tf.keras.layers.GRUCell`, and will be replaced by that in Tensorflow 2.0.\n",
            "  tf.compat.v1.nn.rnn_cell.GRUCell(self.hidden_size),\n",
            "WARNING:tensorflow:From SA2C_new.py:87: dynamic_rnn (from tensorflow.python.ops.rnn) is deprecated and will be removed in a future version.\n",
            "Instructions for updating:\n",
            "Please use `keras.layers.RNN(cell)`, which is equivalent to this API\n",
            "WARNING:tensorflow:From SA2C_new.py:87: dynamic_rnn (from tensorflow.python.ops.rnn) is deprecated and will be removed in a future version.\n",
            "Instructions for updating:\n",
            "Please use `keras.layers.RNN(cell)`, which is equivalent to this API\n",
            "WARNING:tensorflow:From /usr/local/lib/python3.8/dist-packages/keras/layers/rnn/legacy_cells.py:545: calling Constant.__init__ (from tensorflow.python.ops.init_ops) with dtype is deprecated and will be removed in a future version.\n",
            "Instructions for updating:\n",
            "Call initializer instance with the dtype argument instead of passing it to the constructor\n",
            "WARNING:tensorflow:From /usr/local/lib/python3.8/dist-packages/keras/layers/rnn/legacy_cells.py:545: calling Constant.__init__ (from tensorflow.python.ops.init_ops) with dtype is deprecated and will be removed in a future version.\n",
            "Instructions for updating:\n",
            "Call initializer instance with the dtype argument instead of passing it to the constructor\n",
            "WARNING:tensorflow:From /usr/local/lib/python3.8/dist-packages/keras/layers/rnn/legacy_cells.py:555: calling Zeros.__init__ (from tensorflow.python.ops.init_ops) with dtype is deprecated and will be removed in a future version.\n",
            "Instructions for updating:\n",
            "Call initializer instance with the dtype argument instead of passing it to the constructor\n",
            "WARNING:tensorflow:From /usr/local/lib/python3.8/dist-packages/keras/layers/rnn/legacy_cells.py:555: calling Zeros.__init__ (from tensorflow.python.ops.init_ops) with dtype is deprecated and will be removed in a future version.\n",
            "Instructions for updating:\n",
            "Call initializer instance with the dtype argument instead of passing it to the constructor\n",
            "2022-12-05 21:59:53.017695: E tensorflow/stream_executor/cuda/cuda_driver.cc:271] failed call to cuInit: CUDA_ERROR_NO_DEVICE: no CUDA-capable device is detected\n",
            "SA2C_new.py:215: UserWarning: `tf.layers.dense` is deprecated and will be removed in a future version. Please use `tf.keras.layers.Dense` instead.\n",
            "  self.output1 = tf.compat.v1.layers.dense(self.states_hidden, self.item_num,\n",
            "SA2C_new.py:218: UserWarning: `tf.layers.dense` is deprecated and will be removed in a future version. Please use `tf.keras.layers.Dense` instead.\n",
            "  self.output2= tf.compat.v1.layers.dense(self.states_hidden, self.item_num,\n",
            "the loss in 200th batch is: 10.937834\n",
            "the loss in 400th batch is: 10.690190\n",
            "Traceback (most recent call last):\n",
            "  File \"SA2C_new.py\", line 468, in <module>\n",
            "    loss, _ = sess.run([mainQN.loss1, mainQN.opt1],\n",
            "  File \"/usr/local/lib/python3.8/dist-packages/tensorflow/python/client/session.py\", line 967, in run\n",
            "    result = self._run(None, fetches, feed_dict, options_ptr,\n",
            "  File \"/usr/local/lib/python3.8/dist-packages/tensorflow/python/client/session.py\", line 1190, in _run\n",
            "    results = self._do_run(handle, final_targets, final_fetches,\n",
            "  File \"/usr/local/lib/python3.8/dist-packages/tensorflow/python/client/session.py\", line 1370, in _do_run\n",
            "    return self._do_call(_run_fn, feeds, fetches, targets, options,\n",
            "  File \"/usr/local/lib/python3.8/dist-packages/tensorflow/python/client/session.py\", line 1377, in _do_call\n",
            "    return fn(*args)\n",
            "  File \"/usr/local/lib/python3.8/dist-packages/tensorflow/python/client/session.py\", line 1360, in _run_fn\n",
            "    return self._call_tf_sessionrun(options, feed_dict, fetch_list,\n",
            "  File \"/usr/local/lib/python3.8/dist-packages/tensorflow/python/client/session.py\", line 1453, in _call_tf_sessionrun\n",
            "    return tf_session.TF_SessionRun_wrapper(self._session, options, feed_dict,\n",
            "KeyboardInterrupt\n",
            "^C\n"
          ]
        }
      ]
    },
    {
      "cell_type": "markdown",
      "source": [
        "## Data Creation"
      ],
      "metadata": {
        "id": "P52HW2JaZcRZ"
      }
    },
    {
      "cell_type": "code",
      "source": [
        "cd /content/drive/Othercomputers/My-MacBook-Air/590-Final-Project"
      ],
      "metadata": {
        "colab": {
          "base_uri": "https://localhost:8080/"
        },
        "id": "ewHLDZpVZjCx",
        "outputId": "d313b5df-25cf-412b-ad48-d1fa76594b12"
      },
      "execution_count": 2,
      "outputs": [
        {
          "output_type": "stream",
          "name": "stdout",
          "text": [
            "/content/drive/Othercomputers/My-MacBook-Air/590-Final-Project\n"
          ]
        }
      ]
    },
    {
      "cell_type": "code",
      "source": [
        "%run 'Scripts/split_data.py'"
      ],
      "metadata": {
        "id": "metVveP-af9R"
      },
      "execution_count": 56,
      "outputs": []
    },
    {
      "cell_type": "code",
      "source": [
        "%run 'Scripts/replay_buffer.py'"
      ],
      "metadata": {
        "colab": {
          "base_uri": "https://localhost:8080/"
        },
        "id": "LnxEs1KFoYEY",
        "outputId": "456056fa-d502-4b3f-da20-34295d04ac5c"
      },
      "execution_count": 14,
      "outputs": [
        {
          "output_type": "stream",
          "name": "stdout",
          "text": [
            "   fit  user_id bust size  item_id  weight  rating     rented for  \\\n",
            "0  fit   420272       34d  2260466  137lbs    10.0       vacation   \n",
            "1  fit   273551       34b   153475  132lbs    10.0          other   \n",
            "2  fit   360448       NaN  1063761     NaN    10.0          party   \n",
            "3  fit   909926       34c   126335  135lbs     8.0  formal affair   \n",
            "4  fit   151944       34b   616682  145lbs    10.0        wedding   \n",
            "\n",
            "                                         review_text          body type  \\\n",
            "0  An adorable romper! Belt and zipper were a lit...          hourglass   \n",
            "1  I rented this dress for a photo shoot. The the...  straight & narrow   \n",
            "2  This hugged in all the right places! It was a ...                NaN   \n",
            "3  I rented this for my company's black tie award...               pear   \n",
            "4  I have always been petite in my upper body and...           athletic   \n",
            "\n",
            "                                      review_summary category height  size  \\\n",
            "0                               So many compliments!   romper  5' 8\"    14   \n",
            "1                            I felt so glamourous!!!     gown  5' 6\"    12   \n",
            "2  It was a great time to celebrate the (almost) ...   sheath  5' 4\"     4   \n",
            "3   Dress arrived on time and in perfect condition.     dress  5' 5\"     8   \n",
            "4                    Was in love with this dress !!!     gown  5' 9\"    12   \n",
            "\n",
            "     age         review_date  \n",
            "0   28.0      April 20, 2016  \n",
            "1   36.0       June 18, 2013  \n",
            "2  116.0   December 14, 2015  \n",
            "3   34.0   February 12, 2014  \n",
            "4   27.0  September 26, 2016  \n"
          ]
        }
      ]
    },
    {
      "cell_type": "code",
      "source": [
        "import pandas as pd\n",
        "import os\n",
        "data_directory = 'Datasets/Renttherunway'\n",
        "replay_buffer = pd.read_pickle(os.path.join(data_directory, 'replay_buffer.df'))\n",
        "replay_buffer.head()"
      ],
      "metadata": {
        "colab": {
          "base_uri": "https://localhost:8080/",
          "height": 684
        },
        "id": "zpVfWrD_tgYb",
        "outputId": "1737051d-dc79-4dad-8413-0a227eb27e49"
      },
      "execution_count": 15,
      "outputs": [
        {
          "output_type": "execute_result",
          "data": {
            "text/plain": [
              "                                               state  len_state   action  \\\n",
              "0  [192544, 192544, 192544, 192544, 192544, 19254...          1  2260466   \n",
              "1  [192544, 192544, 192544, 192544, 192544, 19254...          1   153475   \n",
              "2  [192544, 192544, 192544, 192544, 192544, 19254...          1  1063761   \n",
              "3  [192544, 192544, 192544, 192544, 192544, 19254...          1   126335   \n",
              "4  [192544, 192544, 192544, 192544, 192544, 19254...          1   616682   \n",
              "\n",
              "   is_buy                                         next_state  len_next_states  \\\n",
              "0    10.0  [2260466, 192544, 192544, 192544, 192544, 1925...                1   \n",
              "1    10.0  [153475, 192544, 192544, 192544, 192544, 19254...                1   \n",
              "2    10.0  [1063761, 192544, 192544, 192544, 192544, 1925...                1   \n",
              "3     8.0  [126335, 192544, 192544, 192544, 192544, 19254...                1   \n",
              "4    10.0  [616682, 192544, 192544, 192544, 192544, 19254...                1   \n",
              "\n",
              "   is_done  \n",
              "0     True  \n",
              "1     True  \n",
              "2     True  \n",
              "3     True  \n",
              "4     True  "
            ],
            "text/html": [
              "\n",
              "  <div id=\"df-36038b69-de58-4567-8163-d4f4edd0283c\">\n",
              "    <div class=\"colab-df-container\">\n",
              "      <div>\n",
              "<style scoped>\n",
              "    .dataframe tbody tr th:only-of-type {\n",
              "        vertical-align: middle;\n",
              "    }\n",
              "\n",
              "    .dataframe tbody tr th {\n",
              "        vertical-align: top;\n",
              "    }\n",
              "\n",
              "    .dataframe thead th {\n",
              "        text-align: right;\n",
              "    }\n",
              "</style>\n",
              "<table border=\"1\" class=\"dataframe\">\n",
              "  <thead>\n",
              "    <tr style=\"text-align: right;\">\n",
              "      <th></th>\n",
              "      <th>state</th>\n",
              "      <th>len_state</th>\n",
              "      <th>action</th>\n",
              "      <th>is_buy</th>\n",
              "      <th>next_state</th>\n",
              "      <th>len_next_states</th>\n",
              "      <th>is_done</th>\n",
              "    </tr>\n",
              "  </thead>\n",
              "  <tbody>\n",
              "    <tr>\n",
              "      <th>0</th>\n",
              "      <td>[192544, 192544, 192544, 192544, 192544, 19254...</td>\n",
              "      <td>1</td>\n",
              "      <td>2260466</td>\n",
              "      <td>10.0</td>\n",
              "      <td>[2260466, 192544, 192544, 192544, 192544, 1925...</td>\n",
              "      <td>1</td>\n",
              "      <td>True</td>\n",
              "    </tr>\n",
              "    <tr>\n",
              "      <th>1</th>\n",
              "      <td>[192544, 192544, 192544, 192544, 192544, 19254...</td>\n",
              "      <td>1</td>\n",
              "      <td>153475</td>\n",
              "      <td>10.0</td>\n",
              "      <td>[153475, 192544, 192544, 192544, 192544, 19254...</td>\n",
              "      <td>1</td>\n",
              "      <td>True</td>\n",
              "    </tr>\n",
              "    <tr>\n",
              "      <th>2</th>\n",
              "      <td>[192544, 192544, 192544, 192544, 192544, 19254...</td>\n",
              "      <td>1</td>\n",
              "      <td>1063761</td>\n",
              "      <td>10.0</td>\n",
              "      <td>[1063761, 192544, 192544, 192544, 192544, 1925...</td>\n",
              "      <td>1</td>\n",
              "      <td>True</td>\n",
              "    </tr>\n",
              "    <tr>\n",
              "      <th>3</th>\n",
              "      <td>[192544, 192544, 192544, 192544, 192544, 19254...</td>\n",
              "      <td>1</td>\n",
              "      <td>126335</td>\n",
              "      <td>8.0</td>\n",
              "      <td>[126335, 192544, 192544, 192544, 192544, 19254...</td>\n",
              "      <td>1</td>\n",
              "      <td>True</td>\n",
              "    </tr>\n",
              "    <tr>\n",
              "      <th>4</th>\n",
              "      <td>[192544, 192544, 192544, 192544, 192544, 19254...</td>\n",
              "      <td>1</td>\n",
              "      <td>616682</td>\n",
              "      <td>10.0</td>\n",
              "      <td>[616682, 192544, 192544, 192544, 192544, 19254...</td>\n",
              "      <td>1</td>\n",
              "      <td>True</td>\n",
              "    </tr>\n",
              "  </tbody>\n",
              "</table>\n",
              "</div>\n",
              "      <button class=\"colab-df-convert\" onclick=\"convertToInteractive('df-36038b69-de58-4567-8163-d4f4edd0283c')\"\n",
              "              title=\"Convert this dataframe to an interactive table.\"\n",
              "              style=\"display:none;\">\n",
              "        \n",
              "  <svg xmlns=\"http://www.w3.org/2000/svg\" height=\"24px\"viewBox=\"0 0 24 24\"\n",
              "       width=\"24px\">\n",
              "    <path d=\"M0 0h24v24H0V0z\" fill=\"none\"/>\n",
              "    <path d=\"M18.56 5.44l.94 2.06.94-2.06 2.06-.94-2.06-.94-.94-2.06-.94 2.06-2.06.94zm-11 1L8.5 8.5l.94-2.06 2.06-.94-2.06-.94L8.5 2.5l-.94 2.06-2.06.94zm10 10l.94 2.06.94-2.06 2.06-.94-2.06-.94-.94-2.06-.94 2.06-2.06.94z\"/><path d=\"M17.41 7.96l-1.37-1.37c-.4-.4-.92-.59-1.43-.59-.52 0-1.04.2-1.43.59L10.3 9.45l-7.72 7.72c-.78.78-.78 2.05 0 2.83L4 21.41c.39.39.9.59 1.41.59.51 0 1.02-.2 1.41-.59l7.78-7.78 2.81-2.81c.8-.78.8-2.07 0-2.86zM5.41 20L4 18.59l7.72-7.72 1.47 1.35L5.41 20z\"/>\n",
              "  </svg>\n",
              "      </button>\n",
              "      \n",
              "  <style>\n",
              "    .colab-df-container {\n",
              "      display:flex;\n",
              "      flex-wrap:wrap;\n",
              "      gap: 12px;\n",
              "    }\n",
              "\n",
              "    .colab-df-convert {\n",
              "      background-color: #E8F0FE;\n",
              "      border: none;\n",
              "      border-radius: 50%;\n",
              "      cursor: pointer;\n",
              "      display: none;\n",
              "      fill: #1967D2;\n",
              "      height: 32px;\n",
              "      padding: 0 0 0 0;\n",
              "      width: 32px;\n",
              "    }\n",
              "\n",
              "    .colab-df-convert:hover {\n",
              "      background-color: #E2EBFA;\n",
              "      box-shadow: 0px 1px 2px rgba(60, 64, 67, 0.3), 0px 1px 3px 1px rgba(60, 64, 67, 0.15);\n",
              "      fill: #174EA6;\n",
              "    }\n",
              "\n",
              "    [theme=dark] .colab-df-convert {\n",
              "      background-color: #3B4455;\n",
              "      fill: #D2E3FC;\n",
              "    }\n",
              "\n",
              "    [theme=dark] .colab-df-convert:hover {\n",
              "      background-color: #434B5C;\n",
              "      box-shadow: 0px 1px 3px 1px rgba(0, 0, 0, 0.15);\n",
              "      filter: drop-shadow(0px 1px 2px rgba(0, 0, 0, 0.3));\n",
              "      fill: #FFFFFF;\n",
              "    }\n",
              "  </style>\n",
              "\n",
              "      <script>\n",
              "        const buttonEl =\n",
              "          document.querySelector('#df-36038b69-de58-4567-8163-d4f4edd0283c button.colab-df-convert');\n",
              "        buttonEl.style.display =\n",
              "          google.colab.kernel.accessAllowed ? 'block' : 'none';\n",
              "\n",
              "        async function convertToInteractive(key) {\n",
              "          const element = document.querySelector('#df-36038b69-de58-4567-8163-d4f4edd0283c');\n",
              "          const dataTable =\n",
              "            await google.colab.kernel.invokeFunction('convertToInteractive',\n",
              "                                                     [key], {});\n",
              "          if (!dataTable) return;\n",
              "\n",
              "          const docLinkHtml = 'Like what you see? Visit the ' +\n",
              "            '<a target=\"_blank\" href=https://colab.research.google.com/notebooks/data_table.ipynb>data table notebook</a>'\n",
              "            + ' to learn more about interactive tables.';\n",
              "          element.innerHTML = '';\n",
              "          dataTable['output_type'] = 'display_data';\n",
              "          await google.colab.output.renderOutput(dataTable, element);\n",
              "          const docLink = document.createElement('div');\n",
              "          docLink.innerHTML = docLinkHtml;\n",
              "          element.appendChild(docLink);\n",
              "        }\n",
              "      </script>\n",
              "    </div>\n",
              "  </div>\n",
              "  "
            ]
          },
          "metadata": {},
          "execution_count": 15
        }
      ]
    },
    {
      "cell_type": "markdown",
      "source": [
        "## Running model on rent the runway"
      ],
      "metadata": {
        "id": "H59HR8gelh4N"
      }
    },
    {
      "cell_type": "code",
      "source": [
        "!python 'Scripts/SA2C.py' --epoch=1 --data='Datasets/Renttherunway'"
      ],
      "metadata": {
        "colab": {
          "base_uri": "https://localhost:8080/"
        },
        "id": "q7yAHrpElaw7",
        "outputId": "2515b450-9330-4485-bfac-cb6a1cbd817f"
      },
      "execution_count": 61,
      "outputs": [
        {
          "output_type": "stream",
          "name": "stdout",
          "text": [
            "Traceback (most recent call last):\n",
            "  File \"Scripts/SA2C.py\", line 375, in <module>\n",
            "    data_statis = pd.read_pickle(\n",
            "  File \"/usr/local/lib/python3.8/dist-packages/pandas/io/pickle.py\", line 196, in read_pickle\n",
            "    with get_handle(\n",
            "  File \"/usr/local/lib/python3.8/dist-packages/pandas/io/common.py\", line 711, in get_handle\n",
            "    handle = open(handle, ioargs.mode)\n",
            "FileNotFoundError: [Errno 2] No such file or directory: 'Datasets/Renttherunway/data_statis.df'\n"
          ]
        }
      ]
    }
  ]
}
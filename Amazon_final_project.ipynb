{
  "cells": [
    {
      "cell_type": "markdown",
      "metadata": {
        "id": "FdwEUZ4-MRVE"
      },
      "source": [
        "#Duke University\n",
        "\n",
        "Course: AIPI590 (Deep Reinforcement Learning Applications)\\\n",
        "Fall 2022\\\n",
        "Author: *Iqra Imtiaz*\n",
        "\n"
      ]
    },
    {
      "cell_type": "markdown",
      "metadata": {
        "id": "yS7LIAXQMcTH"
      },
      "source": [
        "# Final Project: Product recommender for E-commerce\n",
        "\n",
        "**Dataset**: [Amazon Clothing and Jewelry](http://snap.stanford.edu/data/amazon/productGraph/categoryFiles/reviews_Clothing_Shoes_and_Jewelry_5.json.gz)\n",
        "\n",
        "**Metric**: NDCG"
      ]
    },
    {
      "cell_type": "markdown",
      "metadata": {
        "id": "KmTkRTkWNghz"
      },
      "source": [
        "# Dataset Explanation\n",
        "\n",
        "**Description**:\n",
        "\n",
        "This dataset contains product reviews and metadata from Amazon, including 142.8 million reviews spanning May 1996 - July 2014.\n",
        "\n",
        "This dataset includes reviews (ratings, text, helpfulness votes), product metadata (descriptions, category information, price, brand, and image features), and links (also viewed/also bought graphs).\n",
        "\n",
        "Finally, this data have been reduced to extract the 5-core, such that each of the remaining users and items have 5 reviews each.\n",
        "\n",
        "\n",
        "**Basic Statistics**:\n",
        "\n",
        "Number of users:\t39,387\\\n",
        "Number of items:\t23,033\\\n",
        "Number of transactions:\t278,677\n",
        "\n",
        "**Example**\n",
        "```\n",
        "{\n",
        "  \"reviewerID\": \"A2SUAM1J3GNN3B\",\n",
        "  \"asin\": \"0000013714\",\n",
        "  \"reviewerName\": \"J. McDonald\",\n",
        "  \"helpful\": [2, 3],\n",
        "  \"reviewText\": \"I bought this for my husband who plays the piano.  He is having a wonderful time playing these old hymns.  The music  is at times hard to read because we think the book was published for singing from more than playing from.  Great purchase though!\",\n",
        "  \"overall\": 5.0,\n",
        "  \"summary\": \"Heavenly Highway Hymns\",\n",
        "  \"unixReviewTime\": 1252800000,\n",
        "  \"reviewTime\": \"09 13, 2009\"\n",
        "}\n",
        "```\n",
        "where\n",
        "\n",
        "- reviewerID - ID of the reviewer, e.g. A2SUAM1J3GNN3B\n",
        "- asin - ID of the product, e.g. 0000013714\n",
        "- reviewerName - name of the reviewer\n",
        "- helpful - helpfulness rating of the review, e.g. 2/3\n",
        "- reviewText - text of the review\n",
        "- overall - rating of the product\n",
        "- summary - summary of the review\n",
        "- unixReviewTime - time of the review (unix time)\n",
        "- reviewTime - time of the review (raw)\n",
        "\n",
        "\n",
        "More details can be found here: http://jmcauley.ucsd.edu/data/amazon/links.html"
      ]
    },
    {
      "cell_type": "markdown",
      "metadata": {
        "id": "ris_j8n7SUST"
      },
      "source": [
        "#Install"
      ]
    },
    {
      "cell_type": "code",
      "execution_count": null,
      "metadata": {
        "colab": {
          "base_uri": "https://localhost:8080/"
        },
        "id": "9TN6Rwa_SZNW",
        "outputId": "f6020c2d-748f-4eef-d2f0-b2bd7e0003b2"
      },
      "outputs": [
        {
          "name": "stdout",
          "output_type": "stream",
          "text": [
            "Looking in indexes: https://pypi.org/simple, https://us-python.pkg.dev/colab-wheels/public/simple/\n",
            "Requirement already satisfied: pandas in /usr/local/lib/python3.8/dist-packages (1.3.5)\n",
            "Requirement already satisfied: trfl in /usr/local/lib/python3.8/dist-packages (1.2.0)\n",
            "Requirement already satisfied: pytz>=2017.3 in /usr/local/lib/python3.8/dist-packages (from pandas) (2022.6)\n",
            "Requirement already satisfied: python-dateutil>=2.7.3 in /usr/local/lib/python3.8/dist-packages (from pandas) (2.8.2)\n",
            "Requirement already satisfied: numpy>=1.17.3 in /usr/local/lib/python3.8/dist-packages (from pandas) (1.21.6)\n",
            "Requirement already satisfied: six>=1.5 in /usr/local/lib/python3.8/dist-packages (from python-dateutil>=2.7.3->pandas) (1.15.0)\n",
            "Requirement already satisfied: wrapt in /usr/local/lib/python3.8/dist-packages (from trfl) (1.14.1)\n",
            "Requirement already satisfied: dm-tree in /usr/local/lib/python3.8/dist-packages (from trfl) (0.1.7)\n",
            "Requirement already satisfied: absl-py in /usr/local/lib/python3.8/dist-packages (from trfl) (1.3.0)\n",
            "Looking in indexes: https://pypi.org/simple, https://us-python.pkg.dev/colab-wheels/public/simple/\n",
            "Requirement already satisfied: lightfm in /usr/local/lib/python3.8/dist-packages (1.16)\n",
            "Requirement already satisfied: scipy>=0.17.0 in /usr/local/lib/python3.8/dist-packages (from lightfm) (1.7.3)\n",
            "Requirement already satisfied: scikit-learn in /usr/local/lib/python3.8/dist-packages (from lightfm) (1.0.2)\n",
            "Requirement already satisfied: numpy in /usr/local/lib/python3.8/dist-packages (from lightfm) (1.21.6)\n",
            "Requirement already satisfied: requests in /usr/local/lib/python3.8/dist-packages (from lightfm) (2.23.0)\n",
            "Requirement already satisfied: idna<3,>=2.5 in /usr/local/lib/python3.8/dist-packages (from requests->lightfm) (2.10)\n",
            "Requirement already satisfied: certifi>=2017.4.17 in /usr/local/lib/python3.8/dist-packages (from requests->lightfm) (2022.9.24)\n",
            "Requirement already satisfied: urllib3!=1.25.0,!=1.25.1,<1.26,>=1.21.1 in /usr/local/lib/python3.8/dist-packages (from requests->lightfm) (1.24.3)\n",
            "Requirement already satisfied: chardet<4,>=3.0.2 in /usr/local/lib/python3.8/dist-packages (from requests->lightfm) (3.0.4)\n",
            "Requirement already satisfied: joblib>=0.11 in /usr/local/lib/python3.8/dist-packages (from scikit-learn->lightfm) (1.2.0)\n",
            "Requirement already satisfied: threadpoolctl>=2.0.0 in /usr/local/lib/python3.8/dist-packages (from scikit-learn->lightfm) (3.1.0)\n"
          ]
        }
      ],
      "source": [
        "! pip install pandas trfl\n",
        "! pip install lightfm"
      ]
    },
    {
      "cell_type": "markdown",
      "metadata": {
        "id": "XX3KVCyCSR1D"
      },
      "source": [
        "# Imports\n"
      ]
    },
    {
      "cell_type": "code",
      "execution_count": null,
      "metadata": {
        "id": "E0NiVBL6ScxS"
      },
      "outputs": [],
      "source": [
        "import pandas as pd\n",
        "import os\n",
        "import numpy as np\n",
        "\n",
        "from lightfm import LightFM\n",
        "from lightfm.evaluation import auc_score\n",
        "from scipy.sparse import coo_matrix\n",
        "from sklearn import preprocessing\n",
        "     "
      ]
    },
    {
      "cell_type": "markdown",
      "metadata": {
        "id": "qfbRwsZdPQ7y"
      },
      "source": [
        "# Loading Data\n",
        "\n",
        "Download the data from link mentioned previously into a Datasets folder in this repository. "
      ]
    },
    {
      "cell_type": "code",
      "execution_count": null,
      "metadata": {
        "colab": {
          "base_uri": "https://localhost:8080/"
        },
        "id": "ewHLDZpVZjCx",
        "outputId": "65eefb4a-791d-46e9-8774-b87e04eefbd4"
      },
      "outputs": [
        {
          "name": "stdout",
          "output_type": "stream",
          "text": [
            "/content/drive/Othercomputers/My-MacBook-Air/590-Final-Project\n"
          ]
        }
      ],
      "source": [
        "cd /content/drive/Othercomputers/My-MacBook-Air/590-Final-Project"
      ]
    },
    {
      "cell_type": "code",
      "execution_count": null,
      "metadata": {
        "colab": {
          "base_uri": "https://localhost:8080/",
          "height": 424
        },
        "id": "AC21xwFBPl8U",
        "outputId": "fcc18ecf-49a4-4273-e5cf-6ed702ddee2a"
      },
      "outputs": [
        {
          "data": {
            "text/html": [
              "\n",
              "  <div id=\"df-c4114614-55ba-4285-b500-5ddb8804b70f\">\n",
              "    <div class=\"colab-df-container\">\n",
              "      <div>\n",
              "<style scoped>\n",
              "    .dataframe tbody tr th:only-of-type {\n",
              "        vertical-align: middle;\n",
              "    }\n",
              "\n",
              "    .dataframe tbody tr th {\n",
              "        vertical-align: top;\n",
              "    }\n",
              "\n",
              "    .dataframe thead th {\n",
              "        text-align: right;\n",
              "    }\n",
              "</style>\n",
              "<table border=\"1\" class=\"dataframe\">\n",
              "  <thead>\n",
              "    <tr style=\"text-align: right;\">\n",
              "      <th></th>\n",
              "      <th>reviewerID</th>\n",
              "      <th>asin</th>\n",
              "      <th>reviewerName</th>\n",
              "      <th>helpful</th>\n",
              "      <th>reviewText</th>\n",
              "      <th>overall</th>\n",
              "      <th>summary</th>\n",
              "      <th>unixReviewTime</th>\n",
              "      <th>reviewTime</th>\n",
              "    </tr>\n",
              "  </thead>\n",
              "  <tbody>\n",
              "    <tr>\n",
              "      <th>0</th>\n",
              "      <td>A1KLRMWW2FWPL4</td>\n",
              "      <td>0000031887</td>\n",
              "      <td>Amazon Customer \"cameramom\"</td>\n",
              "      <td>[0, 0]</td>\n",
              "      <td>This is a great tutu and at a really great pri...</td>\n",
              "      <td>5</td>\n",
              "      <td>Great tutu-  not cheaply made</td>\n",
              "      <td>1297468800</td>\n",
              "      <td>02 12, 2011</td>\n",
              "    </tr>\n",
              "    <tr>\n",
              "      <th>1</th>\n",
              "      <td>A2G5TCU2WDFZ65</td>\n",
              "      <td>0000031887</td>\n",
              "      <td>Amazon Customer</td>\n",
              "      <td>[0, 0]</td>\n",
              "      <td>I bought this for my 4 yr old daughter for dan...</td>\n",
              "      <td>5</td>\n",
              "      <td>Very Cute!!</td>\n",
              "      <td>1358553600</td>\n",
              "      <td>01 19, 2013</td>\n",
              "    </tr>\n",
              "    <tr>\n",
              "      <th>2</th>\n",
              "      <td>A1RLQXYNCMWRWN</td>\n",
              "      <td>0000031887</td>\n",
              "      <td>Carola</td>\n",
              "      <td>[0, 0]</td>\n",
              "      <td>What can I say... my daughters have it in oran...</td>\n",
              "      <td>5</td>\n",
              "      <td>I have buy more than one</td>\n",
              "      <td>1357257600</td>\n",
              "      <td>01 4, 2013</td>\n",
              "    </tr>\n",
              "    <tr>\n",
              "      <th>3</th>\n",
              "      <td>A8U3FAMSJVHS5</td>\n",
              "      <td>0000031887</td>\n",
              "      <td>Caromcg</td>\n",
              "      <td>[0, 0]</td>\n",
              "      <td>We bought several tutus at once, and they are ...</td>\n",
              "      <td>5</td>\n",
              "      <td>Adorable, Sturdy</td>\n",
              "      <td>1398556800</td>\n",
              "      <td>04 27, 2014</td>\n",
              "    </tr>\n",
              "    <tr>\n",
              "      <th>4</th>\n",
              "      <td>A3GEOILWLK86XM</td>\n",
              "      <td>0000031887</td>\n",
              "      <td>CJ</td>\n",
              "      <td>[0, 0]</td>\n",
              "      <td>Thank you Halo Heaven great product for Little...</td>\n",
              "      <td>5</td>\n",
              "      <td>Grammy's Angels Love it</td>\n",
              "      <td>1394841600</td>\n",
              "      <td>03 15, 2014</td>\n",
              "    </tr>\n",
              "  </tbody>\n",
              "</table>\n",
              "</div>\n",
              "      <button class=\"colab-df-convert\" onclick=\"convertToInteractive('df-c4114614-55ba-4285-b500-5ddb8804b70f')\"\n",
              "              title=\"Convert this dataframe to an interactive table.\"\n",
              "              style=\"display:none;\">\n",
              "        \n",
              "  <svg xmlns=\"http://www.w3.org/2000/svg\" height=\"24px\"viewBox=\"0 0 24 24\"\n",
              "       width=\"24px\">\n",
              "    <path d=\"M0 0h24v24H0V0z\" fill=\"none\"/>\n",
              "    <path d=\"M18.56 5.44l.94 2.06.94-2.06 2.06-.94-2.06-.94-.94-2.06-.94 2.06-2.06.94zm-11 1L8.5 8.5l.94-2.06 2.06-.94-2.06-.94L8.5 2.5l-.94 2.06-2.06.94zm10 10l.94 2.06.94-2.06 2.06-.94-2.06-.94-.94-2.06-.94 2.06-2.06.94z\"/><path d=\"M17.41 7.96l-1.37-1.37c-.4-.4-.92-.59-1.43-.59-.52 0-1.04.2-1.43.59L10.3 9.45l-7.72 7.72c-.78.78-.78 2.05 0 2.83L4 21.41c.39.39.9.59 1.41.59.51 0 1.02-.2 1.41-.59l7.78-7.78 2.81-2.81c.8-.78.8-2.07 0-2.86zM5.41 20L4 18.59l7.72-7.72 1.47 1.35L5.41 20z\"/>\n",
              "  </svg>\n",
              "      </button>\n",
              "      \n",
              "  <style>\n",
              "    .colab-df-container {\n",
              "      display:flex;\n",
              "      flex-wrap:wrap;\n",
              "      gap: 12px;\n",
              "    }\n",
              "\n",
              "    .colab-df-convert {\n",
              "      background-color: #E8F0FE;\n",
              "      border: none;\n",
              "      border-radius: 50%;\n",
              "      cursor: pointer;\n",
              "      display: none;\n",
              "      fill: #1967D2;\n",
              "      height: 32px;\n",
              "      padding: 0 0 0 0;\n",
              "      width: 32px;\n",
              "    }\n",
              "\n",
              "    .colab-df-convert:hover {\n",
              "      background-color: #E2EBFA;\n",
              "      box-shadow: 0px 1px 2px rgba(60, 64, 67, 0.3), 0px 1px 3px 1px rgba(60, 64, 67, 0.15);\n",
              "      fill: #174EA6;\n",
              "    }\n",
              "\n",
              "    [theme=dark] .colab-df-convert {\n",
              "      background-color: #3B4455;\n",
              "      fill: #D2E3FC;\n",
              "    }\n",
              "\n",
              "    [theme=dark] .colab-df-convert:hover {\n",
              "      background-color: #434B5C;\n",
              "      box-shadow: 0px 1px 3px 1px rgba(0, 0, 0, 0.15);\n",
              "      filter: drop-shadow(0px 1px 2px rgba(0, 0, 0, 0.3));\n",
              "      fill: #FFFFFF;\n",
              "    }\n",
              "  </style>\n",
              "\n",
              "      <script>\n",
              "        const buttonEl =\n",
              "          document.querySelector('#df-c4114614-55ba-4285-b500-5ddb8804b70f button.colab-df-convert');\n",
              "        buttonEl.style.display =\n",
              "          google.colab.kernel.accessAllowed ? 'block' : 'none';\n",
              "\n",
              "        async function convertToInteractive(key) {\n",
              "          const element = document.querySelector('#df-c4114614-55ba-4285-b500-5ddb8804b70f');\n",
              "          const dataTable =\n",
              "            await google.colab.kernel.invokeFunction('convertToInteractive',\n",
              "                                                     [key], {});\n",
              "          if (!dataTable) return;\n",
              "\n",
              "          const docLinkHtml = 'Like what you see? Visit the ' +\n",
              "            '<a target=\"_blank\" href=https://colab.research.google.com/notebooks/data_table.ipynb>data table notebook</a>'\n",
              "            + ' to learn more about interactive tables.';\n",
              "          element.innerHTML = '';\n",
              "          dataTable['output_type'] = 'display_data';\n",
              "          await google.colab.output.renderOutput(dataTable, element);\n",
              "          const docLink = document.createElement('div');\n",
              "          docLink.innerHTML = docLinkHtml;\n",
              "          element.appendChild(docLink);\n",
              "        }\n",
              "      </script>\n",
              "    </div>\n",
              "  </div>\n",
              "  "
            ],
            "text/plain": [
              "       reviewerID        asin                 reviewerName helpful  \\\n",
              "0  A1KLRMWW2FWPL4  0000031887  Amazon Customer \"cameramom\"  [0, 0]   \n",
              "1  A2G5TCU2WDFZ65  0000031887              Amazon Customer  [0, 0]   \n",
              "2  A1RLQXYNCMWRWN  0000031887                       Carola  [0, 0]   \n",
              "3   A8U3FAMSJVHS5  0000031887                      Caromcg  [0, 0]   \n",
              "4  A3GEOILWLK86XM  0000031887                           CJ  [0, 0]   \n",
              "\n",
              "                                          reviewText  overall  \\\n",
              "0  This is a great tutu and at a really great pri...        5   \n",
              "1  I bought this for my 4 yr old daughter for dan...        5   \n",
              "2  What can I say... my daughters have it in oran...        5   \n",
              "3  We bought several tutus at once, and they are ...        5   \n",
              "4  Thank you Halo Heaven great product for Little...        5   \n",
              "\n",
              "                         summary  unixReviewTime   reviewTime  \n",
              "0  Great tutu-  not cheaply made      1297468800  02 12, 2011  \n",
              "1                    Very Cute!!      1358553600  01 19, 2013  \n",
              "2       I have buy more than one      1357257600   01 4, 2013  \n",
              "3               Adorable, Sturdy      1398556800  04 27, 2014  \n",
              "4        Grammy's Angels Love it      1394841600  03 15, 2014  "
            ]
          },
          "execution_count": 4,
          "metadata": {},
          "output_type": "execute_result"
        }
      ],
      "source": [
        "amazon = pd.read_json('Datasets/Amazon/reviews_Clothing_Shoes_and_Jewelry_5.json.gz',compression='gzip',lines=True)\n",
        "amazon.head()"
      ]
    },
    {
      "cell_type": "code",
      "execution_count": null,
      "metadata": {
        "colab": {
          "base_uri": "https://localhost:8080/"
        },
        "id": "7x02sIGoh-Ew",
        "outputId": "a2d78710-34eb-413c-cce2-4edd2e144c3a"
      },
      "outputs": [
        {
          "name": "stdout",
          "output_type": "stream",
          "text": [
            "278677\n",
            "39387\n",
            "23033\n"
          ]
        }
      ],
      "source": [
        "print(len(amazon))\n",
        "print(len(amazon.reviewerID.unique()))\n",
        "print(len(amazon.asin.unique()))"
      ]
    },
    {
      "cell_type": "code",
      "execution_count": null,
      "metadata": {
        "colab": {
          "base_uri": "https://localhost:8080/",
          "height": 283
        },
        "id": "g2xO-md07S-a",
        "outputId": "2f78e241-2a57-4742-9549-57f44e75c3f7"
      },
      "outputs": [
        {
          "data": {
            "text/plain": [
              "<matplotlib.axes._subplots.AxesSubplot at 0x7fba4276e460>"
            ]
          },
          "execution_count": 6,
          "metadata": {},
          "output_type": "execute_result"
        },
        {
          "data": {
            "image/png": "[encoded data removed]",
            "text/plain": [
              "<Figure size 432x288 with 1 Axes>"
            ]
          },
          "metadata": {},
          "output_type": "display_data"
        }
      ],
      "source": [
        "amazon.overall.hist()"
      ]
    },
    {
      "cell_type": "markdown",
      "metadata": {
        "id": "H9c4gHvFQeZ4"
      },
      "source": [
        "# Modeling\n",
        "\n",
        "Deep RL model used on amazon dataset is \n",
        "[**Self-Supervised Reinforcement Learning for Recommender Systems**](https://arxiv.org/abs/2006.05779).\n",
        "\n",
        "\n",
        "Download the code from link given and save the following files in kaggle folder into Scripts folder of this repository. \n",
        "\n",
        "* NextItNetModules.py\n",
        "* SA2C.py\n",
        "* SASRecModules.py\n",
        "* pop.py\n",
        "* preprocess.py\n",
        "* replay_buffer.py\n",
        "* split_data.py\n",
        "* utility.py\n",
        "\n",
        "These files are updated to incorporate data from amazon. For example; sessionId is replaced with reviwerId, item_id is replaced with asin, and is_buy is replaced with overall  (i.e. rating of product). \n",
        "Rating is given between 1-5, 1 being lowest. Reward is given when rating is greater than or equal to 4. The threshold is set at 4 because these are the folks who will most likely buy similar items in future compared to those rated below 4."
      ]
    },
    {
      "cell_type": "markdown",
      "metadata": {
        "id": "Ze06C7AuW4t7"
      },
      "source": [
        "##Tensorflow Conversion\n",
        "Since, this code is based on tensorflow version 1, we will update it to use tensorflow version 2."
      ]
    },
    {
      "cell_type": "code",
      "execution_count": null,
      "metadata": {
        "id": "IYR1ZQN6MBLx"
      },
      "outputs": [],
      "source": [
        "#PROJ_DIR = '/content/drive/Othercomputers/My-MacBook-Air/SA2C_Code/Kaggle'\n",
        "# change current directory after mounting\n",
        "#%cd $PROJ_DIR\n",
        "#! ls"
      ]
    },
    {
      "cell_type": "code",
      "execution_count": null,
      "metadata": {
        "colab": {
          "base_uri": "https://localhost:8080/"
        },
        "id": "JNjfQYJLMb-k",
        "outputId": "979520ca-72d0-4ba1-9740-72cb30966911"
      },
      "outputs": [
        {
          "name": "stdout",
          "output_type": "stream",
          "text": [
            "WARNING line 83:29: tf.nn.embedding_lookup requires manual check. `partition_strategy` has been removed from tf.nn.embedding_lookup.  The 'div' strategy will be used by default.\n",
            "WARNING line 164:36: tf.nn.embedding_lookup requires manual check. `partition_strategy` has been removed from tf.nn.embedding_lookup.  The 'div' strategy will be used by default.\n",
            "WARNING line 179:26: tf.nn.embedding_lookup requires manual check. `partition_strategy` has been removed from tf.nn.embedding_lookup.  The 'div' strategy will be used by default.\n",
            "ERROR line 214:27: Using member tf.contrib.layers.fully_connected in deprecated module tf.contrib. tf.contrib.layers.fully_connected cannot be converted automatically. tf.contrib will not be distributed with TensorFlow 2.0, please consider an alternative in non-contrib TensorFlow, a community-maintained repository such as tensorflow/addons, or fork the required code.\n",
            "ERROR line 217:26: Using member tf.contrib.layers.fully_connected in deprecated module tf.contrib. tf.contrib.layers.fully_connected cannot be converted automatically. tf.contrib will not be distributed with TensorFlow 2.0, please consider an alternative in non-contrib TensorFlow, a community-maintained repository such as tensorflow/addons, or fork the required code.\n",
            "TensorFlow 2.0 Upgrade Script\n",
            "-----------------------------\n",
            "Converted 1 files\n",
            "Detected 5 issues that require attention\n",
            "--------------------------------------------------------------------------------\n",
            "--------------------------------------------------------------------------------\n",
            "File: /content/drive/Othercomputers/My-MacBook-Air/SA2C_Code/Kaggle/SA2C.py\n",
            "--------------------------------------------------------------------------------\n",
            "/content/drive/Othercomputers/My-MacBook-Air/SA2C_Code/Kaggle/SA2C.py:83:29: WARNING: tf.nn.embedding_lookup requires manual check. `partition_strategy` has been removed from tf.nn.embedding_lookup.  The 'div' strategy will be used by default.\n",
            "/content/drive/Othercomputers/My-MacBook-Air/SA2C_Code/Kaggle/SA2C.py:164:36: WARNING: tf.nn.embedding_lookup requires manual check. `partition_strategy` has been removed from tf.nn.embedding_lookup.  The 'div' strategy will be used by default.\n",
            "/content/drive/Othercomputers/My-MacBook-Air/SA2C_Code/Kaggle/SA2C.py:179:26: WARNING: tf.nn.embedding_lookup requires manual check. `partition_strategy` has been removed from tf.nn.embedding_lookup.  The 'div' strategy will be used by default.\n",
            "/content/drive/Othercomputers/My-MacBook-Air/SA2C_Code/Kaggle/SA2C.py:214:27: ERROR: Using member tf.contrib.layers.fully_connected in deprecated module tf.contrib. tf.contrib.layers.fully_connected cannot be converted automatically. tf.contrib will not be distributed with TensorFlow 2.0, please consider an alternative in non-contrib TensorFlow, a community-maintained repository such as tensorflow/addons, or fork the required code.\n",
            "/content/drive/Othercomputers/My-MacBook-Air/SA2C_Code/Kaggle/SA2C.py:217:26: ERROR: Using member tf.contrib.layers.fully_connected in deprecated module tf.contrib. tf.contrib.layers.fully_connected cannot be converted automatically. tf.contrib will not be distributed with TensorFlow 2.0, please consider an alternative in non-contrib TensorFlow, a community-maintained repository such as tensorflow/addons, or fork the required code.\n",
            "\n",
            "\n",
            "Make sure to read the detailed log 'report.txt'\n",
            "\n"
          ]
        }
      ],
      "source": [
        "!tf_upgrade_v2 \\\n",
        "  --infile '/content/drive/Othercomputers/My-MacBook-Air/SA2C_Code/Kaggle/SA2C.py' \\\n",
        "  --outfile '/content/drive/Othercomputers/My-MacBook-Air/SA2C_Code/Kaggle/SA2C.py' \\\n",
        "  --reportfile report.txt"
      ]
    },
    {
      "cell_type": "code",
      "execution_count": null,
      "metadata": {
        "colab": {
          "base_uri": "https://localhost:8080/"
        },
        "id": "yVoNe1Jbb-Wh",
        "outputId": "13024154-b74c-4ab4-d9fc-00e5b6f34a2d"
      },
      "outputs": [
        {
          "name": "stdout",
          "output_type": "stream",
          "text": [
            "Traceback (most recent call last):\n",
            "  File \"/usr/local/bin/tf_upgrade_v2\", line 8, in <module>\n",
            "    sys.exit(main())\n",
            "  File \"/usr/local/lib/python3.8/dist-packages/tensorflow/tools/compatibility/tf_upgrade_v2_main.py\", line 158, in main\n",
            "    files_processed, report_text, errors = process_file(\n",
            "  File \"/usr/local/lib/python3.8/dist-packages/tensorflow/tools/compatibility/tf_upgrade_v2_main.py\", line 42, in process_file\n",
            "    upgrader.process_file(in_filename, out_filename)\n",
            "  File \"/usr/local/lib/python3.8/dist-packages/tensorflow/tools/compatibility/ast_edits.py\", line 910, in process_file\n",
            "    with open(in_filename, \"r\") as in_file, \\\n",
            "FileNotFoundError: [Errno 2] No such file or directory: '/content/drive/Othercomputers/My-MacBook-Air/590-Final-Project/split_data.py'\n"
          ]
        }
      ],
      "source": [
        "!tf_upgrade_v2 \\\n",
        "  --infile '/content/drive/Othercomputers/My-MacBook-Air/590-Final-Project/split_data.py' \\\n",
        "  --outfile '/content/drive/Othercomputers/My-MacBook-Air/590-Final-Project/split_data.py' \\\n",
        "  --reportfile report.txt"
      ]
    },
    {
      "cell_type": "code",
      "execution_count": null,
      "metadata": {
        "colab": {
          "base_uri": "https://localhost:8080/"
        },
        "id": "k51GYCkvofrj",
        "outputId": "3ae550e8-ebed-480c-8f75-6608ecabcbc9"
      },
      "outputs": [
        {
          "name": "stdout",
          "output_type": "stream",
          "text": [
            "Traceback (most recent call last):\n",
            "  File \"/usr/local/bin/tf_upgrade_v2\", line 8, in <module>\n",
            "    sys.exit(main())\n",
            "  File \"/usr/local/lib/python3.8/dist-packages/tensorflow/tools/compatibility/tf_upgrade_v2_main.py\", line 158, in main\n",
            "    files_processed, report_text, errors = process_file(\n",
            "  File \"/usr/local/lib/python3.8/dist-packages/tensorflow/tools/compatibility/tf_upgrade_v2_main.py\", line 42, in process_file\n",
            "    upgrader.process_file(in_filename, out_filename)\n",
            "  File \"/usr/local/lib/python3.8/dist-packages/tensorflow/tools/compatibility/ast_edits.py\", line 910, in process_file\n",
            "    with open(in_filename, \"r\") as in_file, \\\n",
            "FileNotFoundError: [Errno 2] No such file or directory: '/content/drive/Othercomputers/My-MacBook-Air/590-Final-Project/Scripts/replay_buffer.py'\n"
          ]
        }
      ],
      "source": [
        "!tf_upgrade_v2 \\\n",
        "  --infile '/content/drive/Othercomputers/My-MacBook-Air/590-Final-Project/Scripts/replay_buffer.py' \\\n",
        "  --outfile '/content/drive/Othercomputers/My-MacBook-Air/590-Final-Project/Scripts/replay_buffer.py' \\\n",
        "  --reportfile report.txt"
      ]
    },
    {
      "cell_type": "code",
      "execution_count": null,
      "metadata": {
        "colab": {
          "base_uri": "https://localhost:8080/"
        },
        "id": "Q2Wgkr5oDQwu",
        "outputId": "5453bc2c-6dc8-4f13-fb40-86b771977f5e"
      },
      "outputs": [
        {
          "name": "stdout",
          "output_type": "stream",
          "text": [
            "Traceback (most recent call last):\n",
            "  File \"/usr/local/bin/tf_upgrade_v2\", line 8, in <module>\n",
            "    sys.exit(main())\n",
            "  File \"/usr/local/lib/python3.8/dist-packages/tensorflow/tools/compatibility/tf_upgrade_v2_main.py\", line 158, in main\n",
            "    files_processed, report_text, errors = process_file(\n",
            "  File \"/usr/local/lib/python3.8/dist-packages/tensorflow/tools/compatibility/tf_upgrade_v2_main.py\", line 42, in process_file\n",
            "    upgrader.process_file(in_filename, out_filename)\n",
            "  File \"/usr/local/lib/python3.8/dist-packages/tensorflow/tools/compatibility/ast_edits.py\", line 910, in process_file\n",
            "    with open(in_filename, \"r\") as in_file, \\\n",
            "FileNotFoundError: [Errno 2] No such file or directory: '/content/drive/Othercomputers/My-MacBook-Air/590-Final-Project/Scripts/NextItNetModules.py'\n"
          ]
        }
      ],
      "source": [
        "!tf_upgrade_v2 \\\n",
        "  --infile '/content/drive/Othercomputers/My-MacBook-Air/590-Final-Project/Scripts/NextItNetModules.py' \\\n",
        "  --outfile '/content/drive/Othercomputers/My-MacBook-Air/590-Final-Project/Scripts/NextItNetModules.py' \\\n",
        "  --reportfile report.txt"
      ]
    },
    {
      "cell_type": "code",
      "execution_count": null,
      "metadata": {
        "colab": {
          "base_uri": "https://localhost:8080/"
        },
        "id": "Mmv6tdGnETYC",
        "outputId": "1f8dc650-86e8-4d7a-8f24-1c9eb43c4594"
      },
      "outputs": [
        {
          "name": "stdout",
          "output_type": "stream",
          "text": [
            "Traceback (most recent call last):\n",
            "  File \"/usr/local/bin/tf_upgrade_v2\", line 8, in <module>\n",
            "    sys.exit(main())\n",
            "  File \"/usr/local/lib/python3.8/dist-packages/tensorflow/tools/compatibility/tf_upgrade_v2_main.py\", line 158, in main\n",
            "    files_processed, report_text, errors = process_file(\n",
            "  File \"/usr/local/lib/python3.8/dist-packages/tensorflow/tools/compatibility/tf_upgrade_v2_main.py\", line 42, in process_file\n",
            "    upgrader.process_file(in_filename, out_filename)\n",
            "  File \"/usr/local/lib/python3.8/dist-packages/tensorflow/tools/compatibility/ast_edits.py\", line 910, in process_file\n",
            "    with open(in_filename, \"r\") as in_file, \\\n",
            "FileNotFoundError: [Errno 2] No such file or directory: '/content/drive/Othercomputers/My-MacBook-Air/590-Final-Project/Scripts/utility.py'\n"
          ]
        }
      ],
      "source": [
        "!tf_upgrade_v2 \\\n",
        "  --infile '/content/drive/Othercomputers/My-MacBook-Air/590-Final-Project/Scripts/utility.py' \\\n",
        "  --outfile '/content/drive/Othercomputers/My-MacBook-Air/590-Final-Project/Scripts/utility.py' \\\n",
        "  --reportfile report.txt"
      ]
    },
    {
      "cell_type": "code",
      "execution_count": null,
      "metadata": {
        "colab": {
          "base_uri": "https://localhost:8080/"
        },
        "id": "qMGe_QE0fRiT",
        "outputId": "a0eef5a5-c8b3-4704-e5e9-d7fb2f605330"
      },
      "outputs": [
        {
          "name": "stdout",
          "output_type": "stream",
          "text": [
            "Traceback (most recent call last):\n",
            "  File \"/usr/local/bin/tf_upgrade_v2\", line 8, in <module>\n",
            "    sys.exit(main())\n",
            "  File \"/usr/local/lib/python3.8/dist-packages/tensorflow/tools/compatibility/tf_upgrade_v2_main.py\", line 158, in main\n",
            "    files_processed, report_text, errors = process_file(\n",
            "  File \"/usr/local/lib/python3.8/dist-packages/tensorflow/tools/compatibility/tf_upgrade_v2_main.py\", line 42, in process_file\n",
            "    upgrader.process_file(in_filename, out_filename)\n",
            "  File \"/usr/local/lib/python3.8/dist-packages/tensorflow/tools/compatibility/ast_edits.py\", line 910, in process_file\n",
            "    with open(in_filename, \"r\") as in_file, \\\n",
            "FileNotFoundError: [Errno 2] No such file or directory: '/content/drive/Othercomputers/My-MacBook-Air/590-Final-Project/Scripts/SASRecModules.py'\n"
          ]
        }
      ],
      "source": [
        "!tf_upgrade_v2 \\\n",
        "  --infile '/content/drive/Othercomputers/My-MacBook-Air/590-Final-Project/Scripts/SASRecModules.py' \\\n",
        "  --outfile '/content/drive/Othercomputers/My-MacBook-Air/590-Final-Project/Scripts/SASRecModules.py' \\\n",
        "  --reportfile report.txt"
      ]
    },
    {
      "cell_type": "markdown",
      "metadata": {
        "id": "P52HW2JaZcRZ"
      },
      "source": [
        "## Data Preparation\n",
        "Run the code below to create following necessary datasets before running the model.\n",
        "\n",
        "* sorted_amazon.df\n",
        "* data_ststis.df\n",
        "* pop_dict.df\n",
        "* replay_buffer.df\n",
        "* sampled_train.df\n",
        "* sampled_val.df\n",
        "\n"
      ]
    },
    {
      "cell_type": "code",
      "execution_count": null,
      "metadata": {
        "colab": {
          "base_uri": "https://localhost:8080/",
          "height": 35
        },
        "id": "I8uyDkgSBWIi",
        "outputId": "555414b6-2dcf-4ad8-cc06-27e267c5947a"
      },
      "outputs": [
        {
          "data": {
            "text/plain": [
              "<Figure size 432x288 with 0 Axes>"
            ]
          },
          "metadata": {},
          "output_type": "display_data"
        }
      ],
      "source": [
        "%run 'Scripts/Amazon/preprocess.py'"
      ]
    },
    {
      "cell_type": "code",
      "execution_count": null,
      "metadata": {
        "id": "metVveP-af9R"
      },
      "outputs": [],
      "source": [
        "%run 'Scripts/Amazon/split_data.py'"
      ]
    },
    {
      "cell_type": "code",
      "execution_count": null,
      "metadata": {
        "colab": {
          "base_uri": "https://localhost:8080/"
        },
        "id": "N1YMUWhGFVax",
        "outputId": "565f749f-9d57-44ec-80e5-f2e88ca503a3"
      },
      "outputs": [
        {
          "name": "stdout",
          "output_type": "stream",
          "text": [
            "0.0\n",
            "2.0\n",
            "1.0\n"
          ]
        }
      ],
      "source": [
        "!python 'Scripts/Amazon/pop.py' --data='Datasets/Amazon'"
      ]
    },
    {
      "cell_type": "code",
      "execution_count": null,
      "metadata": {
        "colab": {
          "base_uri": "https://localhost:8080/"
        },
        "id": "LnxEs1KFoYEY",
        "outputId": "329afbb4-532c-4c11-b7b9-50bfe3bdd3a9"
      },
      "outputs": [
        {
          "name": "stdout",
          "output_type": "stream",
          "text": [
            "        reviewerID   asin reviewerName helpful  \\\n",
            "30668            0   1883     LarryRun  [0, 0]   \n",
            "72389            0   4954     LarryRun  [0, 0]   \n",
            "122588           0   9193     LarryRun  [2, 4]   \n",
            "135480           0  10286     LarryRun  [0, 0]   \n",
            "55901            0   3676     LarryRun  [1, 1]   \n",
            "\n",
            "                                               reviewText  overall  \\\n",
            "30668   These champion mesh are so much better than th...        5   \n",
            "72389   These wet look leggings were a great buy and f...        5   \n",
            "122588  I am not sure why other reviews say this is no...        5   \n",
            "135480  I got so many comments when I wore these pants...        5   \n",
            "55901   Bought this for my girl for Halloween and it f...        5   \n",
            "\n",
            "                           summary  unixReviewTime   reviewTime  \n",
            "30668        Great fit and quality      1370908800  06 11, 2013  \n",
            "72389    Super fit. Looks amazing!      1350518400  10 18, 2012  \n",
            "122588   Exactly as pictured! HOT!      1350518400  10 18, 2012  \n",
            "135480  Awesome faux leather pants      1350518400  10 18, 2012  \n",
            "55901         Catsuit was awesome!      1352246400   11 7, 2012  \n"
          ]
        }
      ],
      "source": [
        "%run 'Scripts/Amazon/replay_buffer.py'"
      ]
    },
    {
      "cell_type": "markdown",
      "metadata": {
        "id": "H59HR8gelh4N"
      },
      "source": [
        "## Running model on rent the Amazon"
      ]
    },
    {
      "cell_type": "markdown",
      "metadata": {
        "id": "6YeaxutyttH5"
      },
      "source": [
        "### Deep RL Model\n",
        "\n",
        "Self-Supervised Reinforcement Learning for Recommender Systems\n",
        "\n",
        "NDCG is a measure of ranking quality."
      ]
    },
    {
      "cell_type": "code",
      "execution_count": null,
      "metadata": {
        "colab": {
          "base_uri": "https://localhost:8080/"
        },
        "id": "hSKPd8ZkZfLp",
        "outputId": "9ebf7718-f82c-4788-cba7-cf012193bf42"
      },
      "outputs": [
        {
          "name": "stdout",
          "output_type": "stream",
          "text": [
            "Scripts/Amazon/SA2C.py:88: UserWarning: `tf.nn.rnn_cell.GRUCell` is deprecated and will be removed in a future version. This class is equivalent as `tf.keras.layers.GRUCell`, and will be replaced by that in Tensorflow 2.0.\n",
            "  tf.compat.v1.nn.rnn_cell.GRUCell(self.hidden_size),\n",
            "WARNING:tensorflow:From Scripts/Amazon/SA2C.py:87: dynamic_rnn (from tensorflow.python.ops.rnn) is deprecated and will be removed in a future version.\n",
            "Instructions for updating:\n",
            "Please use `keras.layers.RNN(cell)`, which is equivalent to this API\n",
            "WARNING:tensorflow:From Scripts/Amazon/SA2C.py:87: dynamic_rnn (from tensorflow.python.ops.rnn) is deprecated and will be removed in a future version.\n",
            "Instructions for updating:\n",
            "Please use `keras.layers.RNN(cell)`, which is equivalent to this API\n",
            "WARNING:tensorflow:From /usr/local/lib/python3.8/dist-packages/keras/layers/rnn/legacy_cells.py:545: calling Constant.__init__ (from tensorflow.python.ops.init_ops) with dtype is deprecated and will be removed in a future version.\n",
            "Instructions for updating:\n",
            "Call initializer instance with the dtype argument instead of passing it to the constructor\n",
            "WARNING:tensorflow:From /usr/local/lib/python3.8/dist-packages/keras/layers/rnn/legacy_cells.py:545: calling Constant.__init__ (from tensorflow.python.ops.init_ops) with dtype is deprecated and will be removed in a future version.\n",
            "Instructions for updating:\n",
            "Call initializer instance with the dtype argument instead of passing it to the constructor\n",
            "WARNING:tensorflow:From /usr/local/lib/python3.8/dist-packages/keras/layers/rnn/legacy_cells.py:555: calling Zeros.__init__ (from tensorflow.python.ops.init_ops) with dtype is deprecated and will be removed in a future version.\n",
            "Instructions for updating:\n",
            "Call initializer instance with the dtype argument instead of passing it to the constructor\n",
            "WARNING:tensorflow:From /usr/local/lib/python3.8/dist-packages/keras/layers/rnn/legacy_cells.py:555: calling Zeros.__init__ (from tensorflow.python.ops.init_ops) with dtype is deprecated and will be removed in a future version.\n",
            "Instructions for updating:\n",
            "Call initializer instance with the dtype argument instead of passing it to the constructor\n",
            "2022-12-13 14:31:21.293298: E tensorflow/stream_executor/cuda/cuda_driver.cc:271] failed call to cuInit: CUDA_ERROR_NO_DEVICE: no CUDA-capable device is detected\n",
            "Scripts/Amazon/SA2C.py:215: UserWarning: `tf.layers.dense` is deprecated and will be removed in a future version. Please use `tf.keras.layers.Dense` instead.\n",
            "  self.output1 = tf.compat.v1.layers.dense(self.states_hidden, self.item_num,\n",
            "Scripts/Amazon/SA2C.py:218: UserWarning: `tf.layers.dense` is deprecated and will be removed in a future version. Please use `tf.keras.layers.Dense` instead.\n",
            "  self.output2= tf.compat.v1.layers.dense(self.states_hidden, self.item_num,\n",
            "the loss in 200th batch is: 7.939105\n",
            "the loss in 400th batch is: 7.766737\n",
            "the loss in 600th batch is: 7.781015\n",
            "the loss in 800th batch is: 7.652584\n",
            "the loss in 1000th batch is: 7.585094\n",
            "the loss in 1200th batch is: 7.611655\n",
            "#############################################################\n",
            "total clicks: 692, total purchase:3247\n",
            "~~~~~~~~~~~~~~~~~~~~~~~~~~~~~~~~~~~~~~~~~~~~~~~~~~~~~~~~~~~~~\n",
            "cumulative reward @ 5: 76.000000\n",
            "clicks hr ndcg @ 5 : 0.028902, 0.015552\n",
            "purchase hr and ndcg @5 : 0.022174, 0.014032\n",
            "~~~~~~~~~~~~~~~~~~~~~~~~~~~~~~~~~~~~~~~~~~~~~~~~~~~~~~~~~~~~~\n",
            "cumulative reward @ 10: 139.800000\n",
            "clicks hr ndcg @ 10 : 0.049133, 0.021974\n",
            "purchase hr and ndcg @10 : 0.040961, 0.020154\n",
            "~~~~~~~~~~~~~~~~~~~~~~~~~~~~~~~~~~~~~~~~~~~~~~~~~~~~~~~~~~~~~\n",
            "cumulative reward @ 15: 202.000000\n",
            "clicks hr ndcg @ 15 : 0.057803, 0.024214\n",
            "purchase hr and ndcg @15 : 0.059747, 0.025076\n",
            "~~~~~~~~~~~~~~~~~~~~~~~~~~~~~~~~~~~~~~~~~~~~~~~~~~~~~~~~~~~~~\n",
            "cumulative reward @ 20: 256.200000\n",
            "clicks hr ndcg @ 20 : 0.066474, 0.026271\n",
            "purchase hr and ndcg @20 : 0.076070, 0.028914\n",
            "off-line corrected evaluation (click_ng,purchase_ng)@10: 0.002032, 0.001809\n",
            "#############################################################\n"
          ]
        }
      ],
      "source": [
        "!python 'Scripts/Amazon/SA2C.py' --model=GRU --data='Datasets/Amazon' --epoch=10"
      ]
    },
    {
      "cell_type": "code",
      "execution_count": null,
      "metadata": {
        "colab": {
          "background_save": true,
          "base_uri": "https://localhost:8080/"
        },
        "id": "OSRciHj4eKjm",
        "outputId": "9f349ac2-e31b-4ab7-9363-6b9b226b68b4"
      },
      "outputs": [
        {
          "name": "stdout",
          "output_type": "stream",
          "text": [
            "Scripts/Amazon/SA2C.py:187: UserWarning: `tf.layers.dropout` is deprecated and will be removed in a future version. Please use `tf.keras.layers.Dropout` instead.\n",
            "  self.seq = tf.compat.v1.layers.dropout(self.seq,\n",
            "2022-12-13 14:46:05.377512: E tensorflow/stream_executor/cuda/cuda_driver.cc:271] failed call to cuInit: CUDA_ERROR_NO_DEVICE: no CUDA-capable device is detected\n",
            "/content/drive/Othercomputers/My-MacBook-Air/590-Final-Project/Scripts/Amazon/SASRecModules.py:142: UserWarning: `tf.layers.dense` is deprecated and will be removed in a future version. Please use `tf.keras.layers.Dense` instead.\n",
            "  Q = tf.compat.v1.layers.dense(queries, num_units, activation=None) # (N, T_q, C)\n",
            "/content/drive/Othercomputers/My-MacBook-Air/590-Final-Project/Scripts/Amazon/SASRecModules.py:143: UserWarning: `tf.layers.dense` is deprecated and will be removed in a future version. Please use `tf.keras.layers.Dense` instead.\n",
            "  K = tf.compat.v1.layers.dense(keys, num_units, activation=None) # (N, T_k, C)\n",
            "/content/drive/Othercomputers/My-MacBook-Air/590-Final-Project/Scripts/Amazon/SASRecModules.py:144: UserWarning: `tf.layers.dense` is deprecated and will be removed in a future version. Please use `tf.keras.layers.Dense` instead.\n",
            "  V = tf.compat.v1.layers.dense(keys, num_units, activation=None) # (N, T_k, C)\n",
            "/content/drive/Othercomputers/My-MacBook-Air/590-Final-Project/Scripts/Amazon/SASRecModules.py:184: UserWarning: `tf.layers.dropout` is deprecated and will be removed in a future version. Please use `tf.keras.layers.Dropout` instead.\n",
            "  outputs = tf.compat.v1.layers.dropout(outputs, rate=dropout_rate, training=tf.convert_to_tensor(value=is_training))\n",
            "/content/drive/Othercomputers/My-MacBook-Air/590-Final-Project/Scripts/Amazon/SASRecModules.py:223: UserWarning: `tf.layers.conv1d` is deprecated and will be removed in a future version. Please Use `tf.keras.layers.Conv1D` instead.\n",
            "  outputs = tf.compat.v1.layers.conv1d(**params)\n",
            "/content/drive/Othercomputers/My-MacBook-Air/590-Final-Project/Scripts/Amazon/SASRecModules.py:224: UserWarning: `tf.layers.dropout` is deprecated and will be removed in a future version. Please use `tf.keras.layers.Dropout` instead.\n",
            "  outputs = tf.compat.v1.layers.dropout(outputs, rate=dropout_rate, training=tf.convert_to_tensor(value=is_training))\n",
            "/content/drive/Othercomputers/My-MacBook-Air/590-Final-Project/Scripts/Amazon/SASRecModules.py:228: UserWarning: `tf.layers.conv1d` is deprecated and will be removed in a future version. Please Use `tf.keras.layers.Conv1D` instead.\n",
            "  outputs = tf.compat.v1.layers.conv1d(**params)\n",
            "/content/drive/Othercomputers/My-MacBook-Air/590-Final-Project/Scripts/Amazon/SASRecModules.py:229: UserWarning: `tf.layers.dropout` is deprecated and will be removed in a future version. Please use `tf.keras.layers.Dropout` instead.\n",
            "  outputs = tf.compat.v1.layers.dropout(outputs, rate=dropout_rate, training=tf.convert_to_tensor(value=is_training))\n",
            "Scripts/Amazon/SA2C.py:215: UserWarning: `tf.layers.dense` is deprecated and will be removed in a future version. Please use `tf.keras.layers.Dense` instead.\n",
            "  self.output1 = tf.compat.v1.layers.dense(self.states_hidden, self.item_num,\n",
            "Scripts/Amazon/SA2C.py:218: UserWarning: `tf.layers.dense` is deprecated and will be removed in a future version. Please use `tf.keras.layers.Dense` instead.\n",
            "  self.output2= tf.compat.v1.layers.dense(self.states_hidden, self.item_num,\n",
            "the loss in 200th batch is: 7.968593\n",
            "the loss in 400th batch is: 7.685298\n",
            "the loss in 600th batch is: 7.689789\n",
            "the loss in 800th batch is: 7.290873\n",
            "the loss in 1000th batch is: 7.262950\n",
            "the loss in 1200th batch is: 6.991678\n",
            "#############################################################\n",
            "total clicks: 692, total purchase:3247\n",
            "~~~~~~~~~~~~~~~~~~~~~~~~~~~~~~~~~~~~~~~~~~~~~~~~~~~~~~~~~~~~~\n",
            "cumulative reward @ 5: 82.000000\n",
            "clicks hr ndcg @ 5 : 0.028902, 0.017169\n",
            "purchase hr and ndcg @5 : 0.024022, 0.015350\n",
            "~~~~~~~~~~~~~~~~~~~~~~~~~~~~~~~~~~~~~~~~~~~~~~~~~~~~~~~~~~~~~\n",
            "cumulative reward @ 10: 135.600000\n",
            "clicks hr ndcg @ 10 : 0.040462, 0.020736\n",
            "purchase hr and ndcg @10 : 0.040037, 0.020382\n",
            "~~~~~~~~~~~~~~~~~~~~~~~~~~~~~~~~~~~~~~~~~~~~~~~~~~~~~~~~~~~~~\n",
            "cumulative reward @ 15: 195.600000\n",
            "clicks hr ndcg @ 15 : 0.047688, 0.022625\n",
            "purchase hr and ndcg @15 : 0.058208, 0.025161\n",
            "~~~~~~~~~~~~~~~~~~~~~~~~~~~~~~~~~~~~~~~~~~~~~~~~~~~~~~~~~~~~~\n",
            "cumulative reward @ 20: 234.800000\n",
            "clicks hr ndcg @ 20 : 0.063584, 0.026474\n",
            "purchase hr and ndcg @20 : 0.069603, 0.027836\n",
            "off-line corrected evaluation (click_ng,purchase_ng)@10: 0.002246, 0.002551\n",
            "#############################################################\n"
          ]
        }
      ],
      "source": [
        "!python 'Scripts/Amazon/SA2C.py' --model=SASRec --data='Datasets/Amazon' --epoch=10"
      ]
    },
    {
      "cell_type": "code",
      "execution_count": 20,
      "metadata": {
        "id": "_ALbsHfL-NQy",
        "colab": {
          "base_uri": "https://localhost:8080/"
        },
        "outputId": "20992bd3-95d2-429a-ab51-0cb344ae822d"
      },
      "outputs": [
        {
          "output_type": "stream",
          "name": "stdout",
          "text": [
            "Scripts/Amazon/SA2C.py:151: UserWarning: `tf.layers.dropout` is deprecated and will be removed in a future version. Please use `tf.keras.layers.Dropout` instead.\n",
            "  self.states_hidden = tf.compat.v1.layers.dropout(self.final,\n",
            "2022-12-13 15:02:05.673191: E tensorflow/stream_executor/cuda/cuda_driver.cc:271] failed call to cuInit: CUDA_ERROR_NO_DEVICE: no CUDA-capable device is detected\n",
            "Scripts/Amazon/SA2C.py:215: UserWarning: `tf.layers.dense` is deprecated and will be removed in a future version. Please use `tf.keras.layers.Dense` instead.\n",
            "  self.output1 = tf.compat.v1.layers.dense(self.states_hidden, self.item_num,\n",
            "Scripts/Amazon/SA2C.py:218: UserWarning: `tf.layers.dense` is deprecated and will be removed in a future version. Please use `tf.keras.layers.Dense` instead.\n",
            "  self.output2= tf.compat.v1.layers.dense(self.states_hidden, self.item_num,\n",
            "the loss in 200th batch is: 8.041707\n",
            "the loss in 400th batch is: 7.598198\n",
            "the loss in 600th batch is: 7.622176\n",
            "the loss in 800th batch is: 7.874143\n",
            "the loss in 1000th batch is: 7.606581\n",
            "the loss in 1200th batch is: 7.529152\n",
            "#############################################################\n",
            "total clicks: 692, total purchase:3247\n",
            "~~~~~~~~~~~~~~~~~~~~~~~~~~~~~~~~~~~~~~~~~~~~~~~~~~~~~~~~~~~~~\n",
            "cumulative reward @ 5: 77.000000\n",
            "clicks hr ndcg @ 5 : 0.021676, 0.011381\n",
            "purchase hr and ndcg @5 : 0.022790, 0.014196\n",
            "~~~~~~~~~~~~~~~~~~~~~~~~~~~~~~~~~~~~~~~~~~~~~~~~~~~~~~~~~~~~~\n",
            "cumulative reward @ 10: 134.800000\n",
            "clicks hr ndcg @ 10 : 0.041908, 0.017726\n",
            "purchase hr and ndcg @10 : 0.039729, 0.019644\n",
            "~~~~~~~~~~~~~~~~~~~~~~~~~~~~~~~~~~~~~~~~~~~~~~~~~~~~~~~~~~~~~\n",
            "cumulative reward @ 15: 189.600000\n",
            "clicks hr ndcg @ 15 : 0.054913, 0.021109\n",
            "purchase hr and ndcg @15 : 0.056052, 0.023896\n",
            "~~~~~~~~~~~~~~~~~~~~~~~~~~~~~~~~~~~~~~~~~~~~~~~~~~~~~~~~~~~~~\n",
            "cumulative reward @ 20: 235.400000\n",
            "clicks hr ndcg @ 20 : 0.075145, 0.025938\n",
            "purchase hr and ndcg @20 : 0.069295, 0.027021\n",
            "off-line corrected evaluation (click_ng,purchase_ng)@10: 0.001907, 0.002024\n",
            "#############################################################\n"
          ]
        }
      ],
      "source": [
        "!python 'Scripts/Amazon/SA2C.py' --model=Caser --data='Datasets/Amazon' --epoch=10"
      ]
    },
    {
      "cell_type": "code",
      "execution_count": 21,
      "metadata": {
        "id": "Qo7_C4D1-SQv",
        "colab": {
          "base_uri": "https://localhost:8080/"
        },
        "outputId": "a81217ac-e0fe-43c1-b326-4d194137851f"
      },
      "outputs": [
        {
          "output_type": "stream",
          "name": "stdout",
          "text": [
            "Scripts/Amazon/SA2C.py:215: UserWarning: `tf.layers.dense` is deprecated and will be removed in a future version. Please use `tf.keras.layers.Dense` instead.\n",
            "  self.output1 = tf.compat.v1.layers.dense(self.states_hidden, self.item_num,\n",
            "Scripts/Amazon/SA2C.py:218: UserWarning: `tf.layers.dense` is deprecated and will be removed in a future version. Please use `tf.keras.layers.Dense` instead.\n",
            "  self.output2= tf.compat.v1.layers.dense(self.states_hidden, self.item_num,\n",
            "2022-12-13 15:19:22.197052: E tensorflow/stream_executor/cuda/cuda_driver.cc:271] failed call to cuInit: CUDA_ERROR_NO_DEVICE: no CUDA-capable device is detected\n",
            "the loss in 200th batch is: 9.070894\n",
            "the loss in 400th batch is: 8.830669\n",
            "the loss in 600th batch is: 8.380411\n",
            "the loss in 800th batch is: 8.096857\n",
            "the loss in 1000th batch is: 7.894581\n",
            "the loss in 1200th batch is: 7.453938\n",
            "#############################################################\n",
            "total clicks: 692, total purchase:3247\n",
            "~~~~~~~~~~~~~~~~~~~~~~~~~~~~~~~~~~~~~~~~~~~~~~~~~~~~~~~~~~~~~\n",
            "cumulative reward @ 5: 73.400000\n",
            "clicks hr ndcg @ 5 : 0.024566, 0.015873\n",
            "purchase hr and ndcg @5 : 0.021558, 0.012271\n",
            "~~~~~~~~~~~~~~~~~~~~~~~~~~~~~~~~~~~~~~~~~~~~~~~~~~~~~~~~~~~~~\n",
            "cumulative reward @ 10: 133.600000\n",
            "clicks hr ndcg @ 10 : 0.040462, 0.020972\n",
            "purchase hr and ndcg @10 : 0.039421, 0.017996\n",
            "~~~~~~~~~~~~~~~~~~~~~~~~~~~~~~~~~~~~~~~~~~~~~~~~~~~~~~~~~~~~~\n",
            "cumulative reward @ 15: 192.600000\n",
            "clicks hr ndcg @ 15 : 0.062139, 0.026805\n",
            "purchase hr and ndcg @15 : 0.056668, 0.022543\n",
            "~~~~~~~~~~~~~~~~~~~~~~~~~~~~~~~~~~~~~~~~~~~~~~~~~~~~~~~~~~~~~\n",
            "cumulative reward @ 20: 227.400000\n",
            "clicks hr ndcg @ 20 : 0.067919, 0.028181\n",
            "purchase hr and ndcg @20 : 0.067139, 0.025017\n",
            "off-line corrected evaluation (click_ng,purchase_ng)@10: 0.002135, 0.002253\n",
            "#############################################################\n"
          ]
        }
      ],
      "source": [
        "!python 'Scripts/Amazon/SA2C.py' --model=NItNet --data='Datasets/Amazon' --epoch=10"
      ]
    },
    {
      "cell_type": "markdown",
      "metadata": {
        "id": "zozGfQNdt3jM"
      },
      "source": [
        "### Non-Deep RL Model\n",
        "\n",
        "LightFM\n",
        "\n",
        "Metric: AUCScore"
      ]
    },
    {
      "cell_type": "code",
      "execution_count": null,
      "metadata": {
        "id": "diH37ujVunj2"
      },
      "outputs": [],
      "source": [
        "data_directory = 'Datasets/Amazon'\n",
        "amazon_train = pd.read_pickle(os.path.join(data_directory, 'sampled_train.df'))\n",
        "amazon_test = pd.read_pickle(os.path.join(data_directory, 'sampled_val.df'))\n",
        "\n",
        "amazon_train['rating'] = amazon_train.overall >= 4\n",
        "amazon_test['rating'] = amazon_test.overall >= 4\n",
        "\n",
        "n = max(max(amazon_train.reviewerID), max(amazon_train.asin)) + 1\n",
        "\n",
        "rate_matrix = dict()\n",
        "rate_matrix['train'] = coo_matrix((amazon_train.rating, (amazon_train.reviewerID, amazon_train.asin)), shape=(n,n))\n",
        "rate_matrix['test'] = coo_matrix((amazon_test.rating, (amazon_test.reviewerID, amazon_test.asin)), shape=(n,n))\n",
        "rate_matrix"
      ]
    },
    {
      "cell_type": "code",
      "execution_count": 23,
      "metadata": {
        "id": "gZDLw5udvgtR",
        "colab": {
          "base_uri": "https://localhost:8080/"
        },
        "outputId": "13601a1e-b553-41a5-a46b-752fcb9a210e"
      },
      "outputs": [
        {
          "output_type": "execute_result",
          "data": {
            "text/plain": [
              "<lightfm.lightfm.LightFM at 0x7fba6fa54bb0>"
            ]
          },
          "metadata": {},
          "execution_count": 23
        }
      ],
      "source": [
        "\n",
        "model = LightFM(no_components=10, loss='warp')\n",
        "model.fit(rate_matrix['train'], epochs=50, num_threads=10)"
      ]
    },
    {
      "cell_type": "code",
      "execution_count": 24,
      "metadata": {
        "id": "TFiUs6mA13kg",
        "colab": {
          "base_uri": "https://localhost:8080/"
        },
        "outputId": "9f9ce960-63fe-4033-b27d-3dd1f4a9f826"
      },
      "outputs": [
        {
          "output_type": "execute_result",
          "data": {
            "text/plain": [
              "0.9942909"
            ]
          },
          "metadata": {},
          "execution_count": 24
        }
      ],
      "source": [
        "auc_score(model, rate_matrix['train'], num_threads=10).mean()\n"
      ]
    },
    {
      "cell_type": "code",
      "execution_count": 25,
      "metadata": {
        "id": "Wehg7lrp2KTb",
        "colab": {
          "base_uri": "https://localhost:8080/"
        },
        "outputId": "fde8f0ed-1883-4249-dd86-5ea574bd861e"
      },
      "outputs": [
        {
          "data": {
            "text/plain": [
              "0.9696471"
            ]
          },
          "execution_count": 25,
          "metadata": {},
          "output_type": "execute_result"
        }
      ],
      "source": [
        "auc_score(model, rate_matrix['test'], num_threads=10).mean()\n"
      ]
    }
  ],
  "metadata": {
    "colab": {
      "collapsed_sections": [
        "FdwEUZ4-MRVE",
        "yS7LIAXQMcTH",
        "KmTkRTkWNghz",
        "Ze06C7AuW4t7"
      ],
      "provenance": []
    },
    "gpuClass": "standard",
    "kernelspec": {
      "display_name": "Python 3",
      "name": "python3"
    },
    "language_info": {
      "name": "python"
    }
  },
  "nbformat": 4,
  "nbformat_minor": 0
}
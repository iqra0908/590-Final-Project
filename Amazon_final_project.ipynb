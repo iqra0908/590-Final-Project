{
  "cells": [
    {
      "cell_type": "markdown",
      "metadata": {
        "id": "FdwEUZ4-MRVE"
      },
      "source": [
        "#Duke University\n",
        "\n",
        "Course: AIPI590 (Deep Reinforcement Learning Applications)\\\n",
        "Fall 2022\\\n",
        "Author: *Iqra Imtiaz*\n",
        "\n"
      ]
    },
    {
      "cell_type": "markdown",
      "metadata": {
        "id": "yS7LIAXQMcTH"
      },
      "source": [
        "# Final Project: Product recommender for E-commerce\n",
        "\n",
        "**Dataset**: [Amazon Clothing and Jewelry](http://snap.stanford.edu/data/amazon/productGraph/categoryFiles/reviews_Clothing_Shoes_and_Jewelry_5.json.gz)\n",
        "\n",
        "**Metric**: NDCG"
      ]
    },
    {
      "cell_type": "markdown",
      "metadata": {
        "id": "KmTkRTkWNghz"
      },
      "source": [
        "# Dataset Explanation\n",
        "\n",
        "**Description**:\n",
        "\n",
        "This dataset contains product reviews and metadata from Amazon, including 142.8 million reviews spanning May 1996 - July 2014.\n",
        "\n",
        "This dataset includes reviews (ratings, text, helpfulness votes), product metadata (descriptions, category information, price, brand, and image features), and links (also viewed/also bought graphs).\n",
        "\n",
        "Finally, this data have been reduced to extract the 5-core, such that each of the remaining users and items have 5 reviews each.\n",
        "\n",
        "\n",
        "**Basic Statistics**:\n",
        "\n",
        "Number of users:\t39,387\\\n",
        "Number of items:\t23,033\\\n",
        "Number of transactions:\t278,677\n",
        "\n",
        "**Example**\n",
        "```\n",
        "{\n",
        "  \"reviewerID\": \"A2SUAM1J3GNN3B\",\n",
        "  \"asin\": \"0000013714\",\n",
        "  \"reviewerName\": \"J. McDonald\",\n",
        "  \"helpful\": [2, 3],\n",
        "  \"reviewText\": \"I bought this for my husband who plays the piano.  He is having a wonderful time playing these old hymns.  The music  is at times hard to read because we think the book was published for singing from more than playing from.  Great purchase though!\",\n",
        "  \"overall\": 5.0,\n",
        "  \"summary\": \"Heavenly Highway Hymns\",\n",
        "  \"unixReviewTime\": 1252800000,\n",
        "  \"reviewTime\": \"09 13, 2009\"\n",
        "}\n",
        "```\n",
        "where\n",
        "\n",
        "- reviewerID - ID of the reviewer, e.g. A2SUAM1J3GNN3B\n",
        "- asin - ID of the product, e.g. 0000013714\n",
        "- reviewerName - name of the reviewer\n",
        "- helpful - helpfulness rating of the review, e.g. 2/3\n",
        "- reviewText - text of the review\n",
        "- overall - rating of the product\n",
        "- summary - summary of the review\n",
        "- unixReviewTime - time of the review (unix time)\n",
        "- reviewTime - time of the review (raw)\n",
        "\n",
        "\n",
        "More details can be found here: http://jmcauley.ucsd.edu/data/amazon/links.html"
      ]
    },
    {
      "cell_type": "markdown",
      "metadata": {
        "id": "XX3KVCyCSR1D"
      },
      "source": [
        "# Imports\n"
      ]
    },
    {
      "cell_type": "code",
      "execution_count": null,
      "metadata": {
        "id": "E0NiVBL6ScxS"
      },
      "outputs": [],
      "source": [
        "import pandas as pd\n",
        "import os"
      ]
    },
    {
      "cell_type": "markdown",
      "metadata": {
        "id": "ris_j8n7SUST"
      },
      "source": [
        "#Install"
      ]
    },
    {
      "cell_type": "code",
      "execution_count": null,
      "metadata": {
        "id": "9TN6Rwa_SZNW"
      },
      "outputs": [],
      "source": [
        "! pip install pandas trfl"
      ]
    },
    {
      "cell_type": "markdown",
      "metadata": {
        "id": "qfbRwsZdPQ7y"
      },
      "source": [
        "# Loading Data\n",
        "\n",
        "Download the data from link mentioned previously into a Datasets folder in this repository. "
      ]
    },
    {
      "cell_type": "code",
      "execution_count": null,
      "metadata": {
        "colab": {
          "base_uri": "https://localhost:8080/",
          "height": 424
        },
        "id": "AC21xwFBPl8U",
        "outputId": "dd2b08a1-91b8-4c1e-fdbf-945df519a83c"
      },
      "outputs": [
        {
          "data": {
            "text/html": [
              "\n",
              "  <div id=\"df-ca371862-321b-420d-ba44-2eb097ec28f8\">\n",
              "    <div class=\"colab-df-container\">\n",
              "      <div>\n",
              "<style scoped>\n",
              "    .dataframe tbody tr th:only-of-type {\n",
              "        vertical-align: middle;\n",
              "    }\n",
              "\n",
              "    .dataframe tbody tr th {\n",
              "        vertical-align: top;\n",
              "    }\n",
              "\n",
              "    .dataframe thead th {\n",
              "        text-align: right;\n",
              "    }\n",
              "</style>\n",
              "<table border=\"1\" class=\"dataframe\">\n",
              "  <thead>\n",
              "    <tr style=\"text-align: right;\">\n",
              "      <th></th>\n",
              "      <th>reviewerID</th>\n",
              "      <th>asin</th>\n",
              "      <th>reviewerName</th>\n",
              "      <th>helpful</th>\n",
              "      <th>reviewText</th>\n",
              "      <th>overall</th>\n",
              "      <th>summary</th>\n",
              "      <th>unixReviewTime</th>\n",
              "      <th>reviewTime</th>\n",
              "    </tr>\n",
              "  </thead>\n",
              "  <tbody>\n",
              "    <tr>\n",
              "      <th>0</th>\n",
              "      <td>A1KLRMWW2FWPL4</td>\n",
              "      <td>0000031887</td>\n",
              "      <td>Amazon Customer \"cameramom\"</td>\n",
              "      <td>[0, 0]</td>\n",
              "      <td>This is a great tutu and at a really great pri...</td>\n",
              "      <td>5</td>\n",
              "      <td>Great tutu-  not cheaply made</td>\n",
              "      <td>1297468800</td>\n",
              "      <td>02 12, 2011</td>\n",
              "    </tr>\n",
              "    <tr>\n",
              "      <th>1</th>\n",
              "      <td>A2G5TCU2WDFZ65</td>\n",
              "      <td>0000031887</td>\n",
              "      <td>Amazon Customer</td>\n",
              "      <td>[0, 0]</td>\n",
              "      <td>I bought this for my 4 yr old daughter for dan...</td>\n",
              "      <td>5</td>\n",
              "      <td>Very Cute!!</td>\n",
              "      <td>1358553600</td>\n",
              "      <td>01 19, 2013</td>\n",
              "    </tr>\n",
              "    <tr>\n",
              "      <th>2</th>\n",
              "      <td>A1RLQXYNCMWRWN</td>\n",
              "      <td>0000031887</td>\n",
              "      <td>Carola</td>\n",
              "      <td>[0, 0]</td>\n",
              "      <td>What can I say... my daughters have it in oran...</td>\n",
              "      <td>5</td>\n",
              "      <td>I have buy more than one</td>\n",
              "      <td>1357257600</td>\n",
              "      <td>01 4, 2013</td>\n",
              "    </tr>\n",
              "    <tr>\n",
              "      <th>3</th>\n",
              "      <td>A8U3FAMSJVHS5</td>\n",
              "      <td>0000031887</td>\n",
              "      <td>Caromcg</td>\n",
              "      <td>[0, 0]</td>\n",
              "      <td>We bought several tutus at once, and they are ...</td>\n",
              "      <td>5</td>\n",
              "      <td>Adorable, Sturdy</td>\n",
              "      <td>1398556800</td>\n",
              "      <td>04 27, 2014</td>\n",
              "    </tr>\n",
              "    <tr>\n",
              "      <th>4</th>\n",
              "      <td>A3GEOILWLK86XM</td>\n",
              "      <td>0000031887</td>\n",
              "      <td>CJ</td>\n",
              "      <td>[0, 0]</td>\n",
              "      <td>Thank you Halo Heaven great product for Little...</td>\n",
              "      <td>5</td>\n",
              "      <td>Grammy's Angels Love it</td>\n",
              "      <td>1394841600</td>\n",
              "      <td>03 15, 2014</td>\n",
              "    </tr>\n",
              "  </tbody>\n",
              "</table>\n",
              "</div>\n",
              "      <button class=\"colab-df-convert\" onclick=\"convertToInteractive('df-ca371862-321b-420d-ba44-2eb097ec28f8')\"\n",
              "              title=\"Convert this dataframe to an interactive table.\"\n",
              "              style=\"display:none;\">\n",
              "        \n",
              "  <svg xmlns=\"http://www.w3.org/2000/svg\" height=\"24px\"viewBox=\"0 0 24 24\"\n",
              "       width=\"24px\">\n",
              "    <path d=\"M0 0h24v24H0V0z\" fill=\"none\"/>\n",
              "    <path d=\"M18.56 5.44l.94 2.06.94-2.06 2.06-.94-2.06-.94-.94-2.06-.94 2.06-2.06.94zm-11 1L8.5 8.5l.94-2.06 2.06-.94-2.06-.94L8.5 2.5l-.94 2.06-2.06.94zm10 10l.94 2.06.94-2.06 2.06-.94-2.06-.94-.94-2.06-.94 2.06-2.06.94z\"/><path d=\"M17.41 7.96l-1.37-1.37c-.4-.4-.92-.59-1.43-.59-.52 0-1.04.2-1.43.59L10.3 9.45l-7.72 7.72c-.78.78-.78 2.05 0 2.83L4 21.41c.39.39.9.59 1.41.59.51 0 1.02-.2 1.41-.59l7.78-7.78 2.81-2.81c.8-.78.8-2.07 0-2.86zM5.41 20L4 18.59l7.72-7.72 1.47 1.35L5.41 20z\"/>\n",
              "  </svg>\n",
              "      </button>\n",
              "      \n",
              "  <style>\n",
              "    .colab-df-container {\n",
              "      display:flex;\n",
              "      flex-wrap:wrap;\n",
              "      gap: 12px;\n",
              "    }\n",
              "\n",
              "    .colab-df-convert {\n",
              "      background-color: #E8F0FE;\n",
              "      border: none;\n",
              "      border-radius: 50%;\n",
              "      cursor: pointer;\n",
              "      display: none;\n",
              "      fill: #1967D2;\n",
              "      height: 32px;\n",
              "      padding: 0 0 0 0;\n",
              "      width: 32px;\n",
              "    }\n",
              "\n",
              "    .colab-df-convert:hover {\n",
              "      background-color: #E2EBFA;\n",
              "      box-shadow: 0px 1px 2px rgba(60, 64, 67, 0.3), 0px 1px 3px 1px rgba(60, 64, 67, 0.15);\n",
              "      fill: #174EA6;\n",
              "    }\n",
              "\n",
              "    [theme=dark] .colab-df-convert {\n",
              "      background-color: #3B4455;\n",
              "      fill: #D2E3FC;\n",
              "    }\n",
              "\n",
              "    [theme=dark] .colab-df-convert:hover {\n",
              "      background-color: #434B5C;\n",
              "      box-shadow: 0px 1px 3px 1px rgba(0, 0, 0, 0.15);\n",
              "      filter: drop-shadow(0px 1px 2px rgba(0, 0, 0, 0.3));\n",
              "      fill: #FFFFFF;\n",
              "    }\n",
              "  </style>\n",
              "\n",
              "      <script>\n",
              "        const buttonEl =\n",
              "          document.querySelector('#df-ca371862-321b-420d-ba44-2eb097ec28f8 button.colab-df-convert');\n",
              "        buttonEl.style.display =\n",
              "          google.colab.kernel.accessAllowed ? 'block' : 'none';\n",
              "\n",
              "        async function convertToInteractive(key) {\n",
              "          const element = document.querySelector('#df-ca371862-321b-420d-ba44-2eb097ec28f8');\n",
              "          const dataTable =\n",
              "            await google.colab.kernel.invokeFunction('convertToInteractive',\n",
              "                                                     [key], {});\n",
              "          if (!dataTable) return;\n",
              "\n",
              "          const docLinkHtml = 'Like what you see? Visit the ' +\n",
              "            '<a target=\"_blank\" href=https://colab.research.google.com/notebooks/data_table.ipynb>data table notebook</a>'\n",
              "            + ' to learn more about interactive tables.';\n",
              "          element.innerHTML = '';\n",
              "          dataTable['output_type'] = 'display_data';\n",
              "          await google.colab.output.renderOutput(dataTable, element);\n",
              "          const docLink = document.createElement('div');\n",
              "          docLink.innerHTML = docLinkHtml;\n",
              "          element.appendChild(docLink);\n",
              "        }\n",
              "      </script>\n",
              "    </div>\n",
              "  </div>\n",
              "  "
            ],
            "text/plain": [
              "       reviewerID        asin                 reviewerName helpful  \\\n",
              "0  A1KLRMWW2FWPL4  0000031887  Amazon Customer \"cameramom\"  [0, 0]   \n",
              "1  A2G5TCU2WDFZ65  0000031887              Amazon Customer  [0, 0]   \n",
              "2  A1RLQXYNCMWRWN  0000031887                       Carola  [0, 0]   \n",
              "3   A8U3FAMSJVHS5  0000031887                      Caromcg  [0, 0]   \n",
              "4  A3GEOILWLK86XM  0000031887                           CJ  [0, 0]   \n",
              "\n",
              "                                          reviewText  overall  \\\n",
              "0  This is a great tutu and at a really great pri...        5   \n",
              "1  I bought this for my 4 yr old daughter for dan...        5   \n",
              "2  What can I say... my daughters have it in oran...        5   \n",
              "3  We bought several tutus at once, and they are ...        5   \n",
              "4  Thank you Halo Heaven great product for Little...        5   \n",
              "\n",
              "                         summary  unixReviewTime   reviewTime  \n",
              "0  Great tutu-  not cheaply made      1297468800  02 12, 2011  \n",
              "1                    Very Cute!!      1358553600  01 19, 2013  \n",
              "2       I have buy more than one      1357257600   01 4, 2013  \n",
              "3               Adorable, Sturdy      1398556800  04 27, 2014  \n",
              "4        Grammy's Angels Love it      1394841600  03 15, 2014  "
            ]
          },
          "execution_count": 56,
          "metadata": {},
          "output_type": "execute_result"
        }
      ],
      "source": [
        "\n",
        "amazon = pd.read_json('Datasets/Amazon/reviews_Clothing_Shoes_and_Jewelry_5.json.gz',compression='gzip',lines=True)\n",
        "amazon.head()"
      ]
    },
    {
      "cell_type": "code",
      "execution_count": null,
      "metadata": {
        "colab": {
          "base_uri": "https://localhost:8080/"
        },
        "id": "7x02sIGoh-Ew",
        "outputId": "dc7fd009-e6c1-4684-99d9-1180b91ee1a8"
      },
      "outputs": [
        {
          "name": "stdout",
          "output_type": "stream",
          "text": [
            "278677\n",
            "39387\n",
            "23033\n"
          ]
        }
      ],
      "source": [
        "print(len(amazon))\n",
        "print(len(amazon.reviewerID.unique()))\n",
        "print(len(amazon.asin.unique()))"
      ]
    },
    {
      "cell_type": "markdown",
      "metadata": {
        "id": "H9c4gHvFQeZ4"
      },
      "source": [
        "# Modeling\n",
        "\n",
        "Deep RL model used on amazon dataset is \n",
        "[**Self-Supervised Reinforcement Learning for Recommender Systems**](https://arxiv.org/abs/2006.05779).\n",
        "\n",
        "\n",
        "Download the code from link given and save the following files in kaggle folder into Scripts folder of this repository. \n",
        "\n",
        "* NextItNetModules.py\n",
        "* SA2C.py\n",
        "* SASRecModules.py\n",
        "* pop.py\n",
        "* preprocess.py\n",
        "* replay_buffer.py\n",
        "* split_data.py\n",
        "* utility.py\n",
        "\n",
        "These files are updated to incorporate data from amazon. For example; sessionId is replaced with reviwerId, item_id is replaced with asin, and is_buy is replaced with overall  (i.e. rating of product). \n",
        "Rating is given between 1-5, 1 being lowest. Reward is given when rating is greater than or equal to 4."
      ]
    },
    {
      "cell_type": "markdown",
      "metadata": {
        "id": "Ze06C7AuW4t7"
      },
      "source": [
        "##Tensorflow Conversion\n",
        "Since, this code is based on tensorflow version 1, we will update it to use tensorflow version 2."
      ]
    },
    {
      "cell_type": "code",
      "execution_count": null,
      "metadata": {
        "colab": {
          "base_uri": "https://localhost:8080/"
        },
        "id": "IYR1ZQN6MBLx",
        "outputId": "a242f4f7-4eea-4604-e1cb-321228aef9d8"
      },
      "outputs": [
        {
          "name": "stdout",
          "output_type": "stream",
          "text": [
            "/content/drive/Othercomputers/My-MacBook-Air/SA2C_Code/Kaggle\n",
            "data\t\t     preprocess_kaggle.py  SA2C_new.py\t     split_data.py\n",
            "DQN_NS.py\t     __pycache__\t   SA2C.py\t     test.py\n",
            "NextItNetModules.py  replay_buffer.py\t   SASRecModules.py  utility.py\n",
            "pop.py\t\t     report.txt\t\t   SNQN.py\n"
          ]
        }
      ],
      "source": [
        "PROJ_DIR = '/content/drive/Othercomputers/My-MacBook-Air/SA2C_Code/Kaggle'\n",
        "# change current directory after mounting\n",
        "%cd $PROJ_DIR\n",
        "! ls"
      ]
    },
    {
      "cell_type": "code",
      "execution_count": null,
      "metadata": {
        "id": "JNjfQYJLMb-k"
      },
      "outputs": [],
      "source": [
        "!tf_upgrade_v2 \\\n",
        "  --infile '/content/drive/Othercomputers/My-MacBook-Air/SA2C_Code/Kaggle/SA2C.py' \\\n",
        "  --outfile '/content/drive/Othercomputers/My-MacBook-Air/SA2C_Code/Kaggle/SA2C.py' \\\n",
        "  --reportfile report.txt"
      ]
    },
    {
      "cell_type": "code",
      "execution_count": null,
      "metadata": {
        "id": "yVoNe1Jbb-Wh"
      },
      "outputs": [],
      "source": [
        "!tf_upgrade_v2 \\\n",
        "  --infile '/content/drive/Othercomputers/My-MacBook-Air/590-Final-Project/split_data.py' \\\n",
        "  --outfile '/content/drive/Othercomputers/My-MacBook-Air/590-Final-Project/split_data.py' \\\n",
        "  --reportfile report.txt"
      ]
    },
    {
      "cell_type": "code",
      "execution_count": null,
      "metadata": {
        "id": "k51GYCkvofrj"
      },
      "outputs": [],
      "source": [
        "!tf_upgrade_v2 \\\n",
        "  --infile '/content/drive/Othercomputers/My-MacBook-Air/590-Final-Project/Scripts/replay_buffer.py' \\\n",
        "  --outfile '/content/drive/Othercomputers/My-MacBook-Air/590-Final-Project/Scripts/replay_buffer.py' \\\n",
        "  --reportfile report.txt"
      ]
    },
    {
      "cell_type": "code",
      "execution_count": null,
      "metadata": {
        "id": "Q2Wgkr5oDQwu"
      },
      "outputs": [],
      "source": [
        "!tf_upgrade_v2 \\\n",
        "  --infile '/content/drive/Othercomputers/My-MacBook-Air/590-Final-Project/Scripts/NextItNetModules.py' \\\n",
        "  --outfile '/content/drive/Othercomputers/My-MacBook-Air/590-Final-Project/Scripts/NextItNetModules.py' \\\n",
        "  --reportfile report.txt"
      ]
    },
    {
      "cell_type": "code",
      "execution_count": null,
      "metadata": {
        "id": "Mmv6tdGnETYC"
      },
      "outputs": [],
      "source": [
        "!tf_upgrade_v2 \\\n",
        "  --infile '/content/drive/Othercomputers/My-MacBook-Air/590-Final-Project/Scripts/utility.py' \\\n",
        "  --outfile '/content/drive/Othercomputers/My-MacBook-Air/590-Final-Project/Scripts/utility.py' \\\n",
        "  --reportfile report.txt"
      ]
    },
    {
      "cell_type": "code",
      "execution_count": null,
      "metadata": {
        "id": "qMGe_QE0fRiT"
      },
      "outputs": [],
      "source": [
        "!tf_upgrade_v2 \\\n",
        "  --infile '/content/drive/Othercomputers/My-MacBook-Air/590-Final-Project/Scripts/SASRecModules.py' \\\n",
        "  --outfile '/content/drive/Othercomputers/My-MacBook-Air/590-Final-Project/Scripts/SASRecModules.py' \\\n",
        "  --reportfile report.txt"
      ]
    },
    {
      "cell_type": "markdown",
      "metadata": {
        "id": "P52HW2JaZcRZ"
      },
      "source": [
        "## Data Preparation\n",
        "Run the code below to create following necessary datasets before running the model.\n",
        "\n",
        "* sorted_amazon.df\n",
        "* data_ststis.df\n",
        "* pop_dict.df\n",
        "* replay_buffer.df\n",
        "* sampled_train.df\n",
        "* sampled_val.df\n",
        "\n"
      ]
    },
    {
      "cell_type": "code",
      "execution_count": 2,
      "metadata": {
        "colab": {
          "base_uri": "https://localhost:8080/"
        },
        "id": "ewHLDZpVZjCx",
        "outputId": "806a4c95-1420-40d3-bae4-4f579db06625"
      },
      "outputs": [
        {
          "output_type": "stream",
          "name": "stdout",
          "text": [
            "/content/drive/Othercomputers/My-MacBook-Air/590-Final-Project\n"
          ]
        }
      ],
      "source": [
        "cd /content/drive/Othercomputers/My-MacBook-Air/590-Final-Project"
      ]
    },
    {
      "cell_type": "code",
      "execution_count": null,
      "metadata": {
        "id": "I8uyDkgSBWIi"
      },
      "outputs": [],
      "source": [
        "%run 'Scripts/preprocess.py'"
      ]
    },
    {
      "cell_type": "code",
      "execution_count": null,
      "metadata": {
        "id": "metVveP-af9R"
      },
      "outputs": [],
      "source": [
        "%run 'Scripts/split_data.py'"
      ]
    },
    {
      "cell_type": "code",
      "execution_count": null,
      "metadata": {
        "colab": {
          "base_uri": "https://localhost:8080/"
        },
        "id": "N1YMUWhGFVax",
        "outputId": "644c29be-38c8-4a83-e122-520d7758a3ac"
      },
      "outputs": [
        {
          "name": "stdout",
          "output_type": "stream",
          "text": [
            "0.0\n",
            "2.0\n",
            "1.0\n"
          ]
        }
      ],
      "source": [
        "!python 'Scripts/pop.py' --data='Datasets/Amazon'"
      ]
    },
    {
      "cell_type": "code",
      "execution_count": null,
      "metadata": {
        "colab": {
          "base_uri": "https://localhost:8080/"
        },
        "id": "LnxEs1KFoYEY",
        "outputId": "d594f74b-192a-474f-f50f-31dc0e36f0db"
      },
      "outputs": [
        {
          "name": "stdout",
          "output_type": "stream",
          "text": [
            "        reviewerID   asin reviewerName helpful  \\\n",
            "30668            0   1883     LarryRun  [0, 0]   \n",
            "72389            0   4954     LarryRun  [0, 0]   \n",
            "122588           0   9193     LarryRun  [2, 4]   \n",
            "135480           0  10286     LarryRun  [0, 0]   \n",
            "55901            0   3676     LarryRun  [1, 1]   \n",
            "\n",
            "                                               reviewText  overall  \\\n",
            "30668   These champion mesh are so much better than th...        5   \n",
            "72389   These wet look leggings were a great buy and f...        5   \n",
            "122588  I am not sure why other reviews say this is no...        5   \n",
            "135480  I got so many comments when I wore these pants...        5   \n",
            "55901   Bought this for my girl for Halloween and it f...        5   \n",
            "\n",
            "                           summary  unixReviewTime   reviewTime  \n",
            "30668        Great fit and quality      1370908800  06 11, 2013  \n",
            "72389    Super fit. Looks amazing!      1350518400  10 18, 2012  \n",
            "122588   Exactly as pictured! HOT!      1350518400  10 18, 2012  \n",
            "135480  Awesome faux leather pants      1350518400  10 18, 2012  \n",
            "55901         Catsuit was awesome!      1352246400   11 7, 2012  \n"
          ]
        }
      ],
      "source": [
        "%run 'Scripts/replay_buffer.py'"
      ]
    },
    {
      "cell_type": "markdown",
      "metadata": {
        "id": "H59HR8gelh4N"
      },
      "source": [
        "## Running model on rent the Amazon\n",
        "\n",
        "NDCG is a measure of ranking quality."
      ]
    },
    {
      "cell_type": "code",
      "execution_count": null,
      "metadata": {
        "colab": {
          "base_uri": "https://localhost:8080/"
        },
        "id": "hSKPd8ZkZfLp",
        "outputId": "81ac69f8-5fe9-425f-cbcf-21da0d7646ab"
      },
      "outputs": [
        {
          "name": "stdout",
          "output_type": "stream",
          "text": [
            "Scripts/SA2C.py:88: UserWarning: `tf.nn.rnn_cell.GRUCell` is deprecated and will be removed in a future version. This class is equivalent as `tf.keras.layers.GRUCell`, and will be replaced by that in Tensorflow 2.0.\n",
            "  tf.compat.v1.nn.rnn_cell.GRUCell(self.hidden_size),\n",
            "WARNING:tensorflow:From Scripts/SA2C.py:87: dynamic_rnn (from tensorflow.python.ops.rnn) is deprecated and will be removed in a future version.\n",
            "Instructions for updating:\n",
            "Please use `keras.layers.RNN(cell)`, which is equivalent to this API\n",
            "WARNING:tensorflow:From Scripts/SA2C.py:87: dynamic_rnn (from tensorflow.python.ops.rnn) is deprecated and will be removed in a future version.\n",
            "Instructions for updating:\n",
            "Please use `keras.layers.RNN(cell)`, which is equivalent to this API\n",
            "WARNING:tensorflow:From /usr/local/lib/python3.8/dist-packages/keras/layers/rnn/legacy_cells.py:545: calling Constant.__init__ (from tensorflow.python.ops.init_ops) with dtype is deprecated and will be removed in a future version.\n",
            "Instructions for updating:\n",
            "Call initializer instance with the dtype argument instead of passing it to the constructor\n",
            "WARNING:tensorflow:From /usr/local/lib/python3.8/dist-packages/keras/layers/rnn/legacy_cells.py:545: calling Constant.__init__ (from tensorflow.python.ops.init_ops) with dtype is deprecated and will be removed in a future version.\n",
            "Instructions for updating:\n",
            "Call initializer instance with the dtype argument instead of passing it to the constructor\n",
            "WARNING:tensorflow:From /usr/local/lib/python3.8/dist-packages/keras/layers/rnn/legacy_cells.py:555: calling Zeros.__init__ (from tensorflow.python.ops.init_ops) with dtype is deprecated and will be removed in a future version.\n",
            "Instructions for updating:\n",
            "Call initializer instance with the dtype argument instead of passing it to the constructor\n",
            "WARNING:tensorflow:From /usr/local/lib/python3.8/dist-packages/keras/layers/rnn/legacy_cells.py:555: calling Zeros.__init__ (from tensorflow.python.ops.init_ops) with dtype is deprecated and will be removed in a future version.\n",
            "Instructions for updating:\n",
            "Call initializer instance with the dtype argument instead of passing it to the constructor\n",
            "2022-12-11 19:52:08.362023: E tensorflow/stream_executor/cuda/cuda_driver.cc:271] failed call to cuInit: CUDA_ERROR_NO_DEVICE: no CUDA-capable device is detected\n",
            "Scripts/SA2C.py:215: UserWarning: `tf.layers.dense` is deprecated and will be removed in a future version. Please use `tf.keras.layers.Dense` instead.\n",
            "  self.output1 = tf.compat.v1.layers.dense(self.states_hidden, self.item_num,\n",
            "Scripts/SA2C.py:218: UserWarning: `tf.layers.dense` is deprecated and will be removed in a future version. Please use `tf.keras.layers.Dense` instead.\n",
            "  self.output2= tf.compat.v1.layers.dense(self.states_hidden, self.item_num,\n",
            "the loss in 200th batch is: 8.077093\n",
            "the loss in 400th batch is: 7.650331\n",
            "the loss in 600th batch is: 7.745118\n",
            "the loss in 800th batch is: 7.673620\n",
            "the loss in 1000th batch is: 7.839781\n",
            "#############################################################\n",
            "total clicks: 707, total purchase:3232\n",
            "~~~~~~~~~~~~~~~~~~~~~~~~~~~~~~~~~~~~~~~~~~~~~~~~~~~~~~~~~~~~~\n",
            "cumulative reward @ 5: 72.600000\n",
            "clicks hr ndcg @ 5 : 0.018388, 0.011231\n",
            "purchase hr and ndcg @5 : 0.021658, 0.012944\n",
            "~~~~~~~~~~~~~~~~~~~~~~~~~~~~~~~~~~~~~~~~~~~~~~~~~~~~~~~~~~~~~\n",
            "cumulative reward @ 10: 147.200000\n",
            "clicks hr ndcg @ 10 : 0.036775, 0.017163\n",
            "purchase hr and ndcg @10 : 0.043936, 0.020088\n",
            "~~~~~~~~~~~~~~~~~~~~~~~~~~~~~~~~~~~~~~~~~~~~~~~~~~~~~~~~~~~~~\n",
            "cumulative reward @ 15: 210.400000\n",
            "clicks hr ndcg @ 15 : 0.052334, 0.021300\n",
            "purchase hr and ndcg @15 : 0.062809, 0.025034\n",
            "~~~~~~~~~~~~~~~~~~~~~~~~~~~~~~~~~~~~~~~~~~~~~~~~~~~~~~~~~~~~~\n",
            "cumulative reward @ 20: 247.000000\n",
            "clicks hr ndcg @ 20 : 0.070721, 0.025583\n",
            "purchase hr and ndcg @20 : 0.073329, 0.027523\n",
            "off-line corrected evaluation (click_ng,purchase_ng)@10: 0.013652, 0.019425\n",
            "#############################################################\n",
            "the loss in 1200th batch is: 7.613099\n",
            "the loss in 1400th batch is: 7.570280\n",
            "the loss in 1600th batch is: 7.572389\n",
            "the loss in 1800th batch is: 7.529296\n",
            "the loss in 2000th batch is: 7.442806\n",
            "#############################################################\n",
            "total clicks: 707, total purchase:3232\n",
            "~~~~~~~~~~~~~~~~~~~~~~~~~~~~~~~~~~~~~~~~~~~~~~~~~~~~~~~~~~~~~\n",
            "cumulative reward @ 5: 76.000000\n",
            "clicks hr ndcg @ 5 : 0.021216, 0.011759\n",
            "purchase hr and ndcg @5 : 0.022587, 0.013633\n",
            "~~~~~~~~~~~~~~~~~~~~~~~~~~~~~~~~~~~~~~~~~~~~~~~~~~~~~~~~~~~~~\n",
            "cumulative reward @ 10: 139.800000\n",
            "clicks hr ndcg @ 10 : 0.033946, 0.015676\n",
            "purchase hr and ndcg @10 : 0.041770, 0.019852\n",
            "~~~~~~~~~~~~~~~~~~~~~~~~~~~~~~~~~~~~~~~~~~~~~~~~~~~~~~~~~~~~~\n",
            "cumulative reward @ 15: 196.800000\n",
            "clicks hr ndcg @ 15 : 0.048091, 0.019419\n",
            "purchase hr and ndcg @15 : 0.058787, 0.024353\n",
            "~~~~~~~~~~~~~~~~~~~~~~~~~~~~~~~~~~~~~~~~~~~~~~~~~~~~~~~~~~~~~\n",
            "cumulative reward @ 20: 232.200000\n",
            "clicks hr ndcg @ 20 : 0.057992, 0.021759\n",
            "purchase hr and ndcg @20 : 0.069307, 0.026846\n",
            "off-line corrected evaluation (click_ng,purchase_ng)@10: 0.011955, 0.022941\n",
            "#############################################################\n",
            "the loss in 2200th batch is: 7.493622\n",
            "the loss in 2400th batch is: 7.366637\n",
            "the loss in 2600th batch is: 7.270391\n",
            "the loss in 2800th batch is: 7.213944\n",
            "the loss in 3000th batch is: 7.090849\n",
            "#############################################################\n",
            "total clicks: 707, total purchase:3232\n",
            "~~~~~~~~~~~~~~~~~~~~~~~~~~~~~~~~~~~~~~~~~~~~~~~~~~~~~~~~~~~~~\n",
            "cumulative reward @ 5: 90.400000\n",
            "clicks hr ndcg @ 5 : 0.016973, 0.011195\n",
            "purchase hr and ndcg @5 : 0.027228, 0.015670\n",
            "~~~~~~~~~~~~~~~~~~~~~~~~~~~~~~~~~~~~~~~~~~~~~~~~~~~~~~~~~~~~~\n",
            "cumulative reward @ 10: 143.400000\n",
            "clicks hr ndcg @ 10 : 0.038190, 0.018146\n",
            "purchase hr and ndcg @10 : 0.042698, 0.020552\n",
            "~~~~~~~~~~~~~~~~~~~~~~~~~~~~~~~~~~~~~~~~~~~~~~~~~~~~~~~~~~~~~\n",
            "cumulative reward @ 15: 198.000000\n",
            "clicks hr ndcg @ 15 : 0.049505, 0.021132\n",
            "purchase hr and ndcg @15 : 0.059097, 0.024920\n",
            "~~~~~~~~~~~~~~~~~~~~~~~~~~~~~~~~~~~~~~~~~~~~~~~~~~~~~~~~~~~~~\n",
            "cumulative reward @ 20: 239.000000\n",
            "clicks hr ndcg @ 20 : 0.063649, 0.024516\n",
            "purchase hr and ndcg @20 : 0.071163, 0.027763\n",
            "off-line corrected evaluation (click_ng,purchase_ng)@10: 0.022937, 0.029693\n",
            "#############################################################\n",
            "the loss in 3200th batch is: 7.121996\n",
            "the loss in 3400th batch is: 6.844629\n",
            "the loss in 3600th batch is: 6.898340\n",
            "the loss in 3800th batch is: 6.988120\n",
            "the loss in 4000th batch is: 6.732813\n",
            "#############################################################\n",
            "total clicks: 707, total purchase:3232\n",
            "~~~~~~~~~~~~~~~~~~~~~~~~~~~~~~~~~~~~~~~~~~~~~~~~~~~~~~~~~~~~~\n",
            "cumulative reward @ 5: 77.200000\n",
            "clicks hr ndcg @ 5 : 0.022631, 0.013182\n",
            "purchase hr and ndcg @5 : 0.022896, 0.013746\n",
            "~~~~~~~~~~~~~~~~~~~~~~~~~~~~~~~~~~~~~~~~~~~~~~~~~~~~~~~~~~~~~\n",
            "cumulative reward @ 10: 127.600000\n",
            "clicks hr ndcg @ 10 : 0.032532, 0.016343\n",
            "purchase hr and ndcg @10 : 0.038057, 0.018657\n",
            "~~~~~~~~~~~~~~~~~~~~~~~~~~~~~~~~~~~~~~~~~~~~~~~~~~~~~~~~~~~~~\n",
            "cumulative reward @ 15: 174.200000\n",
            "clicks hr ndcg @ 15 : 0.050919, 0.021189\n",
            "purchase hr and ndcg @15 : 0.051671, 0.022284\n",
            "~~~~~~~~~~~~~~~~~~~~~~~~~~~~~~~~~~~~~~~~~~~~~~~~~~~~~~~~~~~~~\n",
            "cumulative reward @ 20: 225.800000\n",
            "clicks hr ndcg @ 20 : 0.062235, 0.023844\n",
            "purchase hr and ndcg @20 : 0.067141, 0.025909\n",
            "off-line corrected evaluation (click_ng,purchase_ng)@10: 0.016283, 0.023290\n",
            "#############################################################\n",
            "the loss in 4200th batch is: 6.728826\n",
            "the loss in 4400th batch is: 6.650028\n",
            "the loss in 4600th batch is: 6.514863\n",
            "the loss in 4800th batch is: 6.416304\n",
            "the loss in 5000th batch is: 6.624481\n",
            "#############################################################\n",
            "total clicks: 707, total purchase:3232\n",
            "~~~~~~~~~~~~~~~~~~~~~~~~~~~~~~~~~~~~~~~~~~~~~~~~~~~~~~~~~~~~~\n",
            "cumulative reward @ 5: 84.400000\n",
            "clicks hr ndcg @ 5 : 0.024045, 0.013704\n",
            "purchase hr and ndcg @5 : 0.025062, 0.015429\n",
            "~~~~~~~~~~~~~~~~~~~~~~~~~~~~~~~~~~~~~~~~~~~~~~~~~~~~~~~~~~~~~\n",
            "cumulative reward @ 10: 136.000000\n",
            "clicks hr ndcg @ 10 : 0.042433, 0.019608\n",
            "purchase hr and ndcg @10 : 0.040223, 0.020309\n",
            "~~~~~~~~~~~~~~~~~~~~~~~~~~~~~~~~~~~~~~~~~~~~~~~~~~~~~~~~~~~~~\n",
            "cumulative reward @ 15: 185.400000\n",
            "clicks hr ndcg @ 15 : 0.052334, 0.022260\n",
            "purchase hr and ndcg @15 : 0.055074, 0.024187\n",
            "~~~~~~~~~~~~~~~~~~~~~~~~~~~~~~~~~~~~~~~~~~~~~~~~~~~~~~~~~~~~~\n",
            "cumulative reward @ 20: 229.400000\n",
            "clicks hr ndcg @ 20 : 0.066478, 0.025543\n",
            "purchase hr and ndcg @20 : 0.068069, 0.027254\n",
            "off-line corrected evaluation (click_ng,purchase_ng)@10: 0.019191, 0.018694\n",
            "#############################################################\n",
            "the loss in 5200th batch is: 6.357757\n",
            "the loss in 5400th batch is: 6.424768\n",
            "the loss in 5600th batch is: 6.449432\n",
            "the loss in 5800th batch is: 6.359607\n",
            "the loss in 6000th batch is: 5.695057\n",
            "#############################################################\n",
            "total clicks: 707, total purchase:3232\n",
            "~~~~~~~~~~~~~~~~~~~~~~~~~~~~~~~~~~~~~~~~~~~~~~~~~~~~~~~~~~~~~\n",
            "cumulative reward @ 5: 72.600000\n",
            "clicks hr ndcg @ 5 : 0.018388, 0.011478\n",
            "purchase hr and ndcg @5 : 0.021658, 0.013210\n",
            "~~~~~~~~~~~~~~~~~~~~~~~~~~~~~~~~~~~~~~~~~~~~~~~~~~~~~~~~~~~~~\n",
            "cumulative reward @ 10: 108.400000\n",
            "clicks hr ndcg @ 10 : 0.038190, 0.017987\n",
            "purchase hr and ndcg @10 : 0.031869, 0.016358\n",
            "~~~~~~~~~~~~~~~~~~~~~~~~~~~~~~~~~~~~~~~~~~~~~~~~~~~~~~~~~~~~~\n",
            "cumulative reward @ 15: 165.400000\n",
            "clicks hr ndcg @ 15 : 0.059406, 0.023528\n",
            "purchase hr and ndcg @15 : 0.048577, 0.020812\n",
            "~~~~~~~~~~~~~~~~~~~~~~~~~~~~~~~~~~~~~~~~~~~~~~~~~~~~~~~~~~~~~\n",
            "cumulative reward @ 20: 214.000000\n",
            "clicks hr ndcg @ 20 : 0.063649, 0.024566\n",
            "purchase hr and ndcg @20 : 0.063428, 0.024321\n",
            "off-line corrected evaluation (click_ng,purchase_ng)@10: 0.018528, 0.022149\n",
            "#############################################################\n"
          ]
        }
      ],
      "source": [
        "!python 'Scripts/SA2C.py' --model=GRU --data='Datasets/Amazon'"
      ]
    },
    {
      "cell_type": "code",
      "execution_count": null,
      "metadata": {
        "colab": {
          "background_save": true,
          "base_uri": "https://localhost:8080/"
        },
        "id": "OSRciHj4eKjm",
        "outputId": "6ee8d55e-9081-4dfe-a9fd-8a6b420244a1"
      },
      "outputs": [
        {
          "name": "stdout",
          "output_type": "stream",
          "text": [
            "Scripts/SA2C.py:187: UserWarning: `tf.layers.dropout` is deprecated and will be removed in a future version. Please use `tf.keras.layers.Dropout` instead.\n",
            "  self.seq = tf.compat.v1.layers.dropout(self.seq,\n",
            "2022-12-11 20:57:03.626929: E tensorflow/stream_executor/cuda/cuda_driver.cc:271] failed call to cuInit: CUDA_ERROR_NO_DEVICE: no CUDA-capable device is detected\n",
            "/content/drive/Othercomputers/My-MacBook-Air/590-Final-Project/Scripts/SASRecModules.py:142: UserWarning: `tf.layers.dense` is deprecated and will be removed in a future version. Please use `tf.keras.layers.Dense` instead.\n",
            "  Q = tf.compat.v1.layers.dense(queries, num_units, activation=None) # (N, T_q, C)\n",
            "/content/drive/Othercomputers/My-MacBook-Air/590-Final-Project/Scripts/SASRecModules.py:143: UserWarning: `tf.layers.dense` is deprecated and will be removed in a future version. Please use `tf.keras.layers.Dense` instead.\n",
            "  K = tf.compat.v1.layers.dense(keys, num_units, activation=None) # (N, T_k, C)\n",
            "/content/drive/Othercomputers/My-MacBook-Air/590-Final-Project/Scripts/SASRecModules.py:144: UserWarning: `tf.layers.dense` is deprecated and will be removed in a future version. Please use `tf.keras.layers.Dense` instead.\n",
            "  V = tf.compat.v1.layers.dense(keys, num_units, activation=None) # (N, T_k, C)\n",
            "/content/drive/Othercomputers/My-MacBook-Air/590-Final-Project/Scripts/SASRecModules.py:184: UserWarning: `tf.layers.dropout` is deprecated and will be removed in a future version. Please use `tf.keras.layers.Dropout` instead.\n",
            "  outputs = tf.compat.v1.layers.dropout(outputs, rate=dropout_rate, training=tf.convert_to_tensor(value=is_training))\n",
            "/content/drive/Othercomputers/My-MacBook-Air/590-Final-Project/Scripts/SASRecModules.py:223: UserWarning: `tf.layers.conv1d` is deprecated and will be removed in a future version. Please Use `tf.keras.layers.Conv1D` instead.\n",
            "  outputs = tf.compat.v1.layers.conv1d(**params)\n",
            "/content/drive/Othercomputers/My-MacBook-Air/590-Final-Project/Scripts/SASRecModules.py:224: UserWarning: `tf.layers.dropout` is deprecated and will be removed in a future version. Please use `tf.keras.layers.Dropout` instead.\n",
            "  outputs = tf.compat.v1.layers.dropout(outputs, rate=dropout_rate, training=tf.convert_to_tensor(value=is_training))\n",
            "/content/drive/Othercomputers/My-MacBook-Air/590-Final-Project/Scripts/SASRecModules.py:228: UserWarning: `tf.layers.conv1d` is deprecated and will be removed in a future version. Please Use `tf.keras.layers.Conv1D` instead.\n",
            "  outputs = tf.compat.v1.layers.conv1d(**params)\n",
            "/content/drive/Othercomputers/My-MacBook-Air/590-Final-Project/Scripts/SASRecModules.py:229: UserWarning: `tf.layers.dropout` is deprecated and will be removed in a future version. Please use `tf.keras.layers.Dropout` instead.\n",
            "  outputs = tf.compat.v1.layers.dropout(outputs, rate=dropout_rate, training=tf.convert_to_tensor(value=is_training))\n",
            "Scripts/SA2C.py:215: UserWarning: `tf.layers.dense` is deprecated and will be removed in a future version. Please use `tf.keras.layers.Dense` instead.\n",
            "  self.output1 = tf.compat.v1.layers.dense(self.states_hidden, self.item_num,\n",
            "Scripts/SA2C.py:218: UserWarning: `tf.layers.dense` is deprecated and will be removed in a future version. Please use `tf.keras.layers.Dense` instead.\n",
            "  self.output2= tf.compat.v1.layers.dense(self.states_hidden, self.item_num,\n",
            "the loss in 200th batch is: 7.957642\n",
            "the loss in 400th batch is: 7.644780\n",
            "the loss in 600th batch is: 7.562953\n",
            "the loss in 800th batch is: 7.255232\n",
            "the loss in 1000th batch is: 7.137620\n",
            "the loss in 1200th batch is: 7.068863\n",
            "the loss in 1400th batch is: 6.904280\n",
            "the loss in 1600th batch is: 6.990003\n",
            "the loss in 1800th batch is: 6.667575\n",
            "the loss in 2000th batch is: 6.452708\n",
            "the loss in 2200th batch is: 6.580819\n",
            "the loss in 2400th batch is: 6.375567\n",
            "the loss in 2600th batch is: 6.327889\n",
            "the loss in 2800th batch is: 6.282273\n",
            "the loss in 3000th batch is: 6.211148\n",
            "the loss in 3200th batch is: 6.357085\n",
            "the loss in 3400th batch is: 6.143676\n",
            "the loss in 3600th batch is: 6.205361\n",
            "the loss in 3800th batch is: 5.987257\n",
            "the loss in 4000th batch is: 6.124306\n",
            "the loss in 4200th batch is: 6.197706\n",
            "the loss in 4400th batch is: 6.184323\n",
            "the loss in 4600th batch is: 6.130953\n",
            "the loss in 4800th batch is: 6.054989\n",
            "the loss in 5000th batch is: 5.888045\n",
            "the loss in 5200th batch is: 6.028693\n",
            "the loss in 5400th batch is: 5.933417\n",
            "the loss in 5600th batch is: 5.626925\n",
            "the loss in 5800th batch is: 5.964196\n",
            "the loss in 6000th batch is: 5.574939\n",
            "#############################################################\n",
            "total clicks: 707, total purchase:3232\n",
            "~~~~~~~~~~~~~~~~~~~~~~~~~~~~~~~~~~~~~~~~~~~~~~~~~~~~~~~~~~~~~\n",
            "cumulative reward @ 5: 89.400000\n",
            "clicks hr ndcg @ 5 : 0.024045, 0.014271\n",
            "purchase hr and ndcg @5 : 0.026609, 0.015464\n",
            "~~~~~~~~~~~~~~~~~~~~~~~~~~~~~~~~~~~~~~~~~~~~~~~~~~~~~~~~~~~~~\n",
            "cumulative reward @ 10: 142.600000\n",
            "clicks hr ndcg @ 10 : 0.039604, 0.019182\n",
            "purchase hr and ndcg @10 : 0.042389, 0.020581\n",
            "~~~~~~~~~~~~~~~~~~~~~~~~~~~~~~~~~~~~~~~~~~~~~~~~~~~~~~~~~~~~~\n",
            "cumulative reward @ 15: 190.200000\n",
            "clicks hr ndcg @ 15 : 0.050919, 0.022187\n",
            "purchase hr and ndcg @15 : 0.056621, 0.024361\n",
            "~~~~~~~~~~~~~~~~~~~~~~~~~~~~~~~~~~~~~~~~~~~~~~~~~~~~~~~~~~~~~\n",
            "cumulative reward @ 20: 246.600000\n",
            "clicks hr ndcg @ 20 : 0.060820, 0.024583\n",
            "purchase hr and ndcg @20 : 0.073639, 0.028346\n",
            "off-line corrected evaluation (click_ng,purchase_ng)@10: 0.018825, 0.025144\n",
            "#############################################################\n"
          ]
        }
      ],
      "source": [
        "!python 'Scripts/SA2C.py' --model=SASRec --data='Datasets/Amazon'"
      ]
    },
    {
      "cell_type": "code",
      "execution_count": null,
      "metadata": {
        "colab": {
          "background_save": true,
          "base_uri": "https://localhost:8080/"
        },
        "id": "_ALbsHfL-NQy",
        "outputId": "b60bf521-5983-4881-d19e-4eb1a26b0789"
      },
      "outputs": [
        {
          "name": "stdout",
          "output_type": "stream",
          "text": [
            "Scripts/SA2C.py:151: UserWarning: `tf.layers.dropout` is deprecated and will be removed in a future version. Please use `tf.keras.layers.Dropout` instead.\n",
            "  self.states_hidden = tf.compat.v1.layers.dropout(self.final,\n",
            "2022-12-11 22:00:43.910708: E tensorflow/stream_executor/cuda/cuda_driver.cc:271] failed call to cuInit: CUDA_ERROR_NO_DEVICE: no CUDA-capable device is detected\n",
            "Scripts/SA2C.py:215: UserWarning: `tf.layers.dense` is deprecated and will be removed in a future version. Please use `tf.keras.layers.Dense` instead.\n",
            "  self.output1 = tf.compat.v1.layers.dense(self.states_hidden, self.item_num,\n",
            "Scripts/SA2C.py:218: UserWarning: `tf.layers.dense` is deprecated and will be removed in a future version. Please use `tf.keras.layers.Dense` instead.\n",
            "  self.output2= tf.compat.v1.layers.dense(self.states_hidden, self.item_num,\n",
            "the loss in 200th batch is: 8.204977\n",
            "the loss in 400th batch is: 7.937816\n",
            "the loss in 600th batch is: 7.690482\n",
            "the loss in 800th batch is: 7.578688\n",
            "the loss in 1000th batch is: 7.667527\n",
            "the loss in 1200th batch is: 7.515732\n",
            "the loss in 1400th batch is: 7.318428\n",
            "the loss in 1600th batch is: 6.960927\n",
            "the loss in 1800th batch is: 7.087343\n",
            "the loss in 2000th batch is: 7.246781\n",
            "the loss in 2200th batch is: 6.597047\n",
            "the loss in 2400th batch is: 6.754862\n",
            "the loss in 2600th batch is: 6.677123\n",
            "the loss in 2800th batch is: 6.606326\n",
            "the loss in 3000th batch is: 6.347077\n",
            "the loss in 3200th batch is: 6.566613\n",
            "the loss in 3400th batch is: 6.278234\n",
            "the loss in 3600th batch is: 5.942878\n",
            "the loss in 3800th batch is: 6.252560\n",
            "the loss in 4000th batch is: 6.115813\n",
            "the loss in 4200th batch is: 6.236553\n",
            "the loss in 4400th batch is: 6.089887\n",
            "the loss in 4600th batch is: 5.909048\n",
            "the loss in 4800th batch is: 6.100355\n",
            "the loss in 5000th batch is: 5.568839\n",
            "the loss in 5200th batch is: 6.121546\n",
            "the loss in 5400th batch is: 5.941565\n",
            "the loss in 5600th batch is: 5.852986\n",
            "the loss in 5800th batch is: 5.920796\n",
            "the loss in 6000th batch is: 5.747788\n",
            "#############################################################\n",
            "total clicks: 707, total purchase:3232\n",
            "~~~~~~~~~~~~~~~~~~~~~~~~~~~~~~~~~~~~~~~~~~~~~~~~~~~~~~~~~~~~~\n",
            "cumulative reward @ 5: 71.400000\n",
            "clicks hr ndcg @ 5 : 0.024045, 0.015500\n",
            "purchase hr and ndcg @5 : 0.021040, 0.011621\n",
            "~~~~~~~~~~~~~~~~~~~~~~~~~~~~~~~~~~~~~~~~~~~~~~~~~~~~~~~~~~~~~\n",
            "cumulative reward @ 10: 141.600000\n",
            "clicks hr ndcg @ 10 : 0.039604, 0.020563\n",
            "purchase hr and ndcg @10 : 0.042079, 0.018490\n",
            "~~~~~~~~~~~~~~~~~~~~~~~~~~~~~~~~~~~~~~~~~~~~~~~~~~~~~~~~~~~~~\n",
            "cumulative reward @ 15: 179.400000\n",
            "clicks hr ndcg @ 15 : 0.052334, 0.023852\n",
            "purchase hr and ndcg @15 : 0.053218, 0.021473\n",
            "~~~~~~~~~~~~~~~~~~~~~~~~~~~~~~~~~~~~~~~~~~~~~~~~~~~~~~~~~~~~~\n",
            "cumulative reward @ 20: 221.600000\n",
            "clicks hr ndcg @ 20 : 0.060820, 0.025889\n",
            "purchase hr and ndcg @20 : 0.065903, 0.024479\n",
            "off-line corrected evaluation (click_ng,purchase_ng)@10: 0.018488, 0.018809\n",
            "#############################################################\n"
          ]
        }
      ],
      "source": [
        "!python 'Scripts/SA2C.py' --model=Caser --data='Datasets/Amazon'"
      ]
    },
    {
      "cell_type": "code",
      "execution_count": 5,
      "metadata": {
        "id": "Qo7_C4D1-SQv",
        "colab": {
          "base_uri": "https://localhost:8080/"
        },
        "outputId": "4e726f9b-2c0d-447b-8ab9-de014c3b6a62"
      },
      "outputs": [
        {
          "output_type": "stream",
          "name": "stdout",
          "text": [
            "Scripts/SA2C.py:215: UserWarning: `tf.layers.dense` is deprecated and will be removed in a future version. Please use `tf.keras.layers.Dense` instead.\n",
            "  self.output1 = tf.compat.v1.layers.dense(self.states_hidden, self.item_num,\n",
            "Scripts/SA2C.py:218: UserWarning: `tf.layers.dense` is deprecated and will be removed in a future version. Please use `tf.keras.layers.Dense` instead.\n",
            "  self.output2= tf.compat.v1.layers.dense(self.states_hidden, self.item_num,\n",
            "2022-12-12 08:43:10.419629: E tensorflow/stream_executor/cuda/cuda_driver.cc:271] failed call to cuInit: CUDA_ERROR_NO_DEVICE: no CUDA-capable device is detected\n",
            "the loss in 200th batch is: 9.240792\n",
            "the loss in 400th batch is: 8.918018\n",
            "the loss in 600th batch is: 8.449917\n",
            "the loss in 800th batch is: 8.100245\n",
            "the loss in 1000th batch is: 7.768199\n",
            "the loss in 1200th batch is: 7.313355\n",
            "the loss in 1400th batch is: 7.412340\n",
            "the loss in 1600th batch is: 6.830490\n",
            "the loss in 1800th batch is: 6.845033\n",
            "the loss in 2000th batch is: 6.548749\n",
            "the loss in 2200th batch is: 6.353375\n",
            "the loss in 2400th batch is: 6.180037\n",
            "the loss in 2600th batch is: 6.124239\n",
            "the loss in 2800th batch is: 6.040066\n",
            "the loss in 3000th batch is: 6.386345\n",
            "the loss in 3200th batch is: 5.875453\n",
            "the loss in 3400th batch is: 6.168670\n",
            "the loss in 3600th batch is: 6.149321\n",
            "the loss in 3800th batch is: 5.957331\n",
            "the loss in 4000th batch is: 5.839019\n",
            "the loss in 4200th batch is: 5.829978\n",
            "the loss in 4400th batch is: 5.979746\n",
            "the loss in 4600th batch is: 5.908340\n",
            "the loss in 4800th batch is: 5.648476\n",
            "the loss in 5000th batch is: 5.340608\n",
            "the loss in 5200th batch is: 5.663543\n",
            "the loss in 5400th batch is: 5.908145\n",
            "the loss in 5600th batch is: 5.473774\n",
            "the loss in 5800th batch is: 5.528563\n",
            "the loss in 6000th batch is: 5.598750\n",
            "#############################################################\n",
            "total clicks: 707, total purchase:3232\n",
            "~~~~~~~~~~~~~~~~~~~~~~~~~~~~~~~~~~~~~~~~~~~~~~~~~~~~~~~~~~~~~\n",
            "cumulative reward @ 5: 84.400000\n",
            "clicks hr ndcg @ 5 : 0.024045, 0.014075\n",
            "purchase hr and ndcg @5 : 0.025062, 0.014832\n",
            "~~~~~~~~~~~~~~~~~~~~~~~~~~~~~~~~~~~~~~~~~~~~~~~~~~~~~~~~~~~~~\n",
            "cumulative reward @ 10: 144.400000\n",
            "clicks hr ndcg @ 10 : 0.038190, 0.018618\n",
            "purchase hr and ndcg @10 : 0.043007, 0.020603\n",
            "~~~~~~~~~~~~~~~~~~~~~~~~~~~~~~~~~~~~~~~~~~~~~~~~~~~~~~~~~~~~~\n",
            "cumulative reward @ 15: 185.200000\n",
            "clicks hr ndcg @ 15 : 0.057992, 0.023903\n",
            "purchase hr and ndcg @15 : 0.054765, 0.023729\n",
            "~~~~~~~~~~~~~~~~~~~~~~~~~~~~~~~~~~~~~~~~~~~~~~~~~~~~~~~~~~~~~\n",
            "cumulative reward @ 20: 244.600000\n",
            "clicks hr ndcg @ 20 : 0.060820, 0.024588\n",
            "purchase hr and ndcg @20 : 0.073020, 0.027998\n",
            "off-line corrected evaluation (click_ng,purchase_ng)@10: 0.018532, 0.024496\n",
            "#############################################################\n"
          ]
        }
      ],
      "source": [
        "!python 'Scripts/SA2C.py' --model=NItNet --data='Datasets/Amazon'"
      ]
    }
  ],
  "metadata": {
    "colab": {
      "provenance": []
    },
    "gpuClass": "standard",
    "kernelspec": {
      "display_name": "Python 3",
      "name": "python3"
    },
    "language_info": {
      "name": "python"
    }
  },
  "nbformat": 4,
  "nbformat_minor": 0
}
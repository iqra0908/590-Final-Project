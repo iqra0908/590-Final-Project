{
  "nbformat": 4,
  "nbformat_minor": 0,
  "metadata": {
    "colab": {
      "provenance": []
    },
    "kernelspec": {
      "name": "python3",
      "display_name": "Python 3"
    },
    "language_info": {
      "name": "python"
    },
    "gpuClass": "standard"
  },
  "cells": [
    {
      "cell_type": "markdown",
      "source": [
        "#Duke University\n",
        "\n",
        "Course: AIPI590 (Deep Reinforcement Learning Applications)\n",
        "\n",
        "Fall 2022:\n"
      ],
      "metadata": {
        "id": "FdwEUZ4-MRVE"
      }
    },
    {
      "cell_type": "markdown",
      "source": [
        "# Final Project: Product recommender for E-commerce\n",
        "\n",
        "**Dataset**: [Amazon Clothing and Jewelry](http://snap.stanford.edu/data/amazon/productGraph/categoryFiles/reviews_Clothing_Shoes_and_Jewelry_5.json.gz)\n",
        "\n",
        "**Metric**: NDCG"
      ],
      "metadata": {
        "id": "yS7LIAXQMcTH"
      }
    },
    {
      "cell_type": "markdown",
      "source": [
        "# Dataset Explanation\n",
        "\n",
        "**Description**:\n",
        "\n",
        "This dataset contains product reviews and metadata from Amazon, including 142.8 million reviews spanning May 1996 - July 2014.\n",
        "\n",
        "This dataset includes reviews (ratings, text, helpfulness votes), product metadata (descriptions, category information, price, brand, and image features), and links (also viewed/also bought graphs).\n",
        "\n",
        "Finally, this data have been reduced to extract the 5-core, such that each of the remaining users and items have 5 reviews each.\n",
        "\n",
        "\n",
        "**Basic Statistics**:\n",
        "\n",
        "Number of users:\t39,387\\\n",
        "Number of items:\t23,033\\\n",
        "Number of transactions:\t278,677\n",
        "\n",
        "**Example**\n",
        "```\n",
        "{\n",
        "  \"reviewerID\": \"A2SUAM1J3GNN3B\",\n",
        "  \"asin\": \"0000013714\",\n",
        "  \"reviewerName\": \"J. McDonald\",\n",
        "  \"helpful\": [2, 3],\n",
        "  \"reviewText\": \"I bought this for my husband who plays the piano.  He is having a wonderful time playing these old hymns.  The music  is at times hard to read because we think the book was published for singing from more than playing from.  Great purchase though!\",\n",
        "  \"overall\": 5.0,\n",
        "  \"summary\": \"Heavenly Highway Hymns\",\n",
        "  \"unixReviewTime\": 1252800000,\n",
        "  \"reviewTime\": \"09 13, 2009\"\n",
        "}\n",
        "```\n",
        "where\n",
        "\n",
        "- reviewerID - ID of the reviewer, e.g. A2SUAM1J3GNN3B\n",
        "- asin - ID of the product, e.g. 0000013714\n",
        "- reviewerName - name of the reviewer\n",
        "- helpful - helpfulness rating of the review, e.g. 2/3\n",
        "- reviewText - text of the review\n",
        "- overall - rating of the product\n",
        "- summary - summary of the review\n",
        "- unixReviewTime - time of the review (unix time)\n",
        "- reviewTime - time of the review (raw)\n",
        "\n",
        "\n",
        "More details can be found here: http://jmcauley.ucsd.edu/data/amazon/links.html"
      ],
      "metadata": {
        "id": "KmTkRTkWNghz"
      }
    },
    {
      "cell_type": "markdown",
      "source": [
        "# Imports\n"
      ],
      "metadata": {
        "id": "XX3KVCyCSR1D"
      }
    },
    {
      "cell_type": "code",
      "source": [
        "import pandas as pd\n",
        "import os"
      ],
      "metadata": {
        "id": "E0NiVBL6ScxS"
      },
      "execution_count": 9,
      "outputs": []
    },
    {
      "cell_type": "markdown",
      "source": [
        "#Install"
      ],
      "metadata": {
        "id": "ris_j8n7SUST"
      }
    },
    {
      "cell_type": "code",
      "source": [
        "! pip install pandas trfl"
      ],
      "metadata": {
        "id": "9TN6Rwa_SZNW"
      },
      "execution_count": null,
      "outputs": []
    },
    {
      "cell_type": "markdown",
      "source": [
        "# Loading Data\n",
        "\n",
        "Download the data from link mentioned previously into a Datasets folder in this repository. "
      ],
      "metadata": {
        "id": "qfbRwsZdPQ7y"
      }
    },
    {
      "cell_type": "code",
      "source": [
        "\n",
        "amazon = pd.read_json('Datasets/Amazon/reviews_Clothing_Shoes_and_Jewelry_5.json.gz',compression='gzip',lines=True)\n",
        "amazon.head()"
      ],
      "metadata": {
        "colab": {
          "base_uri": "https://localhost:8080/",
          "height": 424
        },
        "id": "AC21xwFBPl8U",
        "outputId": "dd2b08a1-91b8-4c1e-fdbf-945df519a83c"
      },
      "execution_count": 56,
      "outputs": [
        {
          "output_type": "execute_result",
          "data": {
            "text/plain": [
              "       reviewerID        asin                 reviewerName helpful  \\\n",
              "0  A1KLRMWW2FWPL4  0000031887  Amazon Customer \"cameramom\"  [0, 0]   \n",
              "1  A2G5TCU2WDFZ65  0000031887              Amazon Customer  [0, 0]   \n",
              "2  A1RLQXYNCMWRWN  0000031887                       Carola  [0, 0]   \n",
              "3   A8U3FAMSJVHS5  0000031887                      Caromcg  [0, 0]   \n",
              "4  A3GEOILWLK86XM  0000031887                           CJ  [0, 0]   \n",
              "\n",
              "                                          reviewText  overall  \\\n",
              "0  This is a great tutu and at a really great pri...        5   \n",
              "1  I bought this for my 4 yr old daughter for dan...        5   \n",
              "2  What can I say... my daughters have it in oran...        5   \n",
              "3  We bought several tutus at once, and they are ...        5   \n",
              "4  Thank you Halo Heaven great product for Little...        5   \n",
              "\n",
              "                         summary  unixReviewTime   reviewTime  \n",
              "0  Great tutu-  not cheaply made      1297468800  02 12, 2011  \n",
              "1                    Very Cute!!      1358553600  01 19, 2013  \n",
              "2       I have buy more than one      1357257600   01 4, 2013  \n",
              "3               Adorable, Sturdy      1398556800  04 27, 2014  \n",
              "4        Grammy's Angels Love it      1394841600  03 15, 2014  "
            ],
            "text/html": [
              "\n",
              "  <div id=\"df-ca371862-321b-420d-ba44-2eb097ec28f8\">\n",
              "    <div class=\"colab-df-container\">\n",
              "      <div>\n",
              "<style scoped>\n",
              "    .dataframe tbody tr th:only-of-type {\n",
              "        vertical-align: middle;\n",
              "    }\n",
              "\n",
              "    .dataframe tbody tr th {\n",
              "        vertical-align: top;\n",
              "    }\n",
              "\n",
              "    .dataframe thead th {\n",
              "        text-align: right;\n",
              "    }\n",
              "</style>\n",
              "<table border=\"1\" class=\"dataframe\">\n",
              "  <thead>\n",
              "    <tr style=\"text-align: right;\">\n",
              "      <th></th>\n",
              "      <th>reviewerID</th>\n",
              "      <th>asin</th>\n",
              "      <th>reviewerName</th>\n",
              "      <th>helpful</th>\n",
              "      <th>reviewText</th>\n",
              "      <th>overall</th>\n",
              "      <th>summary</th>\n",
              "      <th>unixReviewTime</th>\n",
              "      <th>reviewTime</th>\n",
              "    </tr>\n",
              "  </thead>\n",
              "  <tbody>\n",
              "    <tr>\n",
              "      <th>0</th>\n",
              "      <td>A1KLRMWW2FWPL4</td>\n",
              "      <td>0000031887</td>\n",
              "      <td>Amazon Customer \"cameramom\"</td>\n",
              "      <td>[0, 0]</td>\n",
              "      <td>This is a great tutu and at a really great pri...</td>\n",
              "      <td>5</td>\n",
              "      <td>Great tutu-  not cheaply made</td>\n",
              "      <td>1297468800</td>\n",
              "      <td>02 12, 2011</td>\n",
              "    </tr>\n",
              "    <tr>\n",
              "      <th>1</th>\n",
              "      <td>A2G5TCU2WDFZ65</td>\n",
              "      <td>0000031887</td>\n",
              "      <td>Amazon Customer</td>\n",
              "      <td>[0, 0]</td>\n",
              "      <td>I bought this for my 4 yr old daughter for dan...</td>\n",
              "      <td>5</td>\n",
              "      <td>Very Cute!!</td>\n",
              "      <td>1358553600</td>\n",
              "      <td>01 19, 2013</td>\n",
              "    </tr>\n",
              "    <tr>\n",
              "      <th>2</th>\n",
              "      <td>A1RLQXYNCMWRWN</td>\n",
              "      <td>0000031887</td>\n",
              "      <td>Carola</td>\n",
              "      <td>[0, 0]</td>\n",
              "      <td>What can I say... my daughters have it in oran...</td>\n",
              "      <td>5</td>\n",
              "      <td>I have buy more than one</td>\n",
              "      <td>1357257600</td>\n",
              "      <td>01 4, 2013</td>\n",
              "    </tr>\n",
              "    <tr>\n",
              "      <th>3</th>\n",
              "      <td>A8U3FAMSJVHS5</td>\n",
              "      <td>0000031887</td>\n",
              "      <td>Caromcg</td>\n",
              "      <td>[0, 0]</td>\n",
              "      <td>We bought several tutus at once, and they are ...</td>\n",
              "      <td>5</td>\n",
              "      <td>Adorable, Sturdy</td>\n",
              "      <td>1398556800</td>\n",
              "      <td>04 27, 2014</td>\n",
              "    </tr>\n",
              "    <tr>\n",
              "      <th>4</th>\n",
              "      <td>A3GEOILWLK86XM</td>\n",
              "      <td>0000031887</td>\n",
              "      <td>CJ</td>\n",
              "      <td>[0, 0]</td>\n",
              "      <td>Thank you Halo Heaven great product for Little...</td>\n",
              "      <td>5</td>\n",
              "      <td>Grammy's Angels Love it</td>\n",
              "      <td>1394841600</td>\n",
              "      <td>03 15, 2014</td>\n",
              "    </tr>\n",
              "  </tbody>\n",
              "</table>\n",
              "</div>\n",
              "      <button class=\"colab-df-convert\" onclick=\"convertToInteractive('df-ca371862-321b-420d-ba44-2eb097ec28f8')\"\n",
              "              title=\"Convert this dataframe to an interactive table.\"\n",
              "              style=\"display:none;\">\n",
              "        \n",
              "  <svg xmlns=\"http://www.w3.org/2000/svg\" height=\"24px\"viewBox=\"0 0 24 24\"\n",
              "       width=\"24px\">\n",
              "    <path d=\"M0 0h24v24H0V0z\" fill=\"none\"/>\n",
              "    <path d=\"M18.56 5.44l.94 2.06.94-2.06 2.06-.94-2.06-.94-.94-2.06-.94 2.06-2.06.94zm-11 1L8.5 8.5l.94-2.06 2.06-.94-2.06-.94L8.5 2.5l-.94 2.06-2.06.94zm10 10l.94 2.06.94-2.06 2.06-.94-2.06-.94-.94-2.06-.94 2.06-2.06.94z\"/><path d=\"M17.41 7.96l-1.37-1.37c-.4-.4-.92-.59-1.43-.59-.52 0-1.04.2-1.43.59L10.3 9.45l-7.72 7.72c-.78.78-.78 2.05 0 2.83L4 21.41c.39.39.9.59 1.41.59.51 0 1.02-.2 1.41-.59l7.78-7.78 2.81-2.81c.8-.78.8-2.07 0-2.86zM5.41 20L4 18.59l7.72-7.72 1.47 1.35L5.41 20z\"/>\n",
              "  </svg>\n",
              "      </button>\n",
              "      \n",
              "  <style>\n",
              "    .colab-df-container {\n",
              "      display:flex;\n",
              "      flex-wrap:wrap;\n",
              "      gap: 12px;\n",
              "    }\n",
              "\n",
              "    .colab-df-convert {\n",
              "      background-color: #E8F0FE;\n",
              "      border: none;\n",
              "      border-radius: 50%;\n",
              "      cursor: pointer;\n",
              "      display: none;\n",
              "      fill: #1967D2;\n",
              "      height: 32px;\n",
              "      padding: 0 0 0 0;\n",
              "      width: 32px;\n",
              "    }\n",
              "\n",
              "    .colab-df-convert:hover {\n",
              "      background-color: #E2EBFA;\n",
              "      box-shadow: 0px 1px 2px rgba(60, 64, 67, 0.3), 0px 1px 3px 1px rgba(60, 64, 67, 0.15);\n",
              "      fill: #174EA6;\n",
              "    }\n",
              "\n",
              "    [theme=dark] .colab-df-convert {\n",
              "      background-color: #3B4455;\n",
              "      fill: #D2E3FC;\n",
              "    }\n",
              "\n",
              "    [theme=dark] .colab-df-convert:hover {\n",
              "      background-color: #434B5C;\n",
              "      box-shadow: 0px 1px 3px 1px rgba(0, 0, 0, 0.15);\n",
              "      filter: drop-shadow(0px 1px 2px rgba(0, 0, 0, 0.3));\n",
              "      fill: #FFFFFF;\n",
              "    }\n",
              "  </style>\n",
              "\n",
              "      <script>\n",
              "        const buttonEl =\n",
              "          document.querySelector('#df-ca371862-321b-420d-ba44-2eb097ec28f8 button.colab-df-convert');\n",
              "        buttonEl.style.display =\n",
              "          google.colab.kernel.accessAllowed ? 'block' : 'none';\n",
              "\n",
              "        async function convertToInteractive(key) {\n",
              "          const element = document.querySelector('#df-ca371862-321b-420d-ba44-2eb097ec28f8');\n",
              "          const dataTable =\n",
              "            await google.colab.kernel.invokeFunction('convertToInteractive',\n",
              "                                                     [key], {});\n",
              "          if (!dataTable) return;\n",
              "\n",
              "          const docLinkHtml = 'Like what you see? Visit the ' +\n",
              "            '<a target=\"_blank\" href=https://colab.research.google.com/notebooks/data_table.ipynb>data table notebook</a>'\n",
              "            + ' to learn more about interactive tables.';\n",
              "          element.innerHTML = '';\n",
              "          dataTable['output_type'] = 'display_data';\n",
              "          await google.colab.output.renderOutput(dataTable, element);\n",
              "          const docLink = document.createElement('div');\n",
              "          docLink.innerHTML = docLinkHtml;\n",
              "          element.appendChild(docLink);\n",
              "        }\n",
              "      </script>\n",
              "    </div>\n",
              "  </div>\n",
              "  "
            ]
          },
          "metadata": {},
          "execution_count": 56
        }
      ]
    },
    {
      "cell_type": "code",
      "source": [
        "print(len(amazon))\n",
        "print(len(amazon.reviewerID.unique()))\n",
        "print(len(amazon.asin.unique()))"
      ],
      "metadata": {
        "colab": {
          "base_uri": "https://localhost:8080/"
        },
        "id": "7x02sIGoh-Ew",
        "outputId": "dc7fd009-e6c1-4684-99d9-1180b91ee1a8"
      },
      "execution_count": 44,
      "outputs": [
        {
          "output_type": "stream",
          "name": "stdout",
          "text": [
            "278677\n",
            "39387\n",
            "23033\n"
          ]
        }
      ]
    },
    {
      "cell_type": "markdown",
      "source": [
        "# Modeling\n",
        "\n",
        "Deep RL model used on amazon dataset is \n",
        "[**Self-Supervised Reinforcement Learning for Recommender Systems**](https://arxiv.org/abs/2006.05779).\n",
        "\n",
        "\n",
        "Download the code from link given and save the files in kaggle folder into Scripts folder of this repository. "
      ],
      "metadata": {
        "id": "H9c4gHvFQeZ4"
      }
    },
    {
      "cell_type": "markdown",
      "source": [
        "##Tensorflow Conversion\n",
        "Since, this code is based on tensorflow version 1, we will update it to use tensorflow version 2."
      ],
      "metadata": {
        "id": "Ze06C7AuW4t7"
      }
    },
    {
      "cell_type": "code",
      "source": [
        "PROJ_DIR = '/content/drive/Othercomputers/My-MacBook-Air/SA2C_Code/Kaggle'\n",
        "# change current directory after mounting\n",
        "%cd $PROJ_DIR\n",
        "! ls"
      ],
      "metadata": {
        "colab": {
          "base_uri": "https://localhost:8080/"
        },
        "id": "IYR1ZQN6MBLx",
        "outputId": "a242f4f7-4eea-4604-e1cb-321228aef9d8"
      },
      "execution_count": null,
      "outputs": [
        {
          "output_type": "stream",
          "name": "stdout",
          "text": [
            "/content/drive/Othercomputers/My-MacBook-Air/SA2C_Code/Kaggle\n",
            "data\t\t     preprocess_kaggle.py  SA2C_new.py\t     split_data.py\n",
            "DQN_NS.py\t     __pycache__\t   SA2C.py\t     test.py\n",
            "NextItNetModules.py  replay_buffer.py\t   SASRecModules.py  utility.py\n",
            "pop.py\t\t     report.txt\t\t   SNQN.py\n"
          ]
        }
      ]
    },
    {
      "cell_type": "code",
      "source": [
        "!tf_upgrade_v2 \\\n",
        "  --infile '/content/drive/Othercomputers/My-MacBook-Air/SA2C_Code/Kaggle/SA2C.py' \\\n",
        "  --outfile '/content/drive/Othercomputers/My-MacBook-Air/SA2C_Code/Kaggle/SA2C_new.py' \\\n",
        "  --reportfile report.txt"
      ],
      "metadata": {
        "id": "JNjfQYJLMb-k"
      },
      "execution_count": null,
      "outputs": []
    },
    {
      "cell_type": "code",
      "source": [
        "!tf_upgrade_v2 \\\n",
        "  --infile '/content/drive/Othercomputers/My-MacBook-Air/590-Final-Project/split_data.py' \\\n",
        "  --outfile '/content/drive/Othercomputers/My-MacBook-Air/590-Final-Project/split_data_new.py' \\\n",
        "  --reportfile report.txt"
      ],
      "metadata": {
        "id": "yVoNe1Jbb-Wh"
      },
      "execution_count": null,
      "outputs": []
    },
    {
      "cell_type": "code",
      "source": [
        "!tf_upgrade_v2 \\\n",
        "  --infile '/content/drive/Othercomputers/My-MacBook-Air/590-Final-Project/Scripts/replay_buffer.py' \\\n",
        "  --outfile '/content/drive/Othercomputers/My-MacBook-Air/590-Final-Project/Scripts/replay_buffer_new.py' \\\n",
        "  --reportfile report.txt"
      ],
      "metadata": {
        "id": "k51GYCkvofrj"
      },
      "execution_count": null,
      "outputs": []
    },
    {
      "cell_type": "code",
      "source": [
        "!tf_upgrade_v2 \\\n",
        "  --infile '/content/drive/Othercomputers/My-MacBook-Air/590-Final-Project/Scripts/NextItNetModules.py' \\\n",
        "  --outfile '/content/drive/Othercomputers/My-MacBook-Air/590-Final-Project/Scripts/NextItNetModules.py' \\\n",
        "  --reportfile report.txt"
      ],
      "metadata": {
        "id": "Q2Wgkr5oDQwu"
      },
      "execution_count": null,
      "outputs": []
    },
    {
      "cell_type": "code",
      "source": [
        "!tf_upgrade_v2 \\\n",
        "  --infile '/content/drive/Othercomputers/My-MacBook-Air/590-Final-Project/Scripts/utility.py' \\\n",
        "  --outfile '/content/drive/Othercomputers/My-MacBook-Air/590-Final-Project/Scripts/utility.py' \\\n",
        "  --reportfile report.txt"
      ],
      "metadata": {
        "id": "Mmv6tdGnETYC"
      },
      "execution_count": null,
      "outputs": []
    },
    {
      "cell_type": "code",
      "source": [
        "!tf_upgrade_v2 \\\n",
        "  --infile '/content/drive/Othercomputers/My-MacBook-Air/590-Final-Project/Scripts/SASRecModules.py' \\\n",
        "  --outfile '/content/drive/Othercomputers/My-MacBook-Air/590-Final-Project/Scripts/SASRecModules.py' \\\n",
        "  --reportfile report.txt"
      ],
      "metadata": {
        "colab": {
          "base_uri": "https://localhost:8080/"
        },
        "id": "qMGe_QE0fRiT",
        "outputId": "3006eb76-a346-4c80-a41f-b65bf586ed57"
      },
      "execution_count": 36,
      "outputs": [
        {
          "output_type": "stream",
          "name": "stdout",
          "text": [
            "INFO line 22:11: Added keywords to args of function 'tf.convert_to_tensor'\n",
            "INFO line 90:9: Renamed 'tf.variable_scope' to 'tf.compat.v1.variable_scope'\n",
            "WARNING line 91:23: tf.get_variable requires manual check. tf.get_variable returns ResourceVariables by default in 2.0, which have well-defined semantics and are stricter about shapes. You can disable this behavior by passing use_resource=False, or by calling tf.compat.v1.disable_resource_variables().\n",
            "INFO line 91:23: Renamed 'tf.get_variable' to 'tf.compat.v1.get_variable'\n",
            "INFO line 95:51: Multiplying scale arg of tf.contrib.layers.l2_regularizer by half to what tf.keras.regularizers.l2 expects.\n",
            "\n",
            "INFO line 99:18: Added keywords to args of function 'tf.nn.embedding_lookup'\n",
            "WARNING line 99:18: tf.nn.embedding_lookup requires manual check. `partition_strategy` has been removed from tf.nn.embedding_lookup.  The 'div' strategy will be used by default.\n",
            "INFO line 134:9: Renamed 'tf.variable_scope' to 'tf.compat.v1.variable_scope'\n",
            "INFO line 142:12: Renamed 'tf.layers.dense' to 'tf.compat.v1.layers.dense'\n",
            "INFO line 143:12: Renamed 'tf.layers.dense' to 'tf.compat.v1.layers.dense'\n",
            "INFO line 144:12: Renamed 'tf.layers.dense' to 'tf.compat.v1.layers.dense'\n",
            "INFO line 152:32: Added keywords to args of function 'tf.transpose'\n",
            "INFO line 158:35: Added keywords to args of function 'tf.reduce_sum'\n",
            "INFO line 160:62: Added keywords to args of function 'tf.shape'\n",
            "INFO line 163:18: Renamed 'tf.where' to 'tf.compat.v1.where'\n",
            "INFO line 169:54: Added keywords to args of function 'tf.shape'\n",
            "INFO line 172:22: Renamed 'tf.where' to 'tf.compat.v1.where'\n",
            "INFO line 178:37: Added keywords to args of function 'tf.reduce_sum'\n",
            "INFO line 180:70: Added keywords to args of function 'tf.shape'\n",
            "INFO line 184:18: Renamed 'tf.layers.dropout' to 'tf.compat.v1.layers.dropout'\n",
            "INFO line 184:73: Added keywords to args of function 'tf.convert_to_tensor'\n",
            "INFO line 219:9: Renamed 'tf.variable_scope' to 'tf.compat.v1.variable_scope'\n",
            "INFO line 223:18: Renamed 'tf.layers.conv1d' to 'tf.compat.v1.layers.conv1d'\n",
            "INFO line 224:18: Renamed 'tf.layers.dropout' to 'tf.compat.v1.layers.dropout'\n",
            "INFO line 224:73: Added keywords to args of function 'tf.convert_to_tensor'\n",
            "INFO line 228:18: Renamed 'tf.layers.conv1d' to 'tf.compat.v1.layers.conv1d'\n",
            "INFO line 229:18: Renamed 'tf.layers.dropout' to 'tf.compat.v1.layers.dropout'\n",
            "INFO line 229:73: Added keywords to args of function 'tf.convert_to_tensor'\n",
            "TensorFlow 2.0 Upgrade Script\n",
            "-----------------------------\n",
            "Converted 1 files\n",
            "Detected 2 issues that require attention\n",
            "--------------------------------------------------------------------------------\n",
            "--------------------------------------------------------------------------------\n",
            "File: /content/drive/Othercomputers/My-MacBook-Air/590-Final-Project/Scripts/SASRecModules.py\n",
            "--------------------------------------------------------------------------------\n",
            "/content/drive/Othercomputers/My-MacBook-Air/590-Final-Project/Scripts/SASRecModules.py:91:23: WARNING: tf.get_variable requires manual check. tf.get_variable returns ResourceVariables by default in 2.0, which have well-defined semantics and are stricter about shapes. You can disable this behavior by passing use_resource=False, or by calling tf.compat.v1.disable_resource_variables().\n",
            "/content/drive/Othercomputers/My-MacBook-Air/590-Final-Project/Scripts/SASRecModules.py:99:18: WARNING: tf.nn.embedding_lookup requires manual check. `partition_strategy` has been removed from tf.nn.embedding_lookup.  The 'div' strategy will be used by default.\n",
            "\n",
            "\n",
            "Make sure to read the detailed log 'report.txt'\n",
            "\n"
          ]
        }
      ]
    },
    {
      "cell_type": "code",
      "source": [
        "cd '/content/drive/Othercomputers/My-MacBook-Air/SA2C_Code/Kaggle'"
      ],
      "metadata": {
        "colab": {
          "base_uri": "https://localhost:8080/"
        },
        "id": "DT904thkM9CK",
        "outputId": "45180994-eada-4a27-f909-12588d643628"
      },
      "execution_count": 2,
      "outputs": [
        {
          "output_type": "stream",
          "name": "stdout",
          "text": [
            "/content/drive/Othercomputers/My-MacBook-Air/SA2C_Code/Kaggle\n"
          ]
        }
      ]
    },
    {
      "cell_type": "markdown",
      "source": [
        "## Data Preparation\n",
        "Run the code below to create following necessary datasets before running the model.\n",
        "\n",
        "* sorted_amazon.df\n",
        "* data_ststis.df\n",
        "* pop_dict.df\n",
        "* replay_buffer.df\n",
        "* sampled_train.df\n",
        "* sampled_val.df\n",
        "\n"
      ],
      "metadata": {
        "id": "P52HW2JaZcRZ"
      }
    },
    {
      "cell_type": "code",
      "source": [
        "cd /content/drive/Othercomputers/My-MacBook-Air/590-Final-Project"
      ],
      "metadata": {
        "colab": {
          "base_uri": "https://localhost:8080/"
        },
        "id": "ewHLDZpVZjCx",
        "outputId": "85b01298-4abb-45c1-99af-1e89473397ae"
      },
      "execution_count": 45,
      "outputs": [
        {
          "output_type": "stream",
          "name": "stdout",
          "text": [
            "/content/drive/Othercomputers/My-MacBook-Air/590-Final-Project\n"
          ]
        }
      ]
    },
    {
      "cell_type": "code",
      "source": [
        "%run 'Scripts/preprocess.py'"
      ],
      "metadata": {
        "id": "I8uyDkgSBWIi"
      },
      "execution_count": 50,
      "outputs": []
    },
    {
      "cell_type": "code",
      "source": [
        "%run 'Scripts/split_data.py'"
      ],
      "metadata": {
        "id": "metVveP-af9R"
      },
      "execution_count": 51,
      "outputs": []
    },
    {
      "cell_type": "code",
      "source": [
        "!python 'Scripts/pop.py' --data='Datasets/Amazon'"
      ],
      "metadata": {
        "colab": {
          "base_uri": "https://localhost:8080/"
        },
        "id": "N1YMUWhGFVax",
        "outputId": "644c29be-38c8-4a83-e122-520d7758a3ac"
      },
      "execution_count": 62,
      "outputs": [
        {
          "output_type": "stream",
          "name": "stdout",
          "text": [
            "0.0\n",
            "2.0\n",
            "1.0\n"
          ]
        }
      ]
    },
    {
      "cell_type": "code",
      "source": [
        "%run 'Scripts/replay_buffer.py'"
      ],
      "metadata": {
        "colab": {
          "base_uri": "https://localhost:8080/"
        },
        "id": "LnxEs1KFoYEY",
        "outputId": "d594f74b-192a-474f-f50f-31dc0e36f0db"
      },
      "execution_count": 57,
      "outputs": [
        {
          "output_type": "stream",
          "name": "stdout",
          "text": [
            "        reviewerID   asin reviewerName helpful  \\\n",
            "30668            0   1883     LarryRun  [0, 0]   \n",
            "72389            0   4954     LarryRun  [0, 0]   \n",
            "122588           0   9193     LarryRun  [2, 4]   \n",
            "135480           0  10286     LarryRun  [0, 0]   \n",
            "55901            0   3676     LarryRun  [1, 1]   \n",
            "\n",
            "                                               reviewText  overall  \\\n",
            "30668   These champion mesh are so much better than th...        5   \n",
            "72389   These wet look leggings were a great buy and f...        5   \n",
            "122588  I am not sure why other reviews say this is no...        5   \n",
            "135480  I got so many comments when I wore these pants...        5   \n",
            "55901   Bought this for my girl for Halloween and it f...        5   \n",
            "\n",
            "                           summary  unixReviewTime   reviewTime  \n",
            "30668        Great fit and quality      1370908800  06 11, 2013  \n",
            "72389    Super fit. Looks amazing!      1350518400  10 18, 2012  \n",
            "122588   Exactly as pictured! HOT!      1350518400  10 18, 2012  \n",
            "135480  Awesome faux leather pants      1350518400  10 18, 2012  \n",
            "55901         Catsuit was awesome!      1352246400   11 7, 2012  \n"
          ]
        }
      ]
    },
    {
      "cell_type": "markdown",
      "source": [
        "## Running model on rent the Amazon\n",
        "\n",
        "NDCG is a measure of ranking quality."
      ],
      "metadata": {
        "id": "H59HR8gelh4N"
      }
    },
    {
      "cell_type": "code",
      "source": [
        "!python 'Scripts/SA2C.py' --model=GRU --data='Datasets/Amazon'"
      ],
      "metadata": {
        "colab": {
          "base_uri": "https://localhost:8080/"
        },
        "id": "hSKPd8ZkZfLp",
        "outputId": "3b4d024f-895a-4a60-eb40-91faa18f2ea7"
      },
      "execution_count": null,
      "outputs": [
        {
          "output_type": "stream",
          "name": "stdout",
          "text": [
            "Scripts/SA2C.py:88: UserWarning: `tf.nn.rnn_cell.GRUCell` is deprecated and will be removed in a future version. This class is equivalent as `tf.keras.layers.GRUCell`, and will be replaced by that in Tensorflow 2.0.\n",
            "  tf.compat.v1.nn.rnn_cell.GRUCell(self.hidden_size),\n",
            "WARNING:tensorflow:From Scripts/SA2C.py:87: dynamic_rnn (from tensorflow.python.ops.rnn) is deprecated and will be removed in a future version.\n",
            "Instructions for updating:\n",
            "Please use `keras.layers.RNN(cell)`, which is equivalent to this API\n",
            "WARNING:tensorflow:From Scripts/SA2C.py:87: dynamic_rnn (from tensorflow.python.ops.rnn) is deprecated and will be removed in a future version.\n",
            "Instructions for updating:\n",
            "Please use `keras.layers.RNN(cell)`, which is equivalent to this API\n",
            "WARNING:tensorflow:From /usr/local/lib/python3.8/dist-packages/keras/layers/rnn/legacy_cells.py:545: calling Constant.__init__ (from tensorflow.python.ops.init_ops) with dtype is deprecated and will be removed in a future version.\n",
            "Instructions for updating:\n",
            "Call initializer instance with the dtype argument instead of passing it to the constructor\n",
            "WARNING:tensorflow:From /usr/local/lib/python3.8/dist-packages/keras/layers/rnn/legacy_cells.py:545: calling Constant.__init__ (from tensorflow.python.ops.init_ops) with dtype is deprecated and will be removed in a future version.\n",
            "Instructions for updating:\n",
            "Call initializer instance with the dtype argument instead of passing it to the constructor\n",
            "WARNING:tensorflow:From /usr/local/lib/python3.8/dist-packages/keras/layers/rnn/legacy_cells.py:555: calling Zeros.__init__ (from tensorflow.python.ops.init_ops) with dtype is deprecated and will be removed in a future version.\n",
            "Instructions for updating:\n",
            "Call initializer instance with the dtype argument instead of passing it to the constructor\n",
            "WARNING:tensorflow:From /usr/local/lib/python3.8/dist-packages/keras/layers/rnn/legacy_cells.py:555: calling Zeros.__init__ (from tensorflow.python.ops.init_ops) with dtype is deprecated and will be removed in a future version.\n",
            "Instructions for updating:\n",
            "Call initializer instance with the dtype argument instead of passing it to the constructor\n",
            "2022-12-11 19:36:25.608243: E tensorflow/stream_executor/cuda/cuda_driver.cc:271] failed call to cuInit: CUDA_ERROR_NO_DEVICE: no CUDA-capable device is detected\n",
            "Scripts/SA2C.py:215: UserWarning: `tf.layers.dense` is deprecated and will be removed in a future version. Please use `tf.keras.layers.Dense` instead.\n",
            "  self.output1 = tf.compat.v1.layers.dense(self.states_hidden, self.item_num,\n",
            "Scripts/SA2C.py:218: UserWarning: `tf.layers.dense` is deprecated and will be removed in a future version. Please use `tf.keras.layers.Dense` instead.\n",
            "  self.output2= tf.compat.v1.layers.dense(self.states_hidden, self.item_num,\n",
            "the loss in 200th batch is: 7.887736\n",
            "the loss in 400th batch is: 7.776281\n",
            "the loss in 600th batch is: 7.608010\n"
          ]
        }
      ]
    },
    {
      "cell_type": "code",
      "source": [
        "!python 'Scripts/SA2C.py' --model=SASRec --data='Datasets/Amazon'"
      ],
      "metadata": {
        "colab": {
          "base_uri": "https://localhost:8080/"
        },
        "id": "OSRciHj4eKjm",
        "outputId": "5441aafa-0436-4029-eed2-60508fdc96bb"
      },
      "execution_count": 37,
      "outputs": [
        {
          "output_type": "stream",
          "name": "stdout",
          "text": [
            "Scripts/SA2C.py:187: UserWarning: `tf.layers.dropout` is deprecated and will be removed in a future version. Please use `tf.keras.layers.Dropout` instead.\n",
            "  self.seq = tf.compat.v1.layers.dropout(self.seq,\n",
            "2022-12-11 18:43:01.463359: E tensorflow/stream_executor/cuda/cuda_driver.cc:271] failed call to cuInit: CUDA_ERROR_NO_DEVICE: no CUDA-capable device is detected\n",
            "/content/drive/Othercomputers/My-MacBook-Air/590-Final-Project/Scripts/SASRecModules.py:142: UserWarning: `tf.layers.dense` is deprecated and will be removed in a future version. Please use `tf.keras.layers.Dense` instead.\n",
            "  Q = tf.compat.v1.layers.dense(queries, num_units, activation=None) # (N, T_q, C)\n",
            "/content/drive/Othercomputers/My-MacBook-Air/590-Final-Project/Scripts/SASRecModules.py:143: UserWarning: `tf.layers.dense` is deprecated and will be removed in a future version. Please use `tf.keras.layers.Dense` instead.\n",
            "  K = tf.compat.v1.layers.dense(keys, num_units, activation=None) # (N, T_k, C)\n",
            "/content/drive/Othercomputers/My-MacBook-Air/590-Final-Project/Scripts/SASRecModules.py:144: UserWarning: `tf.layers.dense` is deprecated and will be removed in a future version. Please use `tf.keras.layers.Dense` instead.\n",
            "  V = tf.compat.v1.layers.dense(keys, num_units, activation=None) # (N, T_k, C)\n",
            "/content/drive/Othercomputers/My-MacBook-Air/590-Final-Project/Scripts/SASRecModules.py:184: UserWarning: `tf.layers.dropout` is deprecated and will be removed in a future version. Please use `tf.keras.layers.Dropout` instead.\n",
            "  outputs = tf.compat.v1.layers.dropout(outputs, rate=dropout_rate, training=tf.convert_to_tensor(value=is_training))\n",
            "/content/drive/Othercomputers/My-MacBook-Air/590-Final-Project/Scripts/SASRecModules.py:223: UserWarning: `tf.layers.conv1d` is deprecated and will be removed in a future version. Please Use `tf.keras.layers.Conv1D` instead.\n",
            "  outputs = tf.compat.v1.layers.conv1d(**params)\n",
            "/content/drive/Othercomputers/My-MacBook-Air/590-Final-Project/Scripts/SASRecModules.py:224: UserWarning: `tf.layers.dropout` is deprecated and will be removed in a future version. Please use `tf.keras.layers.Dropout` instead.\n",
            "  outputs = tf.compat.v1.layers.dropout(outputs, rate=dropout_rate, training=tf.convert_to_tensor(value=is_training))\n",
            "/content/drive/Othercomputers/My-MacBook-Air/590-Final-Project/Scripts/SASRecModules.py:228: UserWarning: `tf.layers.conv1d` is deprecated and will be removed in a future version. Please Use `tf.keras.layers.Conv1D` instead.\n",
            "  outputs = tf.compat.v1.layers.conv1d(**params)\n",
            "/content/drive/Othercomputers/My-MacBook-Air/590-Final-Project/Scripts/SASRecModules.py:229: UserWarning: `tf.layers.dropout` is deprecated and will be removed in a future version. Please use `tf.keras.layers.Dropout` instead.\n",
            "  outputs = tf.compat.v1.layers.dropout(outputs, rate=dropout_rate, training=tf.convert_to_tensor(value=is_training))\n",
            "Scripts/SA2C.py:215: UserWarning: `tf.layers.dense` is deprecated and will be removed in a future version. Please use `tf.keras.layers.Dense` instead.\n",
            "  self.output1 = tf.compat.v1.layers.dense(self.states_hidden, self.item_num,\n",
            "Scripts/SA2C.py:218: UserWarning: `tf.layers.dense` is deprecated and will be removed in a future version. Please use `tf.keras.layers.Dense` instead.\n",
            "  self.output2= tf.compat.v1.layers.dense(self.states_hidden, self.item_num,\n",
            "the loss in 200th batch is: 7.201204\n",
            "the loss in 400th batch is: 6.718743\n",
            "the loss in 600th batch is: 6.520431\n",
            "the loss in 800th batch is: 6.541396\n",
            "the loss in 1000th batch is: 6.214290\n",
            "#############################################################\n",
            "total clicks: 9, total purchase:686\n",
            "~~~~~~~~~~~~~~~~~~~~~~~~~~~~~~~~~~~~~~~~~~~~~~~~~~~~~~~~~~~~~\n",
            "cumulative reward @ 5: 17.000000\n",
            "clicks hr ndcg @ 5 : 0.000000, 0.000000\n",
            "purchase hr and ndcg @5 : 0.024781, 0.015182\n",
            "~~~~~~~~~~~~~~~~~~~~~~~~~~~~~~~~~~~~~~~~~~~~~~~~~~~~~~~~~~~~~\n",
            "cumulative reward @ 10: 26.000000\n",
            "clicks hr ndcg @ 10 : 0.000000, 0.000000\n",
            "purchase hr and ndcg @10 : 0.037901, 0.019335\n",
            "~~~~~~~~~~~~~~~~~~~~~~~~~~~~~~~~~~~~~~~~~~~~~~~~~~~~~~~~~~~~~\n",
            "cumulative reward @ 15: 32.000000\n",
            "clicks hr ndcg @ 15 : 0.000000, 0.000000\n",
            "purchase hr and ndcg @15 : 0.046647, 0.021673\n",
            "~~~~~~~~~~~~~~~~~~~~~~~~~~~~~~~~~~~~~~~~~~~~~~~~~~~~~~~~~~~~~\n",
            "cumulative reward @ 20: 39.000000\n",
            "clicks hr ndcg @ 20 : 0.000000, 0.000000\n",
            "purchase hr and ndcg @20 : 0.056851, 0.024084\n",
            "off-line corrected evaluation (click_ng,purchase_ng)@10: 0.000000, 0.001138\n",
            "#############################################################\n"
          ]
        }
      ]
    }
  ]
}
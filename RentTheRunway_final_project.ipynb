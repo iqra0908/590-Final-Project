{
  "nbformat": 4,
  "nbformat_minor": 0,
  "metadata": {
    "colab": {
      "provenance": []
    },
    "kernelspec": {
      "name": "python3",
      "display_name": "Python 3"
    },
    "language_info": {
      "name": "python"
    },
    "gpuClass": "standard"
  },
  "cells": [
    {
      "cell_type": "markdown",
      "source": [
        "#Duke University\n",
        "\n",
        "Course: AIPI590 (Deep Reinforcement Learning Applications)\n",
        "\n",
        "Fall 2022:\n"
      ],
      "metadata": {
        "id": "FdwEUZ4-MRVE"
      }
    },
    {
      "cell_type": "markdown",
      "source": [
        "# Final Project: Product recommender for E-commerce\n",
        "\n",
        "**Dataset**: [Rent the Runway](https://jmcauley.ucsd.edu/data/renttherunway/renttherunway_final_data.json.gz)\n",
        "\n",
        "**Metric**: NDCG"
      ],
      "metadata": {
        "id": "yS7LIAXQMcTH"
      }
    },
    {
      "cell_type": "markdown",
      "source": [
        "# Dataset Explanation\n",
        "\n",
        "**Description**:\\\n",
        "This dataset contain measurements of clothing fit from RentTheRunway.\n",
        "\n",
        "\n",
        "**Basic Statistics**:\n",
        "\n",
        "Number of users:\t105,508\\\n",
        "Number of items:\t5,850\\\n",
        "Number of transactions:\t192,544\n",
        "\n",
        "**Metadata**\n",
        "* ratings and reviews\n",
        "* fit feedback (small/fit/large etc.)\n",
        "* user/item measurements\n",
        "* category information\n",
        "\n",
        "\n",
        "**Example**\n",
        "```\n",
        "{\n",
        "  \"fit\": \"fit\",\n",
        "  \"user_id\": \"420272\",\n",
        "  \"bust size\": \"34d\",\n",
        "  \"item_id\": \"2260466\",\n",
        "  \"weight\": \"137lbs\",\n",
        "  \"rating\": \"10\",\n",
        "  \"rented for\": \"vacation\",\n",
        "  \"review_text\": \"An adorable romper! Belt and zipper were a little hard to navigate in a full day of wear/bathroom use, but that's to be expected. Wish it had pockets, but other than that-- absolutely perfect! I got a million compliments.\",\n",
        "  \"body type\": \"hourglass\",\n",
        "  \"review_summary\": \"So many compliments!\",\n",
        "  \"category\": \"romper\",\n",
        "  \"height\": \"5' 8\\\"\",\n",
        "  \"size\": 14,\n",
        "  \"age\": \"28\",\n",
        "  \"review_date\": \"April 20, 2016\"\n",
        "}\n",
        "```"
      ],
      "metadata": {
        "id": "KmTkRTkWNghz"
      }
    },
    {
      "cell_type": "markdown",
      "source": [
        "# Imports\n"
      ],
      "metadata": {
        "id": "XX3KVCyCSR1D"
      }
    },
    {
      "cell_type": "code",
      "source": [
        "import pandas as pd\n",
        "import os"
      ],
      "metadata": {
        "id": "E0NiVBL6ScxS"
      },
      "execution_count": 9,
      "outputs": []
    },
    {
      "cell_type": "markdown",
      "source": [
        "#Install"
      ],
      "metadata": {
        "id": "ris_j8n7SUST"
      }
    },
    {
      "cell_type": "code",
      "source": [
        "! pip install pandas trfl"
      ],
      "metadata": {
        "id": "9TN6Rwa_SZNW"
      },
      "execution_count": null,
      "outputs": []
    },
    {
      "cell_type": "markdown",
      "source": [
        "# Loading Data\n",
        "\n",
        "Download the data from link mentioned previously into a Datasets folder in this repository. "
      ],
      "metadata": {
        "id": "qfbRwsZdPQ7y"
      }
    },
    {
      "cell_type": "code",
      "source": [
        "\n",
        "rent_the_runway = pd.read_json('Datasets/renttherunway_final_data.json.gz',compression='gzip',lines=True)\n",
        "rent_the_runway.head()"
      ],
      "metadata": {
        "colab": {
          "base_uri": "https://localhost:8080/",
          "height": 565
        },
        "id": "AC21xwFBPl8U",
        "outputId": "779a92e5-0ae6-410e-9374-131406e504b0"
      },
      "execution_count": 8,
      "outputs": [
        {
          "output_type": "execute_result",
          "data": {
            "text/plain": [
              "   fit  user_id bust size  item_id  weight  rating     rented for  \\\n",
              "0  fit   420272       34d  2260466  137lbs    10.0       vacation   \n",
              "1  fit   273551       34b   153475  132lbs    10.0          other   \n",
              "2  fit   360448       NaN  1063761     NaN    10.0          party   \n",
              "3  fit   909926       34c   126335  135lbs     8.0  formal affair   \n",
              "4  fit   151944       34b   616682  145lbs    10.0        wedding   \n",
              "\n",
              "                                         review_text          body type  \\\n",
              "0  An adorable romper! Belt and zipper were a lit...          hourglass   \n",
              "1  I rented this dress for a photo shoot. The the...  straight & narrow   \n",
              "2  This hugged in all the right places! It was a ...                NaN   \n",
              "3  I rented this for my company's black tie award...               pear   \n",
              "4  I have always been petite in my upper body and...           athletic   \n",
              "\n",
              "                                      review_summary category height  size  \\\n",
              "0                               So many compliments!   romper  5' 8\"    14   \n",
              "1                            I felt so glamourous!!!     gown  5' 6\"    12   \n",
              "2  It was a great time to celebrate the (almost) ...   sheath  5' 4\"     4   \n",
              "3   Dress arrived on time and in perfect condition.     dress  5' 5\"     8   \n",
              "4                    Was in love with this dress !!!     gown  5' 9\"    12   \n",
              "\n",
              "     age         review_date  \n",
              "0   28.0      April 20, 2016  \n",
              "1   36.0       June 18, 2013  \n",
              "2  116.0   December 14, 2015  \n",
              "3   34.0   February 12, 2014  \n",
              "4   27.0  September 26, 2016  "
            ],
            "text/html": [
              "\n",
              "  <div id=\"df-c91067b2-cd99-4282-84f5-50cbd5364ad5\">\n",
              "    <div class=\"colab-df-container\">\n",
              "      <div>\n",
              "<style scoped>\n",
              "    .dataframe tbody tr th:only-of-type {\n",
              "        vertical-align: middle;\n",
              "    }\n",
              "\n",
              "    .dataframe tbody tr th {\n",
              "        vertical-align: top;\n",
              "    }\n",
              "\n",
              "    .dataframe thead th {\n",
              "        text-align: right;\n",
              "    }\n",
              "</style>\n",
              "<table border=\"1\" class=\"dataframe\">\n",
              "  <thead>\n",
              "    <tr style=\"text-align: right;\">\n",
              "      <th></th>\n",
              "      <th>fit</th>\n",
              "      <th>user_id</th>\n",
              "      <th>bust size</th>\n",
              "      <th>item_id</th>\n",
              "      <th>weight</th>\n",
              "      <th>rating</th>\n",
              "      <th>rented for</th>\n",
              "      <th>review_text</th>\n",
              "      <th>body type</th>\n",
              "      <th>review_summary</th>\n",
              "      <th>category</th>\n",
              "      <th>height</th>\n",
              "      <th>size</th>\n",
              "      <th>age</th>\n",
              "      <th>review_date</th>\n",
              "    </tr>\n",
              "  </thead>\n",
              "  <tbody>\n",
              "    <tr>\n",
              "      <th>0</th>\n",
              "      <td>fit</td>\n",
              "      <td>420272</td>\n",
              "      <td>34d</td>\n",
              "      <td>2260466</td>\n",
              "      <td>137lbs</td>\n",
              "      <td>10.0</td>\n",
              "      <td>vacation</td>\n",
              "      <td>An adorable romper! Belt and zipper were a lit...</td>\n",
              "      <td>hourglass</td>\n",
              "      <td>So many compliments!</td>\n",
              "      <td>romper</td>\n",
              "      <td>5' 8\"</td>\n",
              "      <td>14</td>\n",
              "      <td>28.0</td>\n",
              "      <td>April 20, 2016</td>\n",
              "    </tr>\n",
              "    <tr>\n",
              "      <th>1</th>\n",
              "      <td>fit</td>\n",
              "      <td>273551</td>\n",
              "      <td>34b</td>\n",
              "      <td>153475</td>\n",
              "      <td>132lbs</td>\n",
              "      <td>10.0</td>\n",
              "      <td>other</td>\n",
              "      <td>I rented this dress for a photo shoot. The the...</td>\n",
              "      <td>straight &amp; narrow</td>\n",
              "      <td>I felt so glamourous!!!</td>\n",
              "      <td>gown</td>\n",
              "      <td>5' 6\"</td>\n",
              "      <td>12</td>\n",
              "      <td>36.0</td>\n",
              "      <td>June 18, 2013</td>\n",
              "    </tr>\n",
              "    <tr>\n",
              "      <th>2</th>\n",
              "      <td>fit</td>\n",
              "      <td>360448</td>\n",
              "      <td>NaN</td>\n",
              "      <td>1063761</td>\n",
              "      <td>NaN</td>\n",
              "      <td>10.0</td>\n",
              "      <td>party</td>\n",
              "      <td>This hugged in all the right places! It was a ...</td>\n",
              "      <td>NaN</td>\n",
              "      <td>It was a great time to celebrate the (almost) ...</td>\n",
              "      <td>sheath</td>\n",
              "      <td>5' 4\"</td>\n",
              "      <td>4</td>\n",
              "      <td>116.0</td>\n",
              "      <td>December 14, 2015</td>\n",
              "    </tr>\n",
              "    <tr>\n",
              "      <th>3</th>\n",
              "      <td>fit</td>\n",
              "      <td>909926</td>\n",
              "      <td>34c</td>\n",
              "      <td>126335</td>\n",
              "      <td>135lbs</td>\n",
              "      <td>8.0</td>\n",
              "      <td>formal affair</td>\n",
              "      <td>I rented this for my company's black tie award...</td>\n",
              "      <td>pear</td>\n",
              "      <td>Dress arrived on time and in perfect condition.</td>\n",
              "      <td>dress</td>\n",
              "      <td>5' 5\"</td>\n",
              "      <td>8</td>\n",
              "      <td>34.0</td>\n",
              "      <td>February 12, 2014</td>\n",
              "    </tr>\n",
              "    <tr>\n",
              "      <th>4</th>\n",
              "      <td>fit</td>\n",
              "      <td>151944</td>\n",
              "      <td>34b</td>\n",
              "      <td>616682</td>\n",
              "      <td>145lbs</td>\n",
              "      <td>10.0</td>\n",
              "      <td>wedding</td>\n",
              "      <td>I have always been petite in my upper body and...</td>\n",
              "      <td>athletic</td>\n",
              "      <td>Was in love with this dress !!!</td>\n",
              "      <td>gown</td>\n",
              "      <td>5' 9\"</td>\n",
              "      <td>12</td>\n",
              "      <td>27.0</td>\n",
              "      <td>September 26, 2016</td>\n",
              "    </tr>\n",
              "  </tbody>\n",
              "</table>\n",
              "</div>\n",
              "      <button class=\"colab-df-convert\" onclick=\"convertToInteractive('df-c91067b2-cd99-4282-84f5-50cbd5364ad5')\"\n",
              "              title=\"Convert this dataframe to an interactive table.\"\n",
              "              style=\"display:none;\">\n",
              "        \n",
              "  <svg xmlns=\"http://www.w3.org/2000/svg\" height=\"24px\"viewBox=\"0 0 24 24\"\n",
              "       width=\"24px\">\n",
              "    <path d=\"M0 0h24v24H0V0z\" fill=\"none\"/>\n",
              "    <path d=\"M18.56 5.44l.94 2.06.94-2.06 2.06-.94-2.06-.94-.94-2.06-.94 2.06-2.06.94zm-11 1L8.5 8.5l.94-2.06 2.06-.94-2.06-.94L8.5 2.5l-.94 2.06-2.06.94zm10 10l.94 2.06.94-2.06 2.06-.94-2.06-.94-.94-2.06-.94 2.06-2.06.94z\"/><path d=\"M17.41 7.96l-1.37-1.37c-.4-.4-.92-.59-1.43-.59-.52 0-1.04.2-1.43.59L10.3 9.45l-7.72 7.72c-.78.78-.78 2.05 0 2.83L4 21.41c.39.39.9.59 1.41.59.51 0 1.02-.2 1.41-.59l7.78-7.78 2.81-2.81c.8-.78.8-2.07 0-2.86zM5.41 20L4 18.59l7.72-7.72 1.47 1.35L5.41 20z\"/>\n",
              "  </svg>\n",
              "      </button>\n",
              "      \n",
              "  <style>\n",
              "    .colab-df-container {\n",
              "      display:flex;\n",
              "      flex-wrap:wrap;\n",
              "      gap: 12px;\n",
              "    }\n",
              "\n",
              "    .colab-df-convert {\n",
              "      background-color: #E8F0FE;\n",
              "      border: none;\n",
              "      border-radius: 50%;\n",
              "      cursor: pointer;\n",
              "      display: none;\n",
              "      fill: #1967D2;\n",
              "      height: 32px;\n",
              "      padding: 0 0 0 0;\n",
              "      width: 32px;\n",
              "    }\n",
              "\n",
              "    .colab-df-convert:hover {\n",
              "      background-color: #E2EBFA;\n",
              "      box-shadow: 0px 1px 2px rgba(60, 64, 67, 0.3), 0px 1px 3px 1px rgba(60, 64, 67, 0.15);\n",
              "      fill: #174EA6;\n",
              "    }\n",
              "\n",
              "    [theme=dark] .colab-df-convert {\n",
              "      background-color: #3B4455;\n",
              "      fill: #D2E3FC;\n",
              "    }\n",
              "\n",
              "    [theme=dark] .colab-df-convert:hover {\n",
              "      background-color: #434B5C;\n",
              "      box-shadow: 0px 1px 3px 1px rgba(0, 0, 0, 0.15);\n",
              "      filter: drop-shadow(0px 1px 2px rgba(0, 0, 0, 0.3));\n",
              "      fill: #FFFFFF;\n",
              "    }\n",
              "  </style>\n",
              "\n",
              "      <script>\n",
              "        const buttonEl =\n",
              "          document.querySelector('#df-c91067b2-cd99-4282-84f5-50cbd5364ad5 button.colab-df-convert');\n",
              "        buttonEl.style.display =\n",
              "          google.colab.kernel.accessAllowed ? 'block' : 'none';\n",
              "\n",
              "        async function convertToInteractive(key) {\n",
              "          const element = document.querySelector('#df-c91067b2-cd99-4282-84f5-50cbd5364ad5');\n",
              "          const dataTable =\n",
              "            await google.colab.kernel.invokeFunction('convertToInteractive',\n",
              "                                                     [key], {});\n",
              "          if (!dataTable) return;\n",
              "\n",
              "          const docLinkHtml = 'Like what you see? Visit the ' +\n",
              "            '<a target=\"_blank\" href=https://colab.research.google.com/notebooks/data_table.ipynb>data table notebook</a>'\n",
              "            + ' to learn more about interactive tables.';\n",
              "          element.innerHTML = '';\n",
              "          dataTable['output_type'] = 'display_data';\n",
              "          await google.colab.output.renderOutput(dataTable, element);\n",
              "          const docLink = document.createElement('div');\n",
              "          docLink.innerHTML = docLinkHtml;\n",
              "          element.appendChild(docLink);\n",
              "        }\n",
              "      </script>\n",
              "    </div>\n",
              "  </div>\n",
              "  "
            ]
          },
          "metadata": {},
          "execution_count": 8
        }
      ]
    },
    {
      "cell_type": "markdown",
      "source": [
        "# Modeling\n",
        "\n",
        "Deep RL model used on renttherunway dataset is \n",
        "[**Self-Supervised Reinforcement Learning for Recommender Systems**](https://arxiv.org/abs/2006.05779).\n",
        "\n",
        "\n",
        "Download the code from link given and save the files in kaggle folder into Scripts folder of this repository. "
      ],
      "metadata": {
        "id": "H9c4gHvFQeZ4"
      }
    },
    {
      "cell_type": "markdown",
      "source": [
        "##Tensorflow Conversion\n",
        "Since, this code is based on tensorflow version 1, we will update it to use tensorflow version 2."
      ],
      "metadata": {
        "id": "Ze06C7AuW4t7"
      }
    },
    {
      "cell_type": "code",
      "source": [
        "PROJ_DIR = '/content/drive/Othercomputers/My-MacBook-Air/SA2C_Code/Kaggle'\n",
        "# change current directory after mounting\n",
        "%cd $PROJ_DIR\n",
        "! ls"
      ],
      "metadata": {
        "colab": {
          "base_uri": "https://localhost:8080/"
        },
        "id": "IYR1ZQN6MBLx",
        "outputId": "a242f4f7-4eea-4604-e1cb-321228aef9d8"
      },
      "execution_count": null,
      "outputs": [
        {
          "output_type": "stream",
          "name": "stdout",
          "text": [
            "/content/drive/Othercomputers/My-MacBook-Air/SA2C_Code/Kaggle\n",
            "data\t\t     preprocess_kaggle.py  SA2C_new.py\t     split_data.py\n",
            "DQN_NS.py\t     __pycache__\t   SA2C.py\t     test.py\n",
            "NextItNetModules.py  replay_buffer.py\t   SASRecModules.py  utility.py\n",
            "pop.py\t\t     report.txt\t\t   SNQN.py\n"
          ]
        }
      ]
    },
    {
      "cell_type": "code",
      "source": [
        "!tf_upgrade_v2 \\\n",
        "  --infile '/content/drive/Othercomputers/My-MacBook-Air/SA2C_Code/Kaggle/SA2C.py' \\\n",
        "  --outfile '/content/drive/Othercomputers/My-MacBook-Air/SA2C_Code/Kaggle/SA2C_new.py' \\\n",
        "  --reportfile report.txt"
      ],
      "metadata": {
        "id": "JNjfQYJLMb-k"
      },
      "execution_count": null,
      "outputs": []
    },
    {
      "cell_type": "code",
      "source": [
        "!tf_upgrade_v2 \\\n",
        "  --infile '/content/drive/Othercomputers/My-MacBook-Air/590-Final-Project/split_data.py' \\\n",
        "  --outfile '/content/drive/Othercomputers/My-MacBook-Air/590-Final-Project/split_data_new.py' \\\n",
        "  --reportfile report.txt"
      ],
      "metadata": {
        "id": "yVoNe1Jbb-Wh"
      },
      "execution_count": null,
      "outputs": []
    },
    {
      "cell_type": "code",
      "source": [
        "!tf_upgrade_v2 \\\n",
        "  --infile '/content/drive/Othercomputers/My-MacBook-Air/590-Final-Project/Scripts/replay_buffer.py' \\\n",
        "  --outfile '/content/drive/Othercomputers/My-MacBook-Air/590-Final-Project/Scripts/replay_buffer_new.py' \\\n",
        "  --reportfile report.txt"
      ],
      "metadata": {
        "id": "k51GYCkvofrj"
      },
      "execution_count": null,
      "outputs": []
    },
    {
      "cell_type": "code",
      "source": [
        "!tf_upgrade_v2 \\\n",
        "  --infile '/content/drive/Othercomputers/My-MacBook-Air/590-Final-Project/Scripts/NextItNetModules.py' \\\n",
        "  --outfile '/content/drive/Othercomputers/My-MacBook-Air/590-Final-Project/Scripts/NextItNetModules.py' \\\n",
        "  --reportfile report.txt"
      ],
      "metadata": {
        "id": "Q2Wgkr5oDQwu"
      },
      "execution_count": null,
      "outputs": []
    },
    {
      "cell_type": "code",
      "source": [
        "!tf_upgrade_v2 \\\n",
        "  --infile '/content/drive/Othercomputers/My-MacBook-Air/590-Final-Project/Scripts/utility.py' \\\n",
        "  --outfile '/content/drive/Othercomputers/My-MacBook-Air/590-Final-Project/Scripts/utility.py' \\\n",
        "  --reportfile report.txt"
      ],
      "metadata": {
        "id": "Mmv6tdGnETYC"
      },
      "execution_count": null,
      "outputs": []
    },
    {
      "cell_type": "code",
      "source": [
        "cd '/content/drive/Othercomputers/My-MacBook-Air/SA2C_Code/Kaggle'"
      ],
      "metadata": {
        "colab": {
          "base_uri": "https://localhost:8080/"
        },
        "id": "DT904thkM9CK",
        "outputId": "45180994-eada-4a27-f909-12588d643628"
      },
      "execution_count": 2,
      "outputs": [
        {
          "output_type": "stream",
          "name": "stdout",
          "text": [
            "/content/drive/Othercomputers/My-MacBook-Air/SA2C_Code/Kaggle\n"
          ]
        }
      ]
    },
    {
      "cell_type": "markdown",
      "source": [
        "## Data Preparation\n",
        "Run the code below to create following necessary datasets before running the model.\n",
        "\n",
        "* sorted_renttherunway.df\n",
        "* data_ststis.df\n",
        "* pop_dict.df\n",
        "* replay_buffer.df\n",
        "* sampled_train.df\n",
        "* sampled_val.df\n",
        "\n"
      ],
      "metadata": {
        "id": "P52HW2JaZcRZ"
      }
    },
    {
      "cell_type": "code",
      "source": [
        "cd /content/drive/Othercomputers/My-MacBook-Air/590-Final-Project"
      ],
      "metadata": {
        "colab": {
          "base_uri": "https://localhost:8080/"
        },
        "id": "ewHLDZpVZjCx",
        "outputId": "65de7f67-486d-4968-c5d8-74f12782c299"
      },
      "execution_count": 10,
      "outputs": [
        {
          "output_type": "stream",
          "name": "stdout",
          "text": [
            "/content/drive/Othercomputers/My-MacBook-Air/590-Final-Project\n"
          ]
        }
      ]
    },
    {
      "cell_type": "code",
      "source": [
        "%run 'Scripts/preprocess.py'"
      ],
      "metadata": {
        "id": "I8uyDkgSBWIi"
      },
      "execution_count": 11,
      "outputs": []
    },
    {
      "cell_type": "code",
      "source": [
        "%run 'Scripts/split_data.py'"
      ],
      "metadata": {
        "id": "metVveP-af9R"
      },
      "execution_count": 12,
      "outputs": []
    },
    {
      "cell_type": "code",
      "source": [
        "!python 'Scripts/pop.py' --data='Datasets/Renttherunway'"
      ],
      "metadata": {
        "colab": {
          "base_uri": "https://localhost:8080/"
        },
        "id": "N1YMUWhGFVax",
        "outputId": "50560267-1ca2-494f-cc8f-2f07e101d753"
      },
      "execution_count": 13,
      "outputs": [
        {
          "output_type": "stream",
          "name": "stdout",
          "text": [
            "0.0\n",
            "1.0\n"
          ]
        }
      ]
    },
    {
      "cell_type": "code",
      "source": [
        "%run 'Scripts/replay_buffer.py'"
      ],
      "metadata": {
        "colab": {
          "base_uri": "https://localhost:8080/"
        },
        "id": "LnxEs1KFoYEY",
        "outputId": "eb867c43-3021-4e47-95a2-7ffd5d272f25"
      },
      "execution_count": 14,
      "outputs": [
        {
          "output_type": "stream",
          "name": "stdout",
          "text": [
            "          fit  user_id bust size  item_id  weight  rating     rented for  \\\n",
            "15849   large        0       34a       19  120lbs     8.0  formal affair   \n",
            "159418  small        0       34a     2281  120lbs     8.0        wedding   \n",
            "148711  large        0       34a       57  120lbs     8.0        wedding   \n",
            "156635    fit        0       34a     1059  120lbs    10.0           work   \n",
            "47886     fit        0       34a       47  120lbs    10.0  formal affair   \n",
            "\n",
            "                                              review_text body type  \\\n",
            "15849   I ordered a 2R and 0R. I wore the 0R which fit...      pear   \n",
            "159418  Beautiful color. The fabric was thick with the...      pear   \n",
            "148711  Pros: comfortable, forgiving/flattering fabric...      pear   \n",
            "156635     True to size\\nHit mid calf\\nForgiving in hips       pear   \n",
            "47886   Such an amazing dress. I wore it to a black ti...      pear   \n",
            "\n",
            "                                           review_summary category height  \\\n",
            "15849                             Formal, yet comfortable     gown  5' 4\"   \n",
            "159418                                        Lady in Res    dress  5' 4\"   \n",
            "148711                                       Unique dress    dress  5' 4\"   \n",
            "156635  Wore it to a work event. Very flattering and r...    dress  5' 4\"   \n",
            "47886                     I absolutely loved this dress.      gown  5' 4\"   \n",
            "\n",
            "        size   age       review_date  \n",
            "15849      1  29.0    April 29, 2014  \n",
            "159418     8  29.0   August 12, 2014  \n",
            "148711     8  29.0  December 4, 2013  \n",
            "156635     8  29.0     June 25, 2016  \n",
            "47886      1  29.0      May 22, 2013  \n"
          ]
        }
      ]
    },
    {
      "cell_type": "markdown",
      "source": [
        "## Running model on rent the runway"
      ],
      "metadata": {
        "id": "H59HR8gelh4N"
      }
    },
    {
      "cell_type": "code",
      "source": [
        "!python 'Scripts/SA2C.py' --model=GRU --data='Datasets/Renttherunway'"
      ],
      "metadata": {
        "colab": {
          "base_uri": "https://localhost:8080/"
        },
        "id": "hSKPd8ZkZfLp",
        "outputId": "b0329ba1-77a4-4d18-af5b-f38605d3ca66"
      },
      "execution_count": 6,
      "outputs": [
        {
          "output_type": "stream",
          "name": "stdout",
          "text": [
            "Scripts/SA2C.py:88: UserWarning: `tf.nn.rnn_cell.GRUCell` is deprecated and will be removed in a future version. This class is equivalent as `tf.keras.layers.GRUCell`, and will be replaced by that in Tensorflow 2.0.\n",
            "  tf.compat.v1.nn.rnn_cell.GRUCell(self.hidden_size),\n",
            "WARNING:tensorflow:From Scripts/SA2C.py:87: dynamic_rnn (from tensorflow.python.ops.rnn) is deprecated and will be removed in a future version.\n",
            "Instructions for updating:\n",
            "Please use `keras.layers.RNN(cell)`, which is equivalent to this API\n",
            "WARNING:tensorflow:From Scripts/SA2C.py:87: dynamic_rnn (from tensorflow.python.ops.rnn) is deprecated and will be removed in a future version.\n",
            "Instructions for updating:\n",
            "Please use `keras.layers.RNN(cell)`, which is equivalent to this API\n",
            "WARNING:tensorflow:From /usr/local/lib/python3.8/dist-packages/keras/layers/rnn/legacy_cells.py:545: calling Constant.__init__ (from tensorflow.python.ops.init_ops) with dtype is deprecated and will be removed in a future version.\n",
            "Instructions for updating:\n",
            "Call initializer instance with the dtype argument instead of passing it to the constructor\n",
            "WARNING:tensorflow:From /usr/local/lib/python3.8/dist-packages/keras/layers/rnn/legacy_cells.py:545: calling Constant.__init__ (from tensorflow.python.ops.init_ops) with dtype is deprecated and will be removed in a future version.\n",
            "Instructions for updating:\n",
            "Call initializer instance with the dtype argument instead of passing it to the constructor\n",
            "WARNING:tensorflow:From /usr/local/lib/python3.8/dist-packages/keras/layers/rnn/legacy_cells.py:555: calling Zeros.__init__ (from tensorflow.python.ops.init_ops) with dtype is deprecated and will be removed in a future version.\n",
            "Instructions for updating:\n",
            "Call initializer instance with the dtype argument instead of passing it to the constructor\n",
            "WARNING:tensorflow:From /usr/local/lib/python3.8/dist-packages/keras/layers/rnn/legacy_cells.py:555: calling Zeros.__init__ (from tensorflow.python.ops.init_ops) with dtype is deprecated and will be removed in a future version.\n",
            "Instructions for updating:\n",
            "Call initializer instance with the dtype argument instead of passing it to the constructor\n",
            "2022-12-11 12:24:57.429558: E tensorflow/stream_executor/cuda/cuda_driver.cc:271] failed call to cuInit: CUDA_ERROR_NO_DEVICE: no CUDA-capable device is detected\n",
            "Scripts/SA2C.py:215: UserWarning: `tf.layers.dense` is deprecated and will be removed in a future version. Please use `tf.keras.layers.Dense` instead.\n",
            "  self.output1 = tf.compat.v1.layers.dense(self.states_hidden, self.item_num,\n",
            "Scripts/SA2C.py:218: UserWarning: `tf.layers.dense` is deprecated and will be removed in a future version. Please use `tf.keras.layers.Dense` instead.\n",
            "  self.output2= tf.compat.v1.layers.dense(self.states_hidden, self.item_num,\n",
            "the loss in 200th batch is: 7.983791\n",
            "the loss in 400th batch is: 7.718812\n",
            "the loss in 600th batch is: 7.507514\n",
            "the loss in 800th batch is: 7.397563\n",
            "the loss in 1000th batch is: 7.176790\n",
            "#############################################################\n",
            "total clicks: 17, total purchase:690\n",
            "~~~~~~~~~~~~~~~~~~~~~~~~~~~~~~~~~~~~~~~~~~~~~~~~~~~~~~~~~~~~~\n",
            "cumulative reward @ 5: 5.200000\n",
            "clicks hr ndcg @ 5 : 0.058824, 0.025334\n",
            "purchase hr and ndcg @5 : 0.007246, 0.003738\n",
            "~~~~~~~~~~~~~~~~~~~~~~~~~~~~~~~~~~~~~~~~~~~~~~~~~~~~~~~~~~~~~\n",
            "cumulative reward @ 10: 13.200000\n",
            "clicks hr ndcg @ 10 : 0.058824, 0.025334\n",
            "purchase hr and ndcg @10 : 0.018841, 0.007383\n",
            "~~~~~~~~~~~~~~~~~~~~~~~~~~~~~~~~~~~~~~~~~~~~~~~~~~~~~~~~~~~~~\n",
            "cumulative reward @ 15: 19.200000\n",
            "clicks hr ndcg @ 15 : 0.058824, 0.025334\n",
            "purchase hr and ndcg @15 : 0.027536, 0.009694\n",
            "~~~~~~~~~~~~~~~~~~~~~~~~~~~~~~~~~~~~~~~~~~~~~~~~~~~~~~~~~~~~~\n",
            "cumulative reward @ 20: 24.200000\n",
            "clicks hr ndcg @ 20 : 0.058824, 0.025334\n",
            "purchase hr and ndcg @20 : 0.034783, 0.011409\n",
            "off-line corrected evaluation (click_ng,purchase_ng)@10: 0.000942, 0.000521\n",
            "#############################################################\n"
          ]
        }
      ]
    }
  ]
}
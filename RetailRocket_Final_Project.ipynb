{
  "cells": [
    {
      "cell_type": "markdown",
      "metadata": {
        "id": "aSm0azbAs0W9"
      },
      "source": [
        "# **Duke University**\n",
        "* Course: AIPI590 (Deep Reinforcement Learning Applications)\n",
        "* Fall 2022:\n",
        "\n",
        "# * Final Project: Product recommender for E-commerce\n",
        "* Dataset: RetailRocket\n",
        "* Metric: AUC\n"
      ]
    },
    {
      "cell_type": "markdown",
      "metadata": {
        "id": "8Oh9-t5Rs0Ew"
      },
      "source": [
        "\n",
        "# The RetailRocket Dataset\n",
        "\n",
        "This dataset includes three files:\n",
        "* (i) A file with behaviour data (events.csv)\n",
        "* (ii) A file with item properties (itemproperties.сsv)\n",
        "* (iii) A file describing the category tree (categorytree.сsv).\n",
        "The data has been collected from a real-world ecommerce website. It is raw data, i.e. without any content transformations, however, all values are hashed due to confidential issues.\n",
        "\n",
        "# Content\n",
        "\n",
        "The behaviour data (events like clicks, add to carts, transactions) represents interactions that were collected over a period of 4.5 months. A visitor can make three types of events, namely: **“view”**, **“addtocart”** or **“transaction”**. The total events are 2,756,101, the views total 2,664,312, the addtocart 69,332 and 22,457 transactions from 1,407,580 unique visitors. For about 90% of events corresponding properties can be found in the “item_properties.csv” file.\n",
        "\n",
        "# For example:\n",
        "*  “1439694000000,1,view,100,” means visitorId = 1, clicked the item with id = 100 at 1439694000000 (Unix timestamp)\n",
        "* “1439694000000,2,transaction,1000,234” means visitorId = 2 purchased the item \n",
        "with id = 1000 in transaction with id = 234 at 1439694000000 (Unix timestamp).\n",
        "\n",
        "The \"item properties\" file (item_properties.csv), has 20,275,902 rows, i.e. different properties, describing 417,053 unique items. The File is divided into 2 files due to file size limitations. Since the property of an item can vary in time (e.g., price changes over time), every row in the file has corresponding timestamp. In other words, the file consists of concatenated snapshots for every week in the file with the behaviour data. However, if a property of an item is constant over the observed period, only a single snapshot value will be present in the file.\n",
        "For example, we have three properties for single item and 4 weekly snapshots, like below:\n",
        "> timestamp,itemid,property,value\n",
        "1439694000000,1,100,1000\n",
        "1439695000000,1,100,1000\n",
        "1439696000000,1,100,1000\n",
        "1439697000000,1,100,1000\n",
        "1439694000000,1,200,1000\n",
        "1439695000000,1,200,1100\n",
        "1439696000000,1,200,1200\n",
        "1439697000000,1,200,1300\n",
        "1439694000000,1,300,1000\n",
        "1439695000000,1,300,1000\n",
        "1439696000000,1,300,1100\n",
        "1439697000000,1,300,1100\n",
        "\n",
        "**After snapshot merge it would looks like:**\n",
        "\n",
        "> 1439694000000,1,100,1000\n",
        "1439694000000,1,200,1000\n",
        "1439695000000,1,200,1100\n",
        "1439696000000,1,200,1200\n",
        "1439697000000,1,200,1300\n",
        "1439694000000,1,300,1000\n",
        "1439696000000,1,300,1100\n",
        "\n",
        "Because property=100 is constant over time, property=200 has different values for all snapshots, property=300 has been changed once.\n",
        "\n",
        "Item properties file contain timestamp column because all of them are time dependent, since properties may change over time, e.g. price, category, etc. Initially, this file consisted of snapshots for every week in the events file and contained over 200 millions rows. We have merged consecutive constant property values, so it's changed from snapshot form to change log form. Thus, constant values would appear only once in the file. This action has significantly reduced the number of rows in 10 times.\n",
        "\n",
        "All values in the “item_properties.csv” file excluding \"categoryid\" and \"available\" properties were hashed. Value of the \"categoryid\" property contains item category identifier. Value of the \"available\" property contains availability of the item, i.e. 1 means the item was available, otherwise 0. All numerical values were marked with \"n\" char at the beginning, and have 3 digits precision after decimal point, e.g., \"5\" will become \"n5.000\", \"-3.67584\" will become \"n-3.675\". All words in text values were normalized (stemming procedure: https://en.wikipedia.org/wiki/Stemming) and hashed, numbers were processed as above, e.g. text \"Hello world 2017!\" will become \"24214 44214 n2017.000\"\n",
        "\n",
        "The category tree file has 1669 rows. Every row in the file specifies a child categoryId and the corresponding parent.\n",
        "For example:\n",
        "\n",
        "> Line “100,200” means that categoryid=1 has parent with categoryid=200\n",
        "\n",
        "> Line “300,” means that categoryid hasn’t parent in the tree\n",
        "Acknowledgements\n",
        "\n",
        "Retail Rocket (retailrocket.io) helps web shoppers make better shopping decisions by providing personalized real-time recommendations through multiple channels with over 100MM unique monthly users and 1000+ retail partners over the world.\n",
        "\n",
        "# Source: https://www.kaggle.com/datasets/retailrocket/ecommerce-dataset \n"
      ]
    },
    {
      "cell_type": "markdown",
      "metadata": {
        "id": "a0Bd-U2ZAPam"
      },
      "source": [
        "**If not accessig data files from Google drive, skip first two steps.**"
      ]
    },
    {
      "cell_type": "code",
      "execution_count": 2,
      "metadata": {
        "colab": {
          "base_uri": "https://localhost:8080/"
        },
        "id": "8_RN0Ilja22C",
        "outputId": "2307cabe-baac-4ea0-eb42-ed40c172f2bb"
      },
      "outputs": [
        {
          "output_type": "stream",
          "name": "stdout",
          "text": [
            "Drive already mounted at /content/drive; to attempt to forcibly remount, call drive.mount(\"/content/drive\", force_remount=True).\n"
          ]
        }
      ],
      "source": [
        "from google.colab import drive\n",
        "drive.mount('/content/drive')"
      ]
    },
    {
      "cell_type": "code",
      "execution_count": 3,
      "metadata": {
        "colab": {
          "base_uri": "https://localhost:8080/"
        },
        "id": "AqY5eox2bBQ4",
        "outputId": "2c623824-d8a1-4eae-f9b7-6cae97e5de92"
      },
      "outputs": [
        {
          "output_type": "stream",
          "name": "stdout",
          "text": [
            "/content/drive/Othercomputers/My-MacBook-Air/590-Final-Project\n"
          ]
        }
      ],
      "source": [
        "#%cd /content/drive/MyDrive/FinalProj/\n",
        "%cd /content/drive/Othercomputers/My-MacBook-Air/590-Final-Project/"
      ]
    },
    {
      "cell_type": "markdown",
      "metadata": {
        "id": "CckGzLjGAroj"
      },
      "source": [
        "**Import necessary libraries and dependicies**"
      ]
    },
    {
      "cell_type": "code",
      "execution_count": 4,
      "metadata": {
        "id": "O6D34UJnZ5U_"
      },
      "outputs": [],
      "source": [
        "import pandas as pd\n",
        "import numpy as np\n",
        "\n",
        "import datetime \n",
        "import time\n",
        "\n",
        "%matplotlib inline\n",
        "import matplotlib.pyplot as plt \n",
        "import seaborn as sns"
      ]
    },
    {
      "cell_type": "markdown",
      "metadata": {
        "id": "RazNBdnKDHkH"
      },
      "source": [
        "**Verify you are in the correct folder(s).**"
      ]
    },
    {
      "cell_type": "code",
      "execution_count": 5,
      "metadata": {
        "colab": {
          "base_uri": "https://localhost:8080/"
        },
        "id": "LZTIttzNqSjM",
        "outputId": "f5916982-d94c-4690-febf-290a5aae7fc5"
      },
      "outputs": [
        {
          "output_type": "stream",
          "name": "stdout",
          "text": [
            "Amazon_final_project.ipynb  RetailRocket_Final_Project.ipynb\n",
            "Authors.md\t\t    Scripts\n",
            "Datasets\t\t    Take_Home_Project_2022F.pdf\n",
            "README.md\n"
          ]
        }
      ],
      "source": [
        "!ls\n"
      ]
    },
    {
      "cell_type": "markdown",
      "metadata": {
        "id": "3iNURUnlA7Mz"
      },
      "source": [
        "##  Access and load the data for the \"item-properties\" files."
      ]
    },
    {
      "cell_type": "code",
      "execution_count": 6,
      "metadata": {
        "colab": {
          "base_uri": "https://localhost:8080/",
          "height": 520
        },
        "id": "HzLpYwySrwwM",
        "outputId": "7153d3f1-e7a5-44ec-e898-7e57d4032d6e"
      },
      "outputs": [
        {
          "output_type": "execute_result",
          "data": {
            "text/plain": [
              "              timestamp  itemid    property                     value\n",
              "2385023   1439089200000  197429         451     1141052 140719 553394\n",
              "8558784   1436670000000   97131         888             140639 384353\n",
              "1670729   1431226800000  107502  categoryid                       342\n",
              "68075     1432436400000  248723         441                  n744.000\n",
              "8873369   1434250800000  224647        1021             878129 424566\n",
              "7326305   1433041200000  332224         790               n152400.000\n",
              "9529082   1439694000000  379496         378            1186729 681805\n",
              "7219787   1431226800000   10670         888  533516 n46620.000 176538\n",
              "10904356  1440298800000  255405         888                    505510\n",
              "2447707   1433041200000   51795         451             140719 553394\n",
              "10610590  1439694000000  162000         964         n2640.000 1128577\n",
              "3020925   1438484400000  196271          60            939845 n48.000\n",
              "4632154   1439694000000  230536         584                    769062\n",
              "1685631   1433041200000  426003         208      769062 671314 947564\n",
              "3590157   1433646000000  400899         686                    610834"
            ],
            "text/html": [
              "\n",
              "  <div id=\"df-89d0ee39-edee-40f8-b9c2-9ecfc195e661\">\n",
              "    <div class=\"colab-df-container\">\n",
              "      <div>\n",
              "<style scoped>\n",
              "    .dataframe tbody tr th:only-of-type {\n",
              "        vertical-align: middle;\n",
              "    }\n",
              "\n",
              "    .dataframe tbody tr th {\n",
              "        vertical-align: top;\n",
              "    }\n",
              "\n",
              "    .dataframe thead th {\n",
              "        text-align: right;\n",
              "    }\n",
              "</style>\n",
              "<table border=\"1\" class=\"dataframe\">\n",
              "  <thead>\n",
              "    <tr style=\"text-align: right;\">\n",
              "      <th></th>\n",
              "      <th>timestamp</th>\n",
              "      <th>itemid</th>\n",
              "      <th>property</th>\n",
              "      <th>value</th>\n",
              "    </tr>\n",
              "  </thead>\n",
              "  <tbody>\n",
              "    <tr>\n",
              "      <th>2385023</th>\n",
              "      <td>1439089200000</td>\n",
              "      <td>197429</td>\n",
              "      <td>451</td>\n",
              "      <td>1141052 140719 553394</td>\n",
              "    </tr>\n",
              "    <tr>\n",
              "      <th>8558784</th>\n",
              "      <td>1436670000000</td>\n",
              "      <td>97131</td>\n",
              "      <td>888</td>\n",
              "      <td>140639 384353</td>\n",
              "    </tr>\n",
              "    <tr>\n",
              "      <th>1670729</th>\n",
              "      <td>1431226800000</td>\n",
              "      <td>107502</td>\n",
              "      <td>categoryid</td>\n",
              "      <td>342</td>\n",
              "    </tr>\n",
              "    <tr>\n",
              "      <th>68075</th>\n",
              "      <td>1432436400000</td>\n",
              "      <td>248723</td>\n",
              "      <td>441</td>\n",
              "      <td>n744.000</td>\n",
              "    </tr>\n",
              "    <tr>\n",
              "      <th>8873369</th>\n",
              "      <td>1434250800000</td>\n",
              "      <td>224647</td>\n",
              "      <td>1021</td>\n",
              "      <td>878129 424566</td>\n",
              "    </tr>\n",
              "    <tr>\n",
              "      <th>7326305</th>\n",
              "      <td>1433041200000</td>\n",
              "      <td>332224</td>\n",
              "      <td>790</td>\n",
              "      <td>n152400.000</td>\n",
              "    </tr>\n",
              "    <tr>\n",
              "      <th>9529082</th>\n",
              "      <td>1439694000000</td>\n",
              "      <td>379496</td>\n",
              "      <td>378</td>\n",
              "      <td>1186729 681805</td>\n",
              "    </tr>\n",
              "    <tr>\n",
              "      <th>7219787</th>\n",
              "      <td>1431226800000</td>\n",
              "      <td>10670</td>\n",
              "      <td>888</td>\n",
              "      <td>533516 n46620.000 176538</td>\n",
              "    </tr>\n",
              "    <tr>\n",
              "      <th>10904356</th>\n",
              "      <td>1440298800000</td>\n",
              "      <td>255405</td>\n",
              "      <td>888</td>\n",
              "      <td>505510</td>\n",
              "    </tr>\n",
              "    <tr>\n",
              "      <th>2447707</th>\n",
              "      <td>1433041200000</td>\n",
              "      <td>51795</td>\n",
              "      <td>451</td>\n",
              "      <td>140719 553394</td>\n",
              "    </tr>\n",
              "    <tr>\n",
              "      <th>10610590</th>\n",
              "      <td>1439694000000</td>\n",
              "      <td>162000</td>\n",
              "      <td>964</td>\n",
              "      <td>n2640.000 1128577</td>\n",
              "    </tr>\n",
              "    <tr>\n",
              "      <th>3020925</th>\n",
              "      <td>1438484400000</td>\n",
              "      <td>196271</td>\n",
              "      <td>60</td>\n",
              "      <td>939845 n48.000</td>\n",
              "    </tr>\n",
              "    <tr>\n",
              "      <th>4632154</th>\n",
              "      <td>1439694000000</td>\n",
              "      <td>230536</td>\n",
              "      <td>584</td>\n",
              "      <td>769062</td>\n",
              "    </tr>\n",
              "    <tr>\n",
              "      <th>1685631</th>\n",
              "      <td>1433041200000</td>\n",
              "      <td>426003</td>\n",
              "      <td>208</td>\n",
              "      <td>769062 671314 947564</td>\n",
              "    </tr>\n",
              "    <tr>\n",
              "      <th>3590157</th>\n",
              "      <td>1433646000000</td>\n",
              "      <td>400899</td>\n",
              "      <td>686</td>\n",
              "      <td>610834</td>\n",
              "    </tr>\n",
              "  </tbody>\n",
              "</table>\n",
              "</div>\n",
              "      <button class=\"colab-df-convert\" onclick=\"convertToInteractive('df-89d0ee39-edee-40f8-b9c2-9ecfc195e661')\"\n",
              "              title=\"Convert this dataframe to an interactive table.\"\n",
              "              style=\"display:none;\">\n",
              "        \n",
              "  <svg xmlns=\"http://www.w3.org/2000/svg\" height=\"24px\"viewBox=\"0 0 24 24\"\n",
              "       width=\"24px\">\n",
              "    <path d=\"M0 0h24v24H0V0z\" fill=\"none\"/>\n",
              "    <path d=\"M18.56 5.44l.94 2.06.94-2.06 2.06-.94-2.06-.94-.94-2.06-.94 2.06-2.06.94zm-11 1L8.5 8.5l.94-2.06 2.06-.94-2.06-.94L8.5 2.5l-.94 2.06-2.06.94zm10 10l.94 2.06.94-2.06 2.06-.94-2.06-.94-.94-2.06-.94 2.06-2.06.94z\"/><path d=\"M17.41 7.96l-1.37-1.37c-.4-.4-.92-.59-1.43-.59-.52 0-1.04.2-1.43.59L10.3 9.45l-7.72 7.72c-.78.78-.78 2.05 0 2.83L4 21.41c.39.39.9.59 1.41.59.51 0 1.02-.2 1.41-.59l7.78-7.78 2.81-2.81c.8-.78.8-2.07 0-2.86zM5.41 20L4 18.59l7.72-7.72 1.47 1.35L5.41 20z\"/>\n",
              "  </svg>\n",
              "      </button>\n",
              "      \n",
              "  <style>\n",
              "    .colab-df-container {\n",
              "      display:flex;\n",
              "      flex-wrap:wrap;\n",
              "      gap: 12px;\n",
              "    }\n",
              "\n",
              "    .colab-df-convert {\n",
              "      background-color: #E8F0FE;\n",
              "      border: none;\n",
              "      border-radius: 50%;\n",
              "      cursor: pointer;\n",
              "      display: none;\n",
              "      fill: #1967D2;\n",
              "      height: 32px;\n",
              "      padding: 0 0 0 0;\n",
              "      width: 32px;\n",
              "    }\n",
              "\n",
              "    .colab-df-convert:hover {\n",
              "      background-color: #E2EBFA;\n",
              "      box-shadow: 0px 1px 2px rgba(60, 64, 67, 0.3), 0px 1px 3px 1px rgba(60, 64, 67, 0.15);\n",
              "      fill: #174EA6;\n",
              "    }\n",
              "\n",
              "    [theme=dark] .colab-df-convert {\n",
              "      background-color: #3B4455;\n",
              "      fill: #D2E3FC;\n",
              "    }\n",
              "\n",
              "    [theme=dark] .colab-df-convert:hover {\n",
              "      background-color: #434B5C;\n",
              "      box-shadow: 0px 1px 3px 1px rgba(0, 0, 0, 0.15);\n",
              "      filter: drop-shadow(0px 1px 2px rgba(0, 0, 0, 0.3));\n",
              "      fill: #FFFFFF;\n",
              "    }\n",
              "  </style>\n",
              "\n",
              "      <script>\n",
              "        const buttonEl =\n",
              "          document.querySelector('#df-89d0ee39-edee-40f8-b9c2-9ecfc195e661 button.colab-df-convert');\n",
              "        buttonEl.style.display =\n",
              "          google.colab.kernel.accessAllowed ? 'block' : 'none';\n",
              "\n",
              "        async function convertToInteractive(key) {\n",
              "          const element = document.querySelector('#df-89d0ee39-edee-40f8-b9c2-9ecfc195e661');\n",
              "          const dataTable =\n",
              "            await google.colab.kernel.invokeFunction('convertToInteractive',\n",
              "                                                     [key], {});\n",
              "          if (!dataTable) return;\n",
              "\n",
              "          const docLinkHtml = 'Like what you see? Visit the ' +\n",
              "            '<a target=\"_blank\" href=https://colab.research.google.com/notebooks/data_table.ipynb>data table notebook</a>'\n",
              "            + ' to learn more about interactive tables.';\n",
              "          element.innerHTML = '';\n",
              "          dataTable['output_type'] = 'display_data';\n",
              "          await google.colab.output.renderOutput(dataTable, element);\n",
              "          const docLink = document.createElement('div');\n",
              "          docLink.innerHTML = docLinkHtml;\n",
              "          element.appendChild(docLink);\n",
              "        }\n",
              "      </script>\n",
              "    </div>\n",
              "  </div>\n",
              "  "
            ]
          },
          "metadata": {},
          "execution_count": 6
        }
      ],
      "source": [
        "#PROJ_DIR = '/content/drive/MyDrive/FinalProj/RetailRocket/'\n",
        "PROJ_DIR = 'Datasets/RetailRocket/'\n",
        "items1 = pd.read_csv(PROJ_DIR + \"item_properties_part1.csv.zip\",compression='zip')\n",
        "items2 = pd.read_csv(PROJ_DIR + \"item_properties_part2.csv.zip\",compression='zip')\n",
        "events = pd.read_csv(PROJ_DIR + \"events.csv.zip\",compression='zip')\n",
        "items = pd.concat([items1, items2])\n",
        "items.sample(15)"
      ]
    },
    {
      "cell_type": "code",
      "execution_count": 7,
      "metadata": {
        "colab": {
          "base_uri": "https://localhost:8080/"
        },
        "id": "0NWxUlVysF0D",
        "outputId": "603c372b-00bd-4127-9af4-d4191b74f5c7"
      },
      "outputs": [
        {
          "output_type": "execute_result",
          "data": {
            "text/plain": [
              "(20275902, 4)"
            ]
          },
          "metadata": {},
          "execution_count": 7
        }
      ],
      "source": [
        "items.shape"
      ]
    },
    {
      "cell_type": "code",
      "execution_count": 8,
      "metadata": {
        "id": "rNaylFDGfLUF"
      },
      "outputs": [],
      "source": [
        "# Create list of visitors who made a purchase and the purchased items\n",
        "customer_purchased = events[events.transactionid.notnull()].visitorid.unique()\n",
        "purchased_items = []\n",
        "\n",
        "for customer in customer_purchased:\n",
        "    purchased_items.append(list(events.loc[(events.visitorid == customer) & (events.transactionid.notnull())].itemid.values))"
      ]
    },
    {
      "cell_type": "code",
      "execution_count": 9,
      "metadata": {
        "colab": {
          "base_uri": "https://localhost:8080/"
        },
        "id": "XMwHF9yXffwW",
        "outputId": "b1472648-01c6-47c3-d5cd-666ade75c71b"
      },
      "outputs": [
        {
          "output_type": "execute_result",
          "data": {
            "text/plain": [
              "[[356475],\n",
              " [15335,\n",
              "  380775,\n",
              "  237753,\n",
              "  317178,\n",
              "  12836,\n",
              "  400969,\n",
              "  105792,\n",
              "  25353,\n",
              "  200793,\n",
              "  80582,\n",
              "  302422],\n",
              " [81345],\n",
              " [150318, 49521],\n",
              " [310791, 299044],\n",
              " [54058,\n",
              "  284871,\n",
              "  251130,\n",
              "  268335,\n",
              "  183049,\n",
              "  261940,\n",
              "  369093,\n",
              "  370745,\n",
              "  192990,\n",
              "  277119,\n",
              "  241716,\n",
              "  283766,\n",
              "  16417,\n",
              "  217068,\n",
              "  36372,\n",
              "  68923,\n",
              "  428015,\n",
              "  69533,\n",
              "  13520,\n",
              "  385638,\n",
              "  442871,\n",
              "  136526,\n",
              "  247862,\n",
              "  93828,\n",
              "  230911,\n",
              "  382595,\n",
              "  34853,\n",
              "  216260,\n",
              "  154812,\n",
              "  445241,\n",
              "  57702,\n",
              "  347850,\n",
              "  151855,\n",
              "  226327,\n",
              "  288525,\n",
              "  51354,\n",
              "  345994,\n",
              "  170438,\n",
              "  254301,\n",
              "  266439,\n",
              "  193718,\n",
              "  388558,\n",
              "  26745,\n",
              "  184086,\n",
              "  79956,\n",
              "  252040,\n",
              "  82232,\n",
              "  309821,\n",
              "  394518,\n",
              "  462070,\n",
              "  331980,\n",
              "  353111,\n",
              "  200527,\n",
              "  235933,\n",
              "  68532,\n",
              "  358882,\n",
              "  60012,\n",
              "  29741,\n",
              "  270487,\n",
              "  163689,\n",
              "  6913,\n",
              "  156457,\n",
              "  341578,\n",
              "  163352,\n",
              "  234493,\n",
              "  135174,\n",
              "  452481,\n",
              "  241755,\n",
              "  56323,\n",
              "  210137,\n",
              "  184397,\n",
              "  285202,\n",
              "  198690,\n",
              "  195958,\n",
              "  239210,\n",
              "  71640,\n",
              "  189108,\n",
              "  369112,\n",
              "  346186,\n",
              "  211207,\n",
              "  134330,\n",
              "  257070,\n",
              "  302239,\n",
              "  459480,\n",
              "  57577,\n",
              "  195234,\n",
              "  215904,\n",
              "  374092,\n",
              "  170262,\n",
              "  170262,\n",
              "  229577,\n",
              "  264801,\n",
              "  94344,\n",
              "  204209,\n",
              "  442725,\n",
              "  9087,\n",
              "  259964,\n",
              "  361554,\n",
              "  442131,\n",
              "  23251,\n",
              "  332721,\n",
              "  85914,\n",
              "  302391,\n",
              "  200242,\n",
              "  234255,\n",
              "  372845,\n",
              "  404129,\n",
              "  214757,\n",
              "  222208,\n",
              "  372845,\n",
              "  206809,\n",
              "  249207],\n",
              " [150100,\n",
              "  50934,\n",
              "  36013,\n",
              "  26210,\n",
              "  118199,\n",
              "  234199,\n",
              "  416187,\n",
              "  167985,\n",
              "  146735,\n",
              "  4887,\n",
              "  218626,\n",
              "  338148,\n",
              "  197980,\n",
              "  240558,\n",
              "  272813,\n",
              "  197968,\n",
              "  332224,\n",
              "  92668,\n",
              "  268335,\n",
              "  120259,\n",
              "  378845,\n",
              "  449946,\n",
              "  95426,\n",
              "  85579,\n",
              "  17478,\n",
              "  16813,\n",
              "  150215,\n",
              "  187200,\n",
              "  111083,\n",
              "  359040,\n",
              "  428067,\n",
              "  179136,\n",
              "  422425,\n",
              "  242521,\n",
              "  21886,\n",
              "  448494,\n",
              "  175555,\n",
              "  421606,\n",
              "  86894,\n",
              "  243376,\n",
              "  138434,\n",
              "  422481,\n",
              "  235748,\n",
              "  63859,\n",
              "  55706],\n",
              " [243566]]"
            ]
          },
          "metadata": {},
          "execution_count": 9
        }
      ],
      "source": [
        "purchased_items[:8]"
      ]
    },
    {
      "cell_type": "markdown",
      "metadata": {
        "id": "BqeVwfsnOR64"
      },
      "source": [
        "Function for showing items bought by the same customer."
      ]
    },
    {
      "cell_type": "code",
      "execution_count": 10,
      "metadata": {
        "id": "R2nwqBd6fzK-"
      },
      "outputs": [],
      "source": [
        "def recommend_items(item_id, purchased_items):\n",
        "    recommendation_list =[]\n",
        "    for x in purchased_items:\n",
        "        if item_id in x:\n",
        "            recommendation_list +=x\n",
        "    recommendation_list = list(set(recommendation_list) - set([item_id]))\n",
        "    return recommendation_list"
      ]
    },
    {
      "cell_type": "markdown",
      "metadata": {
        "id": "mzLePY2bN0jR"
      },
      "source": [
        "Recommend items when a visitor is views item_id = 404129"
      ]
    },
    {
      "cell_type": "code",
      "execution_count": 11,
      "metadata": {
        "colab": {
          "base_uri": "https://localhost:8080/"
        },
        "id": "zDKhvVfIf0oa",
        "outputId": "a810e790-f562-496f-f53d-8e509a1f8e6a"
      },
      "outputs": [
        {
          "output_type": "execute_result",
          "data": {
            "text/plain": [
              "[222208,\n",
              " 6913,\n",
              " 56323,\n",
              " 135174,\n",
              " 211207,\n",
              " 183049,\n",
              " 288525,\n",
              " 234255,\n",
              " 285202,\n",
              " 442131,\n",
              " 36372,\n",
              " 184086,\n",
              " 226327,\n",
              " 163352,\n",
              " 394518,\n",
              " 170262,\n",
              " 16417,\n",
              " 198690,\n",
              " 34853,\n",
              " 156457,\n",
              " 54058,\n",
              " 29741,\n",
              " 257070,\n",
              " 268335,\n",
              " 151855,\n",
              " 200242,\n",
              " 241716,\n",
              " 261940,\n",
              " 247862,\n",
              " 302391,\n",
              " 82232,\n",
              " 370745,\n",
              " 445241,\n",
              " 68923,\n",
              " 309821,\n",
              " 341578,\n",
              " 346186,\n",
              " 374092,\n",
              " 184397,\n",
              " 136526,\n",
              " 200527,\n",
              " 361554,\n",
              " 79956,\n",
              " 353111,\n",
              " 241755,\n",
              " 254301,\n",
              " 215904,\n",
              " 264801,\n",
              " 442725,\n",
              " 385638,\n",
              " 57702,\n",
              " 163689,\n",
              " 239210,\n",
              " 60012,\n",
              " 372845,\n",
              " 283766,\n",
              " 195958,\n",
              " 249207,\n",
              " 26745,\n",
              " 259964,\n",
              " 277119,\n",
              " 9087,\n",
              " 452481,\n",
              " 382595,\n",
              " 93828,\n",
              " 252040,\n",
              " 94344,\n",
              " 345994,\n",
              " 270487,\n",
              " 51354,\n",
              " 85914,\n",
              " 69533,\n",
              " 235933,\n",
              " 302239,\n",
              " 195234,\n",
              " 204209,\n",
              " 332721,\n",
              " 189108,\n",
              " 68532,\n",
              " 193718,\n",
              " 134330,\n",
              " 154812,\n",
              " 216260,\n",
              " 369093,\n",
              " 170438,\n",
              " 284871,\n",
              " 266439,\n",
              " 229577,\n",
              " 347850,\n",
              " 331980,\n",
              " 388558,\n",
              " 13520,\n",
              " 23251,\n",
              " 459480,\n",
              " 210137,\n",
              " 71640,\n",
              " 369112,\n",
              " 206809,\n",
              " 192990,\n",
              " 358882,\n",
              " 214757,\n",
              " 57577,\n",
              " 217068,\n",
              " 428015,\n",
              " 462070,\n",
              " 442871,\n",
              " 251130,\n",
              " 234493,\n",
              " 230911]"
            ]
          },
          "metadata": {},
          "execution_count": 11
        }
      ],
      "source": [
        "recommend_items(404129, purchased_items)"
      ]
    },
    {
      "cell_type": "markdown",
      "metadata": {
        "id": "H7z9k9-j5RJY"
      },
      "source": [
        "# Load and Plot Data"
      ]
    },
    {
      "cell_type": "code",
      "execution_count": 12,
      "metadata": {
        "colab": {
          "base_uri": "https://localhost:8080/",
          "height": 1000
        },
        "id": "Kj9bWKpw5UIK",
        "outputId": "045a3896-bda7-4a84-c99f-788915390aa5"
      },
      "outputs": [
        {
          "output_type": "stream",
          "name": "stdout",
          "text": [
            "event\n",
            "addtocart        69332\n",
            "transaction      22457\n",
            "view           2664312\n",
            "Name: event, dtype: int64\n"
          ]
        },
        {
          "output_type": "display_data",
          "data": {
            "text/plain": [
              "<Figure size 720x576 with 1 Axes>"
            ],
            "image/png": "[encoded data removed]"
          },
          "metadata": {
            "needs_background": "light"
          }
        },
        {
          "output_type": "display_data",
          "data": {
            "text/plain": [
              "<Figure size 576x576 with 1 Axes>"
            ],
            "image/png": "[encoded data removed]"
          },
          "metadata": {}
        },
        {
          "output_type": "stream",
          "name": "stdout",
          "text": [
            "Total visitors: 2756101\n",
            "Unique visitors: 1407580\n",
            "items with categoryid and available as property: 9167412\n"
          ]
        },
        {
          "output_type": "stream",
          "name": "stderr",
          "text": [
            "/usr/local/lib/python3.8/dist-packages/seaborn/_decorators.py:36: FutureWarning: Pass the following variables as keyword args: x, y. From version 0.12, the only valid positional argument will be `data`, and passing other arguments without an explicit keyword will result in an error or misinterpretation.\n",
            "  warnings.warn(\n",
            "/usr/local/lib/python3.8/dist-packages/seaborn/_decorators.py:36: FutureWarning: Pass the following variables as keyword args: x, y. From version 0.12, the only valid positional argument will be `data`, and passing other arguments without an explicit keyword will result in an error or misinterpretation.\n",
            "  warnings.warn(\n",
            "/usr/local/lib/python3.8/dist-packages/seaborn/_decorators.py:36: FutureWarning: Pass the following variables as keyword args: x, y. From version 0.12, the only valid positional argument will be `data`, and passing other arguments without an explicit keyword will result in an error or misinterpretation.\n",
            "  warnings.warn(\n"
          ]
        }
      ],
      "source": [
        "%run 'Scripts/Retail_Rocket/preprocess.py' --data='Datasets/RetailRocket/'"
      ]
    },
    {
      "cell_type": "markdown",
      "metadata": {
        "id": "1z6eaPVZ5bud"
      },
      "source": [
        "## Data Preparation\n"
      ]
    },
    {
      "cell_type": "code",
      "execution_count": 13,
      "metadata": {
        "colab": {
          "base_uri": "https://localhost:8080/"
        },
        "id": "cxmDMjCT5eWa",
        "outputId": "4ffe0c1b-86da-479a-ceac-8e669fce37ac"
      },
      "outputs": [
        {
          "output_type": "stream",
          "name": "stderr",
          "text": [
            "/content/drive/Othercomputers/My-MacBook-Air/590-Final-Project/Scripts/Retail_Rocket/split_data.py:30: SettingWithCopyWarning: \n",
            "A value is trying to be set on a copy of a slice from a DataFrame.\n",
            "Try using .loc[row_indexer,col_indexer] = value instead\n",
            "\n",
            "See the caveats in the documentation: https://pandas.pydata.org/pandas-docs/stable/user_guide/indexing.html#returning-a-view-versus-a-copy\n",
            "  events_train['rating'] = cate_enc.fit_transform(events_train.event)\n",
            "/content/drive/Othercomputers/My-MacBook-Air/590-Final-Project/Scripts/Retail_Rocket/split_data.py:33: SettingWithCopyWarning: \n",
            "A value is trying to be set on a copy of a slice from a DataFrame.\n",
            "Try using .loc[row_indexer,col_indexer] = value instead\n",
            "\n",
            "See the caveats in the documentation: https://pandas.pydata.org/pandas-docs/stable/user_guide/indexing.html#returning-a-view-versus-a-copy\n",
            "  events_train['visitorid'] = trans_cat_train['visitorid']\n",
            "/content/drive/Othercomputers/My-MacBook-Air/590-Final-Project/Scripts/Retail_Rocket/split_data.py:35: SettingWithCopyWarning: \n",
            "A value is trying to be set on a copy of a slice from a DataFrame.\n",
            "Try using .loc[row_indexer,col_indexer] = value instead\n",
            "\n",
            "See the caveats in the documentation: https://pandas.pydata.org/pandas-docs/stable/user_guide/indexing.html#returning-a-view-versus-a-copy\n",
            "  events_train['itemid'] = trans_cat_train['itemid']\n"
          ]
        }
      ],
      "source": [
        "%run 'Scripts/Retail_Rocket/split_data.py'"
      ]
    },
    {
      "cell_type": "code",
      "execution_count": 14,
      "metadata": {
        "colab": {
          "base_uri": "https://localhost:8080/"
        },
        "id": "cknPpvmh5n2H",
        "outputId": "a6ea52ca-e9a7-4d70-863f-f83ff8e5c679"
      },
      "outputs": [
        {
          "output_type": "stream",
          "name": "stdout",
          "text": [
            "0.0\n",
            "1.0\n",
            "2.0\n",
            "3.0\n"
          ]
        }
      ],
      "source": [
        "%run 'Scripts/Retail_Rocket/pop.py' --data='Datasets/RetailRocket'"
      ]
    },
    {
      "cell_type": "code",
      "execution_count": 15,
      "metadata": {
        "colab": {
          "base_uri": "https://localhost:8080/"
        },
        "id": "zeOhmgfc5ssP",
        "outputId": "1da1cbeb-7678-4b95-d2be-3626c1ffb21f"
      },
      "outputs": [
        {
          "output_type": "stream",
          "name": "stdout",
          "text": [
            "   visitorid  itemid event        date\n",
            "0     689859  421640  view  2015-05-03\n",
            "1     935582  203248  view  2015-05-03\n",
            "2     696326  194830  view  2015-05-03\n",
            "3     131668  395045  view  2015-05-03\n",
            "4     595484  129111  view  2015-05-03\n"
          ]
        }
      ],
      "source": [
        "%run 'Scripts/Retail_Rocket/replay_buffer.py'"
      ]
    },
    {
      "cell_type": "code",
      "execution_count": 16,
      "metadata": {
        "colab": {
          "base_uri": "https://localhost:8080/",
          "height": 424
        },
        "id": "au1qhBPK2iX8",
        "outputId": "9d55de24-bd6c-4974-a727-42df3fe52691"
      },
      "outputs": [
        {
          "output_type": "execute_result",
          "data": {
            "text/plain": [
              "        visitorid  itemid event        date\n",
              "0           67075   65348  view  2015-05-03\n",
              "1           91006   31392  view  2015-05-03\n",
              "2           67716   30060  view  2015-05-03\n",
              "3           12845   61244  view  2015-05-03\n",
              "4           57909   19959  view  2015-05-03\n",
              "...           ...     ...   ...         ...\n",
              "323398      98071  127688  view  2015-05-18\n",
              "323399     802445  269981  view  2015-05-18\n",
              "323400    1217864  338788  view  2015-05-18\n",
              "323401     506257  425157  view  2015-05-18\n",
              "323402      17448  297513  view  2015-05-18\n",
              "\n",
              "[323403 rows x 4 columns]"
            ],
            "text/html": [
              "\n",
              "  <div id=\"df-c15d8b20-9513-475f-a097-9bde9b8d9e1d\">\n",
              "    <div class=\"colab-df-container\">\n",
              "      <div>\n",
              "<style scoped>\n",
              "    .dataframe tbody tr th:only-of-type {\n",
              "        vertical-align: middle;\n",
              "    }\n",
              "\n",
              "    .dataframe tbody tr th {\n",
              "        vertical-align: top;\n",
              "    }\n",
              "\n",
              "    .dataframe thead th {\n",
              "        text-align: right;\n",
              "    }\n",
              "</style>\n",
              "<table border=\"1\" class=\"dataframe\">\n",
              "  <thead>\n",
              "    <tr style=\"text-align: right;\">\n",
              "      <th></th>\n",
              "      <th>visitorid</th>\n",
              "      <th>itemid</th>\n",
              "      <th>event</th>\n",
              "      <th>date</th>\n",
              "    </tr>\n",
              "  </thead>\n",
              "  <tbody>\n",
              "    <tr>\n",
              "      <th>0</th>\n",
              "      <td>67075</td>\n",
              "      <td>65348</td>\n",
              "      <td>view</td>\n",
              "      <td>2015-05-03</td>\n",
              "    </tr>\n",
              "    <tr>\n",
              "      <th>1</th>\n",
              "      <td>91006</td>\n",
              "      <td>31392</td>\n",
              "      <td>view</td>\n",
              "      <td>2015-05-03</td>\n",
              "    </tr>\n",
              "    <tr>\n",
              "      <th>2</th>\n",
              "      <td>67716</td>\n",
              "      <td>30060</td>\n",
              "      <td>view</td>\n",
              "      <td>2015-05-03</td>\n",
              "    </tr>\n",
              "    <tr>\n",
              "      <th>3</th>\n",
              "      <td>12845</td>\n",
              "      <td>61244</td>\n",
              "      <td>view</td>\n",
              "      <td>2015-05-03</td>\n",
              "    </tr>\n",
              "    <tr>\n",
              "      <th>4</th>\n",
              "      <td>57909</td>\n",
              "      <td>19959</td>\n",
              "      <td>view</td>\n",
              "      <td>2015-05-03</td>\n",
              "    </tr>\n",
              "    <tr>\n",
              "      <th>...</th>\n",
              "      <td>...</td>\n",
              "      <td>...</td>\n",
              "      <td>...</td>\n",
              "      <td>...</td>\n",
              "    </tr>\n",
              "    <tr>\n",
              "      <th>323398</th>\n",
              "      <td>98071</td>\n",
              "      <td>127688</td>\n",
              "      <td>view</td>\n",
              "      <td>2015-05-18</td>\n",
              "    </tr>\n",
              "    <tr>\n",
              "      <th>323399</th>\n",
              "      <td>802445</td>\n",
              "      <td>269981</td>\n",
              "      <td>view</td>\n",
              "      <td>2015-05-18</td>\n",
              "    </tr>\n",
              "    <tr>\n",
              "      <th>323400</th>\n",
              "      <td>1217864</td>\n",
              "      <td>338788</td>\n",
              "      <td>view</td>\n",
              "      <td>2015-05-18</td>\n",
              "    </tr>\n",
              "    <tr>\n",
              "      <th>323401</th>\n",
              "      <td>506257</td>\n",
              "      <td>425157</td>\n",
              "      <td>view</td>\n",
              "      <td>2015-05-18</td>\n",
              "    </tr>\n",
              "    <tr>\n",
              "      <th>323402</th>\n",
              "      <td>17448</td>\n",
              "      <td>297513</td>\n",
              "      <td>view</td>\n",
              "      <td>2015-05-18</td>\n",
              "    </tr>\n",
              "  </tbody>\n",
              "</table>\n",
              "<p>323403 rows × 4 columns</p>\n",
              "</div>\n",
              "      <button class=\"colab-df-convert\" onclick=\"convertToInteractive('df-c15d8b20-9513-475f-a097-9bde9b8d9e1d')\"\n",
              "              title=\"Convert this dataframe to an interactive table.\"\n",
              "              style=\"display:none;\">\n",
              "        \n",
              "  <svg xmlns=\"http://www.w3.org/2000/svg\" height=\"24px\"viewBox=\"0 0 24 24\"\n",
              "       width=\"24px\">\n",
              "    <path d=\"M0 0h24v24H0V0z\" fill=\"none\"/>\n",
              "    <path d=\"M18.56 5.44l.94 2.06.94-2.06 2.06-.94-2.06-.94-.94-2.06-.94 2.06-2.06.94zm-11 1L8.5 8.5l.94-2.06 2.06-.94-2.06-.94L8.5 2.5l-.94 2.06-2.06.94zm10 10l.94 2.06.94-2.06 2.06-.94-2.06-.94-.94-2.06-.94 2.06-2.06.94z\"/><path d=\"M17.41 7.96l-1.37-1.37c-.4-.4-.92-.59-1.43-.59-.52 0-1.04.2-1.43.59L10.3 9.45l-7.72 7.72c-.78.78-.78 2.05 0 2.83L4 21.41c.39.39.9.59 1.41.59.51 0 1.02-.2 1.41-.59l7.78-7.78 2.81-2.81c.8-.78.8-2.07 0-2.86zM5.41 20L4 18.59l7.72-7.72 1.47 1.35L5.41 20z\"/>\n",
              "  </svg>\n",
              "      </button>\n",
              "      \n",
              "  <style>\n",
              "    .colab-df-container {\n",
              "      display:flex;\n",
              "      flex-wrap:wrap;\n",
              "      gap: 12px;\n",
              "    }\n",
              "\n",
              "    .colab-df-convert {\n",
              "      background-color: #E8F0FE;\n",
              "      border: none;\n",
              "      border-radius: 50%;\n",
              "      cursor: pointer;\n",
              "      display: none;\n",
              "      fill: #1967D2;\n",
              "      height: 32px;\n",
              "      padding: 0 0 0 0;\n",
              "      width: 32px;\n",
              "    }\n",
              "\n",
              "    .colab-df-convert:hover {\n",
              "      background-color: #E2EBFA;\n",
              "      box-shadow: 0px 1px 2px rgba(60, 64, 67, 0.3), 0px 1px 3px 1px rgba(60, 64, 67, 0.15);\n",
              "      fill: #174EA6;\n",
              "    }\n",
              "\n",
              "    [theme=dark] .colab-df-convert {\n",
              "      background-color: #3B4455;\n",
              "      fill: #D2E3FC;\n",
              "    }\n",
              "\n",
              "    [theme=dark] .colab-df-convert:hover {\n",
              "      background-color: #434B5C;\n",
              "      box-shadow: 0px 1px 3px 1px rgba(0, 0, 0, 0.15);\n",
              "      filter: drop-shadow(0px 1px 2px rgba(0, 0, 0, 0.3));\n",
              "      fill: #FFFFFF;\n",
              "    }\n",
              "  </style>\n",
              "\n",
              "      <script>\n",
              "        const buttonEl =\n",
              "          document.querySelector('#df-c15d8b20-9513-475f-a097-9bde9b8d9e1d button.colab-df-convert');\n",
              "        buttonEl.style.display =\n",
              "          google.colab.kernel.accessAllowed ? 'block' : 'none';\n",
              "\n",
              "        async function convertToInteractive(key) {\n",
              "          const element = document.querySelector('#df-c15d8b20-9513-475f-a097-9bde9b8d9e1d');\n",
              "          const dataTable =\n",
              "            await google.colab.kernel.invokeFunction('convertToInteractive',\n",
              "                                                     [key], {});\n",
              "          if (!dataTable) return;\n",
              "\n",
              "          const docLinkHtml = 'Like what you see? Visit the ' +\n",
              "            '<a target=\"_blank\" href=https://colab.research.google.com/notebooks/data_table.ipynb>data table notebook</a>'\n",
              "            + ' to learn more about interactive tables.';\n",
              "          element.innerHTML = '';\n",
              "          dataTable['output_type'] = 'display_data';\n",
              "          await google.colab.output.renderOutput(dataTable, element);\n",
              "          const docLink = document.createElement('div');\n",
              "          docLink.innerHTML = docLinkHtml;\n",
              "          element.appendChild(docLink);\n",
              "        }\n",
              "      </script>\n",
              "    </div>\n",
              "  </div>\n",
              "  "
            ]
          },
          "metadata": {},
          "execution_count": 16
        }
      ],
      "source": [
        "events"
      ]
    },
    {
      "cell_type": "markdown",
      "metadata": {
        "id": "CbvBmNVO5Mop"
      },
      "source": [
        "# Modeling"
      ]
    },
    {
      "cell_type": "markdown",
      "metadata": {
        "id": "NIQAKiY26cu4"
      },
      "source": [
        "## Non-Deep RL Model"
      ]
    },
    {
      "cell_type": "markdown",
      "metadata": {
        "id": "eg1TjYUZOjTw"
      },
      "source": [
        "Install LightFM to be used for modeling"
      ]
    },
    {
      "cell_type": "code",
      "execution_count": 17,
      "metadata": {
        "colab": {
          "base_uri": "https://localhost:8080/"
        },
        "id": "UKLWjjyRbouT",
        "outputId": "60f58a2c-c9fb-42fa-fa3b-8ff24c2e1084"
      },
      "outputs": [
        {
          "output_type": "stream",
          "name": "stdout",
          "text": [
            "Looking in indexes: https://pypi.org/simple, https://us-python.pkg.dev/colab-wheels/public/simple/\n",
            "Collecting lightfm\n",
            "  Downloading lightfm-1.16.tar.gz (310 kB)\n",
            "\u001b[K     |████████████████████████████████| 310 kB 14.2 MB/s \n",
            "\u001b[?25hRequirement already satisfied: numpy in /usr/local/lib/python3.8/dist-packages (from lightfm) (1.21.6)\n",
            "Requirement already satisfied: scipy>=0.17.0 in /usr/local/lib/python3.8/dist-packages (from lightfm) (1.7.3)\n",
            "Requirement already satisfied: requests in /usr/local/lib/python3.8/dist-packages (from lightfm) (2.23.0)\n",
            "Requirement already satisfied: scikit-learn in /usr/local/lib/python3.8/dist-packages (from lightfm) (1.0.2)\n",
            "Requirement already satisfied: urllib3!=1.25.0,!=1.25.1,<1.26,>=1.21.1 in /usr/local/lib/python3.8/dist-packages (from requests->lightfm) (1.24.3)\n",
            "Requirement already satisfied: idna<3,>=2.5 in /usr/local/lib/python3.8/dist-packages (from requests->lightfm) (2.10)\n",
            "Requirement already satisfied: chardet<4,>=3.0.2 in /usr/local/lib/python3.8/dist-packages (from requests->lightfm) (3.0.4)\n",
            "Requirement already satisfied: certifi>=2017.4.17 in /usr/local/lib/python3.8/dist-packages (from requests->lightfm) (2022.9.24)\n",
            "Requirement already satisfied: joblib>=0.11 in /usr/local/lib/python3.8/dist-packages (from scikit-learn->lightfm) (1.2.0)\n",
            "Requirement already satisfied: threadpoolctl>=2.0.0 in /usr/local/lib/python3.8/dist-packages (from scikit-learn->lightfm) (3.1.0)\n",
            "Building wheels for collected packages: lightfm\n",
            "  Building wheel for lightfm (setup.py) ... \u001b[?25l\u001b[?25hdone\n",
            "  Created wheel for lightfm: filename=lightfm-1.16-cp38-cp38-linux_x86_64.whl size=747383 sha256=12eea30f807e72692a006b01bd10c4f5486e396f9e5b239066f8938ef160ebc9\n",
            "  Stored in directory: /root/.cache/pip/wheels/ec/bb/51/9c487d021c1373b691d13cadca0b65b6852627b1f3f43550fa\n",
            "Successfully built lightfm\n",
            "Installing collected packages: lightfm\n",
            "Successfully installed lightfm-1.16\n"
          ]
        }
      ],
      "source": [
        "!pip install lightfm"
      ]
    },
    {
      "cell_type": "markdown",
      "metadata": {
        "id": "TSWPLKNmOuQ6"
      },
      "source": [
        "Import necessary libraries for modeling"
      ]
    },
    {
      "cell_type": "code",
      "execution_count": 18,
      "metadata": {
        "id": "sT8X30XWgBjo"
      },
      "outputs": [],
      "source": [
        "from lightfm import LightFM\n",
        "from lightfm.evaluation import auc_score\n",
        "from scipy.sparse import coo_matrix\n",
        "from sklearn import preprocessing"
      ]
    },
    {
      "cell_type": "code",
      "execution_count": 19,
      "metadata": {
        "id": "sy4QVvb56Oyy"
      },
      "outputs": [],
      "source": [
        "events_train = pd.read_pickle('Datasets/RetailRocket/events_train.df')\n",
        "events_test = pd.read_pickle('Datasets/RetailRocket/events_test.df')\n",
        "\n",
        "n_users=len(np.unique(events_train['visitorid']))\n",
        "n_items=len(np.unique(events_train['itemid']))\n",
        "\n",
        "rate_matrix = dict()\n",
        "rate_matrix['train'] = coo_matrix((events_train['rating'], (events_train['visitorid'], events_train['itemid'])), shape=(n_users,n_items))\n",
        "rate_matrix['test'] = coo_matrix((events_test['rating'], (events_test['visitorid'], events_test['itemid'])), shape=(n_users,n_items))"
      ]
    },
    {
      "cell_type": "code",
      "execution_count": 20,
      "metadata": {
        "colab": {
          "base_uri": "https://localhost:8080/"
        },
        "id": "5N1pmKJogYVZ",
        "outputId": "e67b984f-7b16-49d1-98ed-cf77339bd7d7"
      },
      "outputs": [
        {
          "output_type": "execute_result",
          "data": {
            "text/plain": [
              "<lightfm.lightfm.LightFM at 0x7f51b2c873a0>"
            ]
          },
          "metadata": {},
          "execution_count": 20
        }
      ],
      "source": [
        "model = LightFM(no_components=10, loss='warp')\n",
        "model.fit(rate_matrix['train'], epochs=50, num_threads=10)"
      ]
    },
    {
      "cell_type": "markdown",
      "metadata": {
        "id": "2ojLvBMp-_j5"
      },
      "source": [
        "## Metric: Area Under ROC Curve (AUC)\n",
        "AUC measures the likelihood that a random relevant item is ranked higher than a random irrelevant item. Higher the likelihood of this happening implies a higher AUC score meaning a better recommendation system.\n",
        "\n",
        "We calculate this likelihood empirically based on the ranks given by the algorithm to all items — out of all possible pairs of type (relevant-item, non-relevant-item), AUC is a proportion of pairs where relevant-item was ranked higher than the irrelevant item from that pair.\n",
        "\n"
      ]
    },
    {
      "cell_type": "markdown",
      "metadata": {
        "id": "pCNJsmJaASIQ"
      },
      "source": [
        "\n",
        "https://drive.google.com/uc?id=1QE286jpRYXR4xlxjrgCufOCb1BvqnI5T"
      ]
    },
    {
      "cell_type": "code",
      "execution_count": 21,
      "metadata": {
        "colab": {
          "base_uri": "https://localhost:8080/"
        },
        "id": "-V8nJEQTge4U",
        "outputId": "7f1b7617-3d53-44ad-c25d-912bebd06c13"
      },
      "outputs": [
        {
          "output_type": "execute_result",
          "data": {
            "text/plain": [
              "0.9973216"
            ]
          },
          "metadata": {},
          "execution_count": 21
        }
      ],
      "source": [
        "auc_score(model, rate_matrix['train'], num_threads=10).mean()"
      ]
    },
    {
      "cell_type": "code",
      "execution_count": 22,
      "metadata": {
        "colab": {
          "base_uri": "https://localhost:8080/"
        },
        "id": "1-qTM15IghSn",
        "outputId": "3f33b6af-5903-4f83-b2c2-97e775854a64"
      },
      "outputs": [
        {
          "output_type": "execute_result",
          "data": {
            "text/plain": [
              "0.8215585"
            ]
          },
          "metadata": {},
          "execution_count": 22
        }
      ],
      "source": [
        "auc_score(model, rate_matrix['test'], num_threads=10).mean()"
      ]
    },
    {
      "cell_type": "markdown",
      "metadata": {
        "id": "P7URFXsGdhbH"
      },
      "source": [
        "## Deep RL Model\n",
        "\n",
        "We updated all the following files required by deep RL model;\n",
        "\n",
        "* NextItNetModules.py\n",
        "* SA2C.py\n",
        "* SASRecModules.py\n",
        "* pop.py\n",
        "* preprocess.py\n",
        "* replay_buffer.py\n",
        "* split_data.py\n",
        "* utility.py\n",
        "\n",
        "For example; sessionId is replaced with visitorId, item_id is replaced with itemid, and is_buy is replaced with rating. \n",
        "Rating is created from the column event as follows;\n",
        "* event = addtocart -> rating = 0\n",
        "* event = transaction -> rating = 1\n",
        "* event = view -> rating = 2\n",
        "\n",
        "Then this rating is given different reward for each event. i.e. addtocart = 0.5, view = 0.2, and purchase = 1.0 reward."
      ]
    },
    {
      "cell_type": "code",
      "execution_count": 23,
      "metadata": {
        "colab": {
          "base_uri": "https://localhost:8080/"
        },
        "id": "0m0y1wOAkHay",
        "outputId": "2690cd96-5c8f-4f22-9bf7-ae9b0544e271"
      },
      "outputs": [
        {
          "output_type": "stream",
          "name": "stdout",
          "text": [
            "Amazon_final_project.ipynb  RetailRocket_Final_Project.ipynb\n",
            "Authors.md                  \u001b[0m\u001b[01;34mScripts\u001b[0m/\n",
            "\u001b[01;34mDatasets\u001b[0m/                   Take_Home_Project_2022F.pdf\n",
            "README.md\n"
          ]
        }
      ],
      "source": [
        "ls"
      ]
    },
    {
      "cell_type": "code",
      "execution_count": 24,
      "metadata": {
        "colab": {
          "base_uri": "https://localhost:8080/"
        },
        "id": "HCSsVc1OuZuj",
        "outputId": "48fcc31c-f2ae-436c-daf4-4f6504335ec4"
      },
      "outputs": [
        {
          "output_type": "stream",
          "name": "stdout",
          "text": [
            "Looking in indexes: https://pypi.org/simple, https://us-python.pkg.dev/colab-wheels/public/simple/\n",
            "Requirement already satisfied: pandas in /usr/local/lib/python3.8/dist-packages (1.3.5)\n",
            "Collecting trfl\n",
            "  Downloading trfl-1.2.0-py3-none-any.whl (104 kB)\n",
            "\u001b[K     |████████████████████████████████| 104 kB 16.0 MB/s \n",
            "\u001b[?25hRequirement already satisfied: python-dateutil>=2.7.3 in /usr/local/lib/python3.8/dist-packages (from pandas) (2.8.2)\n",
            "Requirement already satisfied: pytz>=2017.3 in /usr/local/lib/python3.8/dist-packages (from pandas) (2022.6)\n",
            "Requirement already satisfied: numpy>=1.17.3 in /usr/local/lib/python3.8/dist-packages (from pandas) (1.21.6)\n",
            "Requirement already satisfied: six>=1.5 in /usr/local/lib/python3.8/dist-packages (from python-dateutil>=2.7.3->pandas) (1.15.0)\n",
            "Requirement already satisfied: absl-py in /usr/local/lib/python3.8/dist-packages (from trfl) (1.3.0)\n",
            "Requirement already satisfied: wrapt in /usr/local/lib/python3.8/dist-packages (from trfl) (1.14.1)\n",
            "Requirement already satisfied: dm-tree in /usr/local/lib/python3.8/dist-packages (from trfl) (0.1.7)\n",
            "Installing collected packages: trfl\n",
            "Successfully installed trfl-1.2.0\n"
          ]
        }
      ],
      "source": [
        "! pip install pandas trfl"
      ]
    },
    {
      "cell_type": "code",
      "execution_count": 25,
      "metadata": {
        "colab": {
          "base_uri": "https://localhost:8080/",
          "height": 424
        },
        "id": "IvfnevZP70iO",
        "outputId": "5616847b-d9a9-4551-a204-fc14f5969c24"
      },
      "outputs": [
        {
          "output_type": "execute_result",
          "data": {
            "text/plain": [
              "        visitorid  itemid event        date  rating\n",
              "0           67075   65348  view  2015-05-03       2\n",
              "1           91006   31392  view  2015-05-03       2\n",
              "2           67716   30060  view  2015-05-03       2\n",
              "3           12845   61244  view  2015-05-03       2\n",
              "4           57909   19959  view  2015-05-03       2\n",
              "...           ...     ...   ...         ...     ...\n",
              "258717     134708   51346  view  2015-05-16       2\n",
              "258718     107060   49530  view  2015-05-16       2\n",
              "258719      14934   23276  view  2015-05-16       2\n",
              "258720     106372   14527  view  2015-05-16       2\n",
              "258721      46057   48141  view  2015-05-16       2\n",
              "\n",
              "[250016 rows x 5 columns]"
            ],
            "text/html": [
              "\n",
              "  <div id=\"df-89a98844-87be-412b-9040-03a8b99c15c5\">\n",
              "    <div class=\"colab-df-container\">\n",
              "      <div>\n",
              "<style scoped>\n",
              "    .dataframe tbody tr th:only-of-type {\n",
              "        vertical-align: middle;\n",
              "    }\n",
              "\n",
              "    .dataframe tbody tr th {\n",
              "        vertical-align: top;\n",
              "    }\n",
              "\n",
              "    .dataframe thead th {\n",
              "        text-align: right;\n",
              "    }\n",
              "</style>\n",
              "<table border=\"1\" class=\"dataframe\">\n",
              "  <thead>\n",
              "    <tr style=\"text-align: right;\">\n",
              "      <th></th>\n",
              "      <th>visitorid</th>\n",
              "      <th>itemid</th>\n",
              "      <th>event</th>\n",
              "      <th>date</th>\n",
              "      <th>rating</th>\n",
              "    </tr>\n",
              "  </thead>\n",
              "  <tbody>\n",
              "    <tr>\n",
              "      <th>0</th>\n",
              "      <td>67075</td>\n",
              "      <td>65348</td>\n",
              "      <td>view</td>\n",
              "      <td>2015-05-03</td>\n",
              "      <td>2</td>\n",
              "    </tr>\n",
              "    <tr>\n",
              "      <th>1</th>\n",
              "      <td>91006</td>\n",
              "      <td>31392</td>\n",
              "      <td>view</td>\n",
              "      <td>2015-05-03</td>\n",
              "      <td>2</td>\n",
              "    </tr>\n",
              "    <tr>\n",
              "      <th>2</th>\n",
              "      <td>67716</td>\n",
              "      <td>30060</td>\n",
              "      <td>view</td>\n",
              "      <td>2015-05-03</td>\n",
              "      <td>2</td>\n",
              "    </tr>\n",
              "    <tr>\n",
              "      <th>3</th>\n",
              "      <td>12845</td>\n",
              "      <td>61244</td>\n",
              "      <td>view</td>\n",
              "      <td>2015-05-03</td>\n",
              "      <td>2</td>\n",
              "    </tr>\n",
              "    <tr>\n",
              "      <th>4</th>\n",
              "      <td>57909</td>\n",
              "      <td>19959</td>\n",
              "      <td>view</td>\n",
              "      <td>2015-05-03</td>\n",
              "      <td>2</td>\n",
              "    </tr>\n",
              "    <tr>\n",
              "      <th>...</th>\n",
              "      <td>...</td>\n",
              "      <td>...</td>\n",
              "      <td>...</td>\n",
              "      <td>...</td>\n",
              "      <td>...</td>\n",
              "    </tr>\n",
              "    <tr>\n",
              "      <th>258717</th>\n",
              "      <td>134708</td>\n",
              "      <td>51346</td>\n",
              "      <td>view</td>\n",
              "      <td>2015-05-16</td>\n",
              "      <td>2</td>\n",
              "    </tr>\n",
              "    <tr>\n",
              "      <th>258718</th>\n",
              "      <td>107060</td>\n",
              "      <td>49530</td>\n",
              "      <td>view</td>\n",
              "      <td>2015-05-16</td>\n",
              "      <td>2</td>\n",
              "    </tr>\n",
              "    <tr>\n",
              "      <th>258719</th>\n",
              "      <td>14934</td>\n",
              "      <td>23276</td>\n",
              "      <td>view</td>\n",
              "      <td>2015-05-16</td>\n",
              "      <td>2</td>\n",
              "    </tr>\n",
              "    <tr>\n",
              "      <th>258720</th>\n",
              "      <td>106372</td>\n",
              "      <td>14527</td>\n",
              "      <td>view</td>\n",
              "      <td>2015-05-16</td>\n",
              "      <td>2</td>\n",
              "    </tr>\n",
              "    <tr>\n",
              "      <th>258721</th>\n",
              "      <td>46057</td>\n",
              "      <td>48141</td>\n",
              "      <td>view</td>\n",
              "      <td>2015-05-16</td>\n",
              "      <td>2</td>\n",
              "    </tr>\n",
              "  </tbody>\n",
              "</table>\n",
              "<p>250016 rows × 5 columns</p>\n",
              "</div>\n",
              "      <button class=\"colab-df-convert\" onclick=\"convertToInteractive('df-89a98844-87be-412b-9040-03a8b99c15c5')\"\n",
              "              title=\"Convert this dataframe to an interactive table.\"\n",
              "              style=\"display:none;\">\n",
              "        \n",
              "  <svg xmlns=\"http://www.w3.org/2000/svg\" height=\"24px\"viewBox=\"0 0 24 24\"\n",
              "       width=\"24px\">\n",
              "    <path d=\"M0 0h24v24H0V0z\" fill=\"none\"/>\n",
              "    <path d=\"M18.56 5.44l.94 2.06.94-2.06 2.06-.94-2.06-.94-.94-2.06-.94 2.06-2.06.94zm-11 1L8.5 8.5l.94-2.06 2.06-.94-2.06-.94L8.5 2.5l-.94 2.06-2.06.94zm10 10l.94 2.06.94-2.06 2.06-.94-2.06-.94-.94-2.06-.94 2.06-2.06.94z\"/><path d=\"M17.41 7.96l-1.37-1.37c-.4-.4-.92-.59-1.43-.59-.52 0-1.04.2-1.43.59L10.3 9.45l-7.72 7.72c-.78.78-.78 2.05 0 2.83L4 21.41c.39.39.9.59 1.41.59.51 0 1.02-.2 1.41-.59l7.78-7.78 2.81-2.81c.8-.78.8-2.07 0-2.86zM5.41 20L4 18.59l7.72-7.72 1.47 1.35L5.41 20z\"/>\n",
              "  </svg>\n",
              "      </button>\n",
              "      \n",
              "  <style>\n",
              "    .colab-df-container {\n",
              "      display:flex;\n",
              "      flex-wrap:wrap;\n",
              "      gap: 12px;\n",
              "    }\n",
              "\n",
              "    .colab-df-convert {\n",
              "      background-color: #E8F0FE;\n",
              "      border: none;\n",
              "      border-radius: 50%;\n",
              "      cursor: pointer;\n",
              "      display: none;\n",
              "      fill: #1967D2;\n",
              "      height: 32px;\n",
              "      padding: 0 0 0 0;\n",
              "      width: 32px;\n",
              "    }\n",
              "\n",
              "    .colab-df-convert:hover {\n",
              "      background-color: #E2EBFA;\n",
              "      box-shadow: 0px 1px 2px rgba(60, 64, 67, 0.3), 0px 1px 3px 1px rgba(60, 64, 67, 0.15);\n",
              "      fill: #174EA6;\n",
              "    }\n",
              "\n",
              "    [theme=dark] .colab-df-convert {\n",
              "      background-color: #3B4455;\n",
              "      fill: #D2E3FC;\n",
              "    }\n",
              "\n",
              "    [theme=dark] .colab-df-convert:hover {\n",
              "      background-color: #434B5C;\n",
              "      box-shadow: 0px 1px 3px 1px rgba(0, 0, 0, 0.15);\n",
              "      filter: drop-shadow(0px 1px 2px rgba(0, 0, 0, 0.3));\n",
              "      fill: #FFFFFF;\n",
              "    }\n",
              "  </style>\n",
              "\n",
              "      <script>\n",
              "        const buttonEl =\n",
              "          document.querySelector('#df-89a98844-87be-412b-9040-03a8b99c15c5 button.colab-df-convert');\n",
              "        buttonEl.style.display =\n",
              "          google.colab.kernel.accessAllowed ? 'block' : 'none';\n",
              "\n",
              "        async function convertToInteractive(key) {\n",
              "          const element = document.querySelector('#df-89a98844-87be-412b-9040-03a8b99c15c5');\n",
              "          const dataTable =\n",
              "            await google.colab.kernel.invokeFunction('convertToInteractive',\n",
              "                                                     [key], {});\n",
              "          if (!dataTable) return;\n",
              "\n",
              "          const docLinkHtml = 'Like what you see? Visit the ' +\n",
              "            '<a target=\"_blank\" href=https://colab.research.google.com/notebooks/data_table.ipynb>data table notebook</a>'\n",
              "            + ' to learn more about interactive tables.';\n",
              "          element.innerHTML = '';\n",
              "          dataTable['output_type'] = 'display_data';\n",
              "          await google.colab.output.renderOutput(dataTable, element);\n",
              "          const docLink = document.createElement('div');\n",
              "          docLink.innerHTML = docLinkHtml;\n",
              "          element.appendChild(docLink);\n",
              "        }\n",
              "      </script>\n",
              "    </div>\n",
              "  </div>\n",
              "  "
            ]
          },
          "metadata": {},
          "execution_count": 25
        }
      ],
      "source": [
        "events_train[events_train.event=='view']"
      ]
    },
    {
      "cell_type": "code",
      "execution_count": 26,
      "metadata": {
        "colab": {
          "base_uri": "https://localhost:8080/"
        },
        "id": "gYsxj1VWtb1M",
        "outputId": "da6a55d7-d082-4025-b7a6-b92ab7adfb3e"
      },
      "outputs": [
        {
          "output_type": "stream",
          "name": "stdout",
          "text": [
            "Scripts/Retail_Rocket/SA2C.py:90: UserWarning: `tf.nn.rnn_cell.GRUCell` is deprecated and will be removed in a future version. This class is equivalent as `tf.keras.layers.GRUCell`, and will be replaced by that in Tensorflow 2.0.\n",
            "  tf.compat.v1.nn.rnn_cell.GRUCell(self.hidden_size),\n",
            "WARNING:tensorflow:From Scripts/Retail_Rocket/SA2C.py:89: dynamic_rnn (from tensorflow.python.ops.rnn) is deprecated and will be removed in a future version.\n",
            "Instructions for updating:\n",
            "Please use `keras.layers.RNN(cell)`, which is equivalent to this API\n",
            "WARNING:tensorflow:From Scripts/Retail_Rocket/SA2C.py:89: dynamic_rnn (from tensorflow.python.ops.rnn) is deprecated and will be removed in a future version.\n",
            "Instructions for updating:\n",
            "Please use `keras.layers.RNN(cell)`, which is equivalent to this API\n",
            "WARNING:tensorflow:From /usr/local/lib/python3.8/dist-packages/keras/layers/rnn/legacy_cells.py:545: calling Constant.__init__ (from tensorflow.python.ops.init_ops) with dtype is deprecated and will be removed in a future version.\n",
            "Instructions for updating:\n",
            "Call initializer instance with the dtype argument instead of passing it to the constructor\n",
            "WARNING:tensorflow:From /usr/local/lib/python3.8/dist-packages/keras/layers/rnn/legacy_cells.py:545: calling Constant.__init__ (from tensorflow.python.ops.init_ops) with dtype is deprecated and will be removed in a future version.\n",
            "Instructions for updating:\n",
            "Call initializer instance with the dtype argument instead of passing it to the constructor\n",
            "WARNING:tensorflow:From /usr/local/lib/python3.8/dist-packages/keras/layers/rnn/legacy_cells.py:555: calling Zeros.__init__ (from tensorflow.python.ops.init_ops) with dtype is deprecated and will be removed in a future version.\n",
            "Instructions for updating:\n",
            "Call initializer instance with the dtype argument instead of passing it to the constructor\n",
            "WARNING:tensorflow:From /usr/local/lib/python3.8/dist-packages/keras/layers/rnn/legacy_cells.py:555: calling Zeros.__init__ (from tensorflow.python.ops.init_ops) with dtype is deprecated and will be removed in a future version.\n",
            "Instructions for updating:\n",
            "Call initializer instance with the dtype argument instead of passing it to the constructor\n",
            "Scripts/Retail_Rocket/SA2C.py:217: UserWarning: `tf.layers.dense` is deprecated and will be removed in a future version. Please use `tf.keras.layers.Dense` instead.\n",
            "  self.output1 = tf.compat.v1.layers.dense(self.states_hidden, self.item_num,\n",
            "Scripts/Retail_Rocket/SA2C.py:220: UserWarning: `tf.layers.dense` is deprecated and will be removed in a future version. Please use `tf.keras.layers.Dense` instead.\n",
            "  self.output2= tf.compat.v1.layers.dense(self.states_hidden, self.item_num,\n",
            "2022-12-15 00:10:15.016120: W tensorflow/core/common_runtime/gpu/gpu_bfc_allocator.cc:42] Overriding orig_value setting because the TF_FORCE_GPU_ALLOW_GROWTH environment variable is set. Original config value was 0.\n",
            "the loss in 200th batch is: 11.066265\n",
            "the loss in 400th batch is: 10.749043\n",
            "the loss in 600th batch is: 10.647909\n",
            "the loss in 800th batch is: 10.543617\n",
            "the loss in 1000th batch is: 10.303034\n",
            "#############################################################\n",
            "total clicks: 9917, total purchase:212\n",
            "~~~~~~~~~~~~~~~~~~~~~~~~~~~~~~~~~~~~~~~~~~~~~~~~~~~~~~~~~~~~~\n",
            "cumulative reward @ 5: 92.000000\n",
            "clicks hr ndcg @ 5 : 0.033276, 0.025921\n",
            "purchase hr and ndcg @5 : 0.179245, 0.140154\n",
            "~~~~~~~~~~~~~~~~~~~~~~~~~~~~~~~~~~~~~~~~~~~~~~~~~~~~~~~~~~~~~\n",
            "cumulative reward @ 10: 115.800000\n",
            "clicks hr ndcg @ 10 : 0.043259, 0.029124\n",
            "purchase hr and ndcg @10 : 0.202830, 0.147870\n",
            "~~~~~~~~~~~~~~~~~~~~~~~~~~~~~~~~~~~~~~~~~~~~~~~~~~~~~~~~~~~~~\n",
            "cumulative reward @ 15: 134.400000\n",
            "clicks hr ndcg @ 15 : 0.050620, 0.031073\n",
            "purchase hr and ndcg @15 : 0.235849, 0.156767\n",
            "~~~~~~~~~~~~~~~~~~~~~~~~~~~~~~~~~~~~~~~~~~~~~~~~~~~~~~~~~~~~~\n",
            "cumulative reward @ 20: 151.100000\n",
            "clicks hr ndcg @ 20 : 0.057275, 0.032660\n",
            "purchase hr and ndcg @20 : 0.259434, 0.162394\n",
            "off-line corrected evaluation (click_ng,purchase_ng)@10: 0.031786, 0.052858\n",
            "#############################################################\n"
          ]
        }
      ],
      "source": [
        "!python 'Scripts/Retail_Rocket/SA2C.py' --model=GRU --data='Datasets/RetailRocket' --epoch=1"
      ]
    },
    {
      "cell_type": "code",
      "source": [
        "!python 'Scripts/Retail_Rocket/SA2C.py' --model=SASRec --data='Datasets/RetailRocket' --epoch=1"
      ],
      "metadata": {
        "colab": {
          "base_uri": "https://localhost:8080/"
        },
        "id": "gS-A3yWWEi8A",
        "outputId": "a9f290a6-3d00-479a-c87b-f4d4092e639e"
      },
      "execution_count": 37,
      "outputs": [
        {
          "output_type": "stream",
          "name": "stdout",
          "text": [
            "Scripts/Retail_Rocket/SA2C.py:189: UserWarning: `tf.layers.dropout` is deprecated and will be removed in a future version. Please use `tf.keras.layers.Dropout` instead.\n",
            "  self.seq = tf.compat.v1.layers.dropout(self.seq,\n",
            "/content/drive/Othercomputers/My-MacBook-Air/590-Final-Project/Scripts/Retail_Rocket/SASRecModules.py:142: UserWarning: `tf.layers.dense` is deprecated and will be removed in a future version. Please use `tf.keras.layers.Dense` instead.\n",
            "  Q = tf.compat.v1.layers.dense(queries, num_units, activation=None) # (N, T_q, C)\n",
            "/content/drive/Othercomputers/My-MacBook-Air/590-Final-Project/Scripts/Retail_Rocket/SASRecModules.py:143: UserWarning: `tf.layers.dense` is deprecated and will be removed in a future version. Please use `tf.keras.layers.Dense` instead.\n",
            "  K = tf.compat.v1.layers.dense(keys, num_units, activation=None) # (N, T_k, C)\n",
            "/content/drive/Othercomputers/My-MacBook-Air/590-Final-Project/Scripts/Retail_Rocket/SASRecModules.py:144: UserWarning: `tf.layers.dense` is deprecated and will be removed in a future version. Please use `tf.keras.layers.Dense` instead.\n",
            "  V = tf.compat.v1.layers.dense(keys, num_units, activation=None) # (N, T_k, C)\n",
            "/content/drive/Othercomputers/My-MacBook-Air/590-Final-Project/Scripts/Retail_Rocket/SASRecModules.py:184: UserWarning: `tf.layers.dropout` is deprecated and will be removed in a future version. Please use `tf.keras.layers.Dropout` instead.\n",
            "  outputs = tf.compat.v1.layers.dropout(outputs, rate=dropout_rate, training=tf.convert_to_tensor(value=is_training))\n",
            "/content/drive/Othercomputers/My-MacBook-Air/590-Final-Project/Scripts/Retail_Rocket/SASRecModules.py:223: UserWarning: `tf.layers.conv1d` is deprecated and will be removed in a future version. Please Use `tf.keras.layers.Conv1D` instead.\n",
            "  outputs = tf.compat.v1.layers.conv1d(**params)\n",
            "/content/drive/Othercomputers/My-MacBook-Air/590-Final-Project/Scripts/Retail_Rocket/SASRecModules.py:224: UserWarning: `tf.layers.dropout` is deprecated and will be removed in a future version. Please use `tf.keras.layers.Dropout` instead.\n",
            "  outputs = tf.compat.v1.layers.dropout(outputs, rate=dropout_rate, training=tf.convert_to_tensor(value=is_training))\n",
            "/content/drive/Othercomputers/My-MacBook-Air/590-Final-Project/Scripts/Retail_Rocket/SASRecModules.py:228: UserWarning: `tf.layers.conv1d` is deprecated and will be removed in a future version. Please Use `tf.keras.layers.Conv1D` instead.\n",
            "  outputs = tf.compat.v1.layers.conv1d(**params)\n",
            "/content/drive/Othercomputers/My-MacBook-Air/590-Final-Project/Scripts/Retail_Rocket/SASRecModules.py:229: UserWarning: `tf.layers.dropout` is deprecated and will be removed in a future version. Please use `tf.keras.layers.Dropout` instead.\n",
            "  outputs = tf.compat.v1.layers.dropout(outputs, rate=dropout_rate, training=tf.convert_to_tensor(value=is_training))\n",
            "Scripts/Retail_Rocket/SA2C.py:217: UserWarning: `tf.layers.dense` is deprecated and will be removed in a future version. Please use `tf.keras.layers.Dense` instead.\n",
            "  self.output1 = tf.compat.v1.layers.dense(self.states_hidden, self.item_num,\n",
            "Scripts/Retail_Rocket/SA2C.py:220: UserWarning: `tf.layers.dense` is deprecated and will be removed in a future version. Please use `tf.keras.layers.Dense` instead.\n",
            "  self.output2= tf.compat.v1.layers.dense(self.states_hidden, self.item_num,\n",
            "2022-12-15 00:32:33.014443: W tensorflow/core/common_runtime/gpu/gpu_bfc_allocator.cc:42] Overriding orig_value setting because the TF_FORCE_GPU_ALLOW_GROWTH environment variable is set. Original config value was 0.\n",
            "the loss in 200th batch is: 10.996100\n",
            "the loss in 400th batch is: 10.779261\n",
            "the loss in 600th batch is: 10.618134\n",
            "the loss in 800th batch is: 10.589917\n",
            "the loss in 1000th batch is: 10.258440\n",
            "#############################################################\n",
            "total clicks: 9917, total purchase:212\n",
            "~~~~~~~~~~~~~~~~~~~~~~~~~~~~~~~~~~~~~~~~~~~~~~~~~~~~~~~~~~~~~\n",
            "cumulative reward @ 5: 88.500000\n",
            "clicks hr ndcg @ 5 : 0.035797, 0.029449\n",
            "purchase hr and ndcg @5 : 0.132075, 0.104366\n",
            "~~~~~~~~~~~~~~~~~~~~~~~~~~~~~~~~~~~~~~~~~~~~~~~~~~~~~~~~~~~~~\n",
            "cumulative reward @ 10: 110.000000\n",
            "clicks hr ndcg @ 10 : 0.044368, 0.032242\n",
            "purchase hr and ndcg @10 : 0.165094, 0.114894\n",
            "~~~~~~~~~~~~~~~~~~~~~~~~~~~~~~~~~~~~~~~~~~~~~~~~~~~~~~~~~~~~~\n",
            "cumulative reward @ 15: 123.900000\n",
            "clicks hr ndcg @ 15 : 0.050116, 0.033751\n",
            "purchase hr and ndcg @15 : 0.179245, 0.118555\n",
            "~~~~~~~~~~~~~~~~~~~~~~~~~~~~~~~~~~~~~~~~~~~~~~~~~~~~~~~~~~~~~\n",
            "cumulative reward @ 20: 136.000000\n",
            "clicks hr ndcg @ 20 : 0.053948, 0.034659\n",
            "purchase hr and ndcg @20 : 0.207547, 0.125266\n",
            "off-line corrected evaluation (click_ng,purchase_ng)@10: 0.033896, 0.007018\n",
            "#############################################################\n",
            "Traceback (most recent call last):\n",
            "  File \"Scripts/Retail_Rocket/SA2C.py\", line 441, in <module>\n",
            "    target_Qs[index] = np.zeros([item_num])\n",
            "KeyboardInterrupt\n",
            "^C\n"
          ]
        }
      ]
    },
    {
      "cell_type": "code",
      "source": [
        "!python 'Scripts/Retail_Rocket/SA2C.py' --model=Caser --data='Datasets/RetailRocket' --epoch=1"
      ],
      "metadata": {
        "colab": {
          "base_uri": "https://localhost:8080/"
        },
        "id": "ML2nv11SEmru",
        "outputId": "9fb440a9-4ea0-4703-f879-1a11c0d24203"
      },
      "execution_count": 38,
      "outputs": [
        {
          "output_type": "stream",
          "name": "stdout",
          "text": [
            "Scripts/Retail_Rocket/SA2C.py:153: UserWarning: `tf.layers.dropout` is deprecated and will be removed in a future version. Please use `tf.keras.layers.Dropout` instead.\n",
            "  self.states_hidden = tf.compat.v1.layers.dropout(self.final,\n",
            "Scripts/Retail_Rocket/SA2C.py:217: UserWarning: `tf.layers.dense` is deprecated and will be removed in a future version. Please use `tf.keras.layers.Dense` instead.\n",
            "  self.output1 = tf.compat.v1.layers.dense(self.states_hidden, self.item_num,\n",
            "Scripts/Retail_Rocket/SA2C.py:220: UserWarning: `tf.layers.dense` is deprecated and will be removed in a future version. Please use `tf.keras.layers.Dense` instead.\n",
            "  self.output2= tf.compat.v1.layers.dense(self.states_hidden, self.item_num,\n",
            "2022-12-15 00:38:09.570808: W tensorflow/core/common_runtime/gpu/gpu_bfc_allocator.cc:42] Overriding orig_value setting because the TF_FORCE_GPU_ALLOW_GROWTH environment variable is set. Original config value was 0.\n",
            "the loss in 200th batch is: 11.077238\n",
            "the loss in 400th batch is: 10.705472\n",
            "the loss in 600th batch is: 10.899322\n",
            "the loss in 800th batch is: 10.689580\n",
            "the loss in 1000th batch is: 10.517663\n",
            "#############################################################\n",
            "total clicks: 9917, total purchase:212\n",
            "~~~~~~~~~~~~~~~~~~~~~~~~~~~~~~~~~~~~~~~~~~~~~~~~~~~~~~~~~~~~~\n",
            "cumulative reward @ 5: 68.000000\n",
            "clicks hr ndcg @ 5 : 0.024705, 0.020100\n",
            "purchase hr and ndcg @5 : 0.136792, 0.113543\n",
            "~~~~~~~~~~~~~~~~~~~~~~~~~~~~~~~~~~~~~~~~~~~~~~~~~~~~~~~~~~~~~\n",
            "cumulative reward @ 10: 84.700000\n",
            "clicks hr ndcg @ 10 : 0.031864, 0.022351\n",
            "purchase hr and ndcg @10 : 0.155660, 0.119387\n",
            "~~~~~~~~~~~~~~~~~~~~~~~~~~~~~~~~~~~~~~~~~~~~~~~~~~~~~~~~~~~~~\n",
            "cumulative reward @ 15: 94.600000\n",
            "clicks hr ndcg @ 15 : 0.036604, 0.023600\n",
            "purchase hr and ndcg @15 : 0.160377, 0.120626\n",
            "~~~~~~~~~~~~~~~~~~~~~~~~~~~~~~~~~~~~~~~~~~~~~~~~~~~~~~~~~~~~~\n",
            "cumulative reward @ 20: 102.600000\n",
            "clicks hr ndcg @ 20 : 0.040133, 0.024430\n",
            "purchase hr and ndcg @20 : 0.169811, 0.122831\n",
            "off-line corrected evaluation (click_ng,purchase_ng)@10: 0.018008, 0.010577\n",
            "#############################################################\n"
          ]
        }
      ]
    },
    {
      "cell_type": "code",
      "source": [
        "!python 'Scripts/Retail_Rocket/SA2C.py' --model=NItNet --data='Datasets/RetailRocket' --epoch=1"
      ],
      "metadata": {
        "colab": {
          "base_uri": "https://localhost:8080/"
        },
        "id": "NmazcOp-EqwW",
        "outputId": "0cea8b19-868b-417c-ba4b-a9410e0b0012"
      },
      "execution_count": 39,
      "outputs": [
        {
          "output_type": "stream",
          "name": "stdout",
          "text": [
            "Scripts/Retail_Rocket/SA2C.py:217: UserWarning: `tf.layers.dense` is deprecated and will be removed in a future version. Please use `tf.keras.layers.Dense` instead.\n",
            "  self.output1 = tf.compat.v1.layers.dense(self.states_hidden, self.item_num,\n",
            "Scripts/Retail_Rocket/SA2C.py:220: UserWarning: `tf.layers.dense` is deprecated and will be removed in a future version. Please use `tf.keras.layers.Dense` instead.\n",
            "  self.output2= tf.compat.v1.layers.dense(self.states_hidden, self.item_num,\n",
            "2022-12-15 00:42:47.662504: W tensorflow/core/common_runtime/gpu/gpu_bfc_allocator.cc:42] Overriding orig_value setting because the TF_FORCE_GPU_ALLOW_GROWTH environment variable is set. Original config value was 0.\n",
            "the loss in 200th batch is: 10.929899\n",
            "the loss in 400th batch is: 10.795964\n",
            "the loss in 600th batch is: 10.665740\n",
            "the loss in 800th batch is: 10.417124\n",
            "the loss in 1000th batch is: 10.353129\n",
            "#############################################################\n",
            "total clicks: 9917, total purchase:212\n",
            "~~~~~~~~~~~~~~~~~~~~~~~~~~~~~~~~~~~~~~~~~~~~~~~~~~~~~~~~~~~~~\n",
            "cumulative reward @ 5: 89.000000\n",
            "clicks hr ndcg @ 5 : 0.035293, 0.029593\n",
            "purchase hr and ndcg @5 : 0.132075, 0.110419\n",
            "~~~~~~~~~~~~~~~~~~~~~~~~~~~~~~~~~~~~~~~~~~~~~~~~~~~~~~~~~~~~~\n",
            "cumulative reward @ 10: 108.100000\n",
            "clicks hr ndcg @ 10 : 0.042654, 0.031977\n",
            "purchase hr and ndcg @10 : 0.165094, 0.120919\n",
            "~~~~~~~~~~~~~~~~~~~~~~~~~~~~~~~~~~~~~~~~~~~~~~~~~~~~~~~~~~~~~\n",
            "cumulative reward @ 15: 116.300000\n",
            "clicks hr ndcg @ 15 : 0.046284, 0.032932\n",
            "purchase hr and ndcg @15 : 0.174528, 0.123365\n",
            "~~~~~~~~~~~~~~~~~~~~~~~~~~~~~~~~~~~~~~~~~~~~~~~~~~~~~~~~~~~~~\n",
            "cumulative reward @ 20: 122.100000\n",
            "clicks hr ndcg @ 20 : 0.049208, 0.033627\n",
            "purchase hr and ndcg @20 : 0.174528, 0.123365\n",
            "off-line corrected evaluation (click_ng,purchase_ng)@10: 0.031059, 0.032462\n",
            "#############################################################\n"
          ]
        }
      ]
    },
    {
      "cell_type": "markdown",
      "metadata": {
        "id": "aTaSCXnwCCdt"
      },
      "source": [
        "**> Additional Sources**\n",
        "\n",
        "(1) https://www.kaggle.com/code/faridsharaf/ecommerce-recommendation-using-lfm \n",
        "\n",
        "(2) Krichene, W. & Rendle, S. \"On Sampled Metrics for Item Recommendation\". *Proceedings of the 26th ACM SIGKDD Conference on Knowledge Discovery and Data Mining (KDD ’20)*, August 23–27, 2020. https://dl.acm.org/doi/pdf/10.1145/3394486.3403226\n",
        "\n",
        "(3) https://www.kaggle.com/code/johnosorio/retail-rocket-ecommerce-recommender-system\n",
        "\n",
        "(4) \"Classification: ROC Curve and AUC\". https://developers.google.com/machine-learning/crash-course/classification/roc-and-auc \n",
        "\n",
        "(5) Kirk, J. \"Using LightFM to Recommend Projects to Consultants\".https://medium.com/product-at-catalant-technologies/using-lightfm-to-recommend-projects-to-consultants-44084df7321c#.gu887ky51\n",
        "\n",
        "(6) Kula, M. \"Metadata Embeddings for User and Item Cold-start Recommendations\". http://ceur-ws.org/Vol-1448/paper4.pdf\n",
        "\n",
        "(7) https://www.kaggle.com/datasets/retailrocket/ecommerce-dataset"
      ]
    }
  ],
  "metadata": {
    "accelerator": "GPU",
    "colab": {
      "provenance": []
    },
    "gpuClass": "standard",
    "kernelspec": {
      "display_name": "Python 3",
      "name": "python3"
    },
    "language_info": {
      "name": "python"
    }
  },
  "nbformat": 4,
  "nbformat_minor": 0
}
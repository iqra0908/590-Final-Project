{
  "nbformat": 4,
  "nbformat_minor": 0,
  "metadata": {
    "colab": {
      "provenance": [],
      "toc_visible": true
    },
    "kernelspec": {
      "name": "python3",
      "display_name": "Python 3"
    },
    "language_info": {
      "name": "python"
    },
    "accelerator": "GPU",
    "gpuClass": "standard"
  },
  "cells": [
    {
      "cell_type": "markdown",
      "source": [
        "# **Duke University**\n",
        "* Course: AIPI590 (Deep Reinforcement Learning Applications)\n",
        "* Fall 2022:\n",
        "\n",
        "# * Final Project: Product recommender for E-commerce\n",
        "* Dataset: RetailRocket\n",
        "* Metric: AUC\n"
      ],
      "metadata": {
        "id": "aSm0azbAs0W9"
      }
    },
    {
      "cell_type": "markdown",
      "source": [
        "\n",
        "# The RetailRocket Dataset\n",
        "\n",
        "This dataset includes three files:\n",
        "* (i) A file with behaviour data (events.csv)\n",
        "* (ii) A file with item properties (itemproperties.сsv)\n",
        "* (iii) A file describing the category tree (categorytree.сsv).\n",
        "The data has been collected from a real-world ecommerce website. It is raw data, i.e. without any content transformations, however, all values are hashed due to confidential issues.\n",
        "\n",
        "# Content\n",
        "\n",
        "The behaviour data (events like clicks, add to carts, transactions) represents interactions that were collected over a period of 4.5 months. A visitor can make three types of events, namely: **“view”**, **“addtocart”** or **“transaction”**. The total events are 2,756,101, the views total 2,664,312, the addtocart 69,332 and 22,457 transactions from 1,407,580 unique visitors. For about 90% of events corresponding properties can be found in the “item_properties.csv” file.\n",
        "\n",
        "# For example:\n",
        "*  “1439694000000,1,view,100,” means visitorId = 1, clicked the item with id = 100 at 1439694000000 (Unix timestamp)\n",
        "* “1439694000000,2,transaction,1000,234” means visitorId = 2 purchased the item \n",
        "with id = 1000 in transaction with id = 234 at 1439694000000 (Unix timestamp).\n",
        "\n",
        "The \"item properties\" file (item_properties.csv), has 20,275,902 rows, i.e. different properties, describing 417,053 unique items. The File is divided into 2 files due to file size limitations. Since the property of an item can vary in time (e.g., price changes over time), every row in the file has corresponding timestamp. In other words, the file consists of concatenated snapshots for every week in the file with the behaviour data. However, if a property of an item is constant over the observed period, only a single snapshot value will be present in the file.\n",
        "For example, we have three properties for single item and 4 weekly snapshots, like below:\n",
        "> timestamp,itemid,property,value\n",
        "1439694000000,1,100,1000\n",
        "1439695000000,1,100,1000\n",
        "1439696000000,1,100,1000\n",
        "1439697000000,1,100,1000\n",
        "1439694000000,1,200,1000\n",
        "1439695000000,1,200,1100\n",
        "1439696000000,1,200,1200\n",
        "1439697000000,1,200,1300\n",
        "1439694000000,1,300,1000\n",
        "1439695000000,1,300,1000\n",
        "1439696000000,1,300,1100\n",
        "1439697000000,1,300,1100\n",
        "\n",
        "**After snapshot merge it would looks like:**\n",
        "\n",
        "> 1439694000000,1,100,1000\n",
        "1439694000000,1,200,1000\n",
        "1439695000000,1,200,1100\n",
        "1439696000000,1,200,1200\n",
        "1439697000000,1,200,1300\n",
        "1439694000000,1,300,1000\n",
        "1439696000000,1,300,1100\n",
        "\n",
        "Because property=100 is constant over time, property=200 has different values for all snapshots, property=300 has been changed once.\n",
        "\n",
        "Item properties file contain timestamp column because all of them are time dependent, since properties may change over time, e.g. price, category, etc. Initially, this file consisted of snapshots for every week in the events file and contained over 200 millions rows. We have merged consecutive constant property values, so it's changed from snapshot form to change log form. Thus, constant values would appear only once in the file. This action has significantly reduced the number of rows in 10 times.\n",
        "\n",
        "All values in the “item_properties.csv” file excluding \"categoryid\" and \"available\" properties were hashed. Value of the \"categoryid\" property contains item category identifier. Value of the \"available\" property contains availability of the item, i.e. 1 means the item was available, otherwise 0. All numerical values were marked with \"n\" char at the beginning, and have 3 digits precision after decimal point, e.g., \"5\" will become \"n5.000\", \"-3.67584\" will become \"n-3.675\". All words in text values were normalized (stemming procedure: https://en.wikipedia.org/wiki/Stemming) and hashed, numbers were processed as above, e.g. text \"Hello world 2017!\" will become \"24214 44214 n2017.000\"\n",
        "\n",
        "The category tree file has 1669 rows. Every row in the file specifies a child categoryId and the corresponding parent.\n",
        "For example:\n",
        "\n",
        "> Line “100,200” means that categoryid=1 has parent with categoryid=200\n",
        "\n",
        "> Line “300,” means that categoryid hasn’t parent in the tree\n",
        "Acknowledgements\n",
        "\n",
        "Retail Rocket (retailrocket.io) helps web shoppers make better shopping decisions by providing personalized real-time recommendations through multiple channels with over 100MM unique monthly users and 1000+ retail partners over the world.\n",
        "\n",
        "# Source: https://www.kaggle.com/datasets/retailrocket/ecommerce-dataset \n"
      ],
      "metadata": {
        "id": "8Oh9-t5Rs0Ew"
      }
    },
    {
      "cell_type": "markdown",
      "source": [
        "**If not accessig data files from Google drive, skip first two steps.**"
      ],
      "metadata": {
        "id": "a0Bd-U2ZAPam"
      }
    },
    {
      "cell_type": "code",
      "source": [
        "from google.colab import drive\n",
        "drive.mount('/content/drive')"
      ],
      "metadata": {
        "colab": {
          "base_uri": "https://localhost:8080/"
        },
        "id": "8_RN0Ilja22C",
        "outputId": "252ef506-be8d-4efc-cb17-df4393a46645"
      },
      "execution_count": null,
      "outputs": [
        {
          "output_type": "stream",
          "name": "stdout",
          "text": [
            "Mounted at /content/drive\n"
          ]
        }
      ]
    },
    {
      "cell_type": "code",
      "source": [
        "%cd /content/drive/MyDrive/FinalProj/"
      ],
      "metadata": {
        "colab": {
          "base_uri": "https://localhost:8080/"
        },
        "id": "AqY5eox2bBQ4",
        "outputId": "6afd144e-aa59-4338-87d6-cbc671450dbd"
      },
      "execution_count": null,
      "outputs": [
        {
          "output_type": "stream",
          "name": "stdout",
          "text": [
            "/content/drive/MyDrive/FinalProj\n"
          ]
        }
      ]
    },
    {
      "cell_type": "markdown",
      "source": [
        "**Import necessary libraries and dependicies**"
      ],
      "metadata": {
        "id": "CckGzLjGAroj"
      }
    },
    {
      "cell_type": "code",
      "execution_count": null,
      "metadata": {
        "id": "O6D34UJnZ5U_"
      },
      "outputs": [],
      "source": [
        "import pandas as pd\n",
        "import numpy as np\n",
        "\n",
        "import datetime \n",
        "import time\n",
        "\n",
        "%matplotlib inline\n",
        "import matplotlib.pyplot as plt \n",
        "import seaborn as sns"
      ]
    },
    {
      "cell_type": "markdown",
      "source": [
        "**Verify you are in the correct folder(s).**"
      ],
      "metadata": {
        "id": "RazNBdnKDHkH"
      }
    },
    {
      "cell_type": "code",
      "source": [
        "!ls\n"
      ],
      "metadata": {
        "colab": {
          "base_uri": "https://localhost:8080/"
        },
        "id": "LZTIttzNqSjM",
        "outputId": "d45d8979-878d-40cc-c61c-2c0f1557203d"
      },
      "execution_count": null,
      "outputs": [
        {
          "output_type": "stream",
          "name": "stdout",
          "text": [
            " diginetica-session.test.inter\n",
            " diginetica-session.train.inter\n",
            "'Project Draft_GCE-GNN Session Recommender on Diginetica in PyTorch.ipynb'\n",
            " RecBole\n",
            " renttherunway_final_data.json\n",
            " RetailRocket\n",
            " RL4REC\n",
            " Sequence-Based-Recommenders\n"
          ]
        }
      ]
    },
    {
      "cell_type": "markdown",
      "source": [
        "##  Access and load the data for the \"item-properties\" files."
      ],
      "metadata": {
        "id": "3iNURUnlA7Mz"
      }
    },
    {
      "cell_type": "code",
      "source": [
        "items1 = pd.read_csv(\"/content/drive/MyDrive/FinalProj/RetailRocket/item_properties_part1.csv\")\n",
        "items2 = pd.read_csv(\"/content/drive/MyDrive/FinalProj/RetailRocket/item_properties_part2.csv\")\n",
        "items = pd.concat([items1, items2])\n",
        "items.sample(15)"
      ],
      "metadata": {
        "colab": {
          "base_uri": "https://localhost:8080/",
          "height": 514
        },
        "id": "HzLpYwySrwwM",
        "outputId": "311dda02-b448-4798-bf05-42b4ee9f4ba9"
      },
      "execution_count": null,
      "outputs": [
        {
          "output_type": "execute_result",
          "data": {
            "text/plain": [
              "             timestamp    itemid    property  \\\n",
              "2634103  1433041200000  378863.0         790   \n",
              "7633975  1433041200000  186425.0         917   \n",
              "9871115  1431226800000  396607.0         917   \n",
              "5293722  1431226800000  144063.0  categoryid   \n",
              "9406526  1433041200000  418217.0         364   \n",
              "7980549  1439694000000  215442.0         839   \n",
              "7661394  1440903600000  106032.0         888   \n",
              "461741   1431226800000  161506.0   available   \n",
              "5451827  1437879600000  305198.0         120   \n",
              "2859044  1439694000000  134134.0         810   \n",
              "8443113  1435460400000   62873.0         917   \n",
              "383781   1431226800000  139091.0   available   \n",
              "6318975  1440903600000  466115.0         962   \n",
              "2684609  1437274800000  143896.0         364   \n",
              "85632    1433041200000  428105.0         678   \n",
              "\n",
              "                                                     value  \n",
              "2634103                                         n21840.000  \n",
              "7633975                                             356990  \n",
              "9871115                       843442 639502 675057 1103376  \n",
              "5293722                                                111  \n",
              "9406526                                            1116774  \n",
              "7980549                                              85982  \n",
              "7661394  253573 15275 n5160.000 594471 992862 951748 11...  \n",
              "461741                                                   0  \n",
              "5451827                                     1062064 116615  \n",
              "2859044                                   n120.000 1284221  \n",
              "8443113                                             764507  \n",
              "383781                                                   0  \n",
              "6318975                              664227 1305534 664227  \n",
              "2684609                                            1271922  \n",
              "85632                                               964601  "
            ],
            "text/html": [
              "\n",
              "  <div id=\"df-a3e30455-6914-487c-9df4-2f4cdee24283\">\n",
              "    <div class=\"colab-df-container\">\n",
              "      <div>\n",
              "<style scoped>\n",
              "    .dataframe tbody tr th:only-of-type {\n",
              "        vertical-align: middle;\n",
              "    }\n",
              "\n",
              "    .dataframe tbody tr th {\n",
              "        vertical-align: top;\n",
              "    }\n",
              "\n",
              "    .dataframe thead th {\n",
              "        text-align: right;\n",
              "    }\n",
              "</style>\n",
              "<table border=\"1\" class=\"dataframe\">\n",
              "  <thead>\n",
              "    <tr style=\"text-align: right;\">\n",
              "      <th></th>\n",
              "      <th>timestamp</th>\n",
              "      <th>itemid</th>\n",
              "      <th>property</th>\n",
              "      <th>value</th>\n",
              "    </tr>\n",
              "  </thead>\n",
              "  <tbody>\n",
              "    <tr>\n",
              "      <th>2634103</th>\n",
              "      <td>1433041200000</td>\n",
              "      <td>378863.0</td>\n",
              "      <td>790</td>\n",
              "      <td>n21840.000</td>\n",
              "    </tr>\n",
              "    <tr>\n",
              "      <th>7633975</th>\n",
              "      <td>1433041200000</td>\n",
              "      <td>186425.0</td>\n",
              "      <td>917</td>\n",
              "      <td>356990</td>\n",
              "    </tr>\n",
              "    <tr>\n",
              "      <th>9871115</th>\n",
              "      <td>1431226800000</td>\n",
              "      <td>396607.0</td>\n",
              "      <td>917</td>\n",
              "      <td>843442 639502 675057 1103376</td>\n",
              "    </tr>\n",
              "    <tr>\n",
              "      <th>5293722</th>\n",
              "      <td>1431226800000</td>\n",
              "      <td>144063.0</td>\n",
              "      <td>categoryid</td>\n",
              "      <td>111</td>\n",
              "    </tr>\n",
              "    <tr>\n",
              "      <th>9406526</th>\n",
              "      <td>1433041200000</td>\n",
              "      <td>418217.0</td>\n",
              "      <td>364</td>\n",
              "      <td>1116774</td>\n",
              "    </tr>\n",
              "    <tr>\n",
              "      <th>7980549</th>\n",
              "      <td>1439694000000</td>\n",
              "      <td>215442.0</td>\n",
              "      <td>839</td>\n",
              "      <td>85982</td>\n",
              "    </tr>\n",
              "    <tr>\n",
              "      <th>7661394</th>\n",
              "      <td>1440903600000</td>\n",
              "      <td>106032.0</td>\n",
              "      <td>888</td>\n",
              "      <td>253573 15275 n5160.000 594471 992862 951748 11...</td>\n",
              "    </tr>\n",
              "    <tr>\n",
              "      <th>461741</th>\n",
              "      <td>1431226800000</td>\n",
              "      <td>161506.0</td>\n",
              "      <td>available</td>\n",
              "      <td>0</td>\n",
              "    </tr>\n",
              "    <tr>\n",
              "      <th>5451827</th>\n",
              "      <td>1437879600000</td>\n",
              "      <td>305198.0</td>\n",
              "      <td>120</td>\n",
              "      <td>1062064 116615</td>\n",
              "    </tr>\n",
              "    <tr>\n",
              "      <th>2859044</th>\n",
              "      <td>1439694000000</td>\n",
              "      <td>134134.0</td>\n",
              "      <td>810</td>\n",
              "      <td>n120.000 1284221</td>\n",
              "    </tr>\n",
              "    <tr>\n",
              "      <th>8443113</th>\n",
              "      <td>1435460400000</td>\n",
              "      <td>62873.0</td>\n",
              "      <td>917</td>\n",
              "      <td>764507</td>\n",
              "    </tr>\n",
              "    <tr>\n",
              "      <th>383781</th>\n",
              "      <td>1431226800000</td>\n",
              "      <td>139091.0</td>\n",
              "      <td>available</td>\n",
              "      <td>0</td>\n",
              "    </tr>\n",
              "    <tr>\n",
              "      <th>6318975</th>\n",
              "      <td>1440903600000</td>\n",
              "      <td>466115.0</td>\n",
              "      <td>962</td>\n",
              "      <td>664227 1305534 664227</td>\n",
              "    </tr>\n",
              "    <tr>\n",
              "      <th>2684609</th>\n",
              "      <td>1437274800000</td>\n",
              "      <td>143896.0</td>\n",
              "      <td>364</td>\n",
              "      <td>1271922</td>\n",
              "    </tr>\n",
              "    <tr>\n",
              "      <th>85632</th>\n",
              "      <td>1433041200000</td>\n",
              "      <td>428105.0</td>\n",
              "      <td>678</td>\n",
              "      <td>964601</td>\n",
              "    </tr>\n",
              "  </tbody>\n",
              "</table>\n",
              "</div>\n",
              "      <button class=\"colab-df-convert\" onclick=\"convertToInteractive('df-a3e30455-6914-487c-9df4-2f4cdee24283')\"\n",
              "              title=\"Convert this dataframe to an interactive table.\"\n",
              "              style=\"display:none;\">\n",
              "        \n",
              "  <svg xmlns=\"http://www.w3.org/2000/svg\" height=\"24px\"viewBox=\"0 0 24 24\"\n",
              "       width=\"24px\">\n",
              "    <path d=\"M0 0h24v24H0V0z\" fill=\"none\"/>\n",
              "    <path d=\"M18.56 5.44l.94 2.06.94-2.06 2.06-.94-2.06-.94-.94-2.06-.94 2.06-2.06.94zm-11 1L8.5 8.5l.94-2.06 2.06-.94-2.06-.94L8.5 2.5l-.94 2.06-2.06.94zm10 10l.94 2.06.94-2.06 2.06-.94-2.06-.94-.94-2.06-.94 2.06-2.06.94z\"/><path d=\"M17.41 7.96l-1.37-1.37c-.4-.4-.92-.59-1.43-.59-.52 0-1.04.2-1.43.59L10.3 9.45l-7.72 7.72c-.78.78-.78 2.05 0 2.83L4 21.41c.39.39.9.59 1.41.59.51 0 1.02-.2 1.41-.59l7.78-7.78 2.81-2.81c.8-.78.8-2.07 0-2.86zM5.41 20L4 18.59l7.72-7.72 1.47 1.35L5.41 20z\"/>\n",
              "  </svg>\n",
              "      </button>\n",
              "      \n",
              "  <style>\n",
              "    .colab-df-container {\n",
              "      display:flex;\n",
              "      flex-wrap:wrap;\n",
              "      gap: 12px;\n",
              "    }\n",
              "\n",
              "    .colab-df-convert {\n",
              "      background-color: #E8F0FE;\n",
              "      border: none;\n",
              "      border-radius: 50%;\n",
              "      cursor: pointer;\n",
              "      display: none;\n",
              "      fill: #1967D2;\n",
              "      height: 32px;\n",
              "      padding: 0 0 0 0;\n",
              "      width: 32px;\n",
              "    }\n",
              "\n",
              "    .colab-df-convert:hover {\n",
              "      background-color: #E2EBFA;\n",
              "      box-shadow: 0px 1px 2px rgba(60, 64, 67, 0.3), 0px 1px 3px 1px rgba(60, 64, 67, 0.15);\n",
              "      fill: #174EA6;\n",
              "    }\n",
              "\n",
              "    [theme=dark] .colab-df-convert {\n",
              "      background-color: #3B4455;\n",
              "      fill: #D2E3FC;\n",
              "    }\n",
              "\n",
              "    [theme=dark] .colab-df-convert:hover {\n",
              "      background-color: #434B5C;\n",
              "      box-shadow: 0px 1px 3px 1px rgba(0, 0, 0, 0.15);\n",
              "      filter: drop-shadow(0px 1px 2px rgba(0, 0, 0, 0.3));\n",
              "      fill: #FFFFFF;\n",
              "    }\n",
              "  </style>\n",
              "\n",
              "      <script>\n",
              "        const buttonEl =\n",
              "          document.querySelector('#df-a3e30455-6914-487c-9df4-2f4cdee24283 button.colab-df-convert');\n",
              "        buttonEl.style.display =\n",
              "          google.colab.kernel.accessAllowed ? 'block' : 'none';\n",
              "\n",
              "        async function convertToInteractive(key) {\n",
              "          const element = document.querySelector('#df-a3e30455-6914-487c-9df4-2f4cdee24283');\n",
              "          const dataTable =\n",
              "            await google.colab.kernel.invokeFunction('convertToInteractive',\n",
              "                                                     [key], {});\n",
              "          if (!dataTable) return;\n",
              "\n",
              "          const docLinkHtml = 'Like what you see? Visit the ' +\n",
              "            '<a target=\"_blank\" href=https://colab.research.google.com/notebooks/data_table.ipynb>data table notebook</a>'\n",
              "            + ' to learn more about interactive tables.';\n",
              "          element.innerHTML = '';\n",
              "          dataTable['output_type'] = 'display_data';\n",
              "          await google.colab.output.renderOutput(dataTable, element);\n",
              "          const docLink = document.createElement('div');\n",
              "          docLink.innerHTML = docLinkHtml;\n",
              "          element.appendChild(docLink);\n",
              "        }\n",
              "      </script>\n",
              "    </div>\n",
              "  </div>\n",
              "  "
            ]
          },
          "metadata": {},
          "execution_count": 6
        }
      ]
    },
    {
      "cell_type": "code",
      "source": [
        "items.shape"
      ],
      "metadata": {
        "colab": {
          "base_uri": "https://localhost:8080/"
        },
        "id": "0NWxUlVysF0D",
        "outputId": "4cf72cec-da77-40c3-8931-a137b7d0cfae"
      },
      "execution_count": null,
      "outputs": [
        {
          "output_type": "execute_result",
          "data": {
            "text/plain": [
              "(19326572, 4)"
            ]
          },
          "metadata": {},
          "execution_count": 8
        }
      ]
    },
    {
      "cell_type": "markdown",
      "source": [
        "Plot some of the data"
      ],
      "metadata": {
        "id": "s3P301BTDpOH"
      }
    },
    {
      "cell_type": "code",
      "source": [
        "fig, ax = plt.subplots(ncols=1, figsize=(10, 8)) # The figsize of the sample data in inches\n",
        "sns.countplot(x='event',\n",
        "              data=events,\n",
        "              palette=\"pastel\")"
      ],
      "metadata": {
        "colab": {
          "base_uri": "https://localhost:8080/",
          "height": 514
        },
        "id": "oPw25jW9s2cX",
        "outputId": "70b9c096-6317-4edc-9ef2-b8794439ec8c"
      },
      "execution_count": null,
      "outputs": [
        {
          "output_type": "execute_result",
          "data": {
            "text/plain": [
              "<matplotlib.axes._subplots.AxesSubplot at 0x7f9a23b00af0>"
            ]
          },
          "metadata": {},
          "execution_count": 80
        },
        {
          "output_type": "display_data",
          "data": {
            "text/plain": [
              "<Figure size 720x576 with 1 Axes>"
            ],
            "image/png": "[encoded data removed]"
          },
          "metadata": {
            "needs_background": "light"
          }
        }
      ]
    },
    {
      "cell_type": "markdown",
      "source": [
        "Convert the date and time format and show a sample"
      ],
      "metadata": {
        "id": "oH5sVuPxEAU8"
      }
    },
    {
      "cell_type": "code",
      "source": [
        "import datetime\n",
        "times =[]\n",
        "for i in items['timestamp']:\n",
        "    times.append(datetime.datetime.fromtimestamp(i//1000.0)) "
      ],
      "metadata": {
        "id": "PznZb7wls2QC"
      },
      "execution_count": null,
      "outputs": []
    },
    {
      "cell_type": "code",
      "source": [
        "items['timestamp'] = times\n",
        "items.sample(15)"
      ],
      "metadata": {
        "colab": {
          "base_uri": "https://localhost:8080/",
          "height": 514
        },
        "id": "tQ3Cmg_DuZJK",
        "outputId": "23f4fca3-547f-4613-d5e2-23bc7e8b3598"
      },
      "execution_count": null,
      "outputs": [
        {
          "output_type": "execute_result",
          "data": {
            "text/plain": [
              "                  timestamp    itemid property  \\\n",
              "5056163 2015-05-10 03:00:00  311176.0      678   \n",
              "9458420 2015-05-10 03:00:00  152261.0      790   \n",
              "8886030 2015-06-07 03:00:00  157898.0      283   \n",
              "2658996 2015-06-28 03:00:00  109875.0      917   \n",
              "897701  2015-05-10 03:00:00  303041.0      159   \n",
              "6934839 2015-06-28 03:00:00   40953.0      888   \n",
              "5122569 2015-06-14 03:00:00  203326.0      888   \n",
              "5489447 2015-06-28 03:00:00  287367.0      678   \n",
              "6289951 2015-06-07 03:00:00  204559.0      719   \n",
              "4401680 2015-05-17 03:00:00   93905.0      587   \n",
              "527902  2015-05-31 03:00:00  327775.0      928   \n",
              "8408145 2015-06-28 03:00:00  159135.0      112   \n",
              "1042762 2015-08-16 03:00:00  186287.0      550   \n",
              "5112622 2015-05-17 03:00:00  230423.0      364   \n",
              "5417964 2015-05-24 03:00:00  418517.0      839   \n",
              "\n",
              "                                                     value  \n",
              "5056163                                      888666 779157  \n",
              "9458420                                         n51960.000  \n",
              "8886030  1283144 353870 367680 1007677 257374 323062 30...  \n",
              "2658996                              1247872 n18151128.000  \n",
              "897701                                              519769  \n",
              "6934839                        1252719 253573 339009 75026  \n",
              "5122569                82788 606598 1169762 1145548 893197  \n",
              "5489447                                            1180441  \n",
              "6289951                                     1001974 593897  \n",
              "4401680                              838621 1160792 231473  \n",
              "527902                                                9275  \n",
              "8408145                                             679677  \n",
              "1042762                                             769062  \n",
              "5112622                                             317528  \n",
              "5417964                                             600253  "
            ],
            "text/html": [
              "\n",
              "  <div id=\"df-03270bf9-20fa-491f-9097-8a96f9c4a6a4\">\n",
              "    <div class=\"colab-df-container\">\n",
              "      <div>\n",
              "<style scoped>\n",
              "    .dataframe tbody tr th:only-of-type {\n",
              "        vertical-align: middle;\n",
              "    }\n",
              "\n",
              "    .dataframe tbody tr th {\n",
              "        vertical-align: top;\n",
              "    }\n",
              "\n",
              "    .dataframe thead th {\n",
              "        text-align: right;\n",
              "    }\n",
              "</style>\n",
              "<table border=\"1\" class=\"dataframe\">\n",
              "  <thead>\n",
              "    <tr style=\"text-align: right;\">\n",
              "      <th></th>\n",
              "      <th>timestamp</th>\n",
              "      <th>itemid</th>\n",
              "      <th>property</th>\n",
              "      <th>value</th>\n",
              "    </tr>\n",
              "  </thead>\n",
              "  <tbody>\n",
              "    <tr>\n",
              "      <th>5056163</th>\n",
              "      <td>2015-05-10 03:00:00</td>\n",
              "      <td>311176.0</td>\n",
              "      <td>678</td>\n",
              "      <td>888666 779157</td>\n",
              "    </tr>\n",
              "    <tr>\n",
              "      <th>9458420</th>\n",
              "      <td>2015-05-10 03:00:00</td>\n",
              "      <td>152261.0</td>\n",
              "      <td>790</td>\n",
              "      <td>n51960.000</td>\n",
              "    </tr>\n",
              "    <tr>\n",
              "      <th>8886030</th>\n",
              "      <td>2015-06-07 03:00:00</td>\n",
              "      <td>157898.0</td>\n",
              "      <td>283</td>\n",
              "      <td>1283144 353870 367680 1007677 257374 323062 30...</td>\n",
              "    </tr>\n",
              "    <tr>\n",
              "      <th>2658996</th>\n",
              "      <td>2015-06-28 03:00:00</td>\n",
              "      <td>109875.0</td>\n",
              "      <td>917</td>\n",
              "      <td>1247872 n18151128.000</td>\n",
              "    </tr>\n",
              "    <tr>\n",
              "      <th>897701</th>\n",
              "      <td>2015-05-10 03:00:00</td>\n",
              "      <td>303041.0</td>\n",
              "      <td>159</td>\n",
              "      <td>519769</td>\n",
              "    </tr>\n",
              "    <tr>\n",
              "      <th>6934839</th>\n",
              "      <td>2015-06-28 03:00:00</td>\n",
              "      <td>40953.0</td>\n",
              "      <td>888</td>\n",
              "      <td>1252719 253573 339009 75026</td>\n",
              "    </tr>\n",
              "    <tr>\n",
              "      <th>5122569</th>\n",
              "      <td>2015-06-14 03:00:00</td>\n",
              "      <td>203326.0</td>\n",
              "      <td>888</td>\n",
              "      <td>82788 606598 1169762 1145548 893197</td>\n",
              "    </tr>\n",
              "    <tr>\n",
              "      <th>5489447</th>\n",
              "      <td>2015-06-28 03:00:00</td>\n",
              "      <td>287367.0</td>\n",
              "      <td>678</td>\n",
              "      <td>1180441</td>\n",
              "    </tr>\n",
              "    <tr>\n",
              "      <th>6289951</th>\n",
              "      <td>2015-06-07 03:00:00</td>\n",
              "      <td>204559.0</td>\n",
              "      <td>719</td>\n",
              "      <td>1001974 593897</td>\n",
              "    </tr>\n",
              "    <tr>\n",
              "      <th>4401680</th>\n",
              "      <td>2015-05-17 03:00:00</td>\n",
              "      <td>93905.0</td>\n",
              "      <td>587</td>\n",
              "      <td>838621 1160792 231473</td>\n",
              "    </tr>\n",
              "    <tr>\n",
              "      <th>527902</th>\n",
              "      <td>2015-05-31 03:00:00</td>\n",
              "      <td>327775.0</td>\n",
              "      <td>928</td>\n",
              "      <td>9275</td>\n",
              "    </tr>\n",
              "    <tr>\n",
              "      <th>8408145</th>\n",
              "      <td>2015-06-28 03:00:00</td>\n",
              "      <td>159135.0</td>\n",
              "      <td>112</td>\n",
              "      <td>679677</td>\n",
              "    </tr>\n",
              "    <tr>\n",
              "      <th>1042762</th>\n",
              "      <td>2015-08-16 03:00:00</td>\n",
              "      <td>186287.0</td>\n",
              "      <td>550</td>\n",
              "      <td>769062</td>\n",
              "    </tr>\n",
              "    <tr>\n",
              "      <th>5112622</th>\n",
              "      <td>2015-05-17 03:00:00</td>\n",
              "      <td>230423.0</td>\n",
              "      <td>364</td>\n",
              "      <td>317528</td>\n",
              "    </tr>\n",
              "    <tr>\n",
              "      <th>5417964</th>\n",
              "      <td>2015-05-24 03:00:00</td>\n",
              "      <td>418517.0</td>\n",
              "      <td>839</td>\n",
              "      <td>600253</td>\n",
              "    </tr>\n",
              "  </tbody>\n",
              "</table>\n",
              "</div>\n",
              "      <button class=\"colab-df-convert\" onclick=\"convertToInteractive('df-03270bf9-20fa-491f-9097-8a96f9c4a6a4')\"\n",
              "              title=\"Convert this dataframe to an interactive table.\"\n",
              "              style=\"display:none;\">\n",
              "        \n",
              "  <svg xmlns=\"http://www.w3.org/2000/svg\" height=\"24px\"viewBox=\"0 0 24 24\"\n",
              "       width=\"24px\">\n",
              "    <path d=\"M0 0h24v24H0V0z\" fill=\"none\"/>\n",
              "    <path d=\"M18.56 5.44l.94 2.06.94-2.06 2.06-.94-2.06-.94-.94-2.06-.94 2.06-2.06.94zm-11 1L8.5 8.5l.94-2.06 2.06-.94-2.06-.94L8.5 2.5l-.94 2.06-2.06.94zm10 10l.94 2.06.94-2.06 2.06-.94-2.06-.94-.94-2.06-.94 2.06-2.06.94z\"/><path d=\"M17.41 7.96l-1.37-1.37c-.4-.4-.92-.59-1.43-.59-.52 0-1.04.2-1.43.59L10.3 9.45l-7.72 7.72c-.78.78-.78 2.05 0 2.83L4 21.41c.39.39.9.59 1.41.59.51 0 1.02-.2 1.41-.59l7.78-7.78 2.81-2.81c.8-.78.8-2.07 0-2.86zM5.41 20L4 18.59l7.72-7.72 1.47 1.35L5.41 20z\"/>\n",
              "  </svg>\n",
              "      </button>\n",
              "      \n",
              "  <style>\n",
              "    .colab-df-container {\n",
              "      display:flex;\n",
              "      flex-wrap:wrap;\n",
              "      gap: 12px;\n",
              "    }\n",
              "\n",
              "    .colab-df-convert {\n",
              "      background-color: #E8F0FE;\n",
              "      border: none;\n",
              "      border-radius: 50%;\n",
              "      cursor: pointer;\n",
              "      display: none;\n",
              "      fill: #1967D2;\n",
              "      height: 32px;\n",
              "      padding: 0 0 0 0;\n",
              "      width: 32px;\n",
              "    }\n",
              "\n",
              "    .colab-df-convert:hover {\n",
              "      background-color: #E2EBFA;\n",
              "      box-shadow: 0px 1px 2px rgba(60, 64, 67, 0.3), 0px 1px 3px 1px rgba(60, 64, 67, 0.15);\n",
              "      fill: #174EA6;\n",
              "    }\n",
              "\n",
              "    [theme=dark] .colab-df-convert {\n",
              "      background-color: #3B4455;\n",
              "      fill: #D2E3FC;\n",
              "    }\n",
              "\n",
              "    [theme=dark] .colab-df-convert:hover {\n",
              "      background-color: #434B5C;\n",
              "      box-shadow: 0px 1px 3px 1px rgba(0, 0, 0, 0.15);\n",
              "      filter: drop-shadow(0px 1px 2px rgba(0, 0, 0, 0.3));\n",
              "      fill: #FFFFFF;\n",
              "    }\n",
              "  </style>\n",
              "\n",
              "      <script>\n",
              "        const buttonEl =\n",
              "          document.querySelector('#df-03270bf9-20fa-491f-9097-8a96f9c4a6a4 button.colab-df-convert');\n",
              "        buttonEl.style.display =\n",
              "          google.colab.kernel.accessAllowed ? 'block' : 'none';\n",
              "\n",
              "        async function convertToInteractive(key) {\n",
              "          const element = document.querySelector('#df-03270bf9-20fa-491f-9097-8a96f9c4a6a4');\n",
              "          const dataTable =\n",
              "            await google.colab.kernel.invokeFunction('convertToInteractive',\n",
              "                                                     [key], {});\n",
              "          if (!dataTable) return;\n",
              "\n",
              "          const docLinkHtml = 'Like what you see? Visit the ' +\n",
              "            '<a target=\"_blank\" href=https://colab.research.google.com/notebooks/data_table.ipynb>data table notebook</a>'\n",
              "            + ' to learn more about interactive tables.';\n",
              "          element.innerHTML = '';\n",
              "          dataTable['output_type'] = 'display_data';\n",
              "          await google.colab.output.renderOutput(dataTable, element);\n",
              "          const docLink = document.createElement('div');\n",
              "          docLink.innerHTML = docLinkHtml;\n",
              "          element.appendChild(docLink);\n",
              "        }\n",
              "      </script>\n",
              "    </div>\n",
              "  </div>\n",
              "  "
            ]
          },
          "metadata": {},
          "execution_count": 19
        }
      ]
    },
    {
      "cell_type": "code",
      "source": [
        "print(events.groupby(['event']).event.count())\n",
        "sns.countplot(x= 'event', data=events, palette=\"pastel\")"
      ],
      "metadata": {
        "colab": {
          "base_uri": "https://localhost:8080/",
          "height": 392
        },
        "id": "JjlzJvU7v8vJ",
        "outputId": "907a853f-c439-4e46-8d07-09d5d0915e94"
      },
      "execution_count": null,
      "outputs": [
        {
          "output_type": "stream",
          "name": "stdout",
          "text": [
            "event\n",
            "addtocart        69332\n",
            "transaction      22457\n",
            "view           2664312\n",
            "Name: event, dtype: int64\n"
          ]
        },
        {
          "output_type": "execute_result",
          "data": {
            "text/plain": [
              "<matplotlib.axes._subplots.AxesSubplot at 0x7f1c7662dd90>"
            ]
          },
          "metadata": {},
          "execution_count": 29
        },
        {
          "output_type": "display_data",
          "data": {
            "text/plain": [
              "<Figure size 432x288 with 1 Axes>"
            ],
            "image/png": "[encoded data removed]"
          },
          "metadata": {
            "needs_background": "light"
          }
        }
      ]
    },
    {
      "cell_type": "markdown",
      "source": [
        "Plot a pie chart of the data"
      ],
      "metadata": {
        "id": "UyUpcanVEXjc"
      }
    },
    {
      "cell_type": "code",
      "source": [
        "data = events.event.value_counts()\n",
        "labels = data.index\n",
        "sizes = data.values\n",
        "explode = (0, 0.15, 0.15)  # explode 1st slice\n",
        "plt.subplots(figsize=(8,8))\n",
        "\n",
        "# Plot\n",
        "plt.pie(sizes, explode=explode, labels=labels,autopct='%1.1f%%', shadow=False, startangle=0)\n",
        "plt.axis('equal')\n",
        "plt.show()"
      ],
      "metadata": {
        "colab": {
          "base_uri": "https://localhost:8080/",
          "height": 466
        },
        "id": "nLpX6PrsvyKE",
        "outputId": "53319cf5-637d-44b3-9e82-bd814095e6ce"
      },
      "execution_count": null,
      "outputs": [
        {
          "output_type": "display_data",
          "data": {
            "text/plain": [
              "<Figure size 576x576 with 1 Axes>"
            ],
            "image/png": "[encoded data removed]"
          },
          "metadata": {}
        }
      ]
    },
    {
      "cell_type": "markdown",
      "source": [
        "##  Access and load the data for the \"events\" file"
      ],
      "metadata": {
        "id": "yDVhzAtGE0fj"
      }
    },
    {
      "cell_type": "code",
      "source": [
        "events = pd.read_csv(\"/content/drive/MyDrive/FinalProj/RetailRocket/events.csv\")\n",
        "events.sample(15)"
      ],
      "metadata": {
        "colab": {
          "base_uri": "https://localhost:8080/",
          "height": 514
        },
        "id": "XzCFBVDMrzWM",
        "outputId": "44b167fe-7a7a-4405-d77e-a3846418ee10"
      },
      "execution_count": null,
      "outputs": [
        {
          "output_type": "execute_result",
          "data": {
            "text/plain": [
              "             timestamp  visitorid      event  itemid  transactionid\n",
              "2728313  1438313905837    1024566  addtocart  218794            NaN\n",
              "923075   1439949340282     781322       view  355043            NaN\n",
              "978802   1440192312253    1000589       view  195143            NaN\n",
              "999695   1440229295482     423611       view  348157            NaN\n",
              "2740475  1438380205803      67368       view   80435            NaN\n",
              "1793403  1432000028489     904963       view  397236            NaN\n",
              "17655    1433177601944     387360       view  445380            NaN\n",
              "1975479  1432748993850     258487       view    6190            NaN\n",
              "622322   1438469128577     946457       view  347172            NaN\n",
              "1672342  1431559787594     621585       view  428896            NaN\n",
              "829296   1439485940676     382771       view  424932            NaN\n",
              "138697   1433719682798    1098343       view  291877            NaN\n",
              "2361212  1436888924811     900276       view  354714            NaN\n",
              "701559   1438789504179     387106       view    7642            NaN\n",
              "1947130  1432673681967     163561  addtocart  147176            NaN"
            ],
            "text/html": [
              "\n",
              "  <div id=\"df-27af702f-0137-4253-91c7-7306d89baf18\">\n",
              "    <div class=\"colab-df-container\">\n",
              "      <div>\n",
              "<style scoped>\n",
              "    .dataframe tbody tr th:only-of-type {\n",
              "        vertical-align: middle;\n",
              "    }\n",
              "\n",
              "    .dataframe tbody tr th {\n",
              "        vertical-align: top;\n",
              "    }\n",
              "\n",
              "    .dataframe thead th {\n",
              "        text-align: right;\n",
              "    }\n",
              "</style>\n",
              "<table border=\"1\" class=\"dataframe\">\n",
              "  <thead>\n",
              "    <tr style=\"text-align: right;\">\n",
              "      <th></th>\n",
              "      <th>timestamp</th>\n",
              "      <th>visitorid</th>\n",
              "      <th>event</th>\n",
              "      <th>itemid</th>\n",
              "      <th>transactionid</th>\n",
              "    </tr>\n",
              "  </thead>\n",
              "  <tbody>\n",
              "    <tr>\n",
              "      <th>2728313</th>\n",
              "      <td>1438313905837</td>\n",
              "      <td>1024566</td>\n",
              "      <td>addtocart</td>\n",
              "      <td>218794</td>\n",
              "      <td>NaN</td>\n",
              "    </tr>\n",
              "    <tr>\n",
              "      <th>923075</th>\n",
              "      <td>1439949340282</td>\n",
              "      <td>781322</td>\n",
              "      <td>view</td>\n",
              "      <td>355043</td>\n",
              "      <td>NaN</td>\n",
              "    </tr>\n",
              "    <tr>\n",
              "      <th>978802</th>\n",
              "      <td>1440192312253</td>\n",
              "      <td>1000589</td>\n",
              "      <td>view</td>\n",
              "      <td>195143</td>\n",
              "      <td>NaN</td>\n",
              "    </tr>\n",
              "    <tr>\n",
              "      <th>999695</th>\n",
              "      <td>1440229295482</td>\n",
              "      <td>423611</td>\n",
              "      <td>view</td>\n",
              "      <td>348157</td>\n",
              "      <td>NaN</td>\n",
              "    </tr>\n",
              "    <tr>\n",
              "      <th>2740475</th>\n",
              "      <td>1438380205803</td>\n",
              "      <td>67368</td>\n",
              "      <td>view</td>\n",
              "      <td>80435</td>\n",
              "      <td>NaN</td>\n",
              "    </tr>\n",
              "    <tr>\n",
              "      <th>1793403</th>\n",
              "      <td>1432000028489</td>\n",
              "      <td>904963</td>\n",
              "      <td>view</td>\n",
              "      <td>397236</td>\n",
              "      <td>NaN</td>\n",
              "    </tr>\n",
              "    <tr>\n",
              "      <th>17655</th>\n",
              "      <td>1433177601944</td>\n",
              "      <td>387360</td>\n",
              "      <td>view</td>\n",
              "      <td>445380</td>\n",
              "      <td>NaN</td>\n",
              "    </tr>\n",
              "    <tr>\n",
              "      <th>1975479</th>\n",
              "      <td>1432748993850</td>\n",
              "      <td>258487</td>\n",
              "      <td>view</td>\n",
              "      <td>6190</td>\n",
              "      <td>NaN</td>\n",
              "    </tr>\n",
              "    <tr>\n",
              "      <th>622322</th>\n",
              "      <td>1438469128577</td>\n",
              "      <td>946457</td>\n",
              "      <td>view</td>\n",
              "      <td>347172</td>\n",
              "      <td>NaN</td>\n",
              "    </tr>\n",
              "    <tr>\n",
              "      <th>1672342</th>\n",
              "      <td>1431559787594</td>\n",
              "      <td>621585</td>\n",
              "      <td>view</td>\n",
              "      <td>428896</td>\n",
              "      <td>NaN</td>\n",
              "    </tr>\n",
              "    <tr>\n",
              "      <th>829296</th>\n",
              "      <td>1439485940676</td>\n",
              "      <td>382771</td>\n",
              "      <td>view</td>\n",
              "      <td>424932</td>\n",
              "      <td>NaN</td>\n",
              "    </tr>\n",
              "    <tr>\n",
              "      <th>138697</th>\n",
              "      <td>1433719682798</td>\n",
              "      <td>1098343</td>\n",
              "      <td>view</td>\n",
              "      <td>291877</td>\n",
              "      <td>NaN</td>\n",
              "    </tr>\n",
              "    <tr>\n",
              "      <th>2361212</th>\n",
              "      <td>1436888924811</td>\n",
              "      <td>900276</td>\n",
              "      <td>view</td>\n",
              "      <td>354714</td>\n",
              "      <td>NaN</td>\n",
              "    </tr>\n",
              "    <tr>\n",
              "      <th>701559</th>\n",
              "      <td>1438789504179</td>\n",
              "      <td>387106</td>\n",
              "      <td>view</td>\n",
              "      <td>7642</td>\n",
              "      <td>NaN</td>\n",
              "    </tr>\n",
              "    <tr>\n",
              "      <th>1947130</th>\n",
              "      <td>1432673681967</td>\n",
              "      <td>163561</td>\n",
              "      <td>addtocart</td>\n",
              "      <td>147176</td>\n",
              "      <td>NaN</td>\n",
              "    </tr>\n",
              "  </tbody>\n",
              "</table>\n",
              "</div>\n",
              "      <button class=\"colab-df-convert\" onclick=\"convertToInteractive('df-27af702f-0137-4253-91c7-7306d89baf18')\"\n",
              "              title=\"Convert this dataframe to an interactive table.\"\n",
              "              style=\"display:none;\">\n",
              "        \n",
              "  <svg xmlns=\"http://www.w3.org/2000/svg\" height=\"24px\"viewBox=\"0 0 24 24\"\n",
              "       width=\"24px\">\n",
              "    <path d=\"M0 0h24v24H0V0z\" fill=\"none\"/>\n",
              "    <path d=\"M18.56 5.44l.94 2.06.94-2.06 2.06-.94-2.06-.94-.94-2.06-.94 2.06-2.06.94zm-11 1L8.5 8.5l.94-2.06 2.06-.94-2.06-.94L8.5 2.5l-.94 2.06-2.06.94zm10 10l.94 2.06.94-2.06 2.06-.94-2.06-.94-.94-2.06-.94 2.06-2.06.94z\"/><path d=\"M17.41 7.96l-1.37-1.37c-.4-.4-.92-.59-1.43-.59-.52 0-1.04.2-1.43.59L10.3 9.45l-7.72 7.72c-.78.78-.78 2.05 0 2.83L4 21.41c.39.39.9.59 1.41.59.51 0 1.02-.2 1.41-.59l7.78-7.78 2.81-2.81c.8-.78.8-2.07 0-2.86zM5.41 20L4 18.59l7.72-7.72 1.47 1.35L5.41 20z\"/>\n",
              "  </svg>\n",
              "      </button>\n",
              "      \n",
              "  <style>\n",
              "    .colab-df-container {\n",
              "      display:flex;\n",
              "      flex-wrap:wrap;\n",
              "      gap: 12px;\n",
              "    }\n",
              "\n",
              "    .colab-df-convert {\n",
              "      background-color: #E8F0FE;\n",
              "      border: none;\n",
              "      border-radius: 50%;\n",
              "      cursor: pointer;\n",
              "      display: none;\n",
              "      fill: #1967D2;\n",
              "      height: 32px;\n",
              "      padding: 0 0 0 0;\n",
              "      width: 32px;\n",
              "    }\n",
              "\n",
              "    .colab-df-convert:hover {\n",
              "      background-color: #E2EBFA;\n",
              "      box-shadow: 0px 1px 2px rgba(60, 64, 67, 0.3), 0px 1px 3px 1px rgba(60, 64, 67, 0.15);\n",
              "      fill: #174EA6;\n",
              "    }\n",
              "\n",
              "    [theme=dark] .colab-df-convert {\n",
              "      background-color: #3B4455;\n",
              "      fill: #D2E3FC;\n",
              "    }\n",
              "\n",
              "    [theme=dark] .colab-df-convert:hover {\n",
              "      background-color: #434B5C;\n",
              "      box-shadow: 0px 1px 3px 1px rgba(0, 0, 0, 0.15);\n",
              "      filter: drop-shadow(0px 1px 2px rgba(0, 0, 0, 0.3));\n",
              "      fill: #FFFFFF;\n",
              "    }\n",
              "  </style>\n",
              "\n",
              "      <script>\n",
              "        const buttonEl =\n",
              "          document.querySelector('#df-27af702f-0137-4253-91c7-7306d89baf18 button.colab-df-convert');\n",
              "        buttonEl.style.display =\n",
              "          google.colab.kernel.accessAllowed ? 'block' : 'none';\n",
              "\n",
              "        async function convertToInteractive(key) {\n",
              "          const element = document.querySelector('#df-27af702f-0137-4253-91c7-7306d89baf18');\n",
              "          const dataTable =\n",
              "            await google.colab.kernel.invokeFunction('convertToInteractive',\n",
              "                                                     [key], {});\n",
              "          if (!dataTable) return;\n",
              "\n",
              "          const docLinkHtml = 'Like what you see? Visit the ' +\n",
              "            '<a target=\"_blank\" href=https://colab.research.google.com/notebooks/data_table.ipynb>data table notebook</a>'\n",
              "            + ' to learn more about interactive tables.';\n",
              "          element.innerHTML = '';\n",
              "          dataTable['output_type'] = 'display_data';\n",
              "          await google.colab.output.renderOutput(dataTable, element);\n",
              "          const docLink = document.createElement('div');\n",
              "          docLink.innerHTML = docLinkHtml;\n",
              "          element.appendChild(docLink);\n",
              "        }\n",
              "      </script>\n",
              "    </div>\n",
              "  </div>\n",
              "  "
            ]
          },
          "metadata": {},
          "execution_count": 12
        }
      ]
    },
    {
      "cell_type": "markdown",
      "source": [
        "##  Access and load the data for the \"category_tree\" file"
      ],
      "metadata": {
        "id": "ZWLz4CieFD7b"
      }
    },
    {
      "cell_type": "code",
      "source": [
        "category_tree = pd.read_csv(\"/content/drive/MyDrive/FinalProj/RetailRocket/category_tree.csv\")\n",
        "category_tree.head(15)\n",
        "\n"
      ],
      "metadata": {
        "id": "BT6LJlUPcG46",
        "colab": {
          "base_uri": "https://localhost:8080/",
          "height": 514
        },
        "outputId": "37fecab2-d8bb-4705-c120-578aa7d46473"
      },
      "execution_count": null,
      "outputs": [
        {
          "output_type": "execute_result",
          "data": {
            "text/plain": [
              "    categoryid  parentid\n",
              "0         1016     213.0\n",
              "1          809     169.0\n",
              "2          570       9.0\n",
              "3         1691     885.0\n",
              "4          536    1691.0\n",
              "5          231       NaN\n",
              "6          542     378.0\n",
              "7         1146     542.0\n",
              "8         1140     542.0\n",
              "9         1479    1537.0\n",
              "10          83    1621.0\n",
              "11         688     893.0\n",
              "12         257     312.0\n",
              "13        1640     622.0\n",
              "14         963    1281.0"
            ],
            "text/html": [
              "\n",
              "  <div id=\"df-6e43b384-c271-43f7-b750-6eb1c22d351c\">\n",
              "    <div class=\"colab-df-container\">\n",
              "      <div>\n",
              "<style scoped>\n",
              "    .dataframe tbody tr th:only-of-type {\n",
              "        vertical-align: middle;\n",
              "    }\n",
              "\n",
              "    .dataframe tbody tr th {\n",
              "        vertical-align: top;\n",
              "    }\n",
              "\n",
              "    .dataframe thead th {\n",
              "        text-align: right;\n",
              "    }\n",
              "</style>\n",
              "<table border=\"1\" class=\"dataframe\">\n",
              "  <thead>\n",
              "    <tr style=\"text-align: right;\">\n",
              "      <th></th>\n",
              "      <th>categoryid</th>\n",
              "      <th>parentid</th>\n",
              "    </tr>\n",
              "  </thead>\n",
              "  <tbody>\n",
              "    <tr>\n",
              "      <th>0</th>\n",
              "      <td>1016</td>\n",
              "      <td>213.0</td>\n",
              "    </tr>\n",
              "    <tr>\n",
              "      <th>1</th>\n",
              "      <td>809</td>\n",
              "      <td>169.0</td>\n",
              "    </tr>\n",
              "    <tr>\n",
              "      <th>2</th>\n",
              "      <td>570</td>\n",
              "      <td>9.0</td>\n",
              "    </tr>\n",
              "    <tr>\n",
              "      <th>3</th>\n",
              "      <td>1691</td>\n",
              "      <td>885.0</td>\n",
              "    </tr>\n",
              "    <tr>\n",
              "      <th>4</th>\n",
              "      <td>536</td>\n",
              "      <td>1691.0</td>\n",
              "    </tr>\n",
              "    <tr>\n",
              "      <th>5</th>\n",
              "      <td>231</td>\n",
              "      <td>NaN</td>\n",
              "    </tr>\n",
              "    <tr>\n",
              "      <th>6</th>\n",
              "      <td>542</td>\n",
              "      <td>378.0</td>\n",
              "    </tr>\n",
              "    <tr>\n",
              "      <th>7</th>\n",
              "      <td>1146</td>\n",
              "      <td>542.0</td>\n",
              "    </tr>\n",
              "    <tr>\n",
              "      <th>8</th>\n",
              "      <td>1140</td>\n",
              "      <td>542.0</td>\n",
              "    </tr>\n",
              "    <tr>\n",
              "      <th>9</th>\n",
              "      <td>1479</td>\n",
              "      <td>1537.0</td>\n",
              "    </tr>\n",
              "    <tr>\n",
              "      <th>10</th>\n",
              "      <td>83</td>\n",
              "      <td>1621.0</td>\n",
              "    </tr>\n",
              "    <tr>\n",
              "      <th>11</th>\n",
              "      <td>688</td>\n",
              "      <td>893.0</td>\n",
              "    </tr>\n",
              "    <tr>\n",
              "      <th>12</th>\n",
              "      <td>257</td>\n",
              "      <td>312.0</td>\n",
              "    </tr>\n",
              "    <tr>\n",
              "      <th>13</th>\n",
              "      <td>1640</td>\n",
              "      <td>622.0</td>\n",
              "    </tr>\n",
              "    <tr>\n",
              "      <th>14</th>\n",
              "      <td>963</td>\n",
              "      <td>1281.0</td>\n",
              "    </tr>\n",
              "  </tbody>\n",
              "</table>\n",
              "</div>\n",
              "      <button class=\"colab-df-convert\" onclick=\"convertToInteractive('df-6e43b384-c271-43f7-b750-6eb1c22d351c')\"\n",
              "              title=\"Convert this dataframe to an interactive table.\"\n",
              "              style=\"display:none;\">\n",
              "        \n",
              "  <svg xmlns=\"http://www.w3.org/2000/svg\" height=\"24px\"viewBox=\"0 0 24 24\"\n",
              "       width=\"24px\">\n",
              "    <path d=\"M0 0h24v24H0V0z\" fill=\"none\"/>\n",
              "    <path d=\"M18.56 5.44l.94 2.06.94-2.06 2.06-.94-2.06-.94-.94-2.06-.94 2.06-2.06.94zm-11 1L8.5 8.5l.94-2.06 2.06-.94-2.06-.94L8.5 2.5l-.94 2.06-2.06.94zm10 10l.94 2.06.94-2.06 2.06-.94-2.06-.94-.94-2.06-.94 2.06-2.06.94z\"/><path d=\"M17.41 7.96l-1.37-1.37c-.4-.4-.92-.59-1.43-.59-.52 0-1.04.2-1.43.59L10.3 9.45l-7.72 7.72c-.78.78-.78 2.05 0 2.83L4 21.41c.39.39.9.59 1.41.59.51 0 1.02-.2 1.41-.59l7.78-7.78 2.81-2.81c.8-.78.8-2.07 0-2.86zM5.41 20L4 18.59l7.72-7.72 1.47 1.35L5.41 20z\"/>\n",
              "  </svg>\n",
              "      </button>\n",
              "      \n",
              "  <style>\n",
              "    .colab-df-container {\n",
              "      display:flex;\n",
              "      flex-wrap:wrap;\n",
              "      gap: 12px;\n",
              "    }\n",
              "\n",
              "    .colab-df-convert {\n",
              "      background-color: #E8F0FE;\n",
              "      border: none;\n",
              "      border-radius: 50%;\n",
              "      cursor: pointer;\n",
              "      display: none;\n",
              "      fill: #1967D2;\n",
              "      height: 32px;\n",
              "      padding: 0 0 0 0;\n",
              "      width: 32px;\n",
              "    }\n",
              "\n",
              "    .colab-df-convert:hover {\n",
              "      background-color: #E2EBFA;\n",
              "      box-shadow: 0px 1px 2px rgba(60, 64, 67, 0.3), 0px 1px 3px 1px rgba(60, 64, 67, 0.15);\n",
              "      fill: #174EA6;\n",
              "    }\n",
              "\n",
              "    [theme=dark] .colab-df-convert {\n",
              "      background-color: #3B4455;\n",
              "      fill: #D2E3FC;\n",
              "    }\n",
              "\n",
              "    [theme=dark] .colab-df-convert:hover {\n",
              "      background-color: #434B5C;\n",
              "      box-shadow: 0px 1px 3px 1px rgba(0, 0, 0, 0.15);\n",
              "      filter: drop-shadow(0px 1px 2px rgba(0, 0, 0, 0.3));\n",
              "      fill: #FFFFFF;\n",
              "    }\n",
              "  </style>\n",
              "\n",
              "      <script>\n",
              "        const buttonEl =\n",
              "          document.querySelector('#df-6e43b384-c271-43f7-b750-6eb1c22d351c button.colab-df-convert');\n",
              "        buttonEl.style.display =\n",
              "          google.colab.kernel.accessAllowed ? 'block' : 'none';\n",
              "\n",
              "        async function convertToInteractive(key) {\n",
              "          const element = document.querySelector('#df-6e43b384-c271-43f7-b750-6eb1c22d351c');\n",
              "          const dataTable =\n",
              "            await google.colab.kernel.invokeFunction('convertToInteractive',\n",
              "                                                     [key], {});\n",
              "          if (!dataTable) return;\n",
              "\n",
              "          const docLinkHtml = 'Like what you see? Visit the ' +\n",
              "            '<a target=\"_blank\" href=https://colab.research.google.com/notebooks/data_table.ipynb>data table notebook</a>'\n",
              "            + ' to learn more about interactive tables.';\n",
              "          element.innerHTML = '';\n",
              "          dataTable['output_type'] = 'display_data';\n",
              "          await google.colab.output.renderOutput(dataTable, element);\n",
              "          const docLink = document.createElement('div');\n",
              "          docLink.innerHTML = docLinkHtml;\n",
              "          element.appendChild(docLink);\n",
              "        }\n",
              "      </script>\n",
              "    </div>\n",
              "  </div>\n",
              "  "
            ]
          },
          "metadata": {},
          "execution_count": 15
        }
      ]
    },
    {
      "cell_type": "code",
      "source": [
        "items.loc[(items.property=='categoryid')&(items.value == '963')].sort_values('timestamp').head()"
      ],
      "metadata": {
        "id": "NIuAcQoxab9-",
        "colab": {
          "base_uri": "https://localhost:8080/",
          "height": 204
        },
        "outputId": "8d043159-b4fe-4234-fe82-a3e1d98fe6cc"
      },
      "execution_count": null,
      "outputs": [
        {
          "output_type": "execute_result",
          "data": {
            "text/plain": [
              "             timestamp    itemid    property value\n",
              "9221349  1431226800000  256490.0  categoryid   963\n",
              "7821331  1431226800000  453236.0  categoryid   963\n",
              "5412054  1431226800000  357145.0  categoryid   963\n",
              "4197263  1431226800000  293586.0  categoryid   963\n",
              "7790332  1431226800000  145221.0  categoryid   963"
            ],
            "text/html": [
              "\n",
              "  <div id=\"df-81901016-b7f0-42e0-899d-bc5a84d2ca00\">\n",
              "    <div class=\"colab-df-container\">\n",
              "      <div>\n",
              "<style scoped>\n",
              "    .dataframe tbody tr th:only-of-type {\n",
              "        vertical-align: middle;\n",
              "    }\n",
              "\n",
              "    .dataframe tbody tr th {\n",
              "        vertical-align: top;\n",
              "    }\n",
              "\n",
              "    .dataframe thead th {\n",
              "        text-align: right;\n",
              "    }\n",
              "</style>\n",
              "<table border=\"1\" class=\"dataframe\">\n",
              "  <thead>\n",
              "    <tr style=\"text-align: right;\">\n",
              "      <th></th>\n",
              "      <th>timestamp</th>\n",
              "      <th>itemid</th>\n",
              "      <th>property</th>\n",
              "      <th>value</th>\n",
              "    </tr>\n",
              "  </thead>\n",
              "  <tbody>\n",
              "    <tr>\n",
              "      <th>9221349</th>\n",
              "      <td>1431226800000</td>\n",
              "      <td>256490.0</td>\n",
              "      <td>categoryid</td>\n",
              "      <td>963</td>\n",
              "    </tr>\n",
              "    <tr>\n",
              "      <th>7821331</th>\n",
              "      <td>1431226800000</td>\n",
              "      <td>453236.0</td>\n",
              "      <td>categoryid</td>\n",
              "      <td>963</td>\n",
              "    </tr>\n",
              "    <tr>\n",
              "      <th>5412054</th>\n",
              "      <td>1431226800000</td>\n",
              "      <td>357145.0</td>\n",
              "      <td>categoryid</td>\n",
              "      <td>963</td>\n",
              "    </tr>\n",
              "    <tr>\n",
              "      <th>4197263</th>\n",
              "      <td>1431226800000</td>\n",
              "      <td>293586.0</td>\n",
              "      <td>categoryid</td>\n",
              "      <td>963</td>\n",
              "    </tr>\n",
              "    <tr>\n",
              "      <th>7790332</th>\n",
              "      <td>1431226800000</td>\n",
              "      <td>145221.0</td>\n",
              "      <td>categoryid</td>\n",
              "      <td>963</td>\n",
              "    </tr>\n",
              "  </tbody>\n",
              "</table>\n",
              "</div>\n",
              "      <button class=\"colab-df-convert\" onclick=\"convertToInteractive('df-81901016-b7f0-42e0-899d-bc5a84d2ca00')\"\n",
              "              title=\"Convert this dataframe to an interactive table.\"\n",
              "              style=\"display:none;\">\n",
              "        \n",
              "  <svg xmlns=\"http://www.w3.org/2000/svg\" height=\"24px\"viewBox=\"0 0 24 24\"\n",
              "       width=\"24px\">\n",
              "    <path d=\"M0 0h24v24H0V0z\" fill=\"none\"/>\n",
              "    <path d=\"M18.56 5.44l.94 2.06.94-2.06 2.06-.94-2.06-.94-.94-2.06-.94 2.06-2.06.94zm-11 1L8.5 8.5l.94-2.06 2.06-.94-2.06-.94L8.5 2.5l-.94 2.06-2.06.94zm10 10l.94 2.06.94-2.06 2.06-.94-2.06-.94-.94-2.06-.94 2.06-2.06.94z\"/><path d=\"M17.41 7.96l-1.37-1.37c-.4-.4-.92-.59-1.43-.59-.52 0-1.04.2-1.43.59L10.3 9.45l-7.72 7.72c-.78.78-.78 2.05 0 2.83L4 21.41c.39.39.9.59 1.41.59.51 0 1.02-.2 1.41-.59l7.78-7.78 2.81-2.81c.8-.78.8-2.07 0-2.86zM5.41 20L4 18.59l7.72-7.72 1.47 1.35L5.41 20z\"/>\n",
              "  </svg>\n",
              "      </button>\n",
              "      \n",
              "  <style>\n",
              "    .colab-df-container {\n",
              "      display:flex;\n",
              "      flex-wrap:wrap;\n",
              "      gap: 12px;\n",
              "    }\n",
              "\n",
              "    .colab-df-convert {\n",
              "      background-color: #E8F0FE;\n",
              "      border: none;\n",
              "      border-radius: 50%;\n",
              "      cursor: pointer;\n",
              "      display: none;\n",
              "      fill: #1967D2;\n",
              "      height: 32px;\n",
              "      padding: 0 0 0 0;\n",
              "      width: 32px;\n",
              "    }\n",
              "\n",
              "    .colab-df-convert:hover {\n",
              "      background-color: #E2EBFA;\n",
              "      box-shadow: 0px 1px 2px rgba(60, 64, 67, 0.3), 0px 1px 3px 1px rgba(60, 64, 67, 0.15);\n",
              "      fill: #174EA6;\n",
              "    }\n",
              "\n",
              "    [theme=dark] .colab-df-convert {\n",
              "      background-color: #3B4455;\n",
              "      fill: #D2E3FC;\n",
              "    }\n",
              "\n",
              "    [theme=dark] .colab-df-convert:hover {\n",
              "      background-color: #434B5C;\n",
              "      box-shadow: 0px 1px 3px 1px rgba(0, 0, 0, 0.15);\n",
              "      filter: drop-shadow(0px 1px 2px rgba(0, 0, 0, 0.3));\n",
              "      fill: #FFFFFF;\n",
              "    }\n",
              "  </style>\n",
              "\n",
              "      <script>\n",
              "        const buttonEl =\n",
              "          document.querySelector('#df-81901016-b7f0-42e0-899d-bc5a84d2ca00 button.colab-df-convert');\n",
              "        buttonEl.style.display =\n",
              "          google.colab.kernel.accessAllowed ? 'block' : 'none';\n",
              "\n",
              "        async function convertToInteractive(key) {\n",
              "          const element = document.querySelector('#df-81901016-b7f0-42e0-899d-bc5a84d2ca00');\n",
              "          const dataTable =\n",
              "            await google.colab.kernel.invokeFunction('convertToInteractive',\n",
              "                                                     [key], {});\n",
              "          if (!dataTable) return;\n",
              "\n",
              "          const docLinkHtml = 'Like what you see? Visit the ' +\n",
              "            '<a target=\"_blank\" href=https://colab.research.google.com/notebooks/data_table.ipynb>data table notebook</a>'\n",
              "            + ' to learn more about interactive tables.';\n",
              "          element.innerHTML = '';\n",
              "          dataTable['output_type'] = 'display_data';\n",
              "          await google.colab.output.renderOutput(dataTable, element);\n",
              "          const docLink = document.createElement('div');\n",
              "          docLink.innerHTML = docLinkHtml;\n",
              "          element.appendChild(docLink);\n",
              "        }\n",
              "      </script>\n",
              "    </div>\n",
              "  </div>\n",
              "  "
            ]
          },
          "metadata": {},
          "execution_count": 22
        }
      ]
    },
    {
      "cell_type": "code",
      "source": [
        "# Show total of all visitors\n",
        "print('Total visitors:', events['visitorid'].size)"
      ],
      "metadata": {
        "id": "IEOrDg8xcO7d",
        "colab": {
          "base_uri": "https://localhost:8080/"
        },
        "outputId": "67f762c1-e5d7-4fb5-8afa-14197292e6df"
      },
      "execution_count": null,
      "outputs": [
        {
          "output_type": "stream",
          "name": "stdout",
          "text": [
            "Total visitors: 2756101\n"
          ]
        }
      ]
    },
    {
      "cell_type": "code",
      "source": [
        "# Show total of all unique visitors\n",
        "all_customers = events['visitorid'].unique()\n",
        "print(\"Unique visitors:\", all_customers.size)"
      ],
      "metadata": {
        "id": "iayzcraYchzT",
        "colab": {
          "base_uri": "https://localhost:8080/"
        },
        "outputId": "4442bbcf-c6a3-446e-9f68-72f740c46286"
      },
      "execution_count": null,
      "outputs": [
        {
          "output_type": "stream",
          "name": "stdout",
          "text": [
            "Unique visitors: 1407580\n"
          ]
        }
      ]
    },
    {
      "cell_type": "code",
      "source": [
        "# Show total of customers who purchased something\n",
        "\n",
        "customer_purchased = events[events.transactionid.notnull()].visitorid.unique()\n",
        "customer_purchased.size"
      ],
      "metadata": {
        "id": "UDDM7FDrcilf",
        "colab": {
          "base_uri": "https://localhost:8080/"
        },
        "outputId": "040cf206-bf8f-4e8b-ea0b-208cd95a0be6"
      },
      "execution_count": null,
      "outputs": [
        {
          "output_type": "execute_result",
          "data": {
            "text/plain": [
              "11719"
            ]
          },
          "metadata": {},
          "execution_count": 25
        }
      ]
    },
    {
      "cell_type": "code",
      "source": [
        "# Show total of customers who browsed but did not purchase\n",
        "customer_browsed = [x for x in all_customers if x not in customer_purchased]\n",
        "len(customer_browsed)"
      ],
      "metadata": {
        "id": "ftUp34recork",
        "colab": {
          "base_uri": "https://localhost:8080/"
        },
        "outputId": "2af9fea7-4379-4943-b938-850a05ee5d9f"
      },
      "execution_count": null,
      "outputs": [
        {
          "output_type": "execute_result",
          "data": {
            "text/plain": [
              "1395861"
            ]
          },
          "metadata": {},
          "execution_count": 26
        }
      ]
    },
    {
      "cell_type": "code",
      "source": [
        "items_new = items.loc[items.property.isin(['categoryid', 'available']), :]\n",
        "\n",
        "print(\"items with categoryid and available as property:\", items_new.size)\n",
        "items_new.head(10)"
      ],
      "metadata": {
        "id": "edWOXUFyd2Qs",
        "colab": {
          "base_uri": "https://localhost:8080/",
          "height": 376
        },
        "outputId": "2c3befa5-d8ca-4ad6-c8e6-11bb1fb9fb6c"
      },
      "execution_count": null,
      "outputs": [
        {
          "output_type": "stream",
          "name": "stdout",
          "text": [
            "items with categoryid and available as property: 8736172\n"
          ]
        },
        {
          "output_type": "execute_result",
          "data": {
            "text/plain": [
              "         timestamp    itemid    property value\n",
              "0    1435460400000  460429.0  categoryid  1338\n",
              "5    1436065200000  285026.0   available     0\n",
              "15   1437274800000  186518.0   available     0\n",
              "79   1433646000000  423682.0   available     0\n",
              "82   1434250800000  316253.0   available     1\n",
              "96   1437274800000  430459.0   available     0\n",
              "101  1433041200000  411262.0   available     0\n",
              "116  1441508400000   50372.0   available     0\n",
              "119  1441508400000  289043.0   available     0\n",
              "133  1435460400000  365407.0   available     0"
            ],
            "text/html": [
              "\n",
              "  <div id=\"df-96868bb3-5732-4c59-8872-fbfd7441d27d\">\n",
              "    <div class=\"colab-df-container\">\n",
              "      <div>\n",
              "<style scoped>\n",
              "    .dataframe tbody tr th:only-of-type {\n",
              "        vertical-align: middle;\n",
              "    }\n",
              "\n",
              "    .dataframe tbody tr th {\n",
              "        vertical-align: top;\n",
              "    }\n",
              "\n",
              "    .dataframe thead th {\n",
              "        text-align: right;\n",
              "    }\n",
              "</style>\n",
              "<table border=\"1\" class=\"dataframe\">\n",
              "  <thead>\n",
              "    <tr style=\"text-align: right;\">\n",
              "      <th></th>\n",
              "      <th>timestamp</th>\n",
              "      <th>itemid</th>\n",
              "      <th>property</th>\n",
              "      <th>value</th>\n",
              "    </tr>\n",
              "  </thead>\n",
              "  <tbody>\n",
              "    <tr>\n",
              "      <th>0</th>\n",
              "      <td>1435460400000</td>\n",
              "      <td>460429.0</td>\n",
              "      <td>categoryid</td>\n",
              "      <td>1338</td>\n",
              "    </tr>\n",
              "    <tr>\n",
              "      <th>5</th>\n",
              "      <td>1436065200000</td>\n",
              "      <td>285026.0</td>\n",
              "      <td>available</td>\n",
              "      <td>0</td>\n",
              "    </tr>\n",
              "    <tr>\n",
              "      <th>15</th>\n",
              "      <td>1437274800000</td>\n",
              "      <td>186518.0</td>\n",
              "      <td>available</td>\n",
              "      <td>0</td>\n",
              "    </tr>\n",
              "    <tr>\n",
              "      <th>79</th>\n",
              "      <td>1433646000000</td>\n",
              "      <td>423682.0</td>\n",
              "      <td>available</td>\n",
              "      <td>0</td>\n",
              "    </tr>\n",
              "    <tr>\n",
              "      <th>82</th>\n",
              "      <td>1434250800000</td>\n",
              "      <td>316253.0</td>\n",
              "      <td>available</td>\n",
              "      <td>1</td>\n",
              "    </tr>\n",
              "    <tr>\n",
              "      <th>96</th>\n",
              "      <td>1437274800000</td>\n",
              "      <td>430459.0</td>\n",
              "      <td>available</td>\n",
              "      <td>0</td>\n",
              "    </tr>\n",
              "    <tr>\n",
              "      <th>101</th>\n",
              "      <td>1433041200000</td>\n",
              "      <td>411262.0</td>\n",
              "      <td>available</td>\n",
              "      <td>0</td>\n",
              "    </tr>\n",
              "    <tr>\n",
              "      <th>116</th>\n",
              "      <td>1441508400000</td>\n",
              "      <td>50372.0</td>\n",
              "      <td>available</td>\n",
              "      <td>0</td>\n",
              "    </tr>\n",
              "    <tr>\n",
              "      <th>119</th>\n",
              "      <td>1441508400000</td>\n",
              "      <td>289043.0</td>\n",
              "      <td>available</td>\n",
              "      <td>0</td>\n",
              "    </tr>\n",
              "    <tr>\n",
              "      <th>133</th>\n",
              "      <td>1435460400000</td>\n",
              "      <td>365407.0</td>\n",
              "      <td>available</td>\n",
              "      <td>0</td>\n",
              "    </tr>\n",
              "  </tbody>\n",
              "</table>\n",
              "</div>\n",
              "      <button class=\"colab-df-convert\" onclick=\"convertToInteractive('df-96868bb3-5732-4c59-8872-fbfd7441d27d')\"\n",
              "              title=\"Convert this dataframe to an interactive table.\"\n",
              "              style=\"display:none;\">\n",
              "        \n",
              "  <svg xmlns=\"http://www.w3.org/2000/svg\" height=\"24px\"viewBox=\"0 0 24 24\"\n",
              "       width=\"24px\">\n",
              "    <path d=\"M0 0h24v24H0V0z\" fill=\"none\"/>\n",
              "    <path d=\"M18.56 5.44l.94 2.06.94-2.06 2.06-.94-2.06-.94-.94-2.06-.94 2.06-2.06.94zm-11 1L8.5 8.5l.94-2.06 2.06-.94-2.06-.94L8.5 2.5l-.94 2.06-2.06.94zm10 10l.94 2.06.94-2.06 2.06-.94-2.06-.94-.94-2.06-.94 2.06-2.06.94z\"/><path d=\"M17.41 7.96l-1.37-1.37c-.4-.4-.92-.59-1.43-.59-.52 0-1.04.2-1.43.59L10.3 9.45l-7.72 7.72c-.78.78-.78 2.05 0 2.83L4 21.41c.39.39.9.59 1.41.59.51 0 1.02-.2 1.41-.59l7.78-7.78 2.81-2.81c.8-.78.8-2.07 0-2.86zM5.41 20L4 18.59l7.72-7.72 1.47 1.35L5.41 20z\"/>\n",
              "  </svg>\n",
              "      </button>\n",
              "      \n",
              "  <style>\n",
              "    .colab-df-container {\n",
              "      display:flex;\n",
              "      flex-wrap:wrap;\n",
              "      gap: 12px;\n",
              "    }\n",
              "\n",
              "    .colab-df-convert {\n",
              "      background-color: #E8F0FE;\n",
              "      border: none;\n",
              "      border-radius: 50%;\n",
              "      cursor: pointer;\n",
              "      display: none;\n",
              "      fill: #1967D2;\n",
              "      height: 32px;\n",
              "      padding: 0 0 0 0;\n",
              "      width: 32px;\n",
              "    }\n",
              "\n",
              "    .colab-df-convert:hover {\n",
              "      background-color: #E2EBFA;\n",
              "      box-shadow: 0px 1px 2px rgba(60, 64, 67, 0.3), 0px 1px 3px 1px rgba(60, 64, 67, 0.15);\n",
              "      fill: #174EA6;\n",
              "    }\n",
              "\n",
              "    [theme=dark] .colab-df-convert {\n",
              "      background-color: #3B4455;\n",
              "      fill: #D2E3FC;\n",
              "    }\n",
              "\n",
              "    [theme=dark] .colab-df-convert:hover {\n",
              "      background-color: #434B5C;\n",
              "      box-shadow: 0px 1px 3px 1px rgba(0, 0, 0, 0.15);\n",
              "      filter: drop-shadow(0px 1px 2px rgba(0, 0, 0, 0.3));\n",
              "      fill: #FFFFFF;\n",
              "    }\n",
              "  </style>\n",
              "\n",
              "      <script>\n",
              "        const buttonEl =\n",
              "          document.querySelector('#df-96868bb3-5732-4c59-8872-fbfd7441d27d button.colab-df-convert');\n",
              "        buttonEl.style.display =\n",
              "          google.colab.kernel.accessAllowed ? 'block' : 'none';\n",
              "\n",
              "        async function convertToInteractive(key) {\n",
              "          const element = document.querySelector('#df-96868bb3-5732-4c59-8872-fbfd7441d27d');\n",
              "          const dataTable =\n",
              "            await google.colab.kernel.invokeFunction('convertToInteractive',\n",
              "                                                     [key], {});\n",
              "          if (!dataTable) return;\n",
              "\n",
              "          const docLinkHtml = 'Like what you see? Visit the ' +\n",
              "            '<a target=\"_blank\" href=https://colab.research.google.com/notebooks/data_table.ipynb>data table notebook</a>'\n",
              "            + ' to learn more about interactive tables.';\n",
              "          element.innerHTML = '';\n",
              "          dataTable['output_type'] = 'display_data';\n",
              "          await google.colab.output.renderOutput(dataTable, element);\n",
              "          const docLink = document.createElement('div');\n",
              "          docLink.innerHTML = docLinkHtml;\n",
              "          element.appendChild(docLink);\n",
              "        }\n",
              "      </script>\n",
              "    </div>\n",
              "  </div>\n",
              "  "
            ]
          },
          "metadata": {},
          "execution_count": 30
        }
      ]
    },
    {
      "cell_type": "code",
      "source": [
        "# Group itemid by the event type\n",
        "grouped = events.groupby('event')['itemid'].apply(list)\n",
        "grouped"
      ],
      "metadata": {
        "id": "34vgZxE5dYt6",
        "colab": {
          "base_uri": "https://localhost:8080/"
        },
        "outputId": "81f1b98e-7e20-41e0-b7e1-9455bd480706"
      },
      "execution_count": null,
      "outputs": [
        {
          "output_type": "execute_result",
          "data": {
            "text/plain": [
              "event\n",
              "addtocart      [5206, 10572, 255275, 356475, 312728, 63312, 1...\n",
              "transaction    [356475, 15335, 81345, 150318, 310791, 54058, ...\n",
              "view           [355908, 248676, 318965, 253185, 367447, 22556...\n",
              "Name: itemid, dtype: object"
            ]
          },
          "metadata": {},
          "execution_count": 29
        }
      ]
    },
    {
      "cell_type": "code",
      "source": [],
      "metadata": {
        "id": "TNZi0Mophrbw"
      },
      "execution_count": null,
      "outputs": []
    },
    {
      "cell_type": "markdown",
      "source": [
        "Check \"most viewed\" items and plot a bar chart"
      ],
      "metadata": {
        "id": "dL1dDMiGLEbG"
      }
    },
    {
      "cell_type": "code",
      "source": [
        "import operator\n",
        "\n",
        "views = grouped['view']\n",
        "count_view ={}\n",
        "views = np.array(views[:])\n",
        "unique, counts = np.unique(views, return_counts=True)\n",
        "count_view = dict(zip(unique, counts))\n",
        "\n",
        "sort_count_view = sorted(count_view.items(), key = operator.itemgetter(1), reverse = True)\n",
        "x = [i[0] for i in sort_count_view[:8]]\n",
        "y = [i[1] for i in sort_count_view[:8]]\n",
        "sns.barplot(x, y, order=x, palette=\"vlag\")"
      ],
      "metadata": {
        "id": "MICcd3INeFst",
        "colab": {
          "base_uri": "https://localhost:8080/",
          "height": 336
        },
        "outputId": "cdb5e7df-1d81-4336-eb86-d3272b880ca4"
      },
      "execution_count": null,
      "outputs": [
        {
          "output_type": "stream",
          "name": "stderr",
          "text": [
            "/usr/local/lib/python3.8/dist-packages/seaborn/_decorators.py:36: FutureWarning: Pass the following variables as keyword args: x, y. From version 0.12, the only valid positional argument will be `data`, and passing other arguments without an explicit keyword will result in an error or misinterpretation.\n",
            "  warnings.warn(\n"
          ]
        },
        {
          "output_type": "execute_result",
          "data": {
            "text/plain": [
              "<matplotlib.axes._subplots.AxesSubplot at 0x7f9a25659220>"
            ]
          },
          "metadata": {},
          "execution_count": 34
        },
        {
          "output_type": "display_data",
          "data": {
            "text/plain": [
              "<Figure size 432x288 with 1 Axes>"
            ],
            "image/png": "[encoded data removed]"
          },
          "metadata": {
            "needs_background": "light"
          }
        }
      ]
    },
    {
      "cell_type": "markdown",
      "source": [
        "Check \"transaction\" items and plot a bar chart"
      ],
      "metadata": {
        "id": "mf9CjcyvL60V"
      }
    },
    {
      "cell_type": "code",
      "source": [
        "transaction = grouped['transaction']\n",
        "count_transaction ={}\n",
        "transaction = np.array(transaction[:])\n",
        "unique, counts = np.unique(transaction, return_counts=True)\n",
        "count_transaction = dict(zip(unique, counts))\n",
        "\n",
        "sort_count_transaction = sorted(count_transaction.items(), key = operator.itemgetter(1), reverse = True)\n",
        "x = [i[0] for i in sort_count_transaction[:8]]\n",
        "y = [i[1] for i in sort_count_transaction[:8]]\n",
        "sns.barplot(x, y, order=x, palette=\"pastel\")"
      ],
      "metadata": {
        "id": "fTnmW5jeegHX",
        "colab": {
          "base_uri": "https://localhost:8080/",
          "height": 336
        },
        "outputId": "da1b329d-5632-41cb-e4e0-6fce19d7bfe7"
      },
      "execution_count": null,
      "outputs": [
        {
          "output_type": "stream",
          "name": "stderr",
          "text": [
            "/usr/local/lib/python3.8/dist-packages/seaborn/_decorators.py:36: FutureWarning: Pass the following variables as keyword args: x, y. From version 0.12, the only valid positional argument will be `data`, and passing other arguments without an explicit keyword will result in an error or misinterpretation.\n",
            "  warnings.warn(\n"
          ]
        },
        {
          "output_type": "execute_result",
          "data": {
            "text/plain": [
              "<matplotlib.axes._subplots.AxesSubplot at 0x7f9a24487700>"
            ]
          },
          "metadata": {},
          "execution_count": 35
        },
        {
          "output_type": "display_data",
          "data": {
            "text/plain": [
              "<Figure size 432x288 with 1 Axes>"
            ],
            "image/png": "[encoded data removed]"
          },
          "metadata": {
            "needs_background": "light"
          }
        }
      ]
    },
    {
      "cell_type": "markdown",
      "source": [
        "Check \"addtocart\" items and plot a bar chart"
      ],
      "metadata": {
        "id": "UrnoO6_8Mb7B"
      }
    },
    {
      "cell_type": "code",
      "source": [
        "addtocart = grouped['addtocart']\n",
        "count_addtocart ={}\n",
        "addtocart = np.array(addtocart[:])\n",
        "unique, counts = np.unique(addtocart, return_counts=True)\n",
        "count_addtocart = dict(zip(unique, counts))\n",
        "\n",
        "sort_count_addtocart = sorted(count_addtocart.items(), key = operator.itemgetter(1), reverse = True)\n",
        "x = [i[0] for i in sort_count_addtocart[:8]]\n",
        "y = [i[1] for i in sort_count_addtocart[:8]]\n",
        "sns.barplot(x, y, order=x, palette=\"rocket\")"
      ],
      "metadata": {
        "id": "TH4B0-PRewWY",
        "colab": {
          "base_uri": "https://localhost:8080/",
          "height": 336
        },
        "outputId": "d2b8fee5-e1cc-410f-d304-3051ffd17bef"
      },
      "execution_count": null,
      "outputs": [
        {
          "output_type": "stream",
          "name": "stderr",
          "text": [
            "/usr/local/lib/python3.8/dist-packages/seaborn/_decorators.py:36: FutureWarning: Pass the following variables as keyword args: x, y. From version 0.12, the only valid positional argument will be `data`, and passing other arguments without an explicit keyword will result in an error or misinterpretation.\n",
            "  warnings.warn(\n"
          ]
        },
        {
          "output_type": "execute_result",
          "data": {
            "text/plain": [
              "<matplotlib.axes._subplots.AxesSubplot at 0x7f9a24188580>"
            ]
          },
          "metadata": {},
          "execution_count": 39
        },
        {
          "output_type": "display_data",
          "data": {
            "text/plain": [
              "<Figure size 432x288 with 1 Axes>"
            ],
            "image/png": "[encoded data removed]"
          },
          "metadata": {
            "needs_background": "light"
          }
        }
      ]
    },
    {
      "cell_type": "code",
      "source": [
        "# Analyze the 312728 itemid\n",
        "events.loc[(events.itemid==312728)]"
      ],
      "metadata": {
        "id": "Jf5A6du9fDvV",
        "colab": {
          "base_uri": "https://localhost:8080/",
          "height": 419
        },
        "outputId": "c053e81f-be09-4f09-df2c-be77034f5e58"
      },
      "execution_count": null,
      "outputs": [
        {
          "output_type": "execute_result",
          "data": {
            "text/plain": [
              "             timestamp  visitorid        event  itemid  transactionid\n",
              "179      1433220880956     105775    addtocart  312728            NaN\n",
              "2175     1433211031906      37093         view  312728            NaN\n",
              "4001     1433216331395     301960    addtocart  312728            NaN\n",
              "4581     1433221003460     105775         view  312728            NaN\n",
              "7876     1433186863702    1245514         view  312728            NaN\n",
              "...                ...        ...          ...     ...            ...\n",
              "2737060  1438272396067     901080         view  312728            NaN\n",
              "2739839  1438358858548    1051054    addtocart  312728            NaN\n",
              "2754127  1438367923670     977158         view  312728            NaN\n",
              "2755593  1438358847786    1051054         view  312728            NaN\n",
              "2755607  1438358989163    1051054  transaction  312728        17579.0\n",
              "\n",
              "[1155 rows x 5 columns]"
            ],
            "text/html": [
              "\n",
              "  <div id=\"df-b91bea1f-c5b5-4086-b0d9-c624ea6dbb95\">\n",
              "    <div class=\"colab-df-container\">\n",
              "      <div>\n",
              "<style scoped>\n",
              "    .dataframe tbody tr th:only-of-type {\n",
              "        vertical-align: middle;\n",
              "    }\n",
              "\n",
              "    .dataframe tbody tr th {\n",
              "        vertical-align: top;\n",
              "    }\n",
              "\n",
              "    .dataframe thead th {\n",
              "        text-align: right;\n",
              "    }\n",
              "</style>\n",
              "<table border=\"1\" class=\"dataframe\">\n",
              "  <thead>\n",
              "    <tr style=\"text-align: right;\">\n",
              "      <th></th>\n",
              "      <th>timestamp</th>\n",
              "      <th>visitorid</th>\n",
              "      <th>event</th>\n",
              "      <th>itemid</th>\n",
              "      <th>transactionid</th>\n",
              "    </tr>\n",
              "  </thead>\n",
              "  <tbody>\n",
              "    <tr>\n",
              "      <th>179</th>\n",
              "      <td>1433220880956</td>\n",
              "      <td>105775</td>\n",
              "      <td>addtocart</td>\n",
              "      <td>312728</td>\n",
              "      <td>NaN</td>\n",
              "    </tr>\n",
              "    <tr>\n",
              "      <th>2175</th>\n",
              "      <td>1433211031906</td>\n",
              "      <td>37093</td>\n",
              "      <td>view</td>\n",
              "      <td>312728</td>\n",
              "      <td>NaN</td>\n",
              "    </tr>\n",
              "    <tr>\n",
              "      <th>4001</th>\n",
              "      <td>1433216331395</td>\n",
              "      <td>301960</td>\n",
              "      <td>addtocart</td>\n",
              "      <td>312728</td>\n",
              "      <td>NaN</td>\n",
              "    </tr>\n",
              "    <tr>\n",
              "      <th>4581</th>\n",
              "      <td>1433221003460</td>\n",
              "      <td>105775</td>\n",
              "      <td>view</td>\n",
              "      <td>312728</td>\n",
              "      <td>NaN</td>\n",
              "    </tr>\n",
              "    <tr>\n",
              "      <th>7876</th>\n",
              "      <td>1433186863702</td>\n",
              "      <td>1245514</td>\n",
              "      <td>view</td>\n",
              "      <td>312728</td>\n",
              "      <td>NaN</td>\n",
              "    </tr>\n",
              "    <tr>\n",
              "      <th>...</th>\n",
              "      <td>...</td>\n",
              "      <td>...</td>\n",
              "      <td>...</td>\n",
              "      <td>...</td>\n",
              "      <td>...</td>\n",
              "    </tr>\n",
              "    <tr>\n",
              "      <th>2737060</th>\n",
              "      <td>1438272396067</td>\n",
              "      <td>901080</td>\n",
              "      <td>view</td>\n",
              "      <td>312728</td>\n",
              "      <td>NaN</td>\n",
              "    </tr>\n",
              "    <tr>\n",
              "      <th>2739839</th>\n",
              "      <td>1438358858548</td>\n",
              "      <td>1051054</td>\n",
              "      <td>addtocart</td>\n",
              "      <td>312728</td>\n",
              "      <td>NaN</td>\n",
              "    </tr>\n",
              "    <tr>\n",
              "      <th>2754127</th>\n",
              "      <td>1438367923670</td>\n",
              "      <td>977158</td>\n",
              "      <td>view</td>\n",
              "      <td>312728</td>\n",
              "      <td>NaN</td>\n",
              "    </tr>\n",
              "    <tr>\n",
              "      <th>2755593</th>\n",
              "      <td>1438358847786</td>\n",
              "      <td>1051054</td>\n",
              "      <td>view</td>\n",
              "      <td>312728</td>\n",
              "      <td>NaN</td>\n",
              "    </tr>\n",
              "    <tr>\n",
              "      <th>2755607</th>\n",
              "      <td>1438358989163</td>\n",
              "      <td>1051054</td>\n",
              "      <td>transaction</td>\n",
              "      <td>312728</td>\n",
              "      <td>17579.0</td>\n",
              "    </tr>\n",
              "  </tbody>\n",
              "</table>\n",
              "<p>1155 rows × 5 columns</p>\n",
              "</div>\n",
              "      <button class=\"colab-df-convert\" onclick=\"convertToInteractive('df-b91bea1f-c5b5-4086-b0d9-c624ea6dbb95')\"\n",
              "              title=\"Convert this dataframe to an interactive table.\"\n",
              "              style=\"display:none;\">\n",
              "        \n",
              "  <svg xmlns=\"http://www.w3.org/2000/svg\" height=\"24px\"viewBox=\"0 0 24 24\"\n",
              "       width=\"24px\">\n",
              "    <path d=\"M0 0h24v24H0V0z\" fill=\"none\"/>\n",
              "    <path d=\"M18.56 5.44l.94 2.06.94-2.06 2.06-.94-2.06-.94-.94-2.06-.94 2.06-2.06.94zm-11 1L8.5 8.5l.94-2.06 2.06-.94-2.06-.94L8.5 2.5l-.94 2.06-2.06.94zm10 10l.94 2.06.94-2.06 2.06-.94-2.06-.94-.94-2.06-.94 2.06-2.06.94z\"/><path d=\"M17.41 7.96l-1.37-1.37c-.4-.4-.92-.59-1.43-.59-.52 0-1.04.2-1.43.59L10.3 9.45l-7.72 7.72c-.78.78-.78 2.05 0 2.83L4 21.41c.39.39.9.59 1.41.59.51 0 1.02-.2 1.41-.59l7.78-7.78 2.81-2.81c.8-.78.8-2.07 0-2.86zM5.41 20L4 18.59l7.72-7.72 1.47 1.35L5.41 20z\"/>\n",
              "  </svg>\n",
              "      </button>\n",
              "      \n",
              "  <style>\n",
              "    .colab-df-container {\n",
              "      display:flex;\n",
              "      flex-wrap:wrap;\n",
              "      gap: 12px;\n",
              "    }\n",
              "\n",
              "    .colab-df-convert {\n",
              "      background-color: #E8F0FE;\n",
              "      border: none;\n",
              "      border-radius: 50%;\n",
              "      cursor: pointer;\n",
              "      display: none;\n",
              "      fill: #1967D2;\n",
              "      height: 32px;\n",
              "      padding: 0 0 0 0;\n",
              "      width: 32px;\n",
              "    }\n",
              "\n",
              "    .colab-df-convert:hover {\n",
              "      background-color: #E2EBFA;\n",
              "      box-shadow: 0px 1px 2px rgba(60, 64, 67, 0.3), 0px 1px 3px 1px rgba(60, 64, 67, 0.15);\n",
              "      fill: #174EA6;\n",
              "    }\n",
              "\n",
              "    [theme=dark] .colab-df-convert {\n",
              "      background-color: #3B4455;\n",
              "      fill: #D2E3FC;\n",
              "    }\n",
              "\n",
              "    [theme=dark] .colab-df-convert:hover {\n",
              "      background-color: #434B5C;\n",
              "      box-shadow: 0px 1px 3px 1px rgba(0, 0, 0, 0.15);\n",
              "      filter: drop-shadow(0px 1px 2px rgba(0, 0, 0, 0.3));\n",
              "      fill: #FFFFFF;\n",
              "    }\n",
              "  </style>\n",
              "\n",
              "      <script>\n",
              "        const buttonEl =\n",
              "          document.querySelector('#df-b91bea1f-c5b5-4086-b0d9-c624ea6dbb95 button.colab-df-convert');\n",
              "        buttonEl.style.display =\n",
              "          google.colab.kernel.accessAllowed ? 'block' : 'none';\n",
              "\n",
              "        async function convertToInteractive(key) {\n",
              "          const element = document.querySelector('#df-b91bea1f-c5b5-4086-b0d9-c624ea6dbb95');\n",
              "          const dataTable =\n",
              "            await google.colab.kernel.invokeFunction('convertToInteractive',\n",
              "                                                     [key], {});\n",
              "          if (!dataTable) return;\n",
              "\n",
              "          const docLinkHtml = 'Like what you see? Visit the ' +\n",
              "            '<a target=\"_blank\" href=https://colab.research.google.com/notebooks/data_table.ipynb>data table notebook</a>'\n",
              "            + ' to learn more about interactive tables.';\n",
              "          element.innerHTML = '';\n",
              "          dataTable['output_type'] = 'display_data';\n",
              "          await google.colab.output.renderOutput(dataTable, element);\n",
              "          const docLink = document.createElement('div');\n",
              "          docLink.innerHTML = docLinkHtml;\n",
              "          element.appendChild(docLink);\n",
              "        }\n",
              "      </script>\n",
              "    </div>\n",
              "  </div>\n",
              "  "
            ]
          },
          "metadata": {},
          "execution_count": 40
        }
      ]
    },
    {
      "cell_type": "code",
      "source": [
        "# Create list of visitors who made a purchase and the purchased items\n",
        "customer_purchased = events[events.transactionid.notnull()].visitorid.unique()\n",
        "purchased_items = []\n",
        "\n",
        "for customer in customer_purchased:\n",
        "    purchased_items.append(list(events.loc[(events.visitorid == customer) & (events.transactionid.notnull())].itemid.values))"
      ],
      "metadata": {
        "id": "rNaylFDGfLUF"
      },
      "execution_count": null,
      "outputs": []
    },
    {
      "cell_type": "code",
      "source": [
        "purchased_items[:8]"
      ],
      "metadata": {
        "id": "XMwHF9yXffwW",
        "colab": {
          "base_uri": "https://localhost:8080/"
        },
        "outputId": "2f58893e-3a28-4084-83a4-8343c3e81089"
      },
      "execution_count": null,
      "outputs": [
        {
          "output_type": "execute_result",
          "data": {
            "text/plain": [
              "[[356475],\n",
              " [15335,\n",
              "  380775,\n",
              "  237753,\n",
              "  317178,\n",
              "  12836,\n",
              "  400969,\n",
              "  105792,\n",
              "  25353,\n",
              "  200793,\n",
              "  80582,\n",
              "  302422],\n",
              " [81345],\n",
              " [150318, 49521],\n",
              " [310791, 299044],\n",
              " [54058,\n",
              "  284871,\n",
              "  251130,\n",
              "  268335,\n",
              "  183049,\n",
              "  261940,\n",
              "  369093,\n",
              "  370745,\n",
              "  192990,\n",
              "  277119,\n",
              "  241716,\n",
              "  283766,\n",
              "  16417,\n",
              "  217068,\n",
              "  36372,\n",
              "  68923,\n",
              "  428015,\n",
              "  69533,\n",
              "  13520,\n",
              "  385638,\n",
              "  442871,\n",
              "  136526,\n",
              "  247862,\n",
              "  93828,\n",
              "  230911,\n",
              "  382595,\n",
              "  34853,\n",
              "  216260,\n",
              "  154812,\n",
              "  445241,\n",
              "  57702,\n",
              "  347850,\n",
              "  151855,\n",
              "  226327,\n",
              "  288525,\n",
              "  51354,\n",
              "  345994,\n",
              "  170438,\n",
              "  254301,\n",
              "  266439,\n",
              "  193718,\n",
              "  388558,\n",
              "  26745,\n",
              "  184086,\n",
              "  79956,\n",
              "  252040,\n",
              "  82232,\n",
              "  309821,\n",
              "  394518,\n",
              "  462070,\n",
              "  331980,\n",
              "  353111,\n",
              "  200527,\n",
              "  235933,\n",
              "  68532,\n",
              "  358882,\n",
              "  60012,\n",
              "  29741,\n",
              "  270487,\n",
              "  163689,\n",
              "  6913,\n",
              "  156457,\n",
              "  341578,\n",
              "  163352,\n",
              "  234493,\n",
              "  135174,\n",
              "  452481,\n",
              "  241755,\n",
              "  56323,\n",
              "  210137,\n",
              "  184397,\n",
              "  285202,\n",
              "  198690,\n",
              "  195958,\n",
              "  239210,\n",
              "  71640,\n",
              "  189108,\n",
              "  369112,\n",
              "  346186,\n",
              "  211207,\n",
              "  134330,\n",
              "  257070,\n",
              "  302239,\n",
              "  459480,\n",
              "  57577,\n",
              "  195234,\n",
              "  215904,\n",
              "  374092,\n",
              "  170262,\n",
              "  170262,\n",
              "  229577,\n",
              "  264801,\n",
              "  94344,\n",
              "  204209,\n",
              "  442725,\n",
              "  9087,\n",
              "  259964,\n",
              "  361554,\n",
              "  442131,\n",
              "  23251,\n",
              "  332721,\n",
              "  85914,\n",
              "  302391,\n",
              "  200242,\n",
              "  234255,\n",
              "  372845,\n",
              "  404129,\n",
              "  214757,\n",
              "  222208,\n",
              "  372845,\n",
              "  206809,\n",
              "  249207],\n",
              " [150100,\n",
              "  50934,\n",
              "  36013,\n",
              "  26210,\n",
              "  118199,\n",
              "  234199,\n",
              "  416187,\n",
              "  167985,\n",
              "  146735,\n",
              "  4887,\n",
              "  218626,\n",
              "  338148,\n",
              "  197980,\n",
              "  240558,\n",
              "  272813,\n",
              "  197968,\n",
              "  332224,\n",
              "  92668,\n",
              "  268335,\n",
              "  120259,\n",
              "  378845,\n",
              "  449946,\n",
              "  95426,\n",
              "  85579,\n",
              "  17478,\n",
              "  16813,\n",
              "  150215,\n",
              "  187200,\n",
              "  111083,\n",
              "  359040,\n",
              "  428067,\n",
              "  179136,\n",
              "  422425,\n",
              "  242521,\n",
              "  21886,\n",
              "  448494,\n",
              "  175555,\n",
              "  421606,\n",
              "  86894,\n",
              "  243376,\n",
              "  138434,\n",
              "  422481,\n",
              "  235748,\n",
              "  63859,\n",
              "  55706],\n",
              " [243566]]"
            ]
          },
          "metadata": {},
          "execution_count": 42
        }
      ]
    },
    {
      "cell_type": "markdown",
      "source": [
        "Function for showing items bought by the same customer."
      ],
      "metadata": {
        "id": "BqeVwfsnOR64"
      }
    },
    {
      "cell_type": "code",
      "source": [
        "def recommend_items(item_id, purchased_items):\n",
        "    recommendation_list =[]\n",
        "    for x in purchased_items:\n",
        "        if item_id in x:\n",
        "            recommendation_list +=x\n",
        "    recommendation_list = list(set(recommendation_list) - set([item_id]))\n",
        "    return recommendation_list"
      ],
      "metadata": {
        "id": "R2nwqBd6fzK-"
      },
      "execution_count": null,
      "outputs": []
    },
    {
      "cell_type": "markdown",
      "source": [
        "Recommend items when a visitor is views item_id = 404129"
      ],
      "metadata": {
        "id": "mzLePY2bN0jR"
      }
    },
    {
      "cell_type": "code",
      "source": [
        "recommend_items(404129, purchased_items)"
      ],
      "metadata": {
        "id": "zDKhvVfIf0oa",
        "colab": {
          "base_uri": "https://localhost:8080/"
        },
        "outputId": "20acf162-e2b1-4a0a-8356-70d4b813f99f"
      },
      "execution_count": null,
      "outputs": [
        {
          "output_type": "execute_result",
          "data": {
            "text/plain": [
              "[222208,\n",
              " 6913,\n",
              " 56323,\n",
              " 135174,\n",
              " 211207,\n",
              " 183049,\n",
              " 288525,\n",
              " 234255,\n",
              " 285202,\n",
              " 442131,\n",
              " 36372,\n",
              " 184086,\n",
              " 226327,\n",
              " 163352,\n",
              " 394518,\n",
              " 170262,\n",
              " 16417,\n",
              " 198690,\n",
              " 34853,\n",
              " 156457,\n",
              " 54058,\n",
              " 29741,\n",
              " 257070,\n",
              " 268335,\n",
              " 151855,\n",
              " 200242,\n",
              " 241716,\n",
              " 261940,\n",
              " 247862,\n",
              " 302391,\n",
              " 82232,\n",
              " 370745,\n",
              " 445241,\n",
              " 68923,\n",
              " 309821,\n",
              " 341578,\n",
              " 346186,\n",
              " 374092,\n",
              " 184397,\n",
              " 136526,\n",
              " 200527,\n",
              " 361554,\n",
              " 79956,\n",
              " 353111,\n",
              " 241755,\n",
              " 254301,\n",
              " 215904,\n",
              " 264801,\n",
              " 442725,\n",
              " 385638,\n",
              " 57702,\n",
              " 163689,\n",
              " 239210,\n",
              " 60012,\n",
              " 372845,\n",
              " 283766,\n",
              " 195958,\n",
              " 249207,\n",
              " 26745,\n",
              " 259964,\n",
              " 277119,\n",
              " 9087,\n",
              " 452481,\n",
              " 382595,\n",
              " 93828,\n",
              " 252040,\n",
              " 94344,\n",
              " 345994,\n",
              " 270487,\n",
              " 51354,\n",
              " 85914,\n",
              " 69533,\n",
              " 235933,\n",
              " 302239,\n",
              " 195234,\n",
              " 204209,\n",
              " 332721,\n",
              " 189108,\n",
              " 68532,\n",
              " 193718,\n",
              " 134330,\n",
              " 154812,\n",
              " 216260,\n",
              " 369093,\n",
              " 170438,\n",
              " 284871,\n",
              " 266439,\n",
              " 229577,\n",
              " 347850,\n",
              " 331980,\n",
              " 388558,\n",
              " 13520,\n",
              " 23251,\n",
              " 459480,\n",
              " 210137,\n",
              " 71640,\n",
              " 369112,\n",
              " 206809,\n",
              " 192990,\n",
              " 358882,\n",
              " 214757,\n",
              " 57577,\n",
              " 217068,\n",
              " 428015,\n",
              " 462070,\n",
              " 442871,\n",
              " 251130,\n",
              " 234493,\n",
              " 230911]"
            ]
          },
          "metadata": {},
          "execution_count": 44
        }
      ]
    },
    {
      "cell_type": "code",
      "source": [
        "events.head(10)"
      ],
      "metadata": {
        "id": "H1T2xGhNflIU",
        "colab": {
          "base_uri": "https://localhost:8080/",
          "height": 359
        },
        "outputId": "85642239-d82f-4e39-c3a6-8aa1f306c631"
      },
      "execution_count": null,
      "outputs": [
        {
          "output_type": "execute_result",
          "data": {
            "text/plain": [
              "   visitorid  itemid event        date\n",
              "0     689859  421640  view  2015-05-03\n",
              "1     935582  203248  view  2015-05-03\n",
              "2     696326  194830  view  2015-05-03\n",
              "3     131668  395045  view  2015-05-03\n",
              "4     595484  129111  view  2015-05-03\n",
              "5     596477  233611  view  2015-05-03\n",
              "6    1224313   68470  view  2015-05-03\n",
              "7     412359   77602  view  2015-05-03\n",
              "8    1020587  146763  view  2015-05-03\n",
              "9     959467  243898  view  2015-05-03"
            ],
            "text/html": [
              "\n",
              "  <div id=\"df-0fcc4991-e184-416c-9579-0bc5a41370fe\">\n",
              "    <div class=\"colab-df-container\">\n",
              "      <div>\n",
              "<style scoped>\n",
              "    .dataframe tbody tr th:only-of-type {\n",
              "        vertical-align: middle;\n",
              "    }\n",
              "\n",
              "    .dataframe tbody tr th {\n",
              "        vertical-align: top;\n",
              "    }\n",
              "\n",
              "    .dataframe thead th {\n",
              "        text-align: right;\n",
              "    }\n",
              "</style>\n",
              "<table border=\"1\" class=\"dataframe\">\n",
              "  <thead>\n",
              "    <tr style=\"text-align: right;\">\n",
              "      <th></th>\n",
              "      <th>visitorid</th>\n",
              "      <th>itemid</th>\n",
              "      <th>event</th>\n",
              "      <th>date</th>\n",
              "    </tr>\n",
              "  </thead>\n",
              "  <tbody>\n",
              "    <tr>\n",
              "      <th>0</th>\n",
              "      <td>689859</td>\n",
              "      <td>421640</td>\n",
              "      <td>view</td>\n",
              "      <td>2015-05-03</td>\n",
              "    </tr>\n",
              "    <tr>\n",
              "      <th>1</th>\n",
              "      <td>935582</td>\n",
              "      <td>203248</td>\n",
              "      <td>view</td>\n",
              "      <td>2015-05-03</td>\n",
              "    </tr>\n",
              "    <tr>\n",
              "      <th>2</th>\n",
              "      <td>696326</td>\n",
              "      <td>194830</td>\n",
              "      <td>view</td>\n",
              "      <td>2015-05-03</td>\n",
              "    </tr>\n",
              "    <tr>\n",
              "      <th>3</th>\n",
              "      <td>131668</td>\n",
              "      <td>395045</td>\n",
              "      <td>view</td>\n",
              "      <td>2015-05-03</td>\n",
              "    </tr>\n",
              "    <tr>\n",
              "      <th>4</th>\n",
              "      <td>595484</td>\n",
              "      <td>129111</td>\n",
              "      <td>view</td>\n",
              "      <td>2015-05-03</td>\n",
              "    </tr>\n",
              "    <tr>\n",
              "      <th>5</th>\n",
              "      <td>596477</td>\n",
              "      <td>233611</td>\n",
              "      <td>view</td>\n",
              "      <td>2015-05-03</td>\n",
              "    </tr>\n",
              "    <tr>\n",
              "      <th>6</th>\n",
              "      <td>1224313</td>\n",
              "      <td>68470</td>\n",
              "      <td>view</td>\n",
              "      <td>2015-05-03</td>\n",
              "    </tr>\n",
              "    <tr>\n",
              "      <th>7</th>\n",
              "      <td>412359</td>\n",
              "      <td>77602</td>\n",
              "      <td>view</td>\n",
              "      <td>2015-05-03</td>\n",
              "    </tr>\n",
              "    <tr>\n",
              "      <th>8</th>\n",
              "      <td>1020587</td>\n",
              "      <td>146763</td>\n",
              "      <td>view</td>\n",
              "      <td>2015-05-03</td>\n",
              "    </tr>\n",
              "    <tr>\n",
              "      <th>9</th>\n",
              "      <td>959467</td>\n",
              "      <td>243898</td>\n",
              "      <td>view</td>\n",
              "      <td>2015-05-03</td>\n",
              "    </tr>\n",
              "  </tbody>\n",
              "</table>\n",
              "</div>\n",
              "      <button class=\"colab-df-convert\" onclick=\"convertToInteractive('df-0fcc4991-e184-416c-9579-0bc5a41370fe')\"\n",
              "              title=\"Convert this dataframe to an interactive table.\"\n",
              "              style=\"display:none;\">\n",
              "        \n",
              "  <svg xmlns=\"http://www.w3.org/2000/svg\" height=\"24px\"viewBox=\"0 0 24 24\"\n",
              "       width=\"24px\">\n",
              "    <path d=\"M0 0h24v24H0V0z\" fill=\"none\"/>\n",
              "    <path d=\"M18.56 5.44l.94 2.06.94-2.06 2.06-.94-2.06-.94-.94-2.06-.94 2.06-2.06.94zm-11 1L8.5 8.5l.94-2.06 2.06-.94-2.06-.94L8.5 2.5l-.94 2.06-2.06.94zm10 10l.94 2.06.94-2.06 2.06-.94-2.06-.94-.94-2.06-.94 2.06-2.06.94z\"/><path d=\"M17.41 7.96l-1.37-1.37c-.4-.4-.92-.59-1.43-.59-.52 0-1.04.2-1.43.59L10.3 9.45l-7.72 7.72c-.78.78-.78 2.05 0 2.83L4 21.41c.39.39.9.59 1.41.59.51 0 1.02-.2 1.41-.59l7.78-7.78 2.81-2.81c.8-.78.8-2.07 0-2.86zM5.41 20L4 18.59l7.72-7.72 1.47 1.35L5.41 20z\"/>\n",
              "  </svg>\n",
              "      </button>\n",
              "      \n",
              "  <style>\n",
              "    .colab-df-container {\n",
              "      display:flex;\n",
              "      flex-wrap:wrap;\n",
              "      gap: 12px;\n",
              "    }\n",
              "\n",
              "    .colab-df-convert {\n",
              "      background-color: #E8F0FE;\n",
              "      border: none;\n",
              "      border-radius: 50%;\n",
              "      cursor: pointer;\n",
              "      display: none;\n",
              "      fill: #1967D2;\n",
              "      height: 32px;\n",
              "      padding: 0 0 0 0;\n",
              "      width: 32px;\n",
              "    }\n",
              "\n",
              "    .colab-df-convert:hover {\n",
              "      background-color: #E2EBFA;\n",
              "      box-shadow: 0px 1px 2px rgba(60, 64, 67, 0.3), 0px 1px 3px 1px rgba(60, 64, 67, 0.15);\n",
              "      fill: #174EA6;\n",
              "    }\n",
              "\n",
              "    [theme=dark] .colab-df-convert {\n",
              "      background-color: #3B4455;\n",
              "      fill: #D2E3FC;\n",
              "    }\n",
              "\n",
              "    [theme=dark] .colab-df-convert:hover {\n",
              "      background-color: #434B5C;\n",
              "      box-shadow: 0px 1px 3px 1px rgba(0, 0, 0, 0.15);\n",
              "      filter: drop-shadow(0px 1px 2px rgba(0, 0, 0, 0.3));\n",
              "      fill: #FFFFFF;\n",
              "    }\n",
              "  </style>\n",
              "\n",
              "      <script>\n",
              "        const buttonEl =\n",
              "          document.querySelector('#df-0fcc4991-e184-416c-9579-0bc5a41370fe button.colab-df-convert');\n",
              "        buttonEl.style.display =\n",
              "          google.colab.kernel.accessAllowed ? 'block' : 'none';\n",
              "\n",
              "        async function convertToInteractive(key) {\n",
              "          const element = document.querySelector('#df-0fcc4991-e184-416c-9579-0bc5a41370fe');\n",
              "          const dataTable =\n",
              "            await google.colab.kernel.invokeFunction('convertToInteractive',\n",
              "                                                     [key], {});\n",
              "          if (!dataTable) return;\n",
              "\n",
              "          const docLinkHtml = 'Like what you see? Visit the ' +\n",
              "            '<a target=\"_blank\" href=https://colab.research.google.com/notebooks/data_table.ipynb>data table notebook</a>'\n",
              "            + ' to learn more about interactive tables.';\n",
              "          element.innerHTML = '';\n",
              "          dataTable['output_type'] = 'display_data';\n",
              "          await google.colab.output.renderOutput(dataTable, element);\n",
              "          const docLink = document.createElement('div');\n",
              "          docLink.innerHTML = docLinkHtml;\n",
              "          element.appendChild(docLink);\n",
              "        }\n",
              "      </script>\n",
              "    </div>\n",
              "  </div>\n",
              "  "
            ]
          },
          "metadata": {},
          "execution_count": 61
        }
      ]
    },
    {
      "cell_type": "markdown",
      "source": [
        "Install LightFM to be used for modeling"
      ],
      "metadata": {
        "id": "eg1TjYUZOjTw"
      }
    },
    {
      "cell_type": "code",
      "source": [
        "!pip install lightfm"
      ],
      "metadata": {
        "colab": {
          "base_uri": "https://localhost:8080/"
        },
        "id": "UKLWjjyRbouT",
        "outputId": "5d5bb10c-411e-4adc-f486-47c04bc6ff04"
      },
      "execution_count": null,
      "outputs": [
        {
          "output_type": "stream",
          "name": "stdout",
          "text": [
            "Looking in indexes: https://pypi.org/simple, https://us-python.pkg.dev/colab-wheels/public/simple/\n",
            "Collecting lightfm\n",
            "  Downloading lightfm-1.16.tar.gz (310 kB)\n",
            "\u001b[K     |████████████████████████████████| 310 kB 14.6 MB/s \n",
            "\u001b[?25hRequirement already satisfied: numpy in /usr/local/lib/python3.8/dist-packages (from lightfm) (1.21.6)\n",
            "Requirement already satisfied: scipy>=0.17.0 in /usr/local/lib/python3.8/dist-packages (from lightfm) (1.7.3)\n",
            "Requirement already satisfied: requests in /usr/local/lib/python3.8/dist-packages (from lightfm) (2.23.0)\n",
            "Requirement already satisfied: scikit-learn in /usr/local/lib/python3.8/dist-packages (from lightfm) (1.0.2)\n",
            "Requirement already satisfied: certifi>=2017.4.17 in /usr/local/lib/python3.8/dist-packages (from requests->lightfm) (2022.9.24)\n",
            "Requirement already satisfied: chardet<4,>=3.0.2 in /usr/local/lib/python3.8/dist-packages (from requests->lightfm) (3.0.4)\n",
            "Requirement already satisfied: idna<3,>=2.5 in /usr/local/lib/python3.8/dist-packages (from requests->lightfm) (2.10)\n",
            "Requirement already satisfied: urllib3!=1.25.0,!=1.25.1,<1.26,>=1.21.1 in /usr/local/lib/python3.8/dist-packages (from requests->lightfm) (1.24.3)\n",
            "Requirement already satisfied: joblib>=0.11 in /usr/local/lib/python3.8/dist-packages (from scikit-learn->lightfm) (1.2.0)\n",
            "Requirement already satisfied: threadpoolctl>=2.0.0 in /usr/local/lib/python3.8/dist-packages (from scikit-learn->lightfm) (3.1.0)\n",
            "Building wheels for collected packages: lightfm\n",
            "  Building wheel for lightfm (setup.py) ... \u001b[?25l\u001b[?25hdone\n",
            "  Created wheel for lightfm: filename=lightfm-1.16-cp38-cp38-linux_x86_64.whl size=747385 sha256=f550399a51f46e7d757b57cfd814dbd82d72cd52e110758ce42db881fa855b9b\n",
            "  Stored in directory: /root/.cache/pip/wheels/ec/bb/51/9c487d021c1373b691d13cadca0b65b6852627b1f3f43550fa\n",
            "Successfully built lightfm\n",
            "Installing collected packages: lightfm\n",
            "Successfully installed lightfm-1.16\n"
          ]
        }
      ]
    },
    {
      "cell_type": "markdown",
      "source": [
        "Import necessary libraries for modeling"
      ],
      "metadata": {
        "id": "TSWPLKNmOuQ6"
      }
    },
    {
      "cell_type": "code",
      "source": [
        "from lightfm import LightFM\n",
        "from lightfm.evaluation import auc_score\n",
        "from scipy.sparse import coo_matrix\n",
        "from sklearn import preprocessing"
      ],
      "metadata": {
        "id": "sT8X30XWgBjo"
      },
      "execution_count": null,
      "outputs": []
    },
    {
      "cell_type": "code",
      "source": [
        "events = events.assign(date=pd.Series(datetime.datetime.fromtimestamp(i/1000).date() for i in events.timestamp))\n",
        "events = events.sort_values('date').reset_index(drop=True)\n",
        "events = events[['visitorid','itemid','event', 'date']]\n",
        "events.head(5)"
      ],
      "metadata": {
        "id": "MJZmO7rsgCHP",
        "colab": {
          "base_uri": "https://localhost:8080/",
          "height": 334
        },
        "outputId": "3f0a869e-aaa9-4f70-f026-067ed576e989"
      },
      "execution_count": null,
      "outputs": [
        {
          "output_type": "error",
          "ename": "AttributeError",
          "evalue": "ignored",
          "traceback": [
            "\u001b[0;31m---------------------------------------------------------------------------\u001b[0m",
            "\u001b[0;31mAttributeError\u001b[0m                            Traceback (most recent call last)",
            "\u001b[0;32m<ipython-input-90-b95d9cf44c97>\u001b[0m in \u001b[0;36m<module>\u001b[0;34m\u001b[0m\n\u001b[0;32m----> 1\u001b[0;31m \u001b[0mevents\u001b[0m \u001b[0;34m=\u001b[0m \u001b[0mevents\u001b[0m\u001b[0;34m.\u001b[0m\u001b[0massign\u001b[0m\u001b[0;34m(\u001b[0m\u001b[0mdate\u001b[0m\u001b[0;34m=\u001b[0m\u001b[0mpd\u001b[0m\u001b[0;34m.\u001b[0m\u001b[0mSeries\u001b[0m\u001b[0;34m(\u001b[0m\u001b[0mdatetime\u001b[0m\u001b[0;34m.\u001b[0m\u001b[0mdatetime\u001b[0m\u001b[0;34m.\u001b[0m\u001b[0mfromtimestamp\u001b[0m\u001b[0;34m(\u001b[0m\u001b[0mi\u001b[0m\u001b[0;34m/\u001b[0m\u001b[0;36m1000\u001b[0m\u001b[0;34m)\u001b[0m\u001b[0;34m.\u001b[0m\u001b[0mdate\u001b[0m\u001b[0;34m(\u001b[0m\u001b[0;34m)\u001b[0m \u001b[0;32mfor\u001b[0m \u001b[0mi\u001b[0m \u001b[0;32min\u001b[0m \u001b[0mevents\u001b[0m\u001b[0;34m.\u001b[0m\u001b[0mtimestamp\u001b[0m\u001b[0;34m)\u001b[0m\u001b[0;34m)\u001b[0m\u001b[0;34m\u001b[0m\u001b[0;34m\u001b[0m\u001b[0m\n\u001b[0m\u001b[1;32m      2\u001b[0m \u001b[0mevents\u001b[0m \u001b[0;34m=\u001b[0m \u001b[0mevents\u001b[0m\u001b[0;34m.\u001b[0m\u001b[0msort_values\u001b[0m\u001b[0;34m(\u001b[0m\u001b[0;34m'date'\u001b[0m\u001b[0;34m)\u001b[0m\u001b[0;34m.\u001b[0m\u001b[0mreset_index\u001b[0m\u001b[0;34m(\u001b[0m\u001b[0mdrop\u001b[0m\u001b[0;34m=\u001b[0m\u001b[0;32mTrue\u001b[0m\u001b[0;34m)\u001b[0m\u001b[0;34m\u001b[0m\u001b[0;34m\u001b[0m\u001b[0m\n\u001b[1;32m      3\u001b[0m \u001b[0mevents\u001b[0m \u001b[0;34m=\u001b[0m \u001b[0mevents\u001b[0m\u001b[0;34m[\u001b[0m\u001b[0;34m[\u001b[0m\u001b[0;34m'visitorid'\u001b[0m\u001b[0;34m,\u001b[0m\u001b[0;34m'itemid'\u001b[0m\u001b[0;34m,\u001b[0m\u001b[0;34m'event'\u001b[0m\u001b[0;34m,\u001b[0m \u001b[0;34m'date'\u001b[0m\u001b[0;34m]\u001b[0m\u001b[0;34m]\u001b[0m\u001b[0;34m\u001b[0m\u001b[0;34m\u001b[0m\u001b[0m\n\u001b[1;32m      4\u001b[0m \u001b[0mevents\u001b[0m\u001b[0;34m.\u001b[0m\u001b[0mhead\u001b[0m\u001b[0;34m(\u001b[0m\u001b[0;36m5\u001b[0m\u001b[0;34m)\u001b[0m\u001b[0;34m\u001b[0m\u001b[0;34m\u001b[0m\u001b[0m\n",
            "\u001b[0;32m/usr/local/lib/python3.8/dist-packages/pandas/core/generic.py\u001b[0m in \u001b[0;36m__getattr__\u001b[0;34m(self, name)\u001b[0m\n\u001b[1;32m   5485\u001b[0m         ):\n\u001b[1;32m   5486\u001b[0m             \u001b[0;32mreturn\u001b[0m \u001b[0mself\u001b[0m\u001b[0;34m[\u001b[0m\u001b[0mname\u001b[0m\u001b[0;34m]\u001b[0m\u001b[0;34m\u001b[0m\u001b[0;34m\u001b[0m\u001b[0m\n\u001b[0;32m-> 5487\u001b[0;31m         \u001b[0;32mreturn\u001b[0m \u001b[0mobject\u001b[0m\u001b[0;34m.\u001b[0m\u001b[0m__getattribute__\u001b[0m\u001b[0;34m(\u001b[0m\u001b[0mself\u001b[0m\u001b[0;34m,\u001b[0m \u001b[0mname\u001b[0m\u001b[0;34m)\u001b[0m\u001b[0;34m\u001b[0m\u001b[0;34m\u001b[0m\u001b[0m\n\u001b[0m\u001b[1;32m   5488\u001b[0m \u001b[0;34m\u001b[0m\u001b[0m\n\u001b[1;32m   5489\u001b[0m     \u001b[0;32mdef\u001b[0m \u001b[0m__setattr__\u001b[0m\u001b[0;34m(\u001b[0m\u001b[0mself\u001b[0m\u001b[0;34m,\u001b[0m \u001b[0mname\u001b[0m\u001b[0;34m:\u001b[0m \u001b[0mstr\u001b[0m\u001b[0;34m,\u001b[0m \u001b[0mvalue\u001b[0m\u001b[0;34m)\u001b[0m \u001b[0;34m->\u001b[0m \u001b[0;32mNone\u001b[0m\u001b[0;34m:\u001b[0m\u001b[0;34m\u001b[0m\u001b[0;34m\u001b[0m\u001b[0m\n",
            "\u001b[0;31mAttributeError\u001b[0m: 'DataFrame' object has no attribute 'timestamp'"
          ]
        }
      ]
    },
    {
      "cell_type": "code",
      "source": [],
      "metadata": {
        "id": "zPTOcm0lf38S"
      },
      "execution_count": null,
      "outputs": []
    },
    {
      "cell_type": "code",
      "source": [
        "start_date = '2015-5-3'\n",
        "end_date = '2015-5-18'\n",
        "fd = lambda x: datetime.datetime.strptime(x, '%Y-%m-%d').date()\n",
        "events = events[(events.date >= fd(start_date)) & (events.date <= fd(end_date))]"
      ],
      "metadata": {
        "id": "g3GiO1kigIJW"
      },
      "execution_count": null,
      "outputs": []
    },
    {
      "cell_type": "code",
      "source": [
        "split_point = int(np.round(events.shape[0]*0.8))\n",
        "events_train = events.iloc[0:split_point]\n",
        "events_test = events.iloc[split_point::]\n",
        "events_test = events_test[(events_test['visitorid'].isin(events_train['visitorid'])) & (events_test['itemid'].isin(events_train['itemid']))]"
      ],
      "metadata": {
        "id": "4rIiFXExgLRD"
      },
      "execution_count": null,
      "outputs": []
    },
    {
      "cell_type": "code",
      "source": [],
      "metadata": {
        "id": "-VQAKaH3fr-x"
      },
      "execution_count": null,
      "outputs": []
    },
    {
      "cell_type": "code",
      "source": [
        "id_cols=['visitorid','itemid']\n",
        "trans_cat_train=dict()\n",
        "trans_cat_test=dict()\n",
        "\n",
        "for k in id_cols:\n",
        "    cate_enc=preprocessing.LabelEncoder()\n",
        "    trans_cat_train[k]=cate_enc.fit_transform(events_train[k].values)\n",
        "    trans_cat_test[k]=cate_enc.transform(events_test[k].values)"
      ],
      "metadata": {
        "id": "dLIs_g25gMCW"
      },
      "execution_count": null,
      "outputs": []
    },
    {
      "cell_type": "code",
      "source": [
        "ratings = dict()\n",
        "\n",
        "cate_enc=preprocessing.LabelEncoder()\n",
        "ratings['train'] = cate_enc.fit_transform(events_train.event)\n",
        "ratings['test'] = cate_enc.transform(events_test.event)"
      ],
      "metadata": {
        "id": "R_3uUEI3gPq2"
      },
      "execution_count": null,
      "outputs": []
    },
    {
      "cell_type": "code",
      "source": [
        "n_users=len(np.unique(trans_cat_train['visitorid']))\n",
        "n_items=len(np.unique(trans_cat_train['itemid']))"
      ],
      "metadata": {
        "id": "oBq8LN6ggS7c"
      },
      "execution_count": null,
      "outputs": []
    },
    {
      "cell_type": "code",
      "source": [
        "rate_matrix = dict()\n",
        "rate_matrix['train'] = coo_matrix((ratings['train'], (trans_cat_train['visitorid'], trans_cat_train['itemid'])), shape=(n_users,n_items))\n",
        "rate_matrix['test'] = coo_matrix((ratings['test'], (trans_cat_test['visitorid'], trans_cat_test['itemid'])), shape=(n_users,n_items))"
      ],
      "metadata": {
        "id": "RXFCXlhRgWKG"
      },
      "execution_count": null,
      "outputs": []
    },
    {
      "cell_type": "code",
      "source": [
        "model = LightFM(no_components=10, loss='warp')\n",
        "model.fit(rate_matrix['train'], epochs=50, num_threads=10)"
      ],
      "metadata": {
        "id": "5N1pmKJogYVZ",
        "colab": {
          "base_uri": "https://localhost:8080/"
        },
        "outputId": "dd2d9cc2-f440-479e-d343-0d8e4d9645dd"
      },
      "execution_count": null,
      "outputs": [
        {
          "output_type": "execute_result",
          "data": {
            "text/plain": [
              "<lightfm.lightfm.LightFM at 0x7f9a261a2340>"
            ]
          },
          "metadata": {},
          "execution_count": 73
        }
      ]
    },
    {
      "cell_type": "markdown",
      "source": [
        "# Metric: Area Under ROC Curve (AUC)\n",
        "AUC measures the likelihood that a random relevant item is ranked higher than a random irrelevant item. Higher the likelihood of this happening implies a higher AUC score meaning a better recommendation system.\n",
        "\n",
        "We calculate this likelihood empirically based on the ranks given by the algorithm to all items — out of all possible pairs of type (relevant-item, non-relevant-item), AUC is a proportion of pairs where relevant-item was ranked higher than the irrelevant item from that pair.\n",
        "\n"
      ],
      "metadata": {
        "id": "2ojLvBMp-_j5"
      }
    },
    {
      "cell_type": "markdown",
      "source": [
        "\n",
        "https://drive.google.com/uc?id=1QE286jpRYXR4xlxjrgCufOCb1BvqnI5T"
      ],
      "metadata": {
        "id": "pCNJsmJaASIQ"
      }
    },
    {
      "cell_type": "code",
      "source": [
        "auc_score(model, rate_matrix['train'], num_threads=10).mean()"
      ],
      "metadata": {
        "id": "-V8nJEQTge4U",
        "colab": {
          "base_uri": "https://localhost:8080/"
        },
        "outputId": "6f9d17dc-6a03-437a-d1e9-36d497cd781d"
      },
      "execution_count": null,
      "outputs": [
        {
          "output_type": "execute_result",
          "data": {
            "text/plain": [
              "0.9973406"
            ]
          },
          "metadata": {},
          "execution_count": 78
        }
      ]
    },
    {
      "cell_type": "code",
      "source": [
        "auc_score(model, rate_matrix['test'], num_threads=10).mean()"
      ],
      "metadata": {
        "id": "1-qTM15IghSn",
        "colab": {
          "base_uri": "https://localhost:8080/"
        },
        "outputId": "a51de354-75db-4186-d385-3dad173e2b72"
      },
      "execution_count": null,
      "outputs": [
        {
          "output_type": "execute_result",
          "data": {
            "text/plain": [
              "0.82500917"
            ]
          },
          "metadata": {},
          "execution_count": 79
        }
      ]
    },
    {
      "cell_type": "markdown",
      "source": [
        "**> Additional Sources**\n",
        "\n",
        "(1) https://www.kaggle.com/code/faridsharaf/ecommerce-recommendation-using-lfm \n",
        "\n",
        "(2) Krichene, W. & Rendle, S. \"On Sampled Metrics for Item Recommendation\". *Proceedings of the 26th ACM SIGKDD Conference on Knowledge Discovery and Data Mining (KDD ’20)*, August 23–27, 2020. https://dl.acm.org/doi/pdf/10.1145/3394486.3403226\n",
        "\n",
        "(3) https://www.kaggle.com/code/johnosorio/retail-rocket-ecommerce-recommender-system\n",
        "\n",
        "(4) \"Classification: ROC Curve and AUC\". https://developers.google.com/machine-learning/crash-course/classification/roc-and-auc \n",
        "\n",
        "(5) Kirk, J. \"Using LightFM to Recommend Projects to Consultants\".https://medium.com/product-at-catalant-technologies/using-lightfm-to-recommend-projects-to-consultants-44084df7321c#.gu887ky51\n",
        "\n",
        "(6) Kula, M. \"Metadata Embeddings for User and Item Cold-start Recommendations\". http://ceur-ws.org/Vol-1448/paper4.pdf\n",
        "\n",
        "(7) https://www.kaggle.com/datasets/retailrocket/ecommerce-dataset"
      ],
      "metadata": {
        "id": "aTaSCXnwCCdt"
      }
    }
  ]
}
{
  "nbformat": 4,
  "nbformat_minor": 0,
  "metadata": {
    "colab": {
      "provenance": []
    },
    "kernelspec": {
      "name": "python3",
      "display_name": "Python 3"
    },
    "language_info": {
      "name": "python"
    },
    "accelerator": "GPU",
    "gpuClass": "standard"
  },
  "cells": [
    {
      "cell_type": "markdown",
      "source": [
        "# **Duke University**\n",
        "* Course: AIPI590 (Deep Reinforcement Learning Applications)\n",
        "* Fall 2022:\n",
        "\n",
        "# * Final Project: Product recommender for E-commerce\n",
        "* Dataset: RetailRocket\n",
        "* Metric: AUC\n"
      ],
      "metadata": {
        "id": "aSm0azbAs0W9"
      }
    },
    {
      "cell_type": "markdown",
      "source": [
        "\n",
        "# The RetailRocket Dataset\n",
        "\n",
        "This dataset includes three files:\n",
        "* (i) A file with behaviour data (events.csv)\n",
        "* (ii) A file with item properties (itemproperties.сsv)\n",
        "* (iii) A file describing the category tree (categorytree.сsv).\n",
        "The data has been collected from a real-world ecommerce website. It is raw data, i.e. without any content transformations, however, all values are hashed due to confidential issues.\n",
        "\n",
        "# Content\n",
        "\n",
        "The behaviour data (events like clicks, add to carts, transactions) represents interactions that were collected over a period of 4.5 months. A visitor can make three types of events, namely: **“view”**, **“addtocart”** or **“transaction”**. The total events are 2,756,101, the views total 2,664,312, the addtocart 69,332 and 22,457 transactions from 1,407,580 unique visitors. For about 90% of events corresponding properties can be found in the “item_properties.csv” file.\n",
        "\n",
        "# For example:\n",
        "*  “1439694000000,1,view,100,” means visitorId = 1, clicked the item with id = 100 at 1439694000000 (Unix timestamp)\n",
        "* “1439694000000,2,transaction,1000,234” means visitorId = 2 purchased the item \n",
        "with id = 1000 in transaction with id = 234 at 1439694000000 (Unix timestamp).\n",
        "\n",
        "The \"item properties\" file (item_properties.csv), has 20,275,902 rows, i.e. different properties, describing 417,053 unique items. The File is divided into 2 files due to file size limitations. Since the property of an item can vary in time (e.g., price changes over time), every row in the file has corresponding timestamp. In other words, the file consists of concatenated snapshots for every week in the file with the behaviour data. However, if a property of an item is constant over the observed period, only a single snapshot value will be present in the file.\n",
        "For example, we have three properties for single item and 4 weekly snapshots, like below:\n",
        "> timestamp,itemid,property,value\n",
        "1439694000000,1,100,1000\n",
        "1439695000000,1,100,1000\n",
        "1439696000000,1,100,1000\n",
        "1439697000000,1,100,1000\n",
        "1439694000000,1,200,1000\n",
        "1439695000000,1,200,1100\n",
        "1439696000000,1,200,1200\n",
        "1439697000000,1,200,1300\n",
        "1439694000000,1,300,1000\n",
        "1439695000000,1,300,1000\n",
        "1439696000000,1,300,1100\n",
        "1439697000000,1,300,1100\n",
        "\n",
        "**After snapshot merge it would looks like:**\n",
        "\n",
        "> 1439694000000,1,100,1000\n",
        "1439694000000,1,200,1000\n",
        "1439695000000,1,200,1100\n",
        "1439696000000,1,200,1200\n",
        "1439697000000,1,200,1300\n",
        "1439694000000,1,300,1000\n",
        "1439696000000,1,300,1100\n",
        "\n",
        "Because property=100 is constant over time, property=200 has different values for all snapshots, property=300 has been changed once.\n",
        "\n",
        "Item properties file contain timestamp column because all of them are time dependent, since properties may change over time, e.g. price, category, etc. Initially, this file consisted of snapshots for every week in the events file and contained over 200 millions rows. We have merged consecutive constant property values, so it's changed from snapshot form to change log form. Thus, constant values would appear only once in the file. This action has significantly reduced the number of rows in 10 times.\n",
        "\n",
        "All values in the “item_properties.csv” file excluding \"categoryid\" and \"available\" properties were hashed. Value of the \"categoryid\" property contains item category identifier. Value of the \"available\" property contains availability of the item, i.e. 1 means the item was available, otherwise 0. All numerical values were marked with \"n\" char at the beginning, and have 3 digits precision after decimal point, e.g., \"5\" will become \"n5.000\", \"-3.67584\" will become \"n-3.675\". All words in text values were normalized (stemming procedure: https://en.wikipedia.org/wiki/Stemming) and hashed, numbers were processed as above, e.g. text \"Hello world 2017!\" will become \"24214 44214 n2017.000\"\n",
        "\n",
        "The category tree file has 1669 rows. Every row in the file specifies a child categoryId and the corresponding parent.\n",
        "For example:\n",
        "\n",
        "> Line “100,200” means that categoryid=1 has parent with categoryid=200\n",
        "\n",
        "> Line “300,” means that categoryid hasn’t parent in the tree\n",
        "Acknowledgements\n",
        "\n",
        "Retail Rocket (retailrocket.io) helps web shoppers make better shopping decisions by providing personalized real-time recommendations through multiple channels with over 100MM unique monthly users and 1000+ retail partners over the world.\n",
        "\n",
        "# Source: https://www.kaggle.com/datasets/retailrocket/ecommerce-dataset \n"
      ],
      "metadata": {
        "id": "8Oh9-t5Rs0Ew"
      }
    },
    {
      "cell_type": "markdown",
      "source": [
        "**If not accessig data files from Google drive, skip first two steps.**"
      ],
      "metadata": {
        "id": "a0Bd-U2ZAPam"
      }
    },
    {
      "cell_type": "code",
      "source": [
        "from google.colab import drive\n",
        "drive.mount('/content/drive')"
      ],
      "metadata": {
        "colab": {
          "base_uri": "https://localhost:8080/"
        },
        "id": "8_RN0Ilja22C",
        "outputId": "8c91932e-f82c-4a1d-bf10-23973c2f84aa"
      },
      "execution_count": 1,
      "outputs": [
        {
          "output_type": "stream",
          "name": "stdout",
          "text": [
            "Drive already mounted at /content/drive; to attempt to forcibly remount, call drive.mount(\"/content/drive\", force_remount=True).\n"
          ]
        }
      ]
    },
    {
      "cell_type": "code",
      "source": [
        "#%cd /content/drive/MyDrive/FinalProj/\n",
        "%cd /content/drive/Othercomputers/My-MacBook-Air/590-Final-Project/"
      ],
      "metadata": {
        "colab": {
          "base_uri": "https://localhost:8080/"
        },
        "id": "AqY5eox2bBQ4",
        "outputId": "96538406-991d-4dcb-ecae-c681bb4c7cd6"
      },
      "execution_count": 2,
      "outputs": [
        {
          "output_type": "stream",
          "name": "stdout",
          "text": [
            "/content/drive/Othercomputers/My-MacBook-Air/590-Final-Project\n"
          ]
        }
      ]
    },
    {
      "cell_type": "markdown",
      "source": [
        "**Import necessary libraries and dependicies**"
      ],
      "metadata": {
        "id": "CckGzLjGAroj"
      }
    },
    {
      "cell_type": "code",
      "execution_count": 3,
      "metadata": {
        "id": "O6D34UJnZ5U_"
      },
      "outputs": [],
      "source": [
        "import pandas as pd\n",
        "import numpy as np\n",
        "\n",
        "import datetime \n",
        "import time\n",
        "\n",
        "%matplotlib inline\n",
        "import matplotlib.pyplot as plt \n",
        "import seaborn as sns"
      ]
    },
    {
      "cell_type": "markdown",
      "source": [
        "**Verify you are in the correct folder(s).**"
      ],
      "metadata": {
        "id": "RazNBdnKDHkH"
      }
    },
    {
      "cell_type": "code",
      "source": [
        "!ls\n"
      ],
      "metadata": {
        "colab": {
          "base_uri": "https://localhost:8080/"
        },
        "id": "LZTIttzNqSjM",
        "outputId": "a5bfd22f-1ce7-4bd9-9b43-6fee48d8c5ea"
      },
      "execution_count": 4,
      "outputs": [
        {
          "output_type": "stream",
          "name": "stdout",
          "text": [
            "Amazon_final_project.ipynb  pop_dict.txt  RetailRocket_Final_Project.ipynb\n",
            "Authors.md\t\t    README.md\t  Scripts\n",
            "Datasets\t\t    report.txt\t  Take_Home_Project_2022F.pdf\n"
          ]
        }
      ]
    },
    {
      "cell_type": "markdown",
      "source": [
        "##  Access and load the data for the \"item-properties\" files."
      ],
      "metadata": {
        "id": "3iNURUnlA7Mz"
      }
    },
    {
      "cell_type": "code",
      "source": [
        "#PROJ_DIR = '/content/drive/MyDrive/FinalProj/RetailRocket/'\n",
        "PROJ_DIR = 'Datasets/RetailRocket/'\n",
        "items1 = pd.read_csv(PROJ_DIR + \"item_properties_part1.csv.zip\",compression='zip')\n",
        "items2 = pd.read_csv(PROJ_DIR + \"item_properties_part2.csv.zip\",compression='zip')\n",
        "events = pd.read_csv(PROJ_DIR + \"events.csv.zip\",compression='zip')\n",
        "items = pd.concat([items1, items2])\n",
        "items.sample(15)"
      ],
      "metadata": {
        "colab": {
          "base_uri": "https://localhost:8080/",
          "height": 581
        },
        "id": "HzLpYwySrwwM",
        "outputId": "c360ac70-1e38-4cfa-d165-e7d84a5d7eae"
      },
      "execution_count": 5,
      "outputs": [
        {
          "output_type": "execute_result",
          "data": {
            "text/plain": [
              "              timestamp  itemid   property  \\\n",
              "3644954   1435460400000  409132        879   \n",
              "8492241   1437879600000  419682       1036   \n",
              "6521491   1431226800000  258992        364   \n",
              "8431184   1437274800000   35412        663   \n",
              "7822540   1437879600000  128892        451   \n",
              "6507196   1431226800000   43483        710   \n",
              "6441433   1436670000000  180239  available   \n",
              "4906253   1432436400000   69905        810   \n",
              "8741758   1432436400000  225444  available   \n",
              "4336018   1438484400000    3196        888   \n",
              "10430629  1435460400000  284168        839   \n",
              "4116346   1433646000000  271141        202   \n",
              "5505350   1440298800000  139683        283   \n",
              "7169491   1434250800000  117282        451   \n",
              "3250349   1433646000000  168178        765   \n",
              "\n",
              "                                                   value  \n",
              "3644954                                           810323  \n",
              "8492241                             769062 521441 769062  \n",
              "6521491                                           415095  \n",
              "8431184                          1297729 n156.000 606827  \n",
              "7822540                            1141052 140719 553394  \n",
              "6507196                   1206543 n108.000 798006 190776  \n",
              "6441433                                                1  \n",
              "4906253   n36.000 1175087 n36.000 1175087 n36.000 424566  \n",
              "8741758                                                1  \n",
              "4336018                                    140639 378290  \n",
              "10430629                                         1211558  \n",
              "4116346                                    445184 363182  \n",
              "5505350                             545482 820477 737795  \n",
              "7169491                                    140719 553394  \n",
              "3250349                                           793089  "
            ],
            "text/html": [
              "\n",
              "  <div id=\"df-07e300fa-a9b3-40ed-a534-bf3574fa1626\">\n",
              "    <div class=\"colab-df-container\">\n",
              "      <div>\n",
              "<style scoped>\n",
              "    .dataframe tbody tr th:only-of-type {\n",
              "        vertical-align: middle;\n",
              "    }\n",
              "\n",
              "    .dataframe tbody tr th {\n",
              "        vertical-align: top;\n",
              "    }\n",
              "\n",
              "    .dataframe thead th {\n",
              "        text-align: right;\n",
              "    }\n",
              "</style>\n",
              "<table border=\"1\" class=\"dataframe\">\n",
              "  <thead>\n",
              "    <tr style=\"text-align: right;\">\n",
              "      <th></th>\n",
              "      <th>timestamp</th>\n",
              "      <th>itemid</th>\n",
              "      <th>property</th>\n",
              "      <th>value</th>\n",
              "    </tr>\n",
              "  </thead>\n",
              "  <tbody>\n",
              "    <tr>\n",
              "      <th>3644954</th>\n",
              "      <td>1435460400000</td>\n",
              "      <td>409132</td>\n",
              "      <td>879</td>\n",
              "      <td>810323</td>\n",
              "    </tr>\n",
              "    <tr>\n",
              "      <th>8492241</th>\n",
              "      <td>1437879600000</td>\n",
              "      <td>419682</td>\n",
              "      <td>1036</td>\n",
              "      <td>769062 521441 769062</td>\n",
              "    </tr>\n",
              "    <tr>\n",
              "      <th>6521491</th>\n",
              "      <td>1431226800000</td>\n",
              "      <td>258992</td>\n",
              "      <td>364</td>\n",
              "      <td>415095</td>\n",
              "    </tr>\n",
              "    <tr>\n",
              "      <th>8431184</th>\n",
              "      <td>1437274800000</td>\n",
              "      <td>35412</td>\n",
              "      <td>663</td>\n",
              "      <td>1297729 n156.000 606827</td>\n",
              "    </tr>\n",
              "    <tr>\n",
              "      <th>7822540</th>\n",
              "      <td>1437879600000</td>\n",
              "      <td>128892</td>\n",
              "      <td>451</td>\n",
              "      <td>1141052 140719 553394</td>\n",
              "    </tr>\n",
              "    <tr>\n",
              "      <th>6507196</th>\n",
              "      <td>1431226800000</td>\n",
              "      <td>43483</td>\n",
              "      <td>710</td>\n",
              "      <td>1206543 n108.000 798006 190776</td>\n",
              "    </tr>\n",
              "    <tr>\n",
              "      <th>6441433</th>\n",
              "      <td>1436670000000</td>\n",
              "      <td>180239</td>\n",
              "      <td>available</td>\n",
              "      <td>1</td>\n",
              "    </tr>\n",
              "    <tr>\n",
              "      <th>4906253</th>\n",
              "      <td>1432436400000</td>\n",
              "      <td>69905</td>\n",
              "      <td>810</td>\n",
              "      <td>n36.000 1175087 n36.000 1175087 n36.000 424566</td>\n",
              "    </tr>\n",
              "    <tr>\n",
              "      <th>8741758</th>\n",
              "      <td>1432436400000</td>\n",
              "      <td>225444</td>\n",
              "      <td>available</td>\n",
              "      <td>1</td>\n",
              "    </tr>\n",
              "    <tr>\n",
              "      <th>4336018</th>\n",
              "      <td>1438484400000</td>\n",
              "      <td>3196</td>\n",
              "      <td>888</td>\n",
              "      <td>140639 378290</td>\n",
              "    </tr>\n",
              "    <tr>\n",
              "      <th>10430629</th>\n",
              "      <td>1435460400000</td>\n",
              "      <td>284168</td>\n",
              "      <td>839</td>\n",
              "      <td>1211558</td>\n",
              "    </tr>\n",
              "    <tr>\n",
              "      <th>4116346</th>\n",
              "      <td>1433646000000</td>\n",
              "      <td>271141</td>\n",
              "      <td>202</td>\n",
              "      <td>445184 363182</td>\n",
              "    </tr>\n",
              "    <tr>\n",
              "      <th>5505350</th>\n",
              "      <td>1440298800000</td>\n",
              "      <td>139683</td>\n",
              "      <td>283</td>\n",
              "      <td>545482 820477 737795</td>\n",
              "    </tr>\n",
              "    <tr>\n",
              "      <th>7169491</th>\n",
              "      <td>1434250800000</td>\n",
              "      <td>117282</td>\n",
              "      <td>451</td>\n",
              "      <td>140719 553394</td>\n",
              "    </tr>\n",
              "    <tr>\n",
              "      <th>3250349</th>\n",
              "      <td>1433646000000</td>\n",
              "      <td>168178</td>\n",
              "      <td>765</td>\n",
              "      <td>793089</td>\n",
              "    </tr>\n",
              "  </tbody>\n",
              "</table>\n",
              "</div>\n",
              "      <button class=\"colab-df-convert\" onclick=\"convertToInteractive('df-07e300fa-a9b3-40ed-a534-bf3574fa1626')\"\n",
              "              title=\"Convert this dataframe to an interactive table.\"\n",
              "              style=\"display:none;\">\n",
              "        \n",
              "  <svg xmlns=\"http://www.w3.org/2000/svg\" height=\"24px\"viewBox=\"0 0 24 24\"\n",
              "       width=\"24px\">\n",
              "    <path d=\"M0 0h24v24H0V0z\" fill=\"none\"/>\n",
              "    <path d=\"M18.56 5.44l.94 2.06.94-2.06 2.06-.94-2.06-.94-.94-2.06-.94 2.06-2.06.94zm-11 1L8.5 8.5l.94-2.06 2.06-.94-2.06-.94L8.5 2.5l-.94 2.06-2.06.94zm10 10l.94 2.06.94-2.06 2.06-.94-2.06-.94-.94-2.06-.94 2.06-2.06.94z\"/><path d=\"M17.41 7.96l-1.37-1.37c-.4-.4-.92-.59-1.43-.59-.52 0-1.04.2-1.43.59L10.3 9.45l-7.72 7.72c-.78.78-.78 2.05 0 2.83L4 21.41c.39.39.9.59 1.41.59.51 0 1.02-.2 1.41-.59l7.78-7.78 2.81-2.81c.8-.78.8-2.07 0-2.86zM5.41 20L4 18.59l7.72-7.72 1.47 1.35L5.41 20z\"/>\n",
              "  </svg>\n",
              "      </button>\n",
              "      \n",
              "  <style>\n",
              "    .colab-df-container {\n",
              "      display:flex;\n",
              "      flex-wrap:wrap;\n",
              "      gap: 12px;\n",
              "    }\n",
              "\n",
              "    .colab-df-convert {\n",
              "      background-color: #E8F0FE;\n",
              "      border: none;\n",
              "      border-radius: 50%;\n",
              "      cursor: pointer;\n",
              "      display: none;\n",
              "      fill: #1967D2;\n",
              "      height: 32px;\n",
              "      padding: 0 0 0 0;\n",
              "      width: 32px;\n",
              "    }\n",
              "\n",
              "    .colab-df-convert:hover {\n",
              "      background-color: #E2EBFA;\n",
              "      box-shadow: 0px 1px 2px rgba(60, 64, 67, 0.3), 0px 1px 3px 1px rgba(60, 64, 67, 0.15);\n",
              "      fill: #174EA6;\n",
              "    }\n",
              "\n",
              "    [theme=dark] .colab-df-convert {\n",
              "      background-color: #3B4455;\n",
              "      fill: #D2E3FC;\n",
              "    }\n",
              "\n",
              "    [theme=dark] .colab-df-convert:hover {\n",
              "      background-color: #434B5C;\n",
              "      box-shadow: 0px 1px 3px 1px rgba(0, 0, 0, 0.15);\n",
              "      filter: drop-shadow(0px 1px 2px rgba(0, 0, 0, 0.3));\n",
              "      fill: #FFFFFF;\n",
              "    }\n",
              "  </style>\n",
              "\n",
              "      <script>\n",
              "        const buttonEl =\n",
              "          document.querySelector('#df-07e300fa-a9b3-40ed-a534-bf3574fa1626 button.colab-df-convert');\n",
              "        buttonEl.style.display =\n",
              "          google.colab.kernel.accessAllowed ? 'block' : 'none';\n",
              "\n",
              "        async function convertToInteractive(key) {\n",
              "          const element = document.querySelector('#df-07e300fa-a9b3-40ed-a534-bf3574fa1626');\n",
              "          const dataTable =\n",
              "            await google.colab.kernel.invokeFunction('convertToInteractive',\n",
              "                                                     [key], {});\n",
              "          if (!dataTable) return;\n",
              "\n",
              "          const docLinkHtml = 'Like what you see? Visit the ' +\n",
              "            '<a target=\"_blank\" href=https://colab.research.google.com/notebooks/data_table.ipynb>data table notebook</a>'\n",
              "            + ' to learn more about interactive tables.';\n",
              "          element.innerHTML = '';\n",
              "          dataTable['output_type'] = 'display_data';\n",
              "          await google.colab.output.renderOutput(dataTable, element);\n",
              "          const docLink = document.createElement('div');\n",
              "          docLink.innerHTML = docLinkHtml;\n",
              "          element.appendChild(docLink);\n",
              "        }\n",
              "      </script>\n",
              "    </div>\n",
              "  </div>\n",
              "  "
            ]
          },
          "metadata": {},
          "execution_count": 5
        }
      ]
    },
    {
      "cell_type": "code",
      "source": [
        "items.shape"
      ],
      "metadata": {
        "colab": {
          "base_uri": "https://localhost:8080/"
        },
        "id": "0NWxUlVysF0D",
        "outputId": "de50d8c2-1ca3-437b-e499-7e189bd53a26"
      },
      "execution_count": 6,
      "outputs": [
        {
          "output_type": "execute_result",
          "data": {
            "text/plain": [
              "(20275902, 4)"
            ]
          },
          "metadata": {},
          "execution_count": 6
        }
      ]
    },
    {
      "cell_type": "code",
      "source": [
        "# Create list of visitors who made a purchase and the purchased items\n",
        "customer_purchased = events[events.transactionid.notnull()].visitorid.unique()\n",
        "purchased_items = []\n",
        "\n",
        "for customer in customer_purchased:\n",
        "    purchased_items.append(list(events.loc[(events.visitorid == customer) & (events.transactionid.notnull())].itemid.values))"
      ],
      "metadata": {
        "id": "rNaylFDGfLUF"
      },
      "execution_count": 7,
      "outputs": []
    },
    {
      "cell_type": "code",
      "source": [
        "purchased_items[:8]"
      ],
      "metadata": {
        "id": "XMwHF9yXffwW",
        "colab": {
          "base_uri": "https://localhost:8080/"
        },
        "outputId": "bfb9dcfd-721b-45c0-86a6-bfa532561a86"
      },
      "execution_count": 8,
      "outputs": [
        {
          "output_type": "execute_result",
          "data": {
            "text/plain": [
              "[[356475],\n",
              " [15335,\n",
              "  380775,\n",
              "  237753,\n",
              "  317178,\n",
              "  12836,\n",
              "  400969,\n",
              "  105792,\n",
              "  25353,\n",
              "  200793,\n",
              "  80582,\n",
              "  302422],\n",
              " [81345],\n",
              " [150318, 49521],\n",
              " [310791, 299044],\n",
              " [54058,\n",
              "  284871,\n",
              "  251130,\n",
              "  268335,\n",
              "  183049,\n",
              "  261940,\n",
              "  369093,\n",
              "  370745,\n",
              "  192990,\n",
              "  277119,\n",
              "  241716,\n",
              "  283766,\n",
              "  16417,\n",
              "  217068,\n",
              "  36372,\n",
              "  68923,\n",
              "  428015,\n",
              "  69533,\n",
              "  13520,\n",
              "  385638,\n",
              "  442871,\n",
              "  136526,\n",
              "  247862,\n",
              "  93828,\n",
              "  230911,\n",
              "  382595,\n",
              "  34853,\n",
              "  216260,\n",
              "  154812,\n",
              "  445241,\n",
              "  57702,\n",
              "  347850,\n",
              "  151855,\n",
              "  226327,\n",
              "  288525,\n",
              "  51354,\n",
              "  345994,\n",
              "  170438,\n",
              "  254301,\n",
              "  266439,\n",
              "  193718,\n",
              "  388558,\n",
              "  26745,\n",
              "  184086,\n",
              "  79956,\n",
              "  252040,\n",
              "  82232,\n",
              "  309821,\n",
              "  394518,\n",
              "  462070,\n",
              "  331980,\n",
              "  353111,\n",
              "  200527,\n",
              "  235933,\n",
              "  68532,\n",
              "  358882,\n",
              "  60012,\n",
              "  29741,\n",
              "  270487,\n",
              "  163689,\n",
              "  6913,\n",
              "  156457,\n",
              "  341578,\n",
              "  163352,\n",
              "  234493,\n",
              "  135174,\n",
              "  452481,\n",
              "  241755,\n",
              "  56323,\n",
              "  210137,\n",
              "  184397,\n",
              "  285202,\n",
              "  198690,\n",
              "  195958,\n",
              "  239210,\n",
              "  71640,\n",
              "  189108,\n",
              "  369112,\n",
              "  346186,\n",
              "  211207,\n",
              "  134330,\n",
              "  257070,\n",
              "  302239,\n",
              "  459480,\n",
              "  57577,\n",
              "  195234,\n",
              "  215904,\n",
              "  374092,\n",
              "  170262,\n",
              "  170262,\n",
              "  229577,\n",
              "  264801,\n",
              "  94344,\n",
              "  204209,\n",
              "  442725,\n",
              "  9087,\n",
              "  259964,\n",
              "  361554,\n",
              "  442131,\n",
              "  23251,\n",
              "  332721,\n",
              "  85914,\n",
              "  302391,\n",
              "  200242,\n",
              "  234255,\n",
              "  372845,\n",
              "  404129,\n",
              "  214757,\n",
              "  222208,\n",
              "  372845,\n",
              "  206809,\n",
              "  249207],\n",
              " [150100,\n",
              "  50934,\n",
              "  36013,\n",
              "  26210,\n",
              "  118199,\n",
              "  234199,\n",
              "  416187,\n",
              "  167985,\n",
              "  146735,\n",
              "  4887,\n",
              "  218626,\n",
              "  338148,\n",
              "  197980,\n",
              "  240558,\n",
              "  272813,\n",
              "  197968,\n",
              "  332224,\n",
              "  92668,\n",
              "  268335,\n",
              "  120259,\n",
              "  378845,\n",
              "  449946,\n",
              "  95426,\n",
              "  85579,\n",
              "  17478,\n",
              "  16813,\n",
              "  150215,\n",
              "  187200,\n",
              "  111083,\n",
              "  359040,\n",
              "  428067,\n",
              "  179136,\n",
              "  422425,\n",
              "  242521,\n",
              "  21886,\n",
              "  448494,\n",
              "  175555,\n",
              "  421606,\n",
              "  86894,\n",
              "  243376,\n",
              "  138434,\n",
              "  422481,\n",
              "  235748,\n",
              "  63859,\n",
              "  55706],\n",
              " [243566]]"
            ]
          },
          "metadata": {},
          "execution_count": 8
        }
      ]
    },
    {
      "cell_type": "markdown",
      "source": [
        "Function for showing items bought by the same customer."
      ],
      "metadata": {
        "id": "BqeVwfsnOR64"
      }
    },
    {
      "cell_type": "code",
      "source": [
        "def recommend_items(item_id, purchased_items):\n",
        "    recommendation_list =[]\n",
        "    for x in purchased_items:\n",
        "        if item_id in x:\n",
        "            recommendation_list +=x\n",
        "    recommendation_list = list(set(recommendation_list) - set([item_id]))\n",
        "    return recommendation_list"
      ],
      "metadata": {
        "id": "R2nwqBd6fzK-"
      },
      "execution_count": 9,
      "outputs": []
    },
    {
      "cell_type": "markdown",
      "source": [
        "Recommend items when a visitor is views item_id = 404129"
      ],
      "metadata": {
        "id": "mzLePY2bN0jR"
      }
    },
    {
      "cell_type": "code",
      "source": [
        "recommend_items(404129, purchased_items)"
      ],
      "metadata": {
        "id": "zDKhvVfIf0oa",
        "colab": {
          "base_uri": "https://localhost:8080/"
        },
        "outputId": "8680834e-5ec2-48cf-9f0c-61f711144459"
      },
      "execution_count": 10,
      "outputs": [
        {
          "output_type": "execute_result",
          "data": {
            "text/plain": [
              "[222208,\n",
              " 6913,\n",
              " 56323,\n",
              " 135174,\n",
              " 211207,\n",
              " 183049,\n",
              " 288525,\n",
              " 234255,\n",
              " 285202,\n",
              " 442131,\n",
              " 36372,\n",
              " 184086,\n",
              " 226327,\n",
              " 163352,\n",
              " 394518,\n",
              " 170262,\n",
              " 16417,\n",
              " 198690,\n",
              " 34853,\n",
              " 156457,\n",
              " 54058,\n",
              " 29741,\n",
              " 257070,\n",
              " 268335,\n",
              " 151855,\n",
              " 200242,\n",
              " 241716,\n",
              " 261940,\n",
              " 247862,\n",
              " 302391,\n",
              " 82232,\n",
              " 370745,\n",
              " 445241,\n",
              " 68923,\n",
              " 309821,\n",
              " 341578,\n",
              " 346186,\n",
              " 374092,\n",
              " 184397,\n",
              " 136526,\n",
              " 200527,\n",
              " 361554,\n",
              " 79956,\n",
              " 353111,\n",
              " 241755,\n",
              " 254301,\n",
              " 215904,\n",
              " 264801,\n",
              " 442725,\n",
              " 385638,\n",
              " 57702,\n",
              " 163689,\n",
              " 239210,\n",
              " 60012,\n",
              " 372845,\n",
              " 283766,\n",
              " 195958,\n",
              " 249207,\n",
              " 26745,\n",
              " 259964,\n",
              " 277119,\n",
              " 9087,\n",
              " 452481,\n",
              " 382595,\n",
              " 93828,\n",
              " 252040,\n",
              " 94344,\n",
              " 345994,\n",
              " 270487,\n",
              " 51354,\n",
              " 85914,\n",
              " 69533,\n",
              " 235933,\n",
              " 302239,\n",
              " 195234,\n",
              " 204209,\n",
              " 332721,\n",
              " 189108,\n",
              " 68532,\n",
              " 193718,\n",
              " 134330,\n",
              " 154812,\n",
              " 216260,\n",
              " 369093,\n",
              " 170438,\n",
              " 284871,\n",
              " 266439,\n",
              " 229577,\n",
              " 347850,\n",
              " 331980,\n",
              " 388558,\n",
              " 13520,\n",
              " 23251,\n",
              " 459480,\n",
              " 210137,\n",
              " 71640,\n",
              " 369112,\n",
              " 206809,\n",
              " 192990,\n",
              " 358882,\n",
              " 214757,\n",
              " 57577,\n",
              " 217068,\n",
              " 428015,\n",
              " 462070,\n",
              " 442871,\n",
              " 251130,\n",
              " 234493,\n",
              " 230911]"
            ]
          },
          "metadata": {},
          "execution_count": 10
        }
      ]
    },
    {
      "cell_type": "code",
      "source": [
        "events.head(10)"
      ],
      "metadata": {
        "id": "H1T2xGhNflIU",
        "colab": {
          "base_uri": "https://localhost:8080/",
          "height": 363
        },
        "outputId": "2064fe7e-5324-4762-8ad7-de1f49dabbe3"
      },
      "execution_count": 11,
      "outputs": [
        {
          "output_type": "execute_result",
          "data": {
            "text/plain": [
              "       timestamp  visitorid event  itemid  transactionid\n",
              "0  1433221332117     257597  view  355908            NaN\n",
              "1  1433224214164     992329  view  248676            NaN\n",
              "2  1433221999827     111016  view  318965            NaN\n",
              "3  1433221955914     483717  view  253185            NaN\n",
              "4  1433221337106     951259  view  367447            NaN\n",
              "5  1433224086234     972639  view   22556            NaN\n",
              "6  1433221923240     810725  view  443030            NaN\n",
              "7  1433223291897     794181  view  439202            NaN\n",
              "8  1433220899221     824915  view  428805            NaN\n",
              "9  1433221204592     339335  view   82389            NaN"
            ],
            "text/html": [
              "\n",
              "  <div id=\"df-172ac580-5de5-40af-a01b-3c81092bb5ec\">\n",
              "    <div class=\"colab-df-container\">\n",
              "      <div>\n",
              "<style scoped>\n",
              "    .dataframe tbody tr th:only-of-type {\n",
              "        vertical-align: middle;\n",
              "    }\n",
              "\n",
              "    .dataframe tbody tr th {\n",
              "        vertical-align: top;\n",
              "    }\n",
              "\n",
              "    .dataframe thead th {\n",
              "        text-align: right;\n",
              "    }\n",
              "</style>\n",
              "<table border=\"1\" class=\"dataframe\">\n",
              "  <thead>\n",
              "    <tr style=\"text-align: right;\">\n",
              "      <th></th>\n",
              "      <th>timestamp</th>\n",
              "      <th>visitorid</th>\n",
              "      <th>event</th>\n",
              "      <th>itemid</th>\n",
              "      <th>transactionid</th>\n",
              "    </tr>\n",
              "  </thead>\n",
              "  <tbody>\n",
              "    <tr>\n",
              "      <th>0</th>\n",
              "      <td>1433221332117</td>\n",
              "      <td>257597</td>\n",
              "      <td>view</td>\n",
              "      <td>355908</td>\n",
              "      <td>NaN</td>\n",
              "    </tr>\n",
              "    <tr>\n",
              "      <th>1</th>\n",
              "      <td>1433224214164</td>\n",
              "      <td>992329</td>\n",
              "      <td>view</td>\n",
              "      <td>248676</td>\n",
              "      <td>NaN</td>\n",
              "    </tr>\n",
              "    <tr>\n",
              "      <th>2</th>\n",
              "      <td>1433221999827</td>\n",
              "      <td>111016</td>\n",
              "      <td>view</td>\n",
              "      <td>318965</td>\n",
              "      <td>NaN</td>\n",
              "    </tr>\n",
              "    <tr>\n",
              "      <th>3</th>\n",
              "      <td>1433221955914</td>\n",
              "      <td>483717</td>\n",
              "      <td>view</td>\n",
              "      <td>253185</td>\n",
              "      <td>NaN</td>\n",
              "    </tr>\n",
              "    <tr>\n",
              "      <th>4</th>\n",
              "      <td>1433221337106</td>\n",
              "      <td>951259</td>\n",
              "      <td>view</td>\n",
              "      <td>367447</td>\n",
              "      <td>NaN</td>\n",
              "    </tr>\n",
              "    <tr>\n",
              "      <th>5</th>\n",
              "      <td>1433224086234</td>\n",
              "      <td>972639</td>\n",
              "      <td>view</td>\n",
              "      <td>22556</td>\n",
              "      <td>NaN</td>\n",
              "    </tr>\n",
              "    <tr>\n",
              "      <th>6</th>\n",
              "      <td>1433221923240</td>\n",
              "      <td>810725</td>\n",
              "      <td>view</td>\n",
              "      <td>443030</td>\n",
              "      <td>NaN</td>\n",
              "    </tr>\n",
              "    <tr>\n",
              "      <th>7</th>\n",
              "      <td>1433223291897</td>\n",
              "      <td>794181</td>\n",
              "      <td>view</td>\n",
              "      <td>439202</td>\n",
              "      <td>NaN</td>\n",
              "    </tr>\n",
              "    <tr>\n",
              "      <th>8</th>\n",
              "      <td>1433220899221</td>\n",
              "      <td>824915</td>\n",
              "      <td>view</td>\n",
              "      <td>428805</td>\n",
              "      <td>NaN</td>\n",
              "    </tr>\n",
              "    <tr>\n",
              "      <th>9</th>\n",
              "      <td>1433221204592</td>\n",
              "      <td>339335</td>\n",
              "      <td>view</td>\n",
              "      <td>82389</td>\n",
              "      <td>NaN</td>\n",
              "    </tr>\n",
              "  </tbody>\n",
              "</table>\n",
              "</div>\n",
              "      <button class=\"colab-df-convert\" onclick=\"convertToInteractive('df-172ac580-5de5-40af-a01b-3c81092bb5ec')\"\n",
              "              title=\"Convert this dataframe to an interactive table.\"\n",
              "              style=\"display:none;\">\n",
              "        \n",
              "  <svg xmlns=\"http://www.w3.org/2000/svg\" height=\"24px\"viewBox=\"0 0 24 24\"\n",
              "       width=\"24px\">\n",
              "    <path d=\"M0 0h24v24H0V0z\" fill=\"none\"/>\n",
              "    <path d=\"M18.56 5.44l.94 2.06.94-2.06 2.06-.94-2.06-.94-.94-2.06-.94 2.06-2.06.94zm-11 1L8.5 8.5l.94-2.06 2.06-.94-2.06-.94L8.5 2.5l-.94 2.06-2.06.94zm10 10l.94 2.06.94-2.06 2.06-.94-2.06-.94-.94-2.06-.94 2.06-2.06.94z\"/><path d=\"M17.41 7.96l-1.37-1.37c-.4-.4-.92-.59-1.43-.59-.52 0-1.04.2-1.43.59L10.3 9.45l-7.72 7.72c-.78.78-.78 2.05 0 2.83L4 21.41c.39.39.9.59 1.41.59.51 0 1.02-.2 1.41-.59l7.78-7.78 2.81-2.81c.8-.78.8-2.07 0-2.86zM5.41 20L4 18.59l7.72-7.72 1.47 1.35L5.41 20z\"/>\n",
              "  </svg>\n",
              "      </button>\n",
              "      \n",
              "  <style>\n",
              "    .colab-df-container {\n",
              "      display:flex;\n",
              "      flex-wrap:wrap;\n",
              "      gap: 12px;\n",
              "    }\n",
              "\n",
              "    .colab-df-convert {\n",
              "      background-color: #E8F0FE;\n",
              "      border: none;\n",
              "      border-radius: 50%;\n",
              "      cursor: pointer;\n",
              "      display: none;\n",
              "      fill: #1967D2;\n",
              "      height: 32px;\n",
              "      padding: 0 0 0 0;\n",
              "      width: 32px;\n",
              "    }\n",
              "\n",
              "    .colab-df-convert:hover {\n",
              "      background-color: #E2EBFA;\n",
              "      box-shadow: 0px 1px 2px rgba(60, 64, 67, 0.3), 0px 1px 3px 1px rgba(60, 64, 67, 0.15);\n",
              "      fill: #174EA6;\n",
              "    }\n",
              "\n",
              "    [theme=dark] .colab-df-convert {\n",
              "      background-color: #3B4455;\n",
              "      fill: #D2E3FC;\n",
              "    }\n",
              "\n",
              "    [theme=dark] .colab-df-convert:hover {\n",
              "      background-color: #434B5C;\n",
              "      box-shadow: 0px 1px 3px 1px rgba(0, 0, 0, 0.15);\n",
              "      filter: drop-shadow(0px 1px 2px rgba(0, 0, 0, 0.3));\n",
              "      fill: #FFFFFF;\n",
              "    }\n",
              "  </style>\n",
              "\n",
              "      <script>\n",
              "        const buttonEl =\n",
              "          document.querySelector('#df-172ac580-5de5-40af-a01b-3c81092bb5ec button.colab-df-convert');\n",
              "        buttonEl.style.display =\n",
              "          google.colab.kernel.accessAllowed ? 'block' : 'none';\n",
              "\n",
              "        async function convertToInteractive(key) {\n",
              "          const element = document.querySelector('#df-172ac580-5de5-40af-a01b-3c81092bb5ec');\n",
              "          const dataTable =\n",
              "            await google.colab.kernel.invokeFunction('convertToInteractive',\n",
              "                                                     [key], {});\n",
              "          if (!dataTable) return;\n",
              "\n",
              "          const docLinkHtml = 'Like what you see? Visit the ' +\n",
              "            '<a target=\"_blank\" href=https://colab.research.google.com/notebooks/data_table.ipynb>data table notebook</a>'\n",
              "            + ' to learn more about interactive tables.';\n",
              "          element.innerHTML = '';\n",
              "          dataTable['output_type'] = 'display_data';\n",
              "          await google.colab.output.renderOutput(dataTable, element);\n",
              "          const docLink = document.createElement('div');\n",
              "          docLink.innerHTML = docLinkHtml;\n",
              "          element.appendChild(docLink);\n",
              "        }\n",
              "      </script>\n",
              "    </div>\n",
              "  </div>\n",
              "  "
            ]
          },
          "metadata": {},
          "execution_count": 11
        }
      ]
    },
    {
      "cell_type": "markdown",
      "source": [
        "# Load and Plot Data"
      ],
      "metadata": {
        "id": "H7z9k9-j5RJY"
      }
    },
    {
      "cell_type": "code",
      "source": [
        "%run 'Scripts/Retail_Rocket/preprocess.py' --data='Datasets/RetailRocket/'"
      ],
      "metadata": {
        "colab": {
          "base_uri": "https://localhost:8080/",
          "height": 1000
        },
        "id": "Kj9bWKpw5UIK",
        "outputId": "7c722588-4c71-42a0-db15-2dd9f91d3938"
      },
      "execution_count": 12,
      "outputs": [
        {
          "output_type": "stream",
          "name": "stdout",
          "text": [
            "event\n",
            "addtocart        69332\n",
            "transaction      22457\n",
            "view           2664312\n",
            "Name: event, dtype: int64\n"
          ]
        },
        {
          "output_type": "display_data",
          "data": {
            "text/plain": [
              "<Figure size 720x576 with 1 Axes>"
            ],
            "image/png": "[encoded data removed]"
          },
          "metadata": {
            "needs_background": "light"
          }
        },
        {
          "output_type": "display_data",
          "data": {
            "text/plain": [
              "<Figure size 576x576 with 1 Axes>"
            ],
            "image/png": "[encoded data removed]"
          },
          "metadata": {}
        },
        {
          "output_type": "stream",
          "name": "stdout",
          "text": [
            "Total visitors: 2756101\n",
            "Unique visitors: 1407580\n",
            "items with categoryid and available as property: 9167412\n"
          ]
        },
        {
          "output_type": "stream",
          "name": "stderr",
          "text": [
            "/usr/local/lib/python3.8/dist-packages/seaborn/_decorators.py:36: FutureWarning: Pass the following variables as keyword args: x, y. From version 0.12, the only valid positional argument will be `data`, and passing other arguments without an explicit keyword will result in an error or misinterpretation.\n",
            "  warnings.warn(\n",
            "/usr/local/lib/python3.8/dist-packages/seaborn/_decorators.py:36: FutureWarning: Pass the following variables as keyword args: x, y. From version 0.12, the only valid positional argument will be `data`, and passing other arguments without an explicit keyword will result in an error or misinterpretation.\n",
            "  warnings.warn(\n",
            "/usr/local/lib/python3.8/dist-packages/seaborn/_decorators.py:36: FutureWarning: Pass the following variables as keyword args: x, y. From version 0.12, the only valid positional argument will be `data`, and passing other arguments without an explicit keyword will result in an error or misinterpretation.\n",
            "  warnings.warn(\n"
          ]
        }
      ]
    },
    {
      "cell_type": "markdown",
      "source": [
        "## Data Preparation\n"
      ],
      "metadata": {
        "id": "1z6eaPVZ5bud"
      }
    },
    {
      "cell_type": "code",
      "source": [
        "%run 'Scripts/Retail_Rocket/split_data.py'"
      ],
      "metadata": {
        "colab": {
          "base_uri": "https://localhost:8080/"
        },
        "id": "cxmDMjCT5eWa",
        "outputId": "5dababc8-e025-4711-8341-5871f122aa44"
      },
      "execution_count": 27,
      "outputs": [
        {
          "output_type": "stream",
          "name": "stderr",
          "text": [
            "/content/drive/Othercomputers/My-MacBook-Air/590-Final-Project/Scripts/Retail_Rocket/split_data.py:30: SettingWithCopyWarning: \n",
            "A value is trying to be set on a copy of a slice from a DataFrame.\n",
            "Try using .loc[row_indexer,col_indexer] = value instead\n",
            "\n",
            "See the caveats in the documentation: https://pandas.pydata.org/pandas-docs/stable/user_guide/indexing.html#returning-a-view-versus-a-copy\n",
            "  events_train['rating'] = cate_enc.fit_transform(events_train.event)\n",
            "/content/drive/Othercomputers/My-MacBook-Air/590-Final-Project/Scripts/Retail_Rocket/split_data.py:33: SettingWithCopyWarning: \n",
            "A value is trying to be set on a copy of a slice from a DataFrame.\n",
            "Try using .loc[row_indexer,col_indexer] = value instead\n",
            "\n",
            "See the caveats in the documentation: https://pandas.pydata.org/pandas-docs/stable/user_guide/indexing.html#returning-a-view-versus-a-copy\n",
            "  events_train['visitorid'] = trans_cat_train['visitorid']\n",
            "/content/drive/Othercomputers/My-MacBook-Air/590-Final-Project/Scripts/Retail_Rocket/split_data.py:35: SettingWithCopyWarning: \n",
            "A value is trying to be set on a copy of a slice from a DataFrame.\n",
            "Try using .loc[row_indexer,col_indexer] = value instead\n",
            "\n",
            "See the caveats in the documentation: https://pandas.pydata.org/pandas-docs/stable/user_guide/indexing.html#returning-a-view-versus-a-copy\n",
            "  events_train['itemid'] = trans_cat_train['itemid']\n"
          ]
        }
      ]
    },
    {
      "cell_type": "code",
      "source": [
        "%run 'Scripts/Retail_Rocket/pop.py' --data='Datasets/RetailRocket'"
      ],
      "metadata": {
        "colab": {
          "base_uri": "https://localhost:8080/"
        },
        "id": "cknPpvmh5n2H",
        "outputId": "c9c3cf93-52e5-4319-9af4-71d0ffd6fc65"
      },
      "execution_count": 28,
      "outputs": [
        {
          "output_type": "stream",
          "name": "stdout",
          "text": [
            "0.0\n",
            "1.0\n",
            "2.0\n",
            "3.0\n"
          ]
        }
      ]
    },
    {
      "cell_type": "code",
      "source": [
        "%run 'Scripts/Retail_Rocket/replay_buffer.py'"
      ],
      "metadata": {
        "colab": {
          "base_uri": "https://localhost:8080/"
        },
        "id": "zeOhmgfc5ssP",
        "outputId": "68cf9cc7-aea5-4ed7-a56c-88b7cbdc3692"
      },
      "execution_count": 30,
      "outputs": [
        {
          "output_type": "stream",
          "name": "stdout",
          "text": [
            "   visitorid  itemid event        date\n",
            "0     689859  421640  view  2015-05-03\n",
            "1     935582  203248  view  2015-05-03\n",
            "2     696326  194830  view  2015-05-03\n",
            "3     131668  395045  view  2015-05-03\n",
            "4     595484  129111  view  2015-05-03\n"
          ]
        }
      ]
    },
    {
      "cell_type": "markdown",
      "source": [
        "# Modeling"
      ],
      "metadata": {
        "id": "CbvBmNVO5Mop"
      }
    },
    {
      "cell_type": "markdown",
      "source": [
        "## Non-Deep RL Model"
      ],
      "metadata": {
        "id": "NIQAKiY26cu4"
      }
    },
    {
      "cell_type": "markdown",
      "source": [
        "Install LightFM to be used for modeling"
      ],
      "metadata": {
        "id": "eg1TjYUZOjTw"
      }
    },
    {
      "cell_type": "code",
      "source": [
        "!pip install lightfm"
      ],
      "metadata": {
        "colab": {
          "base_uri": "https://localhost:8080/"
        },
        "id": "UKLWjjyRbouT",
        "outputId": "12c94777-3115-4c9f-df45-36cd52716c28"
      },
      "execution_count": 16,
      "outputs": [
        {
          "output_type": "stream",
          "name": "stdout",
          "text": [
            "Looking in indexes: https://pypi.org/simple, https://us-python.pkg.dev/colab-wheels/public/simple/\n",
            "Requirement already satisfied: lightfm in /usr/local/lib/python3.8/dist-packages (1.16)\n",
            "Requirement already satisfied: scikit-learn in /usr/local/lib/python3.8/dist-packages (from lightfm) (1.0.2)\n",
            "Requirement already satisfied: scipy>=0.17.0 in /usr/local/lib/python3.8/dist-packages (from lightfm) (1.7.3)\n",
            "Requirement already satisfied: numpy in /usr/local/lib/python3.8/dist-packages (from lightfm) (1.21.6)\n",
            "Requirement already satisfied: requests in /usr/local/lib/python3.8/dist-packages (from lightfm) (2.23.0)\n",
            "Requirement already satisfied: idna<3,>=2.5 in /usr/local/lib/python3.8/dist-packages (from requests->lightfm) (2.10)\n",
            "Requirement already satisfied: certifi>=2017.4.17 in /usr/local/lib/python3.8/dist-packages (from requests->lightfm) (2022.9.24)\n",
            "Requirement already satisfied: chardet<4,>=3.0.2 in /usr/local/lib/python3.8/dist-packages (from requests->lightfm) (3.0.4)\n",
            "Requirement already satisfied: urllib3!=1.25.0,!=1.25.1,<1.26,>=1.21.1 in /usr/local/lib/python3.8/dist-packages (from requests->lightfm) (1.24.3)\n",
            "Requirement already satisfied: threadpoolctl>=2.0.0 in /usr/local/lib/python3.8/dist-packages (from scikit-learn->lightfm) (3.1.0)\n",
            "Requirement already satisfied: joblib>=0.11 in /usr/local/lib/python3.8/dist-packages (from scikit-learn->lightfm) (1.2.0)\n"
          ]
        }
      ]
    },
    {
      "cell_type": "markdown",
      "source": [
        "Import necessary libraries for modeling"
      ],
      "metadata": {
        "id": "TSWPLKNmOuQ6"
      }
    },
    {
      "cell_type": "code",
      "source": [
        "from lightfm import LightFM\n",
        "from lightfm.evaluation import auc_score\n",
        "from scipy.sparse import coo_matrix\n",
        "from sklearn import preprocessing"
      ],
      "metadata": {
        "id": "sT8X30XWgBjo"
      },
      "execution_count": 17,
      "outputs": []
    },
    {
      "cell_type": "code",
      "source": [
        "events_train = pd.read_pickle('Datasets/RetailRocket/events_train.df')\n",
        "events_test = pd.read_pickle('Datasets/RetailRocket/events_test.df')\n",
        "\n",
        "n_users=len(np.unique(events_train['visitorid']))\n",
        "n_items=len(np.unique(events_train['itemid']))\n",
        "\n",
        "rate_matrix = dict()\n",
        "rate_matrix['train'] = coo_matrix((events_train['rating'], (events_train['visitorid'], events_train['itemid'])), shape=(n_users,n_items))\n",
        "rate_matrix['test'] = coo_matrix((events_test['rating'], (events_test['visitorid'], events_test['itemid'])), shape=(n_users,n_items))"
      ],
      "metadata": {
        "id": "sy4QVvb56Oyy"
      },
      "execution_count": 18,
      "outputs": []
    },
    {
      "cell_type": "code",
      "source": [
        "model = LightFM(no_components=10, loss='warp')\n",
        "model.fit(rate_matrix['train'], epochs=50, num_threads=10)"
      ],
      "metadata": {
        "id": "5N1pmKJogYVZ",
        "colab": {
          "base_uri": "https://localhost:8080/"
        },
        "outputId": "ad5fff8d-0a68-42c6-fa84-4ee46b234149"
      },
      "execution_count": 19,
      "outputs": [
        {
          "output_type": "execute_result",
          "data": {
            "text/plain": [
              "<lightfm.lightfm.LightFM at 0x7f11d8957cd0>"
            ]
          },
          "metadata": {},
          "execution_count": 19
        }
      ]
    },
    {
      "cell_type": "markdown",
      "source": [
        "## Metric: Area Under ROC Curve (AUC)\n",
        "AUC measures the likelihood that a random relevant item is ranked higher than a random irrelevant item. Higher the likelihood of this happening implies a higher AUC score meaning a better recommendation system.\n",
        "\n",
        "We calculate this likelihood empirically based on the ranks given by the algorithm to all items — out of all possible pairs of type (relevant-item, non-relevant-item), AUC is a proportion of pairs where relevant-item was ranked higher than the irrelevant item from that pair.\n",
        "\n"
      ],
      "metadata": {
        "id": "2ojLvBMp-_j5"
      }
    },
    {
      "cell_type": "markdown",
      "source": [
        "\n",
        "https://drive.google.com/uc?id=1QE286jpRYXR4xlxjrgCufOCb1BvqnI5T"
      ],
      "metadata": {
        "id": "pCNJsmJaASIQ"
      }
    },
    {
      "cell_type": "code",
      "source": [
        "auc_score(model, rate_matrix['train'], num_threads=10).mean()"
      ],
      "metadata": {
        "id": "-V8nJEQTge4U",
        "colab": {
          "base_uri": "https://localhost:8080/"
        },
        "outputId": "8928b935-7e2b-43f2-e1b1-5c89212e8a5a"
      },
      "execution_count": 20,
      "outputs": [
        {
          "output_type": "execute_result",
          "data": {
            "text/plain": [
              "0.9973984"
            ]
          },
          "metadata": {},
          "execution_count": 20
        }
      ]
    },
    {
      "cell_type": "code",
      "source": [
        "auc_score(model, rate_matrix['test'], num_threads=10).mean()"
      ],
      "metadata": {
        "id": "1-qTM15IghSn",
        "colab": {
          "base_uri": "https://localhost:8080/"
        },
        "outputId": "468f4536-57e4-46a0-8bca-7093a515ec03"
      },
      "execution_count": 21,
      "outputs": [
        {
          "output_type": "execute_result",
          "data": {
            "text/plain": [
              "0.82256746"
            ]
          },
          "metadata": {},
          "execution_count": 21
        }
      ]
    },
    {
      "cell_type": "markdown",
      "source": [
        "## Deep RL Model"
      ],
      "metadata": {
        "id": "P7URFXsGdhbH"
      }
    },
    {
      "cell_type": "code",
      "source": [
        "ls"
      ],
      "metadata": {
        "colab": {
          "base_uri": "https://localhost:8080/"
        },
        "id": "0m0y1wOAkHay",
        "outputId": "5d84f5f5-4591-4b3b-da37-f1dcf2b7cd7a"
      },
      "execution_count": 22,
      "outputs": [
        {
          "output_type": "stream",
          "name": "stdout",
          "text": [
            "Amazon_final_project.ipynb  pop_dict.txt  RetailRocket_Final_Project.ipynb\n",
            "Authors.md                  README.md     \u001b[0m\u001b[01;34mScripts\u001b[0m/\n",
            "\u001b[01;34mDatasets\u001b[0m/                   report.txt    Take_Home_Project_2022F.pdf\n"
          ]
        }
      ]
    },
    {
      "cell_type": "code",
      "source": [
        "! pip install pandas trfl"
      ],
      "metadata": {
        "colab": {
          "base_uri": "https://localhost:8080/"
        },
        "id": "HCSsVc1OuZuj",
        "outputId": "7f993b96-efa1-4746-bb3a-7ad09c3e104f"
      },
      "execution_count": 23,
      "outputs": [
        {
          "output_type": "stream",
          "name": "stdout",
          "text": [
            "Looking in indexes: https://pypi.org/simple, https://us-python.pkg.dev/colab-wheels/public/simple/\n",
            "Requirement already satisfied: pandas in /usr/local/lib/python3.8/dist-packages (1.3.5)\n",
            "Requirement already satisfied: trfl in /usr/local/lib/python3.8/dist-packages (1.2.0)\n",
            "Requirement already satisfied: numpy>=1.17.3 in /usr/local/lib/python3.8/dist-packages (from pandas) (1.21.6)\n",
            "Requirement already satisfied: python-dateutil>=2.7.3 in /usr/local/lib/python3.8/dist-packages (from pandas) (2.8.2)\n",
            "Requirement already satisfied: pytz>=2017.3 in /usr/local/lib/python3.8/dist-packages (from pandas) (2022.6)\n",
            "Requirement already satisfied: six>=1.5 in /usr/local/lib/python3.8/dist-packages (from python-dateutil>=2.7.3->pandas) (1.15.0)\n",
            "Requirement already satisfied: absl-py in /usr/local/lib/python3.8/dist-packages (from trfl) (1.3.0)\n",
            "Requirement already satisfied: wrapt in /usr/local/lib/python3.8/dist-packages (from trfl) (1.14.1)\n",
            "Requirement already satisfied: dm-tree in /usr/local/lib/python3.8/dist-packages (from trfl) (0.1.7)\n"
          ]
        }
      ]
    },
    {
      "cell_type": "code",
      "source": [
        "!python 'Scripts/Retail_Rocket/SA2C.py' --model=GRU --data='Datasets/RetailRocket' --epoch=5"
      ],
      "metadata": {
        "colab": {
          "base_uri": "https://localhost:8080/"
        },
        "id": "gYsxj1VWtb1M",
        "outputId": "d4d9072c-bcd2-44ab-c4e1-7202dfdf8397"
      },
      "execution_count": 31,
      "outputs": [
        {
          "output_type": "stream",
          "name": "stdout",
          "text": [
            "Scripts/Retail_Rocket/SA2C.py:88: UserWarning: `tf.nn.rnn_cell.GRUCell` is deprecated and will be removed in a future version. This class is equivalent as `tf.keras.layers.GRUCell`, and will be replaced by that in Tensorflow 2.0.\n",
            "  tf.compat.v1.nn.rnn_cell.GRUCell(self.hidden_size),\n",
            "WARNING:tensorflow:From Scripts/Retail_Rocket/SA2C.py:87: dynamic_rnn (from tensorflow.python.ops.rnn) is deprecated and will be removed in a future version.\n",
            "Instructions for updating:\n",
            "Please use `keras.layers.RNN(cell)`, which is equivalent to this API\n",
            "WARNING:tensorflow:From Scripts/Retail_Rocket/SA2C.py:87: dynamic_rnn (from tensorflow.python.ops.rnn) is deprecated and will be removed in a future version.\n",
            "Instructions for updating:\n",
            "Please use `keras.layers.RNN(cell)`, which is equivalent to this API\n",
            "WARNING:tensorflow:From /usr/local/lib/python3.8/dist-packages/keras/layers/rnn/legacy_cells.py:545: calling Constant.__init__ (from tensorflow.python.ops.init_ops) with dtype is deprecated and will be removed in a future version.\n",
            "Instructions for updating:\n",
            "Call initializer instance with the dtype argument instead of passing it to the constructor\n",
            "WARNING:tensorflow:From /usr/local/lib/python3.8/dist-packages/keras/layers/rnn/legacy_cells.py:545: calling Constant.__init__ (from tensorflow.python.ops.init_ops) with dtype is deprecated and will be removed in a future version.\n",
            "Instructions for updating:\n",
            "Call initializer instance with the dtype argument instead of passing it to the constructor\n",
            "WARNING:tensorflow:From /usr/local/lib/python3.8/dist-packages/keras/layers/rnn/legacy_cells.py:555: calling Zeros.__init__ (from tensorflow.python.ops.init_ops) with dtype is deprecated and will be removed in a future version.\n",
            "Instructions for updating:\n",
            "Call initializer instance with the dtype argument instead of passing it to the constructor\n",
            "WARNING:tensorflow:From /usr/local/lib/python3.8/dist-packages/keras/layers/rnn/legacy_cells.py:555: calling Zeros.__init__ (from tensorflow.python.ops.init_ops) with dtype is deprecated and will be removed in a future version.\n",
            "Instructions for updating:\n",
            "Call initializer instance with the dtype argument instead of passing it to the constructor\n",
            "Scripts/Retail_Rocket/SA2C.py:215: UserWarning: `tf.layers.dense` is deprecated and will be removed in a future version. Please use `tf.keras.layers.Dense` instead.\n",
            "  self.output1 = tf.compat.v1.layers.dense(self.states_hidden, self.item_num,\n",
            "Scripts/Retail_Rocket/SA2C.py:218: UserWarning: `tf.layers.dense` is deprecated and will be removed in a future version. Please use `tf.keras.layers.Dense` instead.\n",
            "  self.output2= tf.compat.v1.layers.dense(self.states_hidden, self.item_num,\n",
            "2022-12-13 15:17:09.217158: W tensorflow/core/common_runtime/gpu/gpu_bfc_allocator.cc:42] Overriding orig_value setting because the TF_FORCE_GPU_ALLOW_GROWTH environment variable is set. Original config value was 0.\n",
            "the loss in 200th batch is: 10.984653\n",
            "the loss in 400th batch is: 10.795305\n",
            "the loss in 600th batch is: 10.709530\n",
            "the loss in 800th batch is: 10.508156\n",
            "the loss in 1000th batch is: 10.503533\n",
            "the loss in 1200th batch is: 10.418642\n",
            "Traceback (most recent call last):\n",
            "  File \"Scripts/Retail_Rocket/SA2C.py\", line 486, in <module>\n",
            "    evaluate(sess)\n",
            "  File \"Scripts/Retail_Rocket/SA2C.py\", line 352, in evaluate\n",
            "    calculate_off(sorted_list,actions,rewards,reward_click,off_click_ng,off_purchase_ng,off_prob_click,off_prob_purchase,pop_dict)\n",
            "  File \"/content/drive/Othercomputers/My-MacBook-Air/590-Final-Project/Scripts/Retail_Rocket/utility.py\", line 82, in calculate_off\n",
            "    prob = pop_dict[true_items[j]]\n",
            "KeyError: 35176\n"
          ]
        }
      ]
    },
    {
      "cell_type": "code",
      "source": [
        "pd.read_pickle('Datasets/RetailRocket/events_processed.df')\n",
        "    "
      ],
      "metadata": {
        "colab": {
          "base_uri": "https://localhost:8080/",
          "height": 424
        },
        "id": "6fa7kTcwmIy4",
        "outputId": "de9c2a57-24a7-4b68-c2b8-847479f41e4d"
      },
      "execution_count": 25,
      "outputs": [
        {
          "output_type": "execute_result",
          "data": {
            "text/plain": [
              "        visitorid  itemid event        date\n",
              "0          689859  421640  view  2015-05-03\n",
              "1          935582  203248  view  2015-05-03\n",
              "2          696326  194830  view  2015-05-03\n",
              "3          131668  395045  view  2015-05-03\n",
              "4          595484  129111  view  2015-05-03\n",
              "...           ...     ...   ...         ...\n",
              "323398      98071  127688  view  2015-05-18\n",
              "323399     802445  269981  view  2015-05-18\n",
              "323400    1217864  338788  view  2015-05-18\n",
              "323401     506257  425157  view  2015-05-18\n",
              "323402      17448  297513  view  2015-05-18\n",
              "\n",
              "[323403 rows x 4 columns]"
            ],
            "text/html": [
              "\n",
              "  <div id=\"df-a96cc992-4a61-4ca8-b300-5a657f162e7f\">\n",
              "    <div class=\"colab-df-container\">\n",
              "      <div>\n",
              "<style scoped>\n",
              "    .dataframe tbody tr th:only-of-type {\n",
              "        vertical-align: middle;\n",
              "    }\n",
              "\n",
              "    .dataframe tbody tr th {\n",
              "        vertical-align: top;\n",
              "    }\n",
              "\n",
              "    .dataframe thead th {\n",
              "        text-align: right;\n",
              "    }\n",
              "</style>\n",
              "<table border=\"1\" class=\"dataframe\">\n",
              "  <thead>\n",
              "    <tr style=\"text-align: right;\">\n",
              "      <th></th>\n",
              "      <th>visitorid</th>\n",
              "      <th>itemid</th>\n",
              "      <th>event</th>\n",
              "      <th>date</th>\n",
              "    </tr>\n",
              "  </thead>\n",
              "  <tbody>\n",
              "    <tr>\n",
              "      <th>0</th>\n",
              "      <td>689859</td>\n",
              "      <td>421640</td>\n",
              "      <td>view</td>\n",
              "      <td>2015-05-03</td>\n",
              "    </tr>\n",
              "    <tr>\n",
              "      <th>1</th>\n",
              "      <td>935582</td>\n",
              "      <td>203248</td>\n",
              "      <td>view</td>\n",
              "      <td>2015-05-03</td>\n",
              "    </tr>\n",
              "    <tr>\n",
              "      <th>2</th>\n",
              "      <td>696326</td>\n",
              "      <td>194830</td>\n",
              "      <td>view</td>\n",
              "      <td>2015-05-03</td>\n",
              "    </tr>\n",
              "    <tr>\n",
              "      <th>3</th>\n",
              "      <td>131668</td>\n",
              "      <td>395045</td>\n",
              "      <td>view</td>\n",
              "      <td>2015-05-03</td>\n",
              "    </tr>\n",
              "    <tr>\n",
              "      <th>4</th>\n",
              "      <td>595484</td>\n",
              "      <td>129111</td>\n",
              "      <td>view</td>\n",
              "      <td>2015-05-03</td>\n",
              "    </tr>\n",
              "    <tr>\n",
              "      <th>...</th>\n",
              "      <td>...</td>\n",
              "      <td>...</td>\n",
              "      <td>...</td>\n",
              "      <td>...</td>\n",
              "    </tr>\n",
              "    <tr>\n",
              "      <th>323398</th>\n",
              "      <td>98071</td>\n",
              "      <td>127688</td>\n",
              "      <td>view</td>\n",
              "      <td>2015-05-18</td>\n",
              "    </tr>\n",
              "    <tr>\n",
              "      <th>323399</th>\n",
              "      <td>802445</td>\n",
              "      <td>269981</td>\n",
              "      <td>view</td>\n",
              "      <td>2015-05-18</td>\n",
              "    </tr>\n",
              "    <tr>\n",
              "      <th>323400</th>\n",
              "      <td>1217864</td>\n",
              "      <td>338788</td>\n",
              "      <td>view</td>\n",
              "      <td>2015-05-18</td>\n",
              "    </tr>\n",
              "    <tr>\n",
              "      <th>323401</th>\n",
              "      <td>506257</td>\n",
              "      <td>425157</td>\n",
              "      <td>view</td>\n",
              "      <td>2015-05-18</td>\n",
              "    </tr>\n",
              "    <tr>\n",
              "      <th>323402</th>\n",
              "      <td>17448</td>\n",
              "      <td>297513</td>\n",
              "      <td>view</td>\n",
              "      <td>2015-05-18</td>\n",
              "    </tr>\n",
              "  </tbody>\n",
              "</table>\n",
              "<p>323403 rows × 4 columns</p>\n",
              "</div>\n",
              "      <button class=\"colab-df-convert\" onclick=\"convertToInteractive('df-a96cc992-4a61-4ca8-b300-5a657f162e7f')\"\n",
              "              title=\"Convert this dataframe to an interactive table.\"\n",
              "              style=\"display:none;\">\n",
              "        \n",
              "  <svg xmlns=\"http://www.w3.org/2000/svg\" height=\"24px\"viewBox=\"0 0 24 24\"\n",
              "       width=\"24px\">\n",
              "    <path d=\"M0 0h24v24H0V0z\" fill=\"none\"/>\n",
              "    <path d=\"M18.56 5.44l.94 2.06.94-2.06 2.06-.94-2.06-.94-.94-2.06-.94 2.06-2.06.94zm-11 1L8.5 8.5l.94-2.06 2.06-.94-2.06-.94L8.5 2.5l-.94 2.06-2.06.94zm10 10l.94 2.06.94-2.06 2.06-.94-2.06-.94-.94-2.06-.94 2.06-2.06.94z\"/><path d=\"M17.41 7.96l-1.37-1.37c-.4-.4-.92-.59-1.43-.59-.52 0-1.04.2-1.43.59L10.3 9.45l-7.72 7.72c-.78.78-.78 2.05 0 2.83L4 21.41c.39.39.9.59 1.41.59.51 0 1.02-.2 1.41-.59l7.78-7.78 2.81-2.81c.8-.78.8-2.07 0-2.86zM5.41 20L4 18.59l7.72-7.72 1.47 1.35L5.41 20z\"/>\n",
              "  </svg>\n",
              "      </button>\n",
              "      \n",
              "  <style>\n",
              "    .colab-df-container {\n",
              "      display:flex;\n",
              "      flex-wrap:wrap;\n",
              "      gap: 12px;\n",
              "    }\n",
              "\n",
              "    .colab-df-convert {\n",
              "      background-color: #E8F0FE;\n",
              "      border: none;\n",
              "      border-radius: 50%;\n",
              "      cursor: pointer;\n",
              "      display: none;\n",
              "      fill: #1967D2;\n",
              "      height: 32px;\n",
              "      padding: 0 0 0 0;\n",
              "      width: 32px;\n",
              "    }\n",
              "\n",
              "    .colab-df-convert:hover {\n",
              "      background-color: #E2EBFA;\n",
              "      box-shadow: 0px 1px 2px rgba(60, 64, 67, 0.3), 0px 1px 3px 1px rgba(60, 64, 67, 0.15);\n",
              "      fill: #174EA6;\n",
              "    }\n",
              "\n",
              "    [theme=dark] .colab-df-convert {\n",
              "      background-color: #3B4455;\n",
              "      fill: #D2E3FC;\n",
              "    }\n",
              "\n",
              "    [theme=dark] .colab-df-convert:hover {\n",
              "      background-color: #434B5C;\n",
              "      box-shadow: 0px 1px 3px 1px rgba(0, 0, 0, 0.15);\n",
              "      filter: drop-shadow(0px 1px 2px rgba(0, 0, 0, 0.3));\n",
              "      fill: #FFFFFF;\n",
              "    }\n",
              "  </style>\n",
              "\n",
              "      <script>\n",
              "        const buttonEl =\n",
              "          document.querySelector('#df-a96cc992-4a61-4ca8-b300-5a657f162e7f button.colab-df-convert');\n",
              "        buttonEl.style.display =\n",
              "          google.colab.kernel.accessAllowed ? 'block' : 'none';\n",
              "\n",
              "        async function convertToInteractive(key) {\n",
              "          const element = document.querySelector('#df-a96cc992-4a61-4ca8-b300-5a657f162e7f');\n",
              "          const dataTable =\n",
              "            await google.colab.kernel.invokeFunction('convertToInteractive',\n",
              "                                                     [key], {});\n",
              "          if (!dataTable) return;\n",
              "\n",
              "          const docLinkHtml = 'Like what you see? Visit the ' +\n",
              "            '<a target=\"_blank\" href=https://colab.research.google.com/notebooks/data_table.ipynb>data table notebook</a>'\n",
              "            + ' to learn more about interactive tables.';\n",
              "          element.innerHTML = '';\n",
              "          dataTable['output_type'] = 'display_data';\n",
              "          await google.colab.output.renderOutput(dataTable, element);\n",
              "          const docLink = document.createElement('div');\n",
              "          docLink.innerHTML = docLinkHtml;\n",
              "          element.appendChild(docLink);\n",
              "        }\n",
              "      </script>\n",
              "    </div>\n",
              "  </div>\n",
              "  "
            ]
          },
          "metadata": {},
          "execution_count": 25
        }
      ]
    },
    {
      "cell_type": "markdown",
      "source": [
        "**> Additional Sources**\n",
        "\n",
        "(1) https://www.kaggle.com/code/faridsharaf/ecommerce-recommendation-using-lfm \n",
        "\n",
        "(2) Krichene, W. & Rendle, S. \"On Sampled Metrics for Item Recommendation\". *Proceedings of the 26th ACM SIGKDD Conference on Knowledge Discovery and Data Mining (KDD ’20)*, August 23–27, 2020. https://dl.acm.org/doi/pdf/10.1145/3394486.3403226\n",
        "\n",
        "(3) https://www.kaggle.com/code/johnosorio/retail-rocket-ecommerce-recommender-system\n",
        "\n",
        "(4) \"Classification: ROC Curve and AUC\". https://developers.google.com/machine-learning/crash-course/classification/roc-and-auc \n",
        "\n",
        "(5) Kirk, J. \"Using LightFM to Recommend Projects to Consultants\".https://medium.com/product-at-catalant-technologies/using-lightfm-to-recommend-projects-to-consultants-44084df7321c#.gu887ky51\n",
        "\n",
        "(6) Kula, M. \"Metadata Embeddings for User and Item Cold-start Recommendations\". http://ceur-ws.org/Vol-1448/paper4.pdf\n",
        "\n",
        "(7) https://www.kaggle.com/datasets/retailrocket/ecommerce-dataset"
      ],
      "metadata": {
        "id": "aTaSCXnwCCdt"
      }
    }
  ]
}